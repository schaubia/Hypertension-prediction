{
 "cells": [
  {
   "cell_type": "markdown",
   "metadata": {},
   "source": [
    "# Classification methods for hypertension prediction - Part II - Noise detection"
   ]
  },
  {
   "cell_type": "code",
   "execution_count": 8,
   "metadata": {},
   "outputs": [],
   "source": [
    "%matplotlib inline"
   ]
  },
  {
   "cell_type": "code",
   "execution_count": 9,
   "metadata": {},
   "outputs": [],
   "source": [
    "import numpy as np\n",
    "import pandas as pd\n",
    "import matplotlib.pyplot as plt\n",
    "import seaborn as sns\n",
    "import copy\n",
    "from itertools import cycle"
   ]
  },
  {
   "cell_type": "code",
   "execution_count": 10,
   "metadata": {},
   "outputs": [],
   "source": [
    "from sklearn.model_selection import train_test_split, learning_curve\n",
    "from sklearn.preprocessing import StandardScaler, PolynomialFeatures,label_binarize\n",
    "from sklearn.model_selection import StratifiedKFold, cross_val_score, GridSearchCV\n",
    "\n",
    "from sklearn.linear_model import LogisticRegression\n",
    "from sklearn.tree import DecisionTreeClassifier, plot_tree\n",
    "from sklearn.ensemble import RandomForestClassifier, AdaBoostClassifier\n",
    "from sklearn.svm import SVC, LinearSVC\n",
    "from sklearn.neighbors import KNeighborsClassifier\n",
    "\n",
    "from sklearn.metrics import f1_score, confusion_matrix, roc_curve, auc, classification_report\n",
    "\n",
    "from sklearn.multiclass import OneVsRestClassifier\n",
    "from sklearn.decomposition import PCA"
   ]
  },
  {
   "cell_type": "markdown",
   "metadata": {},
   "source": [
    "### Introduction\n",
    "\n",
    "In this part I am going to use the same machine learning methods in order to predict high blood pressure from clinical data in a different dataset. I am going to try some additional techniques such as principal component analysis which can probably help to find noise in data. The data tiding and preprocessing steps are similar to those in the first part. This time I am going to process the target column in such way that it becomes binary classification problem."
   ]
  },
  {
   "cell_type": "markdown",
   "metadata": {},
   "source": [
    "### Data preprocessing"
   ]
  },
  {
   "cell_type": "markdown",
   "metadata": {},
   "source": [
    "##### Data desciption \n",
    "\n",
    "As this dataset does not have a description provided, I am going to retrieve as much information as possible from the available data.\n",
    "\n",
    "Features:\n",
    "   1. Age - AGE - int (years)\n",
    "   2. Gender - GENDER - int (1:female, 0: male) \n",
    "   3. Waist - WAIST - float (cm) \n",
    "   4. Systolic blood pressure - BP_HIGH - float(mmHg)\n",
    "   5. Diastolic blood pressure - BP_LOW - float(mmHg)\n",
    "   6. Total cholesterol - TOT_CHOLE - float (mg/dl)\n",
    "   7. Aspartate Aminotransferase - AST - float (IU/L)\n",
    "   8. Alanine Aminotransferase - ALT - float (IU/L) \n",
    "   9. Gamma-Glutamyl Transferase (GGT)- GTP - float (IU/L)\n",
    "   10. Hemoglobin - HMG - float (mmol/L)\n",
    "   11. Physical activity - EXER_M - int (1: never, 2: once a week, 3: 2-3 a week, 4: 4-5 a week, 5: '>5 a week')\n"
   ]
  },
  {
   "cell_type": "markdown",
   "metadata": {},
   "source": [
    "The blood pressure data was derived from __[kaggle](https://www.kaggle.com/kmukhammadjon/hypertension-incidence-in-two-and-half-years)__."
   ]
  },
  {
   "cell_type": "code",
   "execution_count": 11,
   "metadata": {},
   "outputs": [],
   "source": [
    "bp_data = pd.read_csv('data/MGE303_Term Project_Classification_Data (Disease).csv')"
   ]
  },
  {
   "cell_type": "markdown",
   "metadata": {},
   "source": [
    "###### Becomng acquainted with the data and data cleaning\n",
    "\n",
    "I am going to follow the same sequence of tasks to get overall information about the data as in the first part of the project: number of observations, data description, finding and handling missing values, finding duplicate values, identifying closely related features with correlation matrix. Additionally, I am going to remove irrelevant columns. There are several columns with ambiguous information. Although I can conclude that they contain information about the presence of chronic disease and diabetes, I cannot be sure what are the values indicating. I will also rename the remaining columns, again convert values in the gender column, get dummy variables, selecting the target column with blood pressure classification and perform normalization. I am going to make a binary classification problem with high blood pressure considered above 120 systolic and above 80 diastolic."
   ]
  },
  {
   "cell_type": "code",
   "execution_count": 12,
   "metadata": {},
   "outputs": [
    {
     "data": {
      "text/html": [
       "<div>\n",
       "<style scoped>\n",
       "    .dataframe tbody tr th:only-of-type {\n",
       "        vertical-align: middle;\n",
       "    }\n",
       "\n",
       "    .dataframe tbody tr th {\n",
       "        vertical-align: top;\n",
       "    }\n",
       "\n",
       "    .dataframe thead th {\n",
       "        text-align: right;\n",
       "    }\n",
       "</style>\n",
       "<table border=\"1\" class=\"dataframe\">\n",
       "  <thead>\n",
       "    <tr style=\"text-align: right;\">\n",
       "      <th></th>\n",
       "      <th>HY_YN</th>\n",
       "      <th>AGE</th>\n",
       "      <th>gender</th>\n",
       "      <th>WAIST</th>\n",
       "      <th>BP_HIGH</th>\n",
       "      <th>BP_LWST</th>\n",
       "      <th>BLDS</th>\n",
       "      <th>TOT_CHOLE</th>\n",
       "      <th>SGOT_ASL</th>\n",
       "      <th>SGPT_ALT</th>\n",
       "      <th>...</th>\n",
       "      <th>H_APOP_YN</th>\n",
       "      <th>H_HDISE_YN</th>\n",
       "      <th>H_DIABML_YN</th>\n",
       "      <th>F_APOP_YN</th>\n",
       "      <th>F_HDISE_YN</th>\n",
       "      <th>F_HPRT_YN</th>\n",
       "      <th>F_DIABML_YN</th>\n",
       "      <th>DSQTY</th>\n",
       "      <th>SMK_TERM</th>\n",
       "      <th>EXER_M</th>\n",
       "    </tr>\n",
       "  </thead>\n",
       "  <tbody>\n",
       "    <tr>\n",
       "      <td>0</td>\n",
       "      <td>1</td>\n",
       "      <td>66</td>\n",
       "      <td>1</td>\n",
       "      <td>76.0</td>\n",
       "      <td>120.0</td>\n",
       "      <td>70.0</td>\n",
       "      <td>87.0</td>\n",
       "      <td>199.0</td>\n",
       "      <td>22.0</td>\n",
       "      <td>13.0</td>\n",
       "      <td>...</td>\n",
       "      <td>0</td>\n",
       "      <td>0</td>\n",
       "      <td>0</td>\n",
       "      <td>0</td>\n",
       "      <td>0</td>\n",
       "      <td>0</td>\n",
       "      <td>0</td>\n",
       "      <td>0</td>\n",
       "      <td>5</td>\n",
       "      <td>Once a week</td>\n",
       "    </tr>\n",
       "    <tr>\n",
       "      <td>1</td>\n",
       "      <td>1</td>\n",
       "      <td>55</td>\n",
       "      <td>1</td>\n",
       "      <td>84.0</td>\n",
       "      <td>110.0</td>\n",
       "      <td>80.0</td>\n",
       "      <td>85.0</td>\n",
       "      <td>178.0</td>\n",
       "      <td>40.0</td>\n",
       "      <td>35.0</td>\n",
       "      <td>...</td>\n",
       "      <td>0</td>\n",
       "      <td>0</td>\n",
       "      <td>0</td>\n",
       "      <td>0</td>\n",
       "      <td>0</td>\n",
       "      <td>0</td>\n",
       "      <td>0</td>\n",
       "      <td>0</td>\n",
       "      <td>0</td>\n",
       "      <td>Never</td>\n",
       "    </tr>\n",
       "    <tr>\n",
       "      <td>2</td>\n",
       "      <td>1</td>\n",
       "      <td>54</td>\n",
       "      <td>0</td>\n",
       "      <td>84.0</td>\n",
       "      <td>117.0</td>\n",
       "      <td>76.0</td>\n",
       "      <td>92.0</td>\n",
       "      <td>195.0</td>\n",
       "      <td>20.0</td>\n",
       "      <td>20.0</td>\n",
       "      <td>...</td>\n",
       "      <td>0</td>\n",
       "      <td>0</td>\n",
       "      <td>0</td>\n",
       "      <td>0</td>\n",
       "      <td>0</td>\n",
       "      <td>0</td>\n",
       "      <td>0</td>\n",
       "      <td>0</td>\n",
       "      <td>0</td>\n",
       "      <td>Once a week</td>\n",
       "    </tr>\n",
       "    <tr>\n",
       "      <td>3</td>\n",
       "      <td>1</td>\n",
       "      <td>29</td>\n",
       "      <td>1</td>\n",
       "      <td>80.0</td>\n",
       "      <td>126.0</td>\n",
       "      <td>82.0</td>\n",
       "      <td>86.0</td>\n",
       "      <td>150.0</td>\n",
       "      <td>25.0</td>\n",
       "      <td>27.0</td>\n",
       "      <td>...</td>\n",
       "      <td>0</td>\n",
       "      <td>0</td>\n",
       "      <td>0</td>\n",
       "      <td>0</td>\n",
       "      <td>0</td>\n",
       "      <td>0</td>\n",
       "      <td>0</td>\n",
       "      <td>1</td>\n",
       "      <td>3</td>\n",
       "      <td>Once a week</td>\n",
       "    </tr>\n",
       "    <tr>\n",
       "      <td>4</td>\n",
       "      <td>1</td>\n",
       "      <td>43</td>\n",
       "      <td>1</td>\n",
       "      <td>82.0</td>\n",
       "      <td>130.0</td>\n",
       "      <td>85.0</td>\n",
       "      <td>104.0</td>\n",
       "      <td>134.0</td>\n",
       "      <td>31.0</td>\n",
       "      <td>23.0</td>\n",
       "      <td>...</td>\n",
       "      <td>0</td>\n",
       "      <td>0</td>\n",
       "      <td>0</td>\n",
       "      <td>0</td>\n",
       "      <td>0</td>\n",
       "      <td>0</td>\n",
       "      <td>0</td>\n",
       "      <td>2</td>\n",
       "      <td>3</td>\n",
       "      <td>Once a week</td>\n",
       "    </tr>\n",
       "  </tbody>\n",
       "</table>\n",
       "<p>5 rows × 22 columns</p>\n",
       "</div>"
      ],
      "text/plain": [
       "   HY_YN  AGE  gender  WAIST  BP_HIGH  BP_LWST   BLDS  TOT_CHOLE  SGOT_ASL  \\\n",
       "0      1   66       1   76.0    120.0     70.0   87.0      199.0      22.0   \n",
       "1      1   55       1   84.0    110.0     80.0   85.0      178.0      40.0   \n",
       "2      1   54       0   84.0    117.0     76.0   92.0      195.0      20.0   \n",
       "3      1   29       1   80.0    126.0     82.0   86.0      150.0      25.0   \n",
       "4      1   43       1   82.0    130.0     85.0  104.0      134.0      31.0   \n",
       "\n",
       "   SGPT_ALT  ...  H_APOP_YN  H_HDISE_YN  H_DIABML_YN  F_APOP_YN  F_HDISE_YN  \\\n",
       "0      13.0  ...          0           0            0          0           0   \n",
       "1      35.0  ...          0           0            0          0           0   \n",
       "2      20.0  ...          0           0            0          0           0   \n",
       "3      27.0  ...          0           0            0          0           0   \n",
       "4      23.0  ...          0           0            0          0           0   \n",
       "\n",
       "   F_HPRT_YN  F_DIABML_YN  DSQTY  SMK_TERM       EXER_M  \n",
       "0          0            0      0         5  Once a week  \n",
       "1          0            0      0         0        Never  \n",
       "2          0            0      0         0  Once a week  \n",
       "3          0            0      1         3  Once a week  \n",
       "4          0            0      2         3  Once a week  \n",
       "\n",
       "[5 rows x 22 columns]"
      ]
     },
     "execution_count": 12,
     "metadata": {},
     "output_type": "execute_result"
    }
   ],
   "source": [
    "bp_data.head()"
   ]
  },
  {
   "cell_type": "code",
   "execution_count": 13,
   "metadata": {},
   "outputs": [
    {
     "data": {
      "text/plain": [
       "Index(['HY_YN', 'AGE', 'gender', 'WAIST', 'BP_HIGH', 'BP_LWST', 'BLDS',\n",
       "       'TOT_CHOLE', 'SGOT_ASL', 'SGPT_ALT', 'GAMMA_GTP', 'HMG', 'H_APOP_YN',\n",
       "       'H_HDISE_YN', 'H_DIABML_YN', 'F_APOP_YN', 'F_HDISE_YN', 'F_HPRT_YN',\n",
       "       'F_DIABML_YN', 'DSQTY', 'SMK_TERM', 'EXER_M'],\n",
       "      dtype='object')"
      ]
     },
     "execution_count": 13,
     "metadata": {},
     "output_type": "execute_result"
    }
   ],
   "source": [
    "#derive the column names for further use\n",
    "bp_data.columns"
   ]
  },
  {
   "cell_type": "code",
   "execution_count": 14,
   "metadata": {},
   "outputs": [],
   "source": [
    "#remove ambiguous information in the dataset\n",
    "bp_data.drop(columns=['HY_YN', 'BLDS', 'H_APOP_YN',\n",
    "       'H_HDISE_YN', 'H_DIABML_YN', 'F_APOP_YN', 'F_HDISE_YN', 'F_HPRT_YN',\n",
    "       'F_DIABML_YN', 'DSQTY', 'SMK_TERM'], inplace=True)"
   ]
  },
  {
   "cell_type": "code",
   "execution_count": 15,
   "metadata": {},
   "outputs": [],
   "source": [
    "bp_data = bp_data.rename(columns = {'gender': 'GENDER', 'BP_LWST': 'BP_LOW', 'gender': 'GENDER', 'BP_LWST': 'BP_LOW',\n",
    "                                   'SGOT_ASL': 'AST', 'SGPT_ALT': 'ALT', 'GAMMA_GTP':'GTP'}, inplace = False)"
   ]
  },
  {
   "cell_type": "code",
   "execution_count": 16,
   "metadata": {},
   "outputs": [
    {
     "data": {
      "text/plain": [
       "Index(['AGE', 'GENDER', 'WAIST', 'BP_HIGH', 'BP_LOW', 'TOT_CHOLE', 'AST',\n",
       "       'ALT', 'GTP', 'HMG', 'EXER_M'],\n",
       "      dtype='object')"
      ]
     },
     "execution_count": 16,
     "metadata": {},
     "output_type": "execute_result"
    }
   ],
   "source": [
    "bp_data.columns"
   ]
  },
  {
   "cell_type": "code",
   "execution_count": 17,
   "metadata": {},
   "outputs": [
    {
     "data": {
      "text/plain": [
       "(21613, 11)"
      ]
     },
     "execution_count": 17,
     "metadata": {},
     "output_type": "execute_result"
    }
   ],
   "source": [
    "bp_data.shape"
   ]
  },
  {
   "cell_type": "markdown",
   "metadata": {},
   "source": [
    "I will check if there are any NaN values and remove these as the number of observations is sufficient."
   ]
  },
  {
   "cell_type": "code",
   "execution_count": 18,
   "metadata": {},
   "outputs": [
    {
     "data": {
      "text/plain": [
       "AGE           0\n",
       "GENDER        0\n",
       "WAIST        44\n",
       "BP_HIGH       3\n",
       "BP_LOW        3\n",
       "TOT_CHOLE     0\n",
       "AST          27\n",
       "ALT          22\n",
       "GTP          81\n",
       "HMG           6\n",
       "EXER_M        0\n",
       "dtype: int64"
      ]
     },
     "execution_count": 18,
     "metadata": {},
     "output_type": "execute_result"
    }
   ],
   "source": [
    "bp_data.isnull().sum()"
   ]
  },
  {
   "cell_type": "markdown",
   "metadata": {},
   "source": [
    "There are some missing values so I am going to remove the entries that contain any of them."
   ]
  },
  {
   "cell_type": "code",
   "execution_count": 19,
   "metadata": {},
   "outputs": [],
   "source": [
    "bp_data.dropna(inplace=True)"
   ]
  },
  {
   "cell_type": "code",
   "execution_count": 20,
   "metadata": {},
   "outputs": [
    {
     "data": {
      "text/plain": [
       "(21451, 11)"
      ]
     },
     "execution_count": 20,
     "metadata": {},
     "output_type": "execute_result"
    }
   ],
   "source": [
    "bp_data.shape"
   ]
  },
  {
   "cell_type": "markdown",
   "metadata": {},
   "source": [
    "Finally, I will check for duplicated data if any"
   ]
  },
  {
   "cell_type": "code",
   "execution_count": 21,
   "metadata": {},
   "outputs": [
    {
     "data": {
      "text/plain": [
       "0"
      ]
     },
     "execution_count": 21,
     "metadata": {},
     "output_type": "execute_result"
    }
   ],
   "source": [
    "bp_data.duplicated().sum()"
   ]
  },
  {
   "cell_type": "code",
   "execution_count": 22,
   "metadata": {},
   "outputs": [
    {
     "data": {
      "text/html": [
       "<div>\n",
       "<style scoped>\n",
       "    .dataframe tbody tr th:only-of-type {\n",
       "        vertical-align: middle;\n",
       "    }\n",
       "\n",
       "    .dataframe tbody tr th {\n",
       "        vertical-align: top;\n",
       "    }\n",
       "\n",
       "    .dataframe thead th {\n",
       "        text-align: right;\n",
       "    }\n",
       "</style>\n",
       "<table border=\"1\" class=\"dataframe\">\n",
       "  <thead>\n",
       "    <tr style=\"text-align: right;\">\n",
       "      <th></th>\n",
       "      <th>count</th>\n",
       "      <th>mean</th>\n",
       "      <th>std</th>\n",
       "      <th>min</th>\n",
       "      <th>25%</th>\n",
       "      <th>50%</th>\n",
       "      <th>75%</th>\n",
       "      <th>max</th>\n",
       "    </tr>\n",
       "  </thead>\n",
       "  <tbody>\n",
       "    <tr>\n",
       "      <td>AGE</td>\n",
       "      <td>21451.0</td>\n",
       "      <td>42.606126</td>\n",
       "      <td>11.605487</td>\n",
       "      <td>20.0</td>\n",
       "      <td>33.0</td>\n",
       "      <td>42.0</td>\n",
       "      <td>51.0</td>\n",
       "      <td>69.0</td>\n",
       "    </tr>\n",
       "    <tr>\n",
       "      <td>GENDER</td>\n",
       "      <td>21451.0</td>\n",
       "      <td>0.580393</td>\n",
       "      <td>0.493506</td>\n",
       "      <td>0.0</td>\n",
       "      <td>0.0</td>\n",
       "      <td>1.0</td>\n",
       "      <td>1.0</td>\n",
       "      <td>1.0</td>\n",
       "    </tr>\n",
       "    <tr>\n",
       "      <td>WAIST</td>\n",
       "      <td>21451.0</td>\n",
       "      <td>79.591954</td>\n",
       "      <td>8.999019</td>\n",
       "      <td>5.0</td>\n",
       "      <td>73.0</td>\n",
       "      <td>80.0</td>\n",
       "      <td>86.0</td>\n",
       "      <td>122.0</td>\n",
       "    </tr>\n",
       "    <tr>\n",
       "      <td>BP_HIGH</td>\n",
       "      <td>21451.0</td>\n",
       "      <td>118.823878</td>\n",
       "      <td>11.373155</td>\n",
       "      <td>80.0</td>\n",
       "      <td>110.0</td>\n",
       "      <td>120.0</td>\n",
       "      <td>130.0</td>\n",
       "      <td>139.0</td>\n",
       "    </tr>\n",
       "    <tr>\n",
       "      <td>BP_LOW</td>\n",
       "      <td>21451.0</td>\n",
       "      <td>74.290662</td>\n",
       "      <td>7.949006</td>\n",
       "      <td>42.0</td>\n",
       "      <td>70.0</td>\n",
       "      <td>75.0</td>\n",
       "      <td>80.0</td>\n",
       "      <td>89.0</td>\n",
       "    </tr>\n",
       "    <tr>\n",
       "      <td>TOT_CHOLE</td>\n",
       "      <td>21451.0</td>\n",
       "      <td>191.653956</td>\n",
       "      <td>35.521616</td>\n",
       "      <td>66.0</td>\n",
       "      <td>167.0</td>\n",
       "      <td>189.0</td>\n",
       "      <td>213.0</td>\n",
       "      <td>468.0</td>\n",
       "    </tr>\n",
       "    <tr>\n",
       "      <td>AST</td>\n",
       "      <td>21451.0</td>\n",
       "      <td>24.089506</td>\n",
       "      <td>10.310355</td>\n",
       "      <td>2.0</td>\n",
       "      <td>18.0</td>\n",
       "      <td>22.0</td>\n",
       "      <td>27.0</td>\n",
       "      <td>187.0</td>\n",
       "    </tr>\n",
       "    <tr>\n",
       "      <td>ALT</td>\n",
       "      <td>21451.0</td>\n",
       "      <td>24.614657</td>\n",
       "      <td>17.519615</td>\n",
       "      <td>2.0</td>\n",
       "      <td>14.0</td>\n",
       "      <td>20.0</td>\n",
       "      <td>29.0</td>\n",
       "      <td>198.0</td>\n",
       "    </tr>\n",
       "    <tr>\n",
       "      <td>GTP</td>\n",
       "      <td>21451.0</td>\n",
       "      <td>33.495734</td>\n",
       "      <td>32.143388</td>\n",
       "      <td>2.0</td>\n",
       "      <td>15.0</td>\n",
       "      <td>23.0</td>\n",
       "      <td>38.0</td>\n",
       "      <td>300.0</td>\n",
       "    </tr>\n",
       "    <tr>\n",
       "      <td>HMG</td>\n",
       "      <td>21451.0</td>\n",
       "      <td>14.065195</td>\n",
       "      <td>1.603039</td>\n",
       "      <td>1.5</td>\n",
       "      <td>13.0</td>\n",
       "      <td>14.1</td>\n",
       "      <td>15.3</td>\n",
       "      <td>19.2</td>\n",
       "    </tr>\n",
       "  </tbody>\n",
       "</table>\n",
       "</div>"
      ],
      "text/plain": [
       "             count        mean        std   min    25%    50%    75%    max\n",
       "AGE        21451.0   42.606126  11.605487  20.0   33.0   42.0   51.0   69.0\n",
       "GENDER     21451.0    0.580393   0.493506   0.0    0.0    1.0    1.0    1.0\n",
       "WAIST      21451.0   79.591954   8.999019   5.0   73.0   80.0   86.0  122.0\n",
       "BP_HIGH    21451.0  118.823878  11.373155  80.0  110.0  120.0  130.0  139.0\n",
       "BP_LOW     21451.0   74.290662   7.949006  42.0   70.0   75.0   80.0   89.0\n",
       "TOT_CHOLE  21451.0  191.653956  35.521616  66.0  167.0  189.0  213.0  468.0\n",
       "AST        21451.0   24.089506  10.310355   2.0   18.0   22.0   27.0  187.0\n",
       "ALT        21451.0   24.614657  17.519615   2.0   14.0   20.0   29.0  198.0\n",
       "GTP        21451.0   33.495734  32.143388   2.0   15.0   23.0   38.0  300.0\n",
       "HMG        21451.0   14.065195   1.603039   1.5   13.0   14.1   15.3   19.2"
      ]
     },
     "execution_count": 22,
     "metadata": {},
     "output_type": "execute_result"
    }
   ],
   "source": [
    "bp_data.describe().T"
   ]
  },
  {
   "cell_type": "markdown",
   "metadata": {},
   "source": [
    "According to the dataset description, the only column that needs to have values constrained is the 'waist' column which contains some impossible values. that I am going to remove along with the whole observation."
   ]
  },
  {
   "cell_type": "code",
   "execution_count": 23,
   "metadata": {},
   "outputs": [],
   "source": [
    "bp_data = bp_data.drop(bp_data[(bp_data['WAIST'] < 45)].index)"
   ]
  },
  {
   "cell_type": "code",
   "execution_count": 24,
   "metadata": {},
   "outputs": [
    {
     "data": {
      "text/html": [
       "<div>\n",
       "<style scoped>\n",
       "    .dataframe tbody tr th:only-of-type {\n",
       "        vertical-align: middle;\n",
       "    }\n",
       "\n",
       "    .dataframe tbody tr th {\n",
       "        vertical-align: top;\n",
       "    }\n",
       "\n",
       "    .dataframe thead th {\n",
       "        text-align: right;\n",
       "    }\n",
       "</style>\n",
       "<table border=\"1\" class=\"dataframe\">\n",
       "  <thead>\n",
       "    <tr style=\"text-align: right;\">\n",
       "      <th></th>\n",
       "      <th>count</th>\n",
       "      <th>mean</th>\n",
       "      <th>std</th>\n",
       "      <th>min</th>\n",
       "      <th>25%</th>\n",
       "      <th>50%</th>\n",
       "      <th>75%</th>\n",
       "      <th>max</th>\n",
       "    </tr>\n",
       "  </thead>\n",
       "  <tbody>\n",
       "    <tr>\n",
       "      <td>AGE</td>\n",
       "      <td>21449.0</td>\n",
       "      <td>42.604317</td>\n",
       "      <td>11.604501</td>\n",
       "      <td>20.0</td>\n",
       "      <td>33.0</td>\n",
       "      <td>42.0</td>\n",
       "      <td>51.0</td>\n",
       "      <td>69.0</td>\n",
       "    </tr>\n",
       "    <tr>\n",
       "      <td>GENDER</td>\n",
       "      <td>21449.0</td>\n",
       "      <td>0.580353</td>\n",
       "      <td>0.493513</td>\n",
       "      <td>0.0</td>\n",
       "      <td>0.0</td>\n",
       "      <td>1.0</td>\n",
       "      <td>1.0</td>\n",
       "      <td>1.0</td>\n",
       "    </tr>\n",
       "    <tr>\n",
       "      <td>WAIST</td>\n",
       "      <td>21449.0</td>\n",
       "      <td>79.598723</td>\n",
       "      <td>8.972073</td>\n",
       "      <td>46.0</td>\n",
       "      <td>73.0</td>\n",
       "      <td>80.0</td>\n",
       "      <td>86.0</td>\n",
       "      <td>122.0</td>\n",
       "    </tr>\n",
       "    <tr>\n",
       "      <td>BP_HIGH</td>\n",
       "      <td>21449.0</td>\n",
       "      <td>118.825167</td>\n",
       "      <td>11.372799</td>\n",
       "      <td>80.0</td>\n",
       "      <td>110.0</td>\n",
       "      <td>120.0</td>\n",
       "      <td>130.0</td>\n",
       "      <td>139.0</td>\n",
       "    </tr>\n",
       "    <tr>\n",
       "      <td>BP_LOW</td>\n",
       "      <td>21449.0</td>\n",
       "      <td>74.291063</td>\n",
       "      <td>7.948682</td>\n",
       "      <td>42.0</td>\n",
       "      <td>70.0</td>\n",
       "      <td>75.0</td>\n",
       "      <td>80.0</td>\n",
       "      <td>89.0</td>\n",
       "    </tr>\n",
       "    <tr>\n",
       "      <td>TOT_CHOLE</td>\n",
       "      <td>21449.0</td>\n",
       "      <td>191.653923</td>\n",
       "      <td>35.522637</td>\n",
       "      <td>66.0</td>\n",
       "      <td>167.0</td>\n",
       "      <td>189.0</td>\n",
       "      <td>213.0</td>\n",
       "      <td>468.0</td>\n",
       "    </tr>\n",
       "    <tr>\n",
       "      <td>AST</td>\n",
       "      <td>21449.0</td>\n",
       "      <td>24.088489</td>\n",
       "      <td>10.309750</td>\n",
       "      <td>2.0</td>\n",
       "      <td>18.0</td>\n",
       "      <td>22.0</td>\n",
       "      <td>27.0</td>\n",
       "      <td>187.0</td>\n",
       "    </tr>\n",
       "    <tr>\n",
       "      <td>ALT</td>\n",
       "      <td>21449.0</td>\n",
       "      <td>24.613409</td>\n",
       "      <td>17.519433</td>\n",
       "      <td>2.0</td>\n",
       "      <td>14.0</td>\n",
       "      <td>20.0</td>\n",
       "      <td>29.0</td>\n",
       "      <td>198.0</td>\n",
       "    </tr>\n",
       "    <tr>\n",
       "      <td>GTP</td>\n",
       "      <td>21449.0</td>\n",
       "      <td>33.494056</td>\n",
       "      <td>32.142690</td>\n",
       "      <td>2.0</td>\n",
       "      <td>15.0</td>\n",
       "      <td>23.0</td>\n",
       "      <td>38.0</td>\n",
       "      <td>300.0</td>\n",
       "    </tr>\n",
       "    <tr>\n",
       "      <td>HMG</td>\n",
       "      <td>21449.0</td>\n",
       "      <td>14.065127</td>\n",
       "      <td>1.603024</td>\n",
       "      <td>1.5</td>\n",
       "      <td>13.0</td>\n",
       "      <td>14.1</td>\n",
       "      <td>15.3</td>\n",
       "      <td>19.2</td>\n",
       "    </tr>\n",
       "  </tbody>\n",
       "</table>\n",
       "</div>"
      ],
      "text/plain": [
       "             count        mean        std   min    25%    50%    75%    max\n",
       "AGE        21449.0   42.604317  11.604501  20.0   33.0   42.0   51.0   69.0\n",
       "GENDER     21449.0    0.580353   0.493513   0.0    0.0    1.0    1.0    1.0\n",
       "WAIST      21449.0   79.598723   8.972073  46.0   73.0   80.0   86.0  122.0\n",
       "BP_HIGH    21449.0  118.825167  11.372799  80.0  110.0  120.0  130.0  139.0\n",
       "BP_LOW     21449.0   74.291063   7.948682  42.0   70.0   75.0   80.0   89.0\n",
       "TOT_CHOLE  21449.0  191.653923  35.522637  66.0  167.0  189.0  213.0  468.0\n",
       "AST        21449.0   24.088489  10.309750   2.0   18.0   22.0   27.0  187.0\n",
       "ALT        21449.0   24.613409  17.519433   2.0   14.0   20.0   29.0  198.0\n",
       "GTP        21449.0   33.494056  32.142690   2.0   15.0   23.0   38.0  300.0\n",
       "HMG        21449.0   14.065127   1.603024   1.5   13.0   14.1   15.3   19.2"
      ]
     },
     "execution_count": 24,
     "metadata": {},
     "output_type": "execute_result"
    }
   ],
   "source": [
    "bp_data.describe().T"
   ]
  },
  {
   "cell_type": "code",
   "execution_count": 25,
   "metadata": {},
   "outputs": [
    {
     "name": "stdout",
     "output_type": "stream",
     "text": [
      "GENDER\n",
      "0     9001\n",
      "1    12448\n",
      "Name: GENDER, dtype: int64\n",
      "EXER_M\n",
      "2-3 a week      2543\n",
      "4-5 a week       624\n",
      ">5 a week        783\n",
      "Never          10781\n",
      "Once a week     6718\n",
      "Name: EXER_M, dtype: int64\n"
     ]
    }
   ],
   "source": [
    "#check if the categories in the categorical columns are correct\n",
    "for column in ['GENDER', 'EXER_M']:\n",
    "    print(bp_data.groupby(column)[column].count())"
   ]
  },
  {
   "cell_type": "code",
   "execution_count": 26,
   "metadata": {},
   "outputs": [
    {
     "data": {
      "text/plain": [
       "AGE            int64\n",
       "GENDER         int64\n",
       "WAIST        float64\n",
       "BP_HIGH      float64\n",
       "BP_LOW       float64\n",
       "TOT_CHOLE    float64\n",
       "AST          float64\n",
       "ALT          float64\n",
       "GTP          float64\n",
       "HMG          float64\n",
       "EXER_M        object\n",
       "dtype: object"
      ]
     },
     "execution_count": 26,
     "metadata": {},
     "output_type": "execute_result"
    }
   ],
   "source": [
    "bp_data.dtypes"
   ]
  },
  {
   "cell_type": "markdown",
   "metadata": {},
   "source": [
    "Most of the columns in the dataset contain values of numerical type, except for the exercise column which I am going to cope with by getting dummies."
   ]
  },
  {
   "cell_type": "code",
   "execution_count": 27,
   "metadata": {},
   "outputs": [
    {
     "data": {
      "text/html": [
       "<div>\n",
       "<style scoped>\n",
       "    .dataframe tbody tr th:only-of-type {\n",
       "        vertical-align: middle;\n",
       "    }\n",
       "\n",
       "    .dataframe tbody tr th {\n",
       "        vertical-align: top;\n",
       "    }\n",
       "\n",
       "    .dataframe thead th {\n",
       "        text-align: right;\n",
       "    }\n",
       "</style>\n",
       "<table border=\"1\" class=\"dataframe\">\n",
       "  <thead>\n",
       "    <tr style=\"text-align: right;\">\n",
       "      <th></th>\n",
       "      <th>AGE</th>\n",
       "      <th>GENDER</th>\n",
       "      <th>WAIST</th>\n",
       "      <th>BP_HIGH</th>\n",
       "      <th>BP_LOW</th>\n",
       "      <th>TOT_CHOLE</th>\n",
       "      <th>AST</th>\n",
       "      <th>ALT</th>\n",
       "      <th>GTP</th>\n",
       "      <th>HMG</th>\n",
       "      <th>EXER_M</th>\n",
       "    </tr>\n",
       "  </thead>\n",
       "  <tbody>\n",
       "    <tr>\n",
       "      <td>0</td>\n",
       "      <td>66</td>\n",
       "      <td>1</td>\n",
       "      <td>76.0</td>\n",
       "      <td>120.0</td>\n",
       "      <td>70.0</td>\n",
       "      <td>199.0</td>\n",
       "      <td>22.0</td>\n",
       "      <td>13.0</td>\n",
       "      <td>22.0</td>\n",
       "      <td>15.0</td>\n",
       "      <td>Once a week</td>\n",
       "    </tr>\n",
       "    <tr>\n",
       "      <td>1</td>\n",
       "      <td>55</td>\n",
       "      <td>1</td>\n",
       "      <td>84.0</td>\n",
       "      <td>110.0</td>\n",
       "      <td>80.0</td>\n",
       "      <td>178.0</td>\n",
       "      <td>40.0</td>\n",
       "      <td>35.0</td>\n",
       "      <td>72.0</td>\n",
       "      <td>14.9</td>\n",
       "      <td>Never</td>\n",
       "    </tr>\n",
       "    <tr>\n",
       "      <td>2</td>\n",
       "      <td>54</td>\n",
       "      <td>0</td>\n",
       "      <td>84.0</td>\n",
       "      <td>117.0</td>\n",
       "      <td>76.0</td>\n",
       "      <td>195.0</td>\n",
       "      <td>20.0</td>\n",
       "      <td>20.0</td>\n",
       "      <td>15.0</td>\n",
       "      <td>13.3</td>\n",
       "      <td>Once a week</td>\n",
       "    </tr>\n",
       "    <tr>\n",
       "      <td>3</td>\n",
       "      <td>29</td>\n",
       "      <td>1</td>\n",
       "      <td>80.0</td>\n",
       "      <td>126.0</td>\n",
       "      <td>82.0</td>\n",
       "      <td>150.0</td>\n",
       "      <td>25.0</td>\n",
       "      <td>27.0</td>\n",
       "      <td>35.0</td>\n",
       "      <td>17.0</td>\n",
       "      <td>Once a week</td>\n",
       "    </tr>\n",
       "    <tr>\n",
       "      <td>4</td>\n",
       "      <td>43</td>\n",
       "      <td>1</td>\n",
       "      <td>82.0</td>\n",
       "      <td>130.0</td>\n",
       "      <td>85.0</td>\n",
       "      <td>134.0</td>\n",
       "      <td>31.0</td>\n",
       "      <td>23.0</td>\n",
       "      <td>46.0</td>\n",
       "      <td>14.1</td>\n",
       "      <td>Once a week</td>\n",
       "    </tr>\n",
       "    <tr>\n",
       "      <td>5</td>\n",
       "      <td>66</td>\n",
       "      <td>1</td>\n",
       "      <td>78.0</td>\n",
       "      <td>130.0</td>\n",
       "      <td>76.0</td>\n",
       "      <td>188.0</td>\n",
       "      <td>26.0</td>\n",
       "      <td>13.0</td>\n",
       "      <td>63.0</td>\n",
       "      <td>14.1</td>\n",
       "      <td>Once a week</td>\n",
       "    </tr>\n",
       "    <tr>\n",
       "      <td>6</td>\n",
       "      <td>53</td>\n",
       "      <td>1</td>\n",
       "      <td>77.0</td>\n",
       "      <td>115.0</td>\n",
       "      <td>70.0</td>\n",
       "      <td>201.0</td>\n",
       "      <td>23.0</td>\n",
       "      <td>18.0</td>\n",
       "      <td>31.0</td>\n",
       "      <td>13.1</td>\n",
       "      <td>2-3 a week</td>\n",
       "    </tr>\n",
       "    <tr>\n",
       "      <td>7</td>\n",
       "      <td>47</td>\n",
       "      <td>1</td>\n",
       "      <td>81.0</td>\n",
       "      <td>120.0</td>\n",
       "      <td>80.0</td>\n",
       "      <td>172.0</td>\n",
       "      <td>43.0</td>\n",
       "      <td>37.0</td>\n",
       "      <td>118.0</td>\n",
       "      <td>16.6</td>\n",
       "      <td>Once a week</td>\n",
       "    </tr>\n",
       "    <tr>\n",
       "      <td>8</td>\n",
       "      <td>50</td>\n",
       "      <td>0</td>\n",
       "      <td>86.0</td>\n",
       "      <td>130.0</td>\n",
       "      <td>80.0</td>\n",
       "      <td>213.0</td>\n",
       "      <td>22.0</td>\n",
       "      <td>25.0</td>\n",
       "      <td>29.0</td>\n",
       "      <td>11.6</td>\n",
       "      <td>Never</td>\n",
       "    </tr>\n",
       "    <tr>\n",
       "      <td>9</td>\n",
       "      <td>56</td>\n",
       "      <td>1</td>\n",
       "      <td>105.0</td>\n",
       "      <td>138.0</td>\n",
       "      <td>85.0</td>\n",
       "      <td>197.0</td>\n",
       "      <td>19.0</td>\n",
       "      <td>22.0</td>\n",
       "      <td>20.0</td>\n",
       "      <td>14.3</td>\n",
       "      <td>Once a week</td>\n",
       "    </tr>\n",
       "    <tr>\n",
       "      <td>10</td>\n",
       "      <td>51</td>\n",
       "      <td>1</td>\n",
       "      <td>85.0</td>\n",
       "      <td>130.0</td>\n",
       "      <td>80.0</td>\n",
       "      <td>172.0</td>\n",
       "      <td>16.0</td>\n",
       "      <td>10.0</td>\n",
       "      <td>27.0</td>\n",
       "      <td>13.1</td>\n",
       "      <td>&gt;5 a week</td>\n",
       "    </tr>\n",
       "    <tr>\n",
       "      <td>11</td>\n",
       "      <td>50</td>\n",
       "      <td>0</td>\n",
       "      <td>69.0</td>\n",
       "      <td>110.0</td>\n",
       "      <td>76.0</td>\n",
       "      <td>205.0</td>\n",
       "      <td>16.0</td>\n",
       "      <td>10.0</td>\n",
       "      <td>14.0</td>\n",
       "      <td>13.8</td>\n",
       "      <td>Once a week</td>\n",
       "    </tr>\n",
       "    <tr>\n",
       "      <td>12</td>\n",
       "      <td>32</td>\n",
       "      <td>1</td>\n",
       "      <td>75.0</td>\n",
       "      <td>135.0</td>\n",
       "      <td>78.0</td>\n",
       "      <td>172.0</td>\n",
       "      <td>25.0</td>\n",
       "      <td>28.0</td>\n",
       "      <td>51.0</td>\n",
       "      <td>14.6</td>\n",
       "      <td>Never</td>\n",
       "    </tr>\n",
       "    <tr>\n",
       "      <td>13</td>\n",
       "      <td>61</td>\n",
       "      <td>1</td>\n",
       "      <td>88.0</td>\n",
       "      <td>130.0</td>\n",
       "      <td>80.0</td>\n",
       "      <td>180.0</td>\n",
       "      <td>29.0</td>\n",
       "      <td>34.0</td>\n",
       "      <td>45.0</td>\n",
       "      <td>15.5</td>\n",
       "      <td>4-5 a week</td>\n",
       "    </tr>\n",
       "    <tr>\n",
       "      <td>14</td>\n",
       "      <td>48</td>\n",
       "      <td>1</td>\n",
       "      <td>86.0</td>\n",
       "      <td>139.0</td>\n",
       "      <td>89.0</td>\n",
       "      <td>179.0</td>\n",
       "      <td>22.0</td>\n",
       "      <td>28.0</td>\n",
       "      <td>41.0</td>\n",
       "      <td>14.4</td>\n",
       "      <td>Never</td>\n",
       "    </tr>\n",
       "    <tr>\n",
       "      <td>15</td>\n",
       "      <td>64</td>\n",
       "      <td>1</td>\n",
       "      <td>85.0</td>\n",
       "      <td>128.0</td>\n",
       "      <td>80.0</td>\n",
       "      <td>199.0</td>\n",
       "      <td>15.0</td>\n",
       "      <td>12.0</td>\n",
       "      <td>23.0</td>\n",
       "      <td>14.3</td>\n",
       "      <td>Never</td>\n",
       "    </tr>\n",
       "    <tr>\n",
       "      <td>16</td>\n",
       "      <td>46</td>\n",
       "      <td>1</td>\n",
       "      <td>79.0</td>\n",
       "      <td>130.0</td>\n",
       "      <td>80.0</td>\n",
       "      <td>181.0</td>\n",
       "      <td>53.0</td>\n",
       "      <td>55.0</td>\n",
       "      <td>184.0</td>\n",
       "      <td>16.3</td>\n",
       "      <td>Once a week</td>\n",
       "    </tr>\n",
       "    <tr>\n",
       "      <td>17</td>\n",
       "      <td>48</td>\n",
       "      <td>0</td>\n",
       "      <td>96.0</td>\n",
       "      <td>130.0</td>\n",
       "      <td>70.0</td>\n",
       "      <td>172.0</td>\n",
       "      <td>19.0</td>\n",
       "      <td>11.0</td>\n",
       "      <td>26.0</td>\n",
       "      <td>11.3</td>\n",
       "      <td>Never</td>\n",
       "    </tr>\n",
       "    <tr>\n",
       "      <td>18</td>\n",
       "      <td>58</td>\n",
       "      <td>1</td>\n",
       "      <td>92.0</td>\n",
       "      <td>120.0</td>\n",
       "      <td>80.0</td>\n",
       "      <td>176.0</td>\n",
       "      <td>29.0</td>\n",
       "      <td>23.0</td>\n",
       "      <td>29.0</td>\n",
       "      <td>14.9</td>\n",
       "      <td>Never</td>\n",
       "    </tr>\n",
       "    <tr>\n",
       "      <td>19</td>\n",
       "      <td>47</td>\n",
       "      <td>0</td>\n",
       "      <td>74.0</td>\n",
       "      <td>110.0</td>\n",
       "      <td>70.0</td>\n",
       "      <td>222.0</td>\n",
       "      <td>30.0</td>\n",
       "      <td>22.0</td>\n",
       "      <td>7.0</td>\n",
       "      <td>13.6</td>\n",
       "      <td>Never</td>\n",
       "    </tr>\n",
       "    <tr>\n",
       "      <td>20</td>\n",
       "      <td>66</td>\n",
       "      <td>0</td>\n",
       "      <td>85.0</td>\n",
       "      <td>134.0</td>\n",
       "      <td>84.0</td>\n",
       "      <td>210.0</td>\n",
       "      <td>21.0</td>\n",
       "      <td>25.0</td>\n",
       "      <td>17.0</td>\n",
       "      <td>12.9</td>\n",
       "      <td>Never</td>\n",
       "    </tr>\n",
       "    <tr>\n",
       "      <td>21</td>\n",
       "      <td>32</td>\n",
       "      <td>1</td>\n",
       "      <td>90.0</td>\n",
       "      <td>110.0</td>\n",
       "      <td>80.0</td>\n",
       "      <td>221.0</td>\n",
       "      <td>23.0</td>\n",
       "      <td>23.0</td>\n",
       "      <td>52.0</td>\n",
       "      <td>14.1</td>\n",
       "      <td>Never</td>\n",
       "    </tr>\n",
       "    <tr>\n",
       "      <td>22</td>\n",
       "      <td>38</td>\n",
       "      <td>1</td>\n",
       "      <td>93.0</td>\n",
       "      <td>121.0</td>\n",
       "      <td>74.0</td>\n",
       "      <td>177.0</td>\n",
       "      <td>31.0</td>\n",
       "      <td>27.0</td>\n",
       "      <td>15.0</td>\n",
       "      <td>15.6</td>\n",
       "      <td>2-3 a week</td>\n",
       "    </tr>\n",
       "    <tr>\n",
       "      <td>23</td>\n",
       "      <td>48</td>\n",
       "      <td>0</td>\n",
       "      <td>69.0</td>\n",
       "      <td>120.0</td>\n",
       "      <td>80.0</td>\n",
       "      <td>209.0</td>\n",
       "      <td>28.0</td>\n",
       "      <td>18.0</td>\n",
       "      <td>48.0</td>\n",
       "      <td>13.9</td>\n",
       "      <td>Once a week</td>\n",
       "    </tr>\n",
       "    <tr>\n",
       "      <td>24</td>\n",
       "      <td>41</td>\n",
       "      <td>1</td>\n",
       "      <td>89.0</td>\n",
       "      <td>106.0</td>\n",
       "      <td>73.0</td>\n",
       "      <td>184.0</td>\n",
       "      <td>27.0</td>\n",
       "      <td>35.0</td>\n",
       "      <td>49.0</td>\n",
       "      <td>15.6</td>\n",
       "      <td>4-5 a week</td>\n",
       "    </tr>\n",
       "    <tr>\n",
       "      <td>25</td>\n",
       "      <td>41</td>\n",
       "      <td>0</td>\n",
       "      <td>63.0</td>\n",
       "      <td>138.0</td>\n",
       "      <td>80.0</td>\n",
       "      <td>165.0</td>\n",
       "      <td>19.0</td>\n",
       "      <td>9.0</td>\n",
       "      <td>9.0</td>\n",
       "      <td>12.9</td>\n",
       "      <td>Never</td>\n",
       "    </tr>\n",
       "    <tr>\n",
       "      <td>26</td>\n",
       "      <td>54</td>\n",
       "      <td>1</td>\n",
       "      <td>78.0</td>\n",
       "      <td>137.0</td>\n",
       "      <td>89.0</td>\n",
       "      <td>226.0</td>\n",
       "      <td>23.0</td>\n",
       "      <td>14.0</td>\n",
       "      <td>52.0</td>\n",
       "      <td>15.5</td>\n",
       "      <td>Never</td>\n",
       "    </tr>\n",
       "    <tr>\n",
       "      <td>27</td>\n",
       "      <td>53</td>\n",
       "      <td>1</td>\n",
       "      <td>81.0</td>\n",
       "      <td>124.0</td>\n",
       "      <td>86.0</td>\n",
       "      <td>187.0</td>\n",
       "      <td>24.0</td>\n",
       "      <td>17.0</td>\n",
       "      <td>25.0</td>\n",
       "      <td>16.6</td>\n",
       "      <td>Once a week</td>\n",
       "    </tr>\n",
       "    <tr>\n",
       "      <td>28</td>\n",
       "      <td>54</td>\n",
       "      <td>1</td>\n",
       "      <td>82.0</td>\n",
       "      <td>111.0</td>\n",
       "      <td>70.0</td>\n",
       "      <td>155.0</td>\n",
       "      <td>23.0</td>\n",
       "      <td>34.0</td>\n",
       "      <td>42.0</td>\n",
       "      <td>15.7</td>\n",
       "      <td>2-3 a week</td>\n",
       "    </tr>\n",
       "    <tr>\n",
       "      <td>29</td>\n",
       "      <td>55</td>\n",
       "      <td>1</td>\n",
       "      <td>81.0</td>\n",
       "      <td>134.0</td>\n",
       "      <td>80.0</td>\n",
       "      <td>139.0</td>\n",
       "      <td>28.0</td>\n",
       "      <td>30.0</td>\n",
       "      <td>34.0</td>\n",
       "      <td>15.9</td>\n",
       "      <td>Once a week</td>\n",
       "    </tr>\n",
       "  </tbody>\n",
       "</table>\n",
       "</div>"
      ],
      "text/plain": [
       "    AGE  GENDER  WAIST  BP_HIGH  BP_LOW  TOT_CHOLE   AST   ALT    GTP   HMG  \\\n",
       "0    66       1   76.0    120.0    70.0      199.0  22.0  13.0   22.0  15.0   \n",
       "1    55       1   84.0    110.0    80.0      178.0  40.0  35.0   72.0  14.9   \n",
       "2    54       0   84.0    117.0    76.0      195.0  20.0  20.0   15.0  13.3   \n",
       "3    29       1   80.0    126.0    82.0      150.0  25.0  27.0   35.0  17.0   \n",
       "4    43       1   82.0    130.0    85.0      134.0  31.0  23.0   46.0  14.1   \n",
       "5    66       1   78.0    130.0    76.0      188.0  26.0  13.0   63.0  14.1   \n",
       "6    53       1   77.0    115.0    70.0      201.0  23.0  18.0   31.0  13.1   \n",
       "7    47       1   81.0    120.0    80.0      172.0  43.0  37.0  118.0  16.6   \n",
       "8    50       0   86.0    130.0    80.0      213.0  22.0  25.0   29.0  11.6   \n",
       "9    56       1  105.0    138.0    85.0      197.0  19.0  22.0   20.0  14.3   \n",
       "10   51       1   85.0    130.0    80.0      172.0  16.0  10.0   27.0  13.1   \n",
       "11   50       0   69.0    110.0    76.0      205.0  16.0  10.0   14.0  13.8   \n",
       "12   32       1   75.0    135.0    78.0      172.0  25.0  28.0   51.0  14.6   \n",
       "13   61       1   88.0    130.0    80.0      180.0  29.0  34.0   45.0  15.5   \n",
       "14   48       1   86.0    139.0    89.0      179.0  22.0  28.0   41.0  14.4   \n",
       "15   64       1   85.0    128.0    80.0      199.0  15.0  12.0   23.0  14.3   \n",
       "16   46       1   79.0    130.0    80.0      181.0  53.0  55.0  184.0  16.3   \n",
       "17   48       0   96.0    130.0    70.0      172.0  19.0  11.0   26.0  11.3   \n",
       "18   58       1   92.0    120.0    80.0      176.0  29.0  23.0   29.0  14.9   \n",
       "19   47       0   74.0    110.0    70.0      222.0  30.0  22.0    7.0  13.6   \n",
       "20   66       0   85.0    134.0    84.0      210.0  21.0  25.0   17.0  12.9   \n",
       "21   32       1   90.0    110.0    80.0      221.0  23.0  23.0   52.0  14.1   \n",
       "22   38       1   93.0    121.0    74.0      177.0  31.0  27.0   15.0  15.6   \n",
       "23   48       0   69.0    120.0    80.0      209.0  28.0  18.0   48.0  13.9   \n",
       "24   41       1   89.0    106.0    73.0      184.0  27.0  35.0   49.0  15.6   \n",
       "25   41       0   63.0    138.0    80.0      165.0  19.0   9.0    9.0  12.9   \n",
       "26   54       1   78.0    137.0    89.0      226.0  23.0  14.0   52.0  15.5   \n",
       "27   53       1   81.0    124.0    86.0      187.0  24.0  17.0   25.0  16.6   \n",
       "28   54       1   82.0    111.0    70.0      155.0  23.0  34.0   42.0  15.7   \n",
       "29   55       1   81.0    134.0    80.0      139.0  28.0  30.0   34.0  15.9   \n",
       "\n",
       "         EXER_M  \n",
       "0   Once a week  \n",
       "1         Never  \n",
       "2   Once a week  \n",
       "3   Once a week  \n",
       "4   Once a week  \n",
       "5   Once a week  \n",
       "6    2-3 a week  \n",
       "7   Once a week  \n",
       "8         Never  \n",
       "9   Once a week  \n",
       "10    >5 a week  \n",
       "11  Once a week  \n",
       "12        Never  \n",
       "13   4-5 a week  \n",
       "14        Never  \n",
       "15        Never  \n",
       "16  Once a week  \n",
       "17        Never  \n",
       "18        Never  \n",
       "19        Never  \n",
       "20        Never  \n",
       "21        Never  \n",
       "22   2-3 a week  \n",
       "23  Once a week  \n",
       "24   4-5 a week  \n",
       "25        Never  \n",
       "26        Never  \n",
       "27  Once a week  \n",
       "28   2-3 a week  \n",
       "29  Once a week  "
      ]
     },
     "execution_count": 27,
     "metadata": {},
     "output_type": "execute_result"
    }
   ],
   "source": [
    "bp_data.head(30)"
   ]
  },
  {
   "cell_type": "markdown",
   "metadata": {},
   "source": [
    "###### Correlations visualisation\n",
    "For this dataset I am also going to plot a correlation matrix to see if there are any linear correlations in the data."
   ]
  },
  {
   "cell_type": "code",
   "execution_count": 28,
   "metadata": {},
   "outputs": [
    {
     "data": {
      "image/png": "[encoded data removed]",
      "text/plain": [
       "<Figure size 1008x864 with 2 Axes>"
      ]
     },
     "metadata": {
      "needs_background": "light"
     },
     "output_type": "display_data"
    }
   ],
   "source": [
    "f, ax = plt.subplots(figsize = (14,12))\n",
    "sns.heatmap(bp_data.corr(), annot = True, fmt='.1g', linewidths=0.5, ax=ax)\n",
    "\n",
    "#fixing first and last row of the matrix as they are cut in half\n",
    "bottom, top = ax.get_ylim()\n",
    "ax.set_ylim(bottom + 0.5, top - 0.5)\n",
    "plt.show()"
   ]
  },
  {
   "cell_type": "markdown",
   "metadata": {},
   "source": [
    "Obviously there is correlation between the low and high blood pressure values and also between the different types of liver enzymes. Also a correlation between hemoglobin values, gender and waist can be seen. This is also expected as men have higher reference ranges of blood hemoglobin."
   ]
  },
  {
   "cell_type": "markdown",
   "metadata": {},
   "source": [
    "###### Preparing feature and target data for machine learning"
   ]
  },
  {
   "cell_type": "markdown",
   "metadata": {},
   "source": [
    "If just one of the blood pressure readings (systolic or diastolic) is higher than normal, this is considered prehypertension or hypertension. Because of this, classification of blood pressure can be done based on the sum of both readings. What is more, taking the sum is a way to keep blood pressure values with mistakenly reversed systolic and diastolic readings (diastolic blood pressure cannot be higher than systolic)."
   ]
  },
  {
   "cell_type": "code",
   "execution_count": 29,
   "metadata": {},
   "outputs": [],
   "source": [
    "#preparing the target column\n",
    "bp_data['hypertension'] = bp_data.BP_HIGH + bp_data.BP_LOW\n",
    "bp_data['hypertension'] = bp_data['hypertension'].apply(lambda x: 0 if x <= 200 else 1)"
   ]
  },
  {
   "cell_type": "code",
   "execution_count": 30,
   "metadata": {},
   "outputs": [
    {
     "data": {
      "text/html": [
       "<div>\n",
       "<style scoped>\n",
       "    .dataframe tbody tr th:only-of-type {\n",
       "        vertical-align: middle;\n",
       "    }\n",
       "\n",
       "    .dataframe tbody tr th {\n",
       "        vertical-align: top;\n",
       "    }\n",
       "\n",
       "    .dataframe thead th {\n",
       "        text-align: right;\n",
       "    }\n",
       "</style>\n",
       "<table border=\"1\" class=\"dataframe\">\n",
       "  <thead>\n",
       "    <tr style=\"text-align: right;\">\n",
       "      <th></th>\n",
       "      <th>AGE</th>\n",
       "      <th>GENDER</th>\n",
       "      <th>WAIST</th>\n",
       "      <th>BP_HIGH</th>\n",
       "      <th>BP_LOW</th>\n",
       "      <th>TOT_CHOLE</th>\n",
       "      <th>AST</th>\n",
       "      <th>ALT</th>\n",
       "      <th>GTP</th>\n",
       "      <th>HMG</th>\n",
       "      <th>EXER_M</th>\n",
       "      <th>hypertension</th>\n",
       "    </tr>\n",
       "  </thead>\n",
       "  <tbody>\n",
       "    <tr>\n",
       "      <td>0</td>\n",
       "      <td>66</td>\n",
       "      <td>1</td>\n",
       "      <td>76.0</td>\n",
       "      <td>120.0</td>\n",
       "      <td>70.0</td>\n",
       "      <td>199.0</td>\n",
       "      <td>22.0</td>\n",
       "      <td>13.0</td>\n",
       "      <td>22.0</td>\n",
       "      <td>15.0</td>\n",
       "      <td>Once a week</td>\n",
       "      <td>0</td>\n",
       "    </tr>\n",
       "    <tr>\n",
       "      <td>1</td>\n",
       "      <td>55</td>\n",
       "      <td>1</td>\n",
       "      <td>84.0</td>\n",
       "      <td>110.0</td>\n",
       "      <td>80.0</td>\n",
       "      <td>178.0</td>\n",
       "      <td>40.0</td>\n",
       "      <td>35.0</td>\n",
       "      <td>72.0</td>\n",
       "      <td>14.9</td>\n",
       "      <td>Never</td>\n",
       "      <td>0</td>\n",
       "    </tr>\n",
       "    <tr>\n",
       "      <td>2</td>\n",
       "      <td>54</td>\n",
       "      <td>0</td>\n",
       "      <td>84.0</td>\n",
       "      <td>117.0</td>\n",
       "      <td>76.0</td>\n",
       "      <td>195.0</td>\n",
       "      <td>20.0</td>\n",
       "      <td>20.0</td>\n",
       "      <td>15.0</td>\n",
       "      <td>13.3</td>\n",
       "      <td>Once a week</td>\n",
       "      <td>0</td>\n",
       "    </tr>\n",
       "    <tr>\n",
       "      <td>3</td>\n",
       "      <td>29</td>\n",
       "      <td>1</td>\n",
       "      <td>80.0</td>\n",
       "      <td>126.0</td>\n",
       "      <td>82.0</td>\n",
       "      <td>150.0</td>\n",
       "      <td>25.0</td>\n",
       "      <td>27.0</td>\n",
       "      <td>35.0</td>\n",
       "      <td>17.0</td>\n",
       "      <td>Once a week</td>\n",
       "      <td>1</td>\n",
       "    </tr>\n",
       "    <tr>\n",
       "      <td>4</td>\n",
       "      <td>43</td>\n",
       "      <td>1</td>\n",
       "      <td>82.0</td>\n",
       "      <td>130.0</td>\n",
       "      <td>85.0</td>\n",
       "      <td>134.0</td>\n",
       "      <td>31.0</td>\n",
       "      <td>23.0</td>\n",
       "      <td>46.0</td>\n",
       "      <td>14.1</td>\n",
       "      <td>Once a week</td>\n",
       "      <td>1</td>\n",
       "    </tr>\n",
       "    <tr>\n",
       "      <td>...</td>\n",
       "      <td>...</td>\n",
       "      <td>...</td>\n",
       "      <td>...</td>\n",
       "      <td>...</td>\n",
       "      <td>...</td>\n",
       "      <td>...</td>\n",
       "      <td>...</td>\n",
       "      <td>...</td>\n",
       "      <td>...</td>\n",
       "      <td>...</td>\n",
       "      <td>...</td>\n",
       "      <td>...</td>\n",
       "    </tr>\n",
       "    <tr>\n",
       "      <td>21608</td>\n",
       "      <td>36</td>\n",
       "      <td>1</td>\n",
       "      <td>85.0</td>\n",
       "      <td>130.0</td>\n",
       "      <td>80.0</td>\n",
       "      <td>185.0</td>\n",
       "      <td>15.0</td>\n",
       "      <td>18.0</td>\n",
       "      <td>50.0</td>\n",
       "      <td>15.4</td>\n",
       "      <td>Never</td>\n",
       "      <td>1</td>\n",
       "    </tr>\n",
       "    <tr>\n",
       "      <td>21609</td>\n",
       "      <td>31</td>\n",
       "      <td>0</td>\n",
       "      <td>67.0</td>\n",
       "      <td>102.0</td>\n",
       "      <td>68.0</td>\n",
       "      <td>164.0</td>\n",
       "      <td>13.0</td>\n",
       "      <td>11.0</td>\n",
       "      <td>13.0</td>\n",
       "      <td>13.9</td>\n",
       "      <td>Never</td>\n",
       "      <td>0</td>\n",
       "    </tr>\n",
       "    <tr>\n",
       "      <td>21610</td>\n",
       "      <td>42</td>\n",
       "      <td>1</td>\n",
       "      <td>71.0</td>\n",
       "      <td>118.0</td>\n",
       "      <td>76.0</td>\n",
       "      <td>192.0</td>\n",
       "      <td>19.0</td>\n",
       "      <td>10.0</td>\n",
       "      <td>18.0</td>\n",
       "      <td>14.1</td>\n",
       "      <td>Never</td>\n",
       "      <td>0</td>\n",
       "    </tr>\n",
       "    <tr>\n",
       "      <td>21611</td>\n",
       "      <td>34</td>\n",
       "      <td>0</td>\n",
       "      <td>63.0</td>\n",
       "      <td>106.0</td>\n",
       "      <td>66.0</td>\n",
       "      <td>190.0</td>\n",
       "      <td>19.0</td>\n",
       "      <td>15.0</td>\n",
       "      <td>13.0</td>\n",
       "      <td>13.1</td>\n",
       "      <td>Once a week</td>\n",
       "      <td>0</td>\n",
       "    </tr>\n",
       "    <tr>\n",
       "      <td>21612</td>\n",
       "      <td>51</td>\n",
       "      <td>0</td>\n",
       "      <td>83.0</td>\n",
       "      <td>110.0</td>\n",
       "      <td>77.0</td>\n",
       "      <td>196.0</td>\n",
       "      <td>18.0</td>\n",
       "      <td>13.0</td>\n",
       "      <td>18.0</td>\n",
       "      <td>12.5</td>\n",
       "      <td>Never</td>\n",
       "      <td>0</td>\n",
       "    </tr>\n",
       "  </tbody>\n",
       "</table>\n",
       "<p>21449 rows × 12 columns</p>\n",
       "</div>"
      ],
      "text/plain": [
       "       AGE  GENDER  WAIST  BP_HIGH  BP_LOW  TOT_CHOLE   AST   ALT   GTP   HMG  \\\n",
       "0       66       1   76.0    120.0    70.0      199.0  22.0  13.0  22.0  15.0   \n",
       "1       55       1   84.0    110.0    80.0      178.0  40.0  35.0  72.0  14.9   \n",
       "2       54       0   84.0    117.0    76.0      195.0  20.0  20.0  15.0  13.3   \n",
       "3       29       1   80.0    126.0    82.0      150.0  25.0  27.0  35.0  17.0   \n",
       "4       43       1   82.0    130.0    85.0      134.0  31.0  23.0  46.0  14.1   \n",
       "...    ...     ...    ...      ...     ...        ...   ...   ...   ...   ...   \n",
       "21608   36       1   85.0    130.0    80.0      185.0  15.0  18.0  50.0  15.4   \n",
       "21609   31       0   67.0    102.0    68.0      164.0  13.0  11.0  13.0  13.9   \n",
       "21610   42       1   71.0    118.0    76.0      192.0  19.0  10.0  18.0  14.1   \n",
       "21611   34       0   63.0    106.0    66.0      190.0  19.0  15.0  13.0  13.1   \n",
       "21612   51       0   83.0    110.0    77.0      196.0  18.0  13.0  18.0  12.5   \n",
       "\n",
       "            EXER_M  hypertension  \n",
       "0      Once a week             0  \n",
       "1            Never             0  \n",
       "2      Once a week             0  \n",
       "3      Once a week             1  \n",
       "4      Once a week             1  \n",
       "...            ...           ...  \n",
       "21608        Never             1  \n",
       "21609        Never             0  \n",
       "21610        Never             0  \n",
       "21611  Once a week             0  \n",
       "21612        Never             0  \n",
       "\n",
       "[21449 rows x 12 columns]"
      ]
     },
     "execution_count": 30,
     "metadata": {},
     "output_type": "execute_result"
    }
   ],
   "source": [
    "bp_data"
   ]
  },
  {
   "cell_type": "code",
   "execution_count": 31,
   "metadata": {},
   "outputs": [
    {
     "data": {
      "image/png": "[encoded data removed]",
      "text/plain": [
       "<Figure size 432x288 with 1 Axes>"
      ]
     },
     "metadata": {
      "needs_background": "light"
     },
     "output_type": "display_data"
    }
   ],
   "source": [
    "sns.countplot(x=bp_data['hypertension'])\n",
    "plt.show()"
   ]
  },
  {
   "cell_type": "markdown",
   "metadata": {},
   "source": [
    "The two classes have different number of entries and the dataset is imbalanced which means I will have to use one of the appropriate metrics."
   ]
  },
  {
   "cell_type": "code",
   "execution_count": 32,
   "metadata": {},
   "outputs": [],
   "source": [
    "# Separating features and target data\n",
    "bp_data_features = bp_data.drop(columns=['BP_HIGH', 'BP_LOW', 'hypertension'])\n",
    "bp_data_target = bp_data['hypertension']"
   ]
  },
  {
   "cell_type": "code",
   "execution_count": 33,
   "metadata": {},
   "outputs": [
    {
     "data": {
      "text/plain": [
       "(21449, 9)"
      ]
     },
     "execution_count": 33,
     "metadata": {},
     "output_type": "execute_result"
    }
   ],
   "source": [
    "bp_data_features.shape"
   ]
  },
  {
   "cell_type": "code",
   "execution_count": 34,
   "metadata": {},
   "outputs": [
    {
     "data": {
      "text/plain": [
       "(21449,)"
      ]
     },
     "execution_count": 34,
     "metadata": {},
     "output_type": "execute_result"
    }
   ],
   "source": [
    "bp_data_target.shape"
   ]
  },
  {
   "cell_type": "code",
   "execution_count": 35,
   "metadata": {},
   "outputs": [],
   "source": [
    "bp_data_features = pd.get_dummies(bp_data_features, columns=['EXER_M'])"
   ]
  },
  {
   "cell_type": "code",
   "execution_count": 36,
   "metadata": {},
   "outputs": [],
   "source": [
    "scaler = StandardScaler()\n",
    "bp_data_features[['AGE', 'WAIST', 'TOT_CHOLE', 'AST',\n",
    "       'ALT', 'GTP', 'HMG']] = scaler.fit_transform(bp_data_features[['AGE', 'WAIST', 'TOT_CHOLE', 'AST',\n",
    "       'ALT', 'GTP', 'HMG']])"
   ]
  },
  {
   "cell_type": "code",
   "execution_count": 37,
   "metadata": {},
   "outputs": [],
   "source": [
    "#remove the dummy columns that can be deduced from the others\n",
    "bp_data_features.drop(columns = [\"EXER_M_Never\"], inplace = True)"
   ]
  },
  {
   "cell_type": "code",
   "execution_count": 38,
   "metadata": {},
   "outputs": [
    {
     "data": {
      "text/html": [
       "<div>\n",
       "<style scoped>\n",
       "    .dataframe tbody tr th:only-of-type {\n",
       "        vertical-align: middle;\n",
       "    }\n",
       "\n",
       "    .dataframe tbody tr th {\n",
       "        vertical-align: top;\n",
       "    }\n",
       "\n",
       "    .dataframe thead th {\n",
       "        text-align: right;\n",
       "    }\n",
       "</style>\n",
       "<table border=\"1\" class=\"dataframe\">\n",
       "  <thead>\n",
       "    <tr style=\"text-align: right;\">\n",
       "      <th></th>\n",
       "      <th>AGE</th>\n",
       "      <th>GENDER</th>\n",
       "      <th>WAIST</th>\n",
       "      <th>TOT_CHOLE</th>\n",
       "      <th>AST</th>\n",
       "      <th>ALT</th>\n",
       "      <th>GTP</th>\n",
       "      <th>HMG</th>\n",
       "      <th>EXER_M_2-3 a week</th>\n",
       "      <th>EXER_M_4-5 a week</th>\n",
       "      <th>EXER_M_&gt;5 a week</th>\n",
       "      <th>EXER_M_Once a week</th>\n",
       "    </tr>\n",
       "  </thead>\n",
       "  <tbody>\n",
       "    <tr>\n",
       "      <td>0</td>\n",
       "      <td>2.016134</td>\n",
       "      <td>1</td>\n",
       "      <td>-0.401112</td>\n",
       "      <td>0.206805</td>\n",
       "      <td>-0.202579</td>\n",
       "      <td>-0.662903</td>\n",
       "      <td>-0.357603</td>\n",
       "      <td>0.583207</td>\n",
       "      <td>0</td>\n",
       "      <td>0</td>\n",
       "      <td>0</td>\n",
       "      <td>1</td>\n",
       "    </tr>\n",
       "    <tr>\n",
       "      <td>1</td>\n",
       "      <td>1.068204</td>\n",
       "      <td>1</td>\n",
       "      <td>0.490564</td>\n",
       "      <td>-0.384381</td>\n",
       "      <td>1.543382</td>\n",
       "      <td>0.592875</td>\n",
       "      <td>1.197997</td>\n",
       "      <td>0.520824</td>\n",
       "      <td>0</td>\n",
       "      <td>0</td>\n",
       "      <td>0</td>\n",
       "      <td>0</td>\n",
       "    </tr>\n",
       "    <tr>\n",
       "      <td>2</td>\n",
       "      <td>0.982028</td>\n",
       "      <td>0</td>\n",
       "      <td>0.490564</td>\n",
       "      <td>0.094198</td>\n",
       "      <td>-0.396575</td>\n",
       "      <td>-0.263337</td>\n",
       "      <td>-0.575387</td>\n",
       "      <td>-0.477313</td>\n",
       "      <td>0</td>\n",
       "      <td>0</td>\n",
       "      <td>0</td>\n",
       "      <td>1</td>\n",
       "    </tr>\n",
       "    <tr>\n",
       "      <td>3</td>\n",
       "      <td>-1.172358</td>\n",
       "      <td>1</td>\n",
       "      <td>0.044726</td>\n",
       "      <td>-1.172630</td>\n",
       "      <td>0.088415</td>\n",
       "      <td>0.136229</td>\n",
       "      <td>0.046853</td>\n",
       "      <td>1.830878</td>\n",
       "      <td>0</td>\n",
       "      <td>0</td>\n",
       "      <td>0</td>\n",
       "      <td>1</td>\n",
       "    </tr>\n",
       "    <tr>\n",
       "      <td>4</td>\n",
       "      <td>0.034098</td>\n",
       "      <td>1</td>\n",
       "      <td>0.267645</td>\n",
       "      <td>-1.623057</td>\n",
       "      <td>0.670402</td>\n",
       "      <td>-0.092095</td>\n",
       "      <td>0.389085</td>\n",
       "      <td>0.021755</td>\n",
       "      <td>0</td>\n",
       "      <td>0</td>\n",
       "      <td>0</td>\n",
       "      <td>1</td>\n",
       "    </tr>\n",
       "    <tr>\n",
       "      <td>...</td>\n",
       "      <td>...</td>\n",
       "      <td>...</td>\n",
       "      <td>...</td>\n",
       "      <td>...</td>\n",
       "      <td>...</td>\n",
       "      <td>...</td>\n",
       "      <td>...</td>\n",
       "      <td>...</td>\n",
       "      <td>...</td>\n",
       "      <td>...</td>\n",
       "      <td>...</td>\n",
       "      <td>...</td>\n",
       "    </tr>\n",
       "    <tr>\n",
       "      <td>21608</td>\n",
       "      <td>-0.569130</td>\n",
       "      <td>1</td>\n",
       "      <td>0.602024</td>\n",
       "      <td>-0.187319</td>\n",
       "      <td>-0.881564</td>\n",
       "      <td>-0.377499</td>\n",
       "      <td>0.513533</td>\n",
       "      <td>0.832742</td>\n",
       "      <td>0</td>\n",
       "      <td>0</td>\n",
       "      <td>0</td>\n",
       "      <td>0</td>\n",
       "    </tr>\n",
       "    <tr>\n",
       "      <td>21609</td>\n",
       "      <td>-1.000007</td>\n",
       "      <td>0</td>\n",
       "      <td>-1.404248</td>\n",
       "      <td>-0.778506</td>\n",
       "      <td>-1.075559</td>\n",
       "      <td>-0.777064</td>\n",
       "      <td>-0.637611</td>\n",
       "      <td>-0.103012</td>\n",
       "      <td>0</td>\n",
       "      <td>0</td>\n",
       "      <td>0</td>\n",
       "      <td>0</td>\n",
       "    </tr>\n",
       "    <tr>\n",
       "      <td>21610</td>\n",
       "      <td>-0.052077</td>\n",
       "      <td>1</td>\n",
       "      <td>-0.958410</td>\n",
       "      <td>0.009743</td>\n",
       "      <td>-0.493572</td>\n",
       "      <td>-0.834145</td>\n",
       "      <td>-0.482051</td>\n",
       "      <td>0.021755</td>\n",
       "      <td>0</td>\n",
       "      <td>0</td>\n",
       "      <td>0</td>\n",
       "      <td>0</td>\n",
       "    </tr>\n",
       "    <tr>\n",
       "      <td>21611</td>\n",
       "      <td>-0.741481</td>\n",
       "      <td>0</td>\n",
       "      <td>-1.850086</td>\n",
       "      <td>-0.046561</td>\n",
       "      <td>-0.493572</td>\n",
       "      <td>-0.548741</td>\n",
       "      <td>-0.637611</td>\n",
       "      <td>-0.602080</td>\n",
       "      <td>0</td>\n",
       "      <td>0</td>\n",
       "      <td>0</td>\n",
       "      <td>1</td>\n",
       "    </tr>\n",
       "    <tr>\n",
       "      <td>21612</td>\n",
       "      <td>0.723502</td>\n",
       "      <td>0</td>\n",
       "      <td>0.379105</td>\n",
       "      <td>0.122350</td>\n",
       "      <td>-0.590570</td>\n",
       "      <td>-0.662903</td>\n",
       "      <td>-0.482051</td>\n",
       "      <td>-0.976382</td>\n",
       "      <td>0</td>\n",
       "      <td>0</td>\n",
       "      <td>0</td>\n",
       "      <td>0</td>\n",
       "    </tr>\n",
       "  </tbody>\n",
       "</table>\n",
       "<p>21449 rows × 12 columns</p>\n",
       "</div>"
      ],
      "text/plain": [
       "            AGE  GENDER     WAIST  TOT_CHOLE       AST       ALT       GTP  \\\n",
       "0      2.016134       1 -0.401112   0.206805 -0.202579 -0.662903 -0.357603   \n",
       "1      1.068204       1  0.490564  -0.384381  1.543382  0.592875  1.197997   \n",
       "2      0.982028       0  0.490564   0.094198 -0.396575 -0.263337 -0.575387   \n",
       "3     -1.172358       1  0.044726  -1.172630  0.088415  0.136229  0.046853   \n",
       "4      0.034098       1  0.267645  -1.623057  0.670402 -0.092095  0.389085   \n",
       "...         ...     ...       ...        ...       ...       ...       ...   \n",
       "21608 -0.569130       1  0.602024  -0.187319 -0.881564 -0.377499  0.513533   \n",
       "21609 -1.000007       0 -1.404248  -0.778506 -1.075559 -0.777064 -0.637611   \n",
       "21610 -0.052077       1 -0.958410   0.009743 -0.493572 -0.834145 -0.482051   \n",
       "21611 -0.741481       0 -1.850086  -0.046561 -0.493572 -0.548741 -0.637611   \n",
       "21612  0.723502       0  0.379105   0.122350 -0.590570 -0.662903 -0.482051   \n",
       "\n",
       "            HMG  EXER_M_2-3 a week  EXER_M_4-5 a week  EXER_M_>5 a week  \\\n",
       "0      0.583207                  0                  0                 0   \n",
       "1      0.520824                  0                  0                 0   \n",
       "2     -0.477313                  0                  0                 0   \n",
       "3      1.830878                  0                  0                 0   \n",
       "4      0.021755                  0                  0                 0   \n",
       "...         ...                ...                ...               ...   \n",
       "21608  0.832742                  0                  0                 0   \n",
       "21609 -0.103012                  0                  0                 0   \n",
       "21610  0.021755                  0                  0                 0   \n",
       "21611 -0.602080                  0                  0                 0   \n",
       "21612 -0.976382                  0                  0                 0   \n",
       "\n",
       "       EXER_M_Once a week  \n",
       "0                       1  \n",
       "1                       0  \n",
       "2                       1  \n",
       "3                       1  \n",
       "4                       1  \n",
       "...                   ...  \n",
       "21608                   0  \n",
       "21609                   0  \n",
       "21610                   0  \n",
       "21611                   1  \n",
       "21612                   0  \n",
       "\n",
       "[21449 rows x 12 columns]"
      ]
     },
     "execution_count": 38,
     "metadata": {},
     "output_type": "execute_result"
    }
   ],
   "source": [
    "bp_data_features"
   ]
  },
  {
   "cell_type": "markdown",
   "metadata": {},
   "source": [
    "###### PCA analysis\n",
    "Although not necessary as I don't have too many features in this dataset, I am going to prepare another set of data for learning that will have some of the more irrelevant components removed with principal component analysis (PCA). I am then going to train the same models on both the transformed data and the row data and to compare their performance.\n"
   ]
  },
  {
   "cell_type": "code",
   "execution_count": 39,
   "metadata": {},
   "outputs": [],
   "source": [
    "poly_transformer = PolynomialFeatures(degree = 3, interaction_only = True)\n",
    "bp_features_train_polynomial = poly_transformer.fit_transform(bp_data_features)"
   ]
  },
  {
   "cell_type": "code",
   "execution_count": 40,
   "metadata": {},
   "outputs": [],
   "source": [
    "pca = PCA()"
   ]
  },
  {
   "cell_type": "code",
   "execution_count": 41,
   "metadata": {},
   "outputs": [],
   "source": [
    "bp_features_poly_pca = pca.fit(bp_features_train_polynomial)"
   ]
  },
  {
   "cell_type": "markdown",
   "metadata": {},
   "source": [
    "I am going to plot the results from the pca transformation so I can see how many of the components are enough for use when training the machine learning models."
   ]
  },
  {
   "cell_type": "code",
   "execution_count": 42,
   "metadata": {},
   "outputs": [
    {
     "data": {
      "image/png": "[encoded data removed]",
      "text/plain": [
       "<Figure size 432x288 with 1 Axes>"
      ]
     },
     "metadata": {
      "needs_background": "light"
     },
     "output_type": "display_data"
    }
   ],
   "source": [
    "plt.plot(pca.explained_variance_ratio_)\n",
    "plt.xlim(-1,42)\n",
    "plt.show()"
   ]
  },
  {
   "cell_type": "markdown",
   "metadata": {},
   "source": [
    "It is evident from the plot that more than 20 components will not contribute more to the explained variance."
   ]
  },
  {
   "cell_type": "code",
   "execution_count": 43,
   "metadata": {},
   "outputs": [],
   "source": [
    "pca_components = PCA(n_components=25)"
   ]
  },
  {
   "cell_type": "code",
   "execution_count": 44,
   "metadata": {},
   "outputs": [],
   "source": [
    "bp_features_poly_pca = pca_components.fit_transform(bp_features_train_polynomial)"
   ]
  },
  {
   "cell_type": "code",
   "execution_count": 45,
   "metadata": {},
   "outputs": [
    {
     "data": {
      "text/plain": [
       "array([0.51620629, 0.62185735, 0.68471587, 0.7209865 , 0.75152142,\n",
       "       0.78089249, 0.79840414, 0.81089962, 0.82194225, 0.83257779,\n",
       "       0.8427018 , 0.8512432 , 0.8593864 , 0.8669877 , 0.873658  ,\n",
       "       0.87897493, 0.88382193, 0.88849048, 0.89293037, 0.89708973,\n",
       "       0.90115187, 0.90504815, 0.90875245, 0.91221236, 0.91557323])"
      ]
     },
     "execution_count": 45,
     "metadata": {},
     "output_type": "execute_result"
    }
   ],
   "source": [
    "np.cumsum(pca_components.explained_variance_ratio_)"
   ]
  },
  {
   "cell_type": "markdown",
   "metadata": {},
   "source": [
    "### Machine learning methods exploration\n",
    "\n",
    "###### Data splitting and interaction\n",
    "\n",
    "The idea is first to split the data to test and train sets, and after that - to create a stratified k-fold split object so it can be used later for cross-validation. I will first split the raw and then the polynomai features and PCA transformed data."
   ]
  },
  {
   "cell_type": "code",
   "execution_count": 46,
   "metadata": {},
   "outputs": [],
   "source": [
    "bp_features_train, bp_features_test, bp_target_train, bp_target_test = train_test_split(\n",
    "    bp_data_features, bp_data_target, train_size = 0.8, stratify = bp_data_target)"
   ]
  },
  {
   "cell_type": "code",
   "execution_count": 47,
   "metadata": {},
   "outputs": [
    {
     "data": {
      "text/plain": [
       "(17159, 12)"
      ]
     },
     "execution_count": 47,
     "metadata": {},
     "output_type": "execute_result"
    }
   ],
   "source": [
    "bp_features_train.shape"
   ]
  },
  {
   "cell_type": "code",
   "execution_count": 48,
   "metadata": {},
   "outputs": [
    {
     "data": {
      "text/plain": [
       "(4290, 12)"
      ]
     },
     "execution_count": 48,
     "metadata": {},
     "output_type": "execute_result"
    }
   ],
   "source": [
    "bp_features_test.shape"
   ]
  },
  {
   "cell_type": "code",
   "execution_count": 49,
   "metadata": {},
   "outputs": [],
   "source": [
    "bp_features_train_poly_pca, bp_features_test_poly_pca, bp_target_train_poly_pca, bp_target_test_poly_pca = train_test_split(\n",
    "    bp_features_poly_pca, bp_data_target, train_size = 0.8, stratify = bp_data_target)"
   ]
  },
  {
   "cell_type": "code",
   "execution_count": 50,
   "metadata": {},
   "outputs": [
    {
     "data": {
      "text/plain": [
       "(17159, 25)"
      ]
     },
     "execution_count": 50,
     "metadata": {},
     "output_type": "execute_result"
    }
   ],
   "source": [
    "bp_features_train_poly_pca.shape"
   ]
  },
  {
   "cell_type": "code",
   "execution_count": 51,
   "metadata": {},
   "outputs": [
    {
     "data": {
      "text/plain": [
       "(4290, 25)"
      ]
     },
     "execution_count": 51,
     "metadata": {},
     "output_type": "execute_result"
    }
   ],
   "source": [
    "bp_features_test_poly_pca.shape"
   ]
  },
  {
   "cell_type": "code",
   "execution_count": 52,
   "metadata": {},
   "outputs": [],
   "source": [
    "k_fold =  StratifiedKFold(n_splits = 5)"
   ]
  },
  {
   "cell_type": "markdown",
   "metadata": {},
   "source": [
    "###### Fit and score function\n",
    "\n",
    "I am going to define a function which will first perform grid search with predefined hyperparameters, using f1 score. Then the function will fit the model with the training data select best classifier depending on the validation results. After that the best classifier will be used to predict the testing data and compare the results to the testing target. Finally, it will print all scoring results with the given method name and return the best classifier."
   ]
  },
  {
   "cell_type": "code",
   "execution_count": 53,
   "metadata": {},
   "outputs": [],
   "source": [
    "def train_score_model (model, parameters, model_name, features_train, features_test, target_train, target_test):\n",
    "    '''Fit model with selected parameters, score the performance and print the scoring results. Returns best classifier'''\n",
    "    \n",
    "    grid = GridSearchCV(model, param_grid = parameters, cv = k_fold, scoring = 'f1')\n",
    "    \n",
    "    grid_search = grid.fit(features_train, target_train)\n",
    "\n",
    "    best_classifier = grid_search.best_estimator_\n",
    "        \n",
    "    print(\"{0} best score is {1}\".format(model_name, grid_search.best_score_))\n",
    "\n",
    "    test_classifier_score = f1_score(target_test, best_classifier.predict(features_test))\n",
    "    print(\"For {0} the f1 score for the test data is {1}\".format(model_name, test_classifier_score))\n",
    "        \n",
    "    return  best_classifier"
   ]
  },
  {
   "cell_type": "markdown",
   "metadata": {},
   "source": [
    "###### Logistic Regression\n",
    "\n",
    "Going further I will explore the performance of several types of machine learning algorithms this time including the Support Vector Machines method with the default Gaussian (RBF) Kernel. This is possible because the dataset is smaller than the one in the first part."
   ]
  },
  {
   "cell_type": "code",
   "execution_count": 54,
   "metadata": {},
   "outputs": [],
   "source": [
    "logistic_regression_model = LogisticRegression(solver = 'liblinear')"
   ]
  },
  {
   "cell_type": "markdown",
   "metadata": {},
   "source": [
    "I am going to use a grid with different values for three hyperparameters: penalty, regularisation parameter C, and maximum number of iterations before convergence. I will first train the model with the raw data and then use the transformed (Poly and PCA) data and compare the results."
   ]
  },
  {
   "cell_type": "code",
   "execution_count": 55,
   "metadata": {},
   "outputs": [],
   "source": [
    "regression_parameters = {\n",
    "    'penalty': ['l1', 'l2'],\n",
    "    'C': [1e-3, 1e-1, 1, 100, 1e6],\n",
    "    'max_iter': [100, 200, 500],\n",
    "}"
   ]
  },
  {
   "cell_type": "code",
   "execution_count": 56,
   "metadata": {},
   "outputs": [
    {
     "name": "stdout",
     "output_type": "stream",
     "text": [
      "logistic regression best score is 0.28718129167655343\n",
      "For logistic regression the f1 score for the test data is 0.28410256410256407\n"
     ]
    }
   ],
   "source": [
    "#train and score with raw data\n",
    "logistic_best = train_score_model (logistic_regression_model, regression_parameters, 'logistic regression', bp_features_train, bp_features_test, bp_target_train, bp_target_test)"
   ]
  },
  {
   "cell_type": "code",
   "execution_count": 57,
   "metadata": {},
   "outputs": [
    {
     "name": "stdout",
     "output_type": "stream",
     "text": [
      "logistic regression best score is 0.2567185836788916\n",
      "For logistic regression the f1 score for the test data is 0.24331696672122205\n"
     ]
    }
   ],
   "source": [
    "#train and score with transformed data\n",
    "logistic_best_poly_pca = train_score_model (logistic_regression_model, regression_parameters, 'logistic regression', bp_features_train_poly_pca, bp_features_test_poly_pca, bp_target_train_poly_pca, bp_target_test_poly_pca)"
   ]
  },
  {
   "cell_type": "markdown",
   "metadata": {},
   "source": [
    "###### Decision Tree\n",
    "I am going to use the same parameter grid for the Decision Tree classifier as in the first part."
   ]
  },
  {
   "cell_type": "code",
   "execution_count": 58,
   "metadata": {},
   "outputs": [],
   "source": [
    "tree_model = DecisionTreeClassifier()"
   ]
  },
  {
   "cell_type": "code",
   "execution_count": 59,
   "metadata": {},
   "outputs": [],
   "source": [
    "parameters_tree = {\n",
    "    \"criterion\": ['gini', 'entropy'],\n",
    "    \"max_depth\": [3, 9, 14, 20, 30],\n",
    "    \"min_samples_leaf\": [2, 5, 8, 12],\n",
    "}"
   ]
  },
  {
   "cell_type": "code",
   "execution_count": 60,
   "metadata": {},
   "outputs": [
    {
     "name": "stdout",
     "output_type": "stream",
     "text": [
      "Decision Tree best score is 0.3832327486552226\n",
      "For Decision Tree the f1 score for the test data is 0.3901701323251418\n"
     ]
    }
   ],
   "source": [
    "#train and score with raw data\n",
    "tree_best = train_score_model (tree_model, parameters_tree, 'Decision Tree', bp_features_train, bp_features_test, bp_target_train, bp_target_test)"
   ]
  },
  {
   "cell_type": "code",
   "execution_count": 61,
   "metadata": {},
   "outputs": [
    {
     "name": "stderr",
     "output_type": "stream",
     "text": [
      "C:\\Users\\schaubia\\Anaconda3\\lib\\site-packages\\sklearn\\metrics\\classification.py:1437: UndefinedMetricWarning: F-score is ill-defined and being set to 0.0 due to no predicted samples.\n",
      "  'precision', 'predicted', average, warn_for)\n",
      "C:\\Users\\schaubia\\Anaconda3\\lib\\site-packages\\sklearn\\metrics\\classification.py:1437: UndefinedMetricWarning: F-score is ill-defined and being set to 0.0 due to no predicted samples.\n",
      "  'precision', 'predicted', average, warn_for)\n",
      "C:\\Users\\schaubia\\Anaconda3\\lib\\site-packages\\sklearn\\metrics\\classification.py:1437: UndefinedMetricWarning: F-score is ill-defined and being set to 0.0 due to no predicted samples.\n",
      "  'precision', 'predicted', average, warn_for)\n",
      "C:\\Users\\schaubia\\Anaconda3\\lib\\site-packages\\sklearn\\metrics\\classification.py:1437: UndefinedMetricWarning: F-score is ill-defined and being set to 0.0 due to no predicted samples.\n",
      "  'precision', 'predicted', average, warn_for)\n",
      "C:\\Users\\schaubia\\Anaconda3\\lib\\site-packages\\sklearn\\metrics\\classification.py:1437: UndefinedMetricWarning: F-score is ill-defined and being set to 0.0 due to no predicted samples.\n",
      "  'precision', 'predicted', average, warn_for)\n",
      "C:\\Users\\schaubia\\Anaconda3\\lib\\site-packages\\sklearn\\metrics\\classification.py:1437: UndefinedMetricWarning: F-score is ill-defined and being set to 0.0 due to no predicted samples.\n",
      "  'precision', 'predicted', average, warn_for)\n",
      "C:\\Users\\schaubia\\Anaconda3\\lib\\site-packages\\sklearn\\metrics\\classification.py:1437: UndefinedMetricWarning: F-score is ill-defined and being set to 0.0 due to no predicted samples.\n",
      "  'precision', 'predicted', average, warn_for)\n",
      "C:\\Users\\schaubia\\Anaconda3\\lib\\site-packages\\sklearn\\metrics\\classification.py:1437: UndefinedMetricWarning: F-score is ill-defined and being set to 0.0 due to no predicted samples.\n",
      "  'precision', 'predicted', average, warn_for)\n"
     ]
    },
    {
     "name": "stdout",
     "output_type": "stream",
     "text": [
      "Decision Tree best score is 0.3783410484582038\n",
      "For Decision Tree the f1 score for the test data is 0.3913043478260869\n"
     ]
    }
   ],
   "source": [
    "#train and score with transformed data\n",
    "tree_best_poly_pca = train_score_model(tree_model, parameters_tree, 'Decision Tree', bp_features_train_poly_pca, bp_features_test_poly_pca, bp_target_train_poly_pca, bp_target_test_poly_pca)"
   ]
  },
  {
   "cell_type": "markdown",
   "metadata": {},
   "source": [
    "###### Random forest\n",
    "Here as the dataset is smaller, I can add minimum samples per leaf in the parameter grid which will not make the alogorithms run very slowly."
   ]
  },
  {
   "cell_type": "code",
   "execution_count": 62,
   "metadata": {},
   "outputs": [],
   "source": [
    "forest_model = RandomForestClassifier()"
   ]
  },
  {
   "cell_type": "code",
   "execution_count": 63,
   "metadata": {},
   "outputs": [],
   "source": [
    "parameters_forest = {\n",
    "    \"n_estimators\": [100, 200, 500],\n",
    "    \"min_samples_leaf\": [1, 2, 3]\n",
    "}"
   ]
  },
  {
   "cell_type": "code",
   "execution_count": 64,
   "metadata": {},
   "outputs": [
    {
     "name": "stdout",
     "output_type": "stream",
     "text": [
      "Random Forest best score is 0.2893684005371467\n",
      "For Random Forest the f1 score for the test data is 0.30004870920603993\n"
     ]
    }
   ],
   "source": [
    "#train and score with raw data\n",
    "forest_best = train_score_model (forest_model, parameters_forest, 'Random Forest', bp_features_train, bp_features_test, bp_target_train, bp_target_test)"
   ]
  },
  {
   "cell_type": "code",
   "execution_count": 65,
   "metadata": {},
   "outputs": [
    {
     "name": "stdout",
     "output_type": "stream",
     "text": [
      "Random Forest best score is 0.28759607364027134\n",
      "For Random Forest the f1 score for the test data is 0.3080684596577017\n"
     ]
    }
   ],
   "source": [
    "#train and score with transformed data\n",
    "forest_best_poly_pca = train_score_model(forest_model, parameters_forest, 'Random Forest', bp_features_train_poly_pca, bp_features_test_poly_pca, bp_target_train_poly_pca, bp_target_test_poly_pca)"
   ]
  },
  {
   "cell_type": "markdown",
   "metadata": {},
   "source": [
    "###### AdaBoost"
   ]
  },
  {
   "cell_type": "code",
   "execution_count": 66,
   "metadata": {},
   "outputs": [],
   "source": [
    "boost_model = AdaBoostClassifier()"
   ]
  },
  {
   "cell_type": "code",
   "execution_count": 67,
   "metadata": {},
   "outputs": [],
   "source": [
    "parameters_boost = {\n",
    "    \"n_estimators\": [25, 50, 100, 200],\n",
    "    \"learning_rate\": [0.01, 0.1, 1, 2],\n",
    "}"
   ]
  },
  {
   "cell_type": "code",
   "execution_count": 68,
   "metadata": {},
   "outputs": [
    {
     "name": "stderr",
     "output_type": "stream",
     "text": [
      "C:\\Users\\schaubia\\Anaconda3\\lib\\site-packages\\sklearn\\metrics\\classification.py:1437: UndefinedMetricWarning: F-score is ill-defined and being set to 0.0 due to no predicted samples.\n",
      "  'precision', 'predicted', average, warn_for)\n",
      "C:\\Users\\schaubia\\Anaconda3\\lib\\site-packages\\sklearn\\metrics\\classification.py:1437: UndefinedMetricWarning: F-score is ill-defined and being set to 0.0 due to no predicted samples.\n",
      "  'precision', 'predicted', average, warn_for)\n",
      "C:\\Users\\schaubia\\Anaconda3\\lib\\site-packages\\sklearn\\metrics\\classification.py:1437: UndefinedMetricWarning: F-score is ill-defined and being set to 0.0 due to no predicted samples.\n",
      "  'precision', 'predicted', average, warn_for)\n",
      "C:\\Users\\schaubia\\Anaconda3\\lib\\site-packages\\sklearn\\metrics\\classification.py:1437: UndefinedMetricWarning: F-score is ill-defined and being set to 0.0 due to no predicted samples.\n",
      "  'precision', 'predicted', average, warn_for)\n",
      "C:\\Users\\schaubia\\Anaconda3\\lib\\site-packages\\sklearn\\metrics\\classification.py:1437: UndefinedMetricWarning: F-score is ill-defined and being set to 0.0 due to no predicted samples.\n",
      "  'precision', 'predicted', average, warn_for)\n",
      "C:\\Users\\schaubia\\Anaconda3\\lib\\site-packages\\sklearn\\metrics\\classification.py:1437: UndefinedMetricWarning: F-score is ill-defined and being set to 0.0 due to no predicted samples.\n",
      "  'precision', 'predicted', average, warn_for)\n",
      "C:\\Users\\schaubia\\Anaconda3\\lib\\site-packages\\sklearn\\metrics\\classification.py:1437: UndefinedMetricWarning: F-score is ill-defined and being set to 0.0 due to no predicted samples.\n",
      "  'precision', 'predicted', average, warn_for)\n",
      "C:\\Users\\schaubia\\Anaconda3\\lib\\site-packages\\sklearn\\metrics\\classification.py:1437: UndefinedMetricWarning: F-score is ill-defined and being set to 0.0 due to no predicted samples.\n",
      "  'precision', 'predicted', average, warn_for)\n",
      "C:\\Users\\schaubia\\Anaconda3\\lib\\site-packages\\sklearn\\metrics\\classification.py:1437: UndefinedMetricWarning: F-score is ill-defined and being set to 0.0 due to no predicted samples.\n",
      "  'precision', 'predicted', average, warn_for)\n",
      "C:\\Users\\schaubia\\Anaconda3\\lib\\site-packages\\sklearn\\metrics\\classification.py:1437: UndefinedMetricWarning: F-score is ill-defined and being set to 0.0 due to no predicted samples.\n",
      "  'precision', 'predicted', average, warn_for)\n",
      "C:\\Users\\schaubia\\Anaconda3\\lib\\site-packages\\sklearn\\metrics\\classification.py:1437: UndefinedMetricWarning: F-score is ill-defined and being set to 0.0 due to no predicted samples.\n",
      "  'precision', 'predicted', average, warn_for)\n",
      "C:\\Users\\schaubia\\Anaconda3\\lib\\site-packages\\sklearn\\metrics\\classification.py:1437: UndefinedMetricWarning: F-score is ill-defined and being set to 0.0 due to no predicted samples.\n",
      "  'precision', 'predicted', average, warn_for)\n",
      "C:\\Users\\schaubia\\Anaconda3\\lib\\site-packages\\sklearn\\metrics\\classification.py:1437: UndefinedMetricWarning: F-score is ill-defined and being set to 0.0 due to no predicted samples.\n",
      "  'precision', 'predicted', average, warn_for)\n",
      "C:\\Users\\schaubia\\Anaconda3\\lib\\site-packages\\sklearn\\metrics\\classification.py:1437: UndefinedMetricWarning: F-score is ill-defined and being set to 0.0 due to no predicted samples.\n",
      "  'precision', 'predicted', average, warn_for)\n",
      "C:\\Users\\schaubia\\Anaconda3\\lib\\site-packages\\sklearn\\metrics\\classification.py:1437: UndefinedMetricWarning: F-score is ill-defined and being set to 0.0 due to no predicted samples.\n",
      "  'precision', 'predicted', average, warn_for)\n",
      "C:\\Users\\schaubia\\Anaconda3\\lib\\site-packages\\sklearn\\metrics\\classification.py:1437: UndefinedMetricWarning: F-score is ill-defined and being set to 0.0 due to no predicted samples.\n",
      "  'precision', 'predicted', average, warn_for)\n",
      "C:\\Users\\schaubia\\Anaconda3\\lib\\site-packages\\sklearn\\metrics\\classification.py:1437: UndefinedMetricWarning: F-score is ill-defined and being set to 0.0 due to no predicted samples.\n",
      "  'precision', 'predicted', average, warn_for)\n",
      "C:\\Users\\schaubia\\Anaconda3\\lib\\site-packages\\sklearn\\metrics\\classification.py:1437: UndefinedMetricWarning: F-score is ill-defined and being set to 0.0 due to no predicted samples.\n",
      "  'precision', 'predicted', average, warn_for)\n",
      "C:\\Users\\schaubia\\Anaconda3\\lib\\site-packages\\sklearn\\metrics\\classification.py:1437: UndefinedMetricWarning: F-score is ill-defined and being set to 0.0 due to no predicted samples.\n",
      "  'precision', 'predicted', average, warn_for)\n",
      "C:\\Users\\schaubia\\Anaconda3\\lib\\site-packages\\sklearn\\metrics\\classification.py:1437: UndefinedMetricWarning: F-score is ill-defined and being set to 0.0 due to no predicted samples.\n",
      "  'precision', 'predicted', average, warn_for)\n",
      "C:\\Users\\schaubia\\Anaconda3\\lib\\site-packages\\sklearn\\metrics\\classification.py:1437: UndefinedMetricWarning: F-score is ill-defined and being set to 0.0 due to no predicted samples.\n",
      "  'precision', 'predicted', average, warn_for)\n",
      "C:\\Users\\schaubia\\Anaconda3\\lib\\site-packages\\sklearn\\metrics\\classification.py:1437: UndefinedMetricWarning: F-score is ill-defined and being set to 0.0 due to no predicted samples.\n",
      "  'precision', 'predicted', average, warn_for)\n",
      "C:\\Users\\schaubia\\Anaconda3\\lib\\site-packages\\sklearn\\metrics\\classification.py:1437: UndefinedMetricWarning: F-score is ill-defined and being set to 0.0 due to no predicted samples.\n",
      "  'precision', 'predicted', average, warn_for)\n",
      "C:\\Users\\schaubia\\Anaconda3\\lib\\site-packages\\sklearn\\metrics\\classification.py:1437: UndefinedMetricWarning: F-score is ill-defined and being set to 0.0 due to no predicted samples.\n",
      "  'precision', 'predicted', average, warn_for)\n",
      "C:\\Users\\schaubia\\Anaconda3\\lib\\site-packages\\sklearn\\metrics\\classification.py:1437: UndefinedMetricWarning: F-score is ill-defined and being set to 0.0 due to no predicted samples.\n",
      "  'precision', 'predicted', average, warn_for)\n",
      "C:\\Users\\schaubia\\Anaconda3\\lib\\site-packages\\sklearn\\metrics\\classification.py:1437: UndefinedMetricWarning: F-score is ill-defined and being set to 0.0 due to no predicted samples.\n",
      "  'precision', 'predicted', average, warn_for)\n",
      "C:\\Users\\schaubia\\Anaconda3\\lib\\site-packages\\sklearn\\metrics\\classification.py:1437: UndefinedMetricWarning: F-score is ill-defined and being set to 0.0 due to no predicted samples.\n",
      "  'precision', 'predicted', average, warn_for)\n",
      "C:\\Users\\schaubia\\Anaconda3\\lib\\site-packages\\sklearn\\metrics\\classification.py:1437: UndefinedMetricWarning: F-score is ill-defined and being set to 0.0 due to no predicted samples.\n",
      "  'precision', 'predicted', average, warn_for)\n",
      "C:\\Users\\schaubia\\Anaconda3\\lib\\site-packages\\sklearn\\metrics\\classification.py:1437: UndefinedMetricWarning: F-score is ill-defined and being set to 0.0 due to no predicted samples.\n",
      "  'precision', 'predicted', average, warn_for)\n",
      "C:\\Users\\schaubia\\Anaconda3\\lib\\site-packages\\sklearn\\metrics\\classification.py:1437: UndefinedMetricWarning: F-score is ill-defined and being set to 0.0 due to no predicted samples.\n",
      "  'precision', 'predicted', average, warn_for)\n",
      "C:\\Users\\schaubia\\Anaconda3\\lib\\site-packages\\sklearn\\metrics\\classification.py:1437: UndefinedMetricWarning: F-score is ill-defined and being set to 0.0 due to no predicted samples.\n",
      "  'precision', 'predicted', average, warn_for)\n",
      "C:\\Users\\schaubia\\Anaconda3\\lib\\site-packages\\sklearn\\metrics\\classification.py:1437: UndefinedMetricWarning: F-score is ill-defined and being set to 0.0 due to no predicted samples.\n",
      "  'precision', 'predicted', average, warn_for)\n",
      "C:\\Users\\schaubia\\Anaconda3\\lib\\site-packages\\sklearn\\metrics\\classification.py:1437: UndefinedMetricWarning: F-score is ill-defined and being set to 0.0 due to no predicted samples.\n",
      "  'precision', 'predicted', average, warn_for)\n",
      "C:\\Users\\schaubia\\Anaconda3\\lib\\site-packages\\sklearn\\metrics\\classification.py:1437: UndefinedMetricWarning: F-score is ill-defined and being set to 0.0 due to no predicted samples.\n",
      "  'precision', 'predicted', average, warn_for)\n",
      "C:\\Users\\schaubia\\Anaconda3\\lib\\site-packages\\sklearn\\metrics\\classification.py:1437: UndefinedMetricWarning: F-score is ill-defined and being set to 0.0 due to no predicted samples.\n",
      "  'precision', 'predicted', average, warn_for)\n",
      "C:\\Users\\schaubia\\Anaconda3\\lib\\site-packages\\sklearn\\metrics\\classification.py:1437: UndefinedMetricWarning: F-score is ill-defined and being set to 0.0 due to no predicted samples.\n",
      "  'precision', 'predicted', average, warn_for)\n"
     ]
    },
    {
     "name": "stdout",
     "output_type": "stream",
     "text": [
      "AdaBoost best score is 0.30918835890226987\n",
      "For AdaBoost the f1 score for the test data is 0.5134610047182904\n"
     ]
    }
   ],
   "source": [
    "#train and score with raw data\n",
    "boost_best = train_score_model (boost_model, parameters_boost, 'AdaBoost', bp_features_train, bp_features_test, bp_target_train, bp_target_test)"
   ]
  },
  {
   "cell_type": "code",
   "execution_count": 69,
   "metadata": {},
   "outputs": [
    {
     "name": "stderr",
     "output_type": "stream",
     "text": [
      "C:\\Users\\schaubia\\Anaconda3\\lib\\site-packages\\sklearn\\metrics\\classification.py:1437: UndefinedMetricWarning: F-score is ill-defined and being set to 0.0 due to no predicted samples.\n",
      "  'precision', 'predicted', average, warn_for)\n",
      "C:\\Users\\schaubia\\Anaconda3\\lib\\site-packages\\sklearn\\metrics\\classification.py:1437: UndefinedMetricWarning: F-score is ill-defined and being set to 0.0 due to no predicted samples.\n",
      "  'precision', 'predicted', average, warn_for)\n",
      "C:\\Users\\schaubia\\Anaconda3\\lib\\site-packages\\sklearn\\metrics\\classification.py:1437: UndefinedMetricWarning: F-score is ill-defined and being set to 0.0 due to no predicted samples.\n",
      "  'precision', 'predicted', average, warn_for)\n",
      "C:\\Users\\schaubia\\Anaconda3\\lib\\site-packages\\sklearn\\metrics\\classification.py:1437: UndefinedMetricWarning: F-score is ill-defined and being set to 0.0 due to no predicted samples.\n",
      "  'precision', 'predicted', average, warn_for)\n",
      "C:\\Users\\schaubia\\Anaconda3\\lib\\site-packages\\sklearn\\metrics\\classification.py:1437: UndefinedMetricWarning: F-score is ill-defined and being set to 0.0 due to no predicted samples.\n",
      "  'precision', 'predicted', average, warn_for)\n",
      "C:\\Users\\schaubia\\Anaconda3\\lib\\site-packages\\sklearn\\metrics\\classification.py:1437: UndefinedMetricWarning: F-score is ill-defined and being set to 0.0 due to no predicted samples.\n",
      "  'precision', 'predicted', average, warn_for)\n",
      "C:\\Users\\schaubia\\Anaconda3\\lib\\site-packages\\sklearn\\metrics\\classification.py:1437: UndefinedMetricWarning: F-score is ill-defined and being set to 0.0 due to no predicted samples.\n",
      "  'precision', 'predicted', average, warn_for)\n",
      "C:\\Users\\schaubia\\Anaconda3\\lib\\site-packages\\sklearn\\metrics\\classification.py:1437: UndefinedMetricWarning: F-score is ill-defined and being set to 0.0 due to no predicted samples.\n",
      "  'precision', 'predicted', average, warn_for)\n",
      "C:\\Users\\schaubia\\Anaconda3\\lib\\site-packages\\sklearn\\metrics\\classification.py:1437: UndefinedMetricWarning: F-score is ill-defined and being set to 0.0 due to no predicted samples.\n",
      "  'precision', 'predicted', average, warn_for)\n",
      "C:\\Users\\schaubia\\Anaconda3\\lib\\site-packages\\sklearn\\metrics\\classification.py:1437: UndefinedMetricWarning: F-score is ill-defined and being set to 0.0 due to no predicted samples.\n",
      "  'precision', 'predicted', average, warn_for)\n",
      "C:\\Users\\schaubia\\Anaconda3\\lib\\site-packages\\sklearn\\metrics\\classification.py:1437: UndefinedMetricWarning: F-score is ill-defined and being set to 0.0 due to no predicted samples.\n",
      "  'precision', 'predicted', average, warn_for)\n",
      "C:\\Users\\schaubia\\Anaconda3\\lib\\site-packages\\sklearn\\metrics\\classification.py:1437: UndefinedMetricWarning: F-score is ill-defined and being set to 0.0 due to no predicted samples.\n",
      "  'precision', 'predicted', average, warn_for)\n",
      "C:\\Users\\schaubia\\Anaconda3\\lib\\site-packages\\sklearn\\metrics\\classification.py:1437: UndefinedMetricWarning: F-score is ill-defined and being set to 0.0 due to no predicted samples.\n",
      "  'precision', 'predicted', average, warn_for)\n",
      "C:\\Users\\schaubia\\Anaconda3\\lib\\site-packages\\sklearn\\metrics\\classification.py:1437: UndefinedMetricWarning: F-score is ill-defined and being set to 0.0 due to no predicted samples.\n",
      "  'precision', 'predicted', average, warn_for)\n",
      "C:\\Users\\schaubia\\Anaconda3\\lib\\site-packages\\sklearn\\metrics\\classification.py:1437: UndefinedMetricWarning: F-score is ill-defined and being set to 0.0 due to no predicted samples.\n",
      "  'precision', 'predicted', average, warn_for)\n",
      "C:\\Users\\schaubia\\Anaconda3\\lib\\site-packages\\sklearn\\metrics\\classification.py:1437: UndefinedMetricWarning: F-score is ill-defined and being set to 0.0 due to no predicted samples.\n",
      "  'precision', 'predicted', average, warn_for)\n",
      "C:\\Users\\schaubia\\Anaconda3\\lib\\site-packages\\sklearn\\metrics\\classification.py:1437: UndefinedMetricWarning: F-score is ill-defined and being set to 0.0 due to no predicted samples.\n",
      "  'precision', 'predicted', average, warn_for)\n",
      "C:\\Users\\schaubia\\Anaconda3\\lib\\site-packages\\sklearn\\metrics\\classification.py:1437: UndefinedMetricWarning: F-score is ill-defined and being set to 0.0 due to no predicted samples.\n",
      "  'precision', 'predicted', average, warn_for)\n",
      "C:\\Users\\schaubia\\Anaconda3\\lib\\site-packages\\sklearn\\metrics\\classification.py:1437: UndefinedMetricWarning: F-score is ill-defined and being set to 0.0 due to no predicted samples.\n",
      "  'precision', 'predicted', average, warn_for)\n",
      "C:\\Users\\schaubia\\Anaconda3\\lib\\site-packages\\sklearn\\metrics\\classification.py:1437: UndefinedMetricWarning: F-score is ill-defined and being set to 0.0 due to no predicted samples.\n",
      "  'precision', 'predicted', average, warn_for)\n",
      "C:\\Users\\schaubia\\Anaconda3\\lib\\site-packages\\sklearn\\metrics\\classification.py:1437: UndefinedMetricWarning: F-score is ill-defined and being set to 0.0 due to no predicted samples.\n",
      "  'precision', 'predicted', average, warn_for)\n",
      "C:\\Users\\schaubia\\Anaconda3\\lib\\site-packages\\sklearn\\metrics\\classification.py:1437: UndefinedMetricWarning: F-score is ill-defined and being set to 0.0 due to no predicted samples.\n",
      "  'precision', 'predicted', average, warn_for)\n",
      "C:\\Users\\schaubia\\Anaconda3\\lib\\site-packages\\sklearn\\metrics\\classification.py:1437: UndefinedMetricWarning: F-score is ill-defined and being set to 0.0 due to no predicted samples.\n",
      "  'precision', 'predicted', average, warn_for)\n",
      "C:\\Users\\schaubia\\Anaconda3\\lib\\site-packages\\sklearn\\metrics\\classification.py:1437: UndefinedMetricWarning: F-score is ill-defined and being set to 0.0 due to no predicted samples.\n",
      "  'precision', 'predicted', average, warn_for)\n",
      "C:\\Users\\schaubia\\Anaconda3\\lib\\site-packages\\sklearn\\metrics\\classification.py:1437: UndefinedMetricWarning: F-score is ill-defined and being set to 0.0 due to no predicted samples.\n",
      "  'precision', 'predicted', average, warn_for)\n",
      "C:\\Users\\schaubia\\Anaconda3\\lib\\site-packages\\sklearn\\metrics\\classification.py:1437: UndefinedMetricWarning: F-score is ill-defined and being set to 0.0 due to no predicted samples.\n",
      "  'precision', 'predicted', average, warn_for)\n",
      "C:\\Users\\schaubia\\Anaconda3\\lib\\site-packages\\sklearn\\metrics\\classification.py:1437: UndefinedMetricWarning: F-score is ill-defined and being set to 0.0 due to no predicted samples.\n",
      "  'precision', 'predicted', average, warn_for)\n",
      "C:\\Users\\schaubia\\Anaconda3\\lib\\site-packages\\sklearn\\metrics\\classification.py:1437: UndefinedMetricWarning: F-score is ill-defined and being set to 0.0 due to no predicted samples.\n",
      "  'precision', 'predicted', average, warn_for)\n",
      "C:\\Users\\schaubia\\Anaconda3\\lib\\site-packages\\sklearn\\metrics\\classification.py:1437: UndefinedMetricWarning: F-score is ill-defined and being set to 0.0 due to no predicted samples.\n",
      "  'precision', 'predicted', average, warn_for)\n"
     ]
    },
    {
     "name": "stdout",
     "output_type": "stream",
     "text": [
      "AdaBoost best score is 0.255047758896655\n",
      "For AdaBoost the f1 score for the test data is 0.2476290832455216\n"
     ]
    }
   ],
   "source": [
    "#train and score with transformed data\n",
    "boost_best_poly_pca = train_score_model (boost_model, parameters_boost, 'AdaBoost', bp_features_train_poly_pca, bp_features_test_poly_pca, bp_target_train_poly_pca, bp_target_test_poly_pca)"
   ]
  },
  {
   "cell_type": "markdown",
   "metadata": {},
   "source": [
    "###### Support vector machines\n",
    "Here I can set both gamma and C hyperparameters which will control the margin hardness. In addition I can use the default radial basis function (RBF) kernel which makes a pojection into an infinite dimensional space."
   ]
  },
  {
   "cell_type": "code",
   "execution_count": 70,
   "metadata": {},
   "outputs": [],
   "source": [
    "svm_model = SVC()"
   ]
  },
  {
   "cell_type": "code",
   "execution_count": 71,
   "metadata": {},
   "outputs": [],
   "source": [
    "parameters_svm = {\n",
    "    \"gamma\": [0.01, 0.1, 1],\n",
    "    \"C\": [1, 10, 100]\n",
    "}"
   ]
  },
  {
   "cell_type": "code",
   "execution_count": 72,
   "metadata": {
    "scrolled": false
   },
   "outputs": [
    {
     "name": "stdout",
     "output_type": "stream",
     "text": [
      "SVM best score is 0.3566867477177397\n",
      "For SVM the f1 score for the test data is 0.351947097722263\n"
     ]
    }
   ],
   "source": [
    "#train and score with raw data\n",
    "svm_best = train_score_model (svm_model, parameters_svm, 'SVM', bp_features_train, bp_features_test, bp_target_train, bp_target_test)"
   ]
  },
  {
   "cell_type": "code",
   "execution_count": 73,
   "metadata": {},
   "outputs": [
    {
     "name": "stdout",
     "output_type": "stream",
     "text": [
      "SVM best score is 0.2529216724325462\n",
      "For SVM the f1 score for the test data is 0.26848249027237353\n"
     ]
    }
   ],
   "source": [
    "#train and score with transformed data\n",
    "svm_best_poly_pca = train_score_model (svm_model, parameters_svm, 'SVM', bp_features_train_poly_pca, bp_features_test_poly_pca, bp_target_train_poly_pca, bp_target_test_poly_pca)"
   ]
  },
  {
   "cell_type": "markdown",
   "metadata": {},
   "source": [
    "###### K-nearest neighbors classifier"
   ]
  },
  {
   "cell_type": "code",
   "execution_count": 74,
   "metadata": {},
   "outputs": [],
   "source": [
    "knn_model = KNeighborsClassifier()"
   ]
  },
  {
   "cell_type": "code",
   "execution_count": 75,
   "metadata": {},
   "outputs": [],
   "source": [
    "parameters_knn = {\n",
    "    \"n_neighbors\": [3, 5, 7, 9]\n",
    "}"
   ]
  },
  {
   "cell_type": "code",
   "execution_count": 76,
   "metadata": {},
   "outputs": [
    {
     "name": "stdout",
     "output_type": "stream",
     "text": [
      "kNN best score is 0.3591090139252654\n",
      "For kNN the f1 score for the test data is 0.3846761453396525\n"
     ]
    }
   ],
   "source": [
    "#train and score with raw data\n",
    "knn_best = train_score_model (knn_model, parameters_knn, 'kNN', bp_features_train, bp_features_test, bp_target_train, bp_target_test)"
   ]
  },
  {
   "cell_type": "code",
   "execution_count": 77,
   "metadata": {},
   "outputs": [
    {
     "name": "stdout",
     "output_type": "stream",
     "text": [
      "kNN best score is 0.3632949134815714\n",
      "For kNN the f1 score for the test data is 0.3627797408716137\n"
     ]
    }
   ],
   "source": [
    "#train and score with transformed data\n",
    "knn_best_poly_pca = train_score_model (knn_model, parameters_knn, 'kNN', bp_features_train_poly_pca, bp_features_test_poly_pca, bp_target_train_poly_pca, bp_target_test_poly_pca)"
   ]
  },
  {
   "cell_type": "markdown",
   "metadata": {},
   "source": [
    "###### Results\n",
    "\n",
    "All methods give very low results on both raw and transformed data which most probably means that it is not easily separated. The results are also not reproducible as the scores vary much between different kernel runs. The highest results on some runs come from the AdaBoost classifier (around 58%) but this applies only to the non-transformed data. The results are not sufficient to conclude that there is noise which can be removed with dimensionality reduction."
   ]
  },
  {
   "cell_type": "markdown",
   "metadata": {},
   "source": [
    "###### Feature importances\n",
    "I am going to check the feature importances as predicted by the Decision Tree classifier which has consistently the highest scores (AdaBoost sometimes perform better but the results are highly inconsistent)."
   ]
  },
  {
   "cell_type": "code",
   "execution_count": 78,
   "metadata": {},
   "outputs": [
    {
     "data": {
      "text/plain": [
       "DecisionTreeClassifier(class_weight=None, criterion='gini', max_depth=30,\n",
       "                       max_features=None, max_leaf_nodes=None,\n",
       "                       min_impurity_decrease=0.0, min_impurity_split=None,\n",
       "                       min_samples_leaf=5, min_samples_split=2,\n",
       "                       min_weight_fraction_leaf=0.0, presort=False,\n",
       "                       random_state=None, splitter='best')"
      ]
     },
     "execution_count": 78,
     "metadata": {},
     "output_type": "execute_result"
    }
   ],
   "source": [
    "tree_best.fit(bp_data_features, bp_data_target)"
   ]
  },
  {
   "cell_type": "code",
   "execution_count": 79,
   "metadata": {},
   "outputs": [
    {
     "data": {
      "text/html": [
       "<div>\n",
       "<style scoped>\n",
       "    .dataframe tbody tr th:only-of-type {\n",
       "        vertical-align: middle;\n",
       "    }\n",
       "\n",
       "    .dataframe tbody tr th {\n",
       "        vertical-align: top;\n",
       "    }\n",
       "\n",
       "    .dataframe thead th {\n",
       "        text-align: right;\n",
       "    }\n",
       "</style>\n",
       "<table border=\"1\" class=\"dataframe\">\n",
       "  <thead>\n",
       "    <tr style=\"text-align: right;\">\n",
       "      <th></th>\n",
       "      <th>features</th>\n",
       "      <th>importances</th>\n",
       "    </tr>\n",
       "  </thead>\n",
       "  <tbody>\n",
       "    <tr>\n",
       "      <td>0</td>\n",
       "      <td>AGE</td>\n",
       "      <td>0.123010</td>\n",
       "    </tr>\n",
       "    <tr>\n",
       "      <td>1</td>\n",
       "      <td>GENDER</td>\n",
       "      <td>0.023487</td>\n",
       "    </tr>\n",
       "    <tr>\n",
       "      <td>2</td>\n",
       "      <td>WAIST</td>\n",
       "      <td>0.161009</td>\n",
       "    </tr>\n",
       "    <tr>\n",
       "      <td>3</td>\n",
       "      <td>TOT_CHOLE</td>\n",
       "      <td>0.154026</td>\n",
       "    </tr>\n",
       "    <tr>\n",
       "      <td>4</td>\n",
       "      <td>AST</td>\n",
       "      <td>0.098395</td>\n",
       "    </tr>\n",
       "    <tr>\n",
       "      <td>5</td>\n",
       "      <td>ALT</td>\n",
       "      <td>0.121092</td>\n",
       "    </tr>\n",
       "    <tr>\n",
       "      <td>6</td>\n",
       "      <td>GTP</td>\n",
       "      <td>0.140903</td>\n",
       "    </tr>\n",
       "    <tr>\n",
       "      <td>7</td>\n",
       "      <td>HMG</td>\n",
       "      <td>0.144590</td>\n",
       "    </tr>\n",
       "    <tr>\n",
       "      <td>8</td>\n",
       "      <td>EXER_M_2-3 a week</td>\n",
       "      <td>0.008837</td>\n",
       "    </tr>\n",
       "    <tr>\n",
       "      <td>9</td>\n",
       "      <td>EXER_M_4-5 a week</td>\n",
       "      <td>0.001713</td>\n",
       "    </tr>\n",
       "    <tr>\n",
       "      <td>10</td>\n",
       "      <td>EXER_M_&gt;5 a week</td>\n",
       "      <td>0.003131</td>\n",
       "    </tr>\n",
       "    <tr>\n",
       "      <td>11</td>\n",
       "      <td>EXER_M_Once a week</td>\n",
       "      <td>0.019806</td>\n",
       "    </tr>\n",
       "  </tbody>\n",
       "</table>\n",
       "</div>"
      ],
      "text/plain": [
       "              features  importances\n",
       "0                  AGE     0.123010\n",
       "1               GENDER     0.023487\n",
       "2                WAIST     0.161009\n",
       "3            TOT_CHOLE     0.154026\n",
       "4                  AST     0.098395\n",
       "5                  ALT     0.121092\n",
       "6                  GTP     0.140903\n",
       "7                  HMG     0.144590\n",
       "8    EXER_M_2-3 a week     0.008837\n",
       "9    EXER_M_4-5 a week     0.001713\n",
       "10    EXER_M_>5 a week     0.003131\n",
       "11  EXER_M_Once a week     0.019806"
      ]
     },
     "execution_count": 79,
     "metadata": {},
     "output_type": "execute_result"
    }
   ],
   "source": [
    "importances = tree_best.feature_importances_\n",
    "features = list(bp_data_features.columns)\n",
    "zipped = list(zip(features, importances))\n",
    "\n",
    "pd.DataFrame(zipped, columns=['features','importances'])"
   ]
  },
  {
   "cell_type": "markdown",
   "metadata": {},
   "source": [
    "According to the Decision Tree classifier, the most important features are waist and total cholesterol. Other laboratory readings such as GTP and HMG are also somehow important."
   ]
  },
  {
   "cell_type": "markdown",
   "metadata": {},
   "source": [
    "###### Confusion Matrix"
   ]
  },
  {
   "cell_type": "code",
   "execution_count": 80,
   "metadata": {},
   "outputs": [
    {
     "data": {
      "text/plain": [
       "DecisionTreeClassifier(class_weight=None, criterion='gini', max_depth=30,\n",
       "                       max_features=None, max_leaf_nodes=None,\n",
       "                       min_impurity_decrease=0.0, min_impurity_split=None,\n",
       "                       min_samples_leaf=5, min_samples_split=2,\n",
       "                       min_weight_fraction_leaf=0.0, presort=False,\n",
       "                       random_state=None, splitter='best')"
      ]
     },
     "execution_count": 80,
     "metadata": {},
     "output_type": "execute_result"
    }
   ],
   "source": [
    "tree_best.fit(bp_features_train, bp_target_train)"
   ]
  },
  {
   "cell_type": "code",
   "execution_count": 81,
   "metadata": {},
   "outputs": [],
   "source": [
    "predicted = tree_best.predict(bp_features_test)"
   ]
  },
  {
   "cell_type": "code",
   "execution_count": 82,
   "metadata": {},
   "outputs": [],
   "source": [
    "#creating confusion matrix with labels set so that the classes correspond\n",
    "confusion_matrix = confusion_matrix(bp_target_test, predicted, labels=[0, 1])"
   ]
  },
  {
   "cell_type": "code",
   "execution_count": 83,
   "metadata": {},
   "outputs": [
    {
     "data": {
      "image/png": "[encoded data removed]",
      "text/plain": [
       "<Figure size 432x432 with 2 Axes>"
      ]
     },
     "metadata": {
      "needs_background": "light"
     },
     "output_type": "display_data"
    }
   ],
   "source": [
    "f, ax = plt.subplots(figsize=(6,6))\n",
    "sns.heatmap(confusion_matrix, fmt=\".0f\", annot=True, linewidths=0.5, ax=ax)\n",
    "\n",
    "plt.xlabel(\"Predicted classes\")\n",
    "plt.ylabel(\"Actual classes\")\n",
    "\n",
    "bottom, top = ax.get_ylim()\n",
    "ax.set_ylim(bottom + 0.5, top - 0.5)\n",
    "plt.show()"
   ]
  },
  {
   "cell_type": "markdown",
   "metadata": {},
   "source": [
    "###### Scores"
   ]
  },
  {
   "cell_type": "markdown",
   "metadata": {},
   "source": [
    "Here I am going to use the classification report to derive the scores of the model."
   ]
  },
  {
   "cell_type": "code",
   "execution_count": 80,
   "metadata": {},
   "outputs": [
    {
     "name": "stdout",
     "output_type": "stream",
     "text": [
      "              precision    recall  f1-score   support\n",
      "\n",
      "           0       0.69      0.71      0.70      2867\n",
      "           1       0.39      0.37      0.38      1423\n",
      "\n",
      "    accuracy                           0.60      4290\n",
      "   macro avg       0.54      0.54      0.54      4290\n",
      "weighted avg       0.59      0.60      0.59      4290\n",
      "\n"
     ]
    }
   ],
   "source": [
    "print(classification_report(bp_target_test, predicted, labels = [0, 1]))"
   ]
  },
  {
   "cell_type": "markdown",
   "metadata": {},
   "source": [
    "##### Result interpretation\n",
    "\n",
    "The Decision Tree classifier achieves best of the relevant scores (recall, precision and f1-score) for the first class which is the class of normal blood pressure. The results for prehypertension and especially for the hypertension classes are significantly lower. It seems that it is difficult for the method to distinguish between the medical data for pre- and hypertensive patients. It may also be deduced from the numbers in the confusion matrix that the model was misled from features implying borderline values of high blood pressure. "
   ]
  },
  {
   "cell_type": "markdown",
   "metadata": {},
   "source": [
    "### ROC Curve\n",
    "\n",
    "Receiver Operating Characteristics (ROC) curve is a probability evaluation metric that reflects the performance of binary  classification problems."
   ]
  },
  {
   "cell_type": "code",
   "execution_count": 88,
   "metadata": {},
   "outputs": [
    {
     "data": {
      "image/png": "[encoded data removed]",
      "text/plain": [
       "<Figure size 432x288 with 1 Axes>"
      ]
     },
     "metadata": {
      "needs_background": "light"
     },
     "output_type": "display_data"
    }
   ],
   "source": [
    "#obtain probabilities instead of target class\n",
    "predicted_class = tree_best.fit(bp_features_train, bp_target_train).predict_proba(bp_features_test)[:, 1]\n",
    "# Compute false positive rate, true positive rate, thresholds and roc area uunder the curve\n",
    "fpr, tpr, thresholds = roc_curve(bp_target_test, predicted_class)\n",
    "roc_auc = auc(fpr, tpr)\n",
    "\n",
    "# Plot ROC curve\n",
    "plt.plot(fpr, tpr, label='ROC curve (area = %0.3f)' % roc_auc)\n",
    "plt.plot([0, 1], [0, 1], 'k--')  # random predictions curve\n",
    "plt.xlim([0.0, 1.0])\n",
    "plt.ylim([0.0, 1.0])\n",
    "plt.xlabel('False Positive Rate or (1 - Specifity)')\n",
    "plt.ylabel('F1 Score')\n",
    "plt.title('Receiver Operating Characteristic')\n",
    "plt.legend(loc=\"lower right\")\n",
    "plt.show()"
   ]
  },
  {
   "cell_type": "markdown",
   "metadata": {},
   "source": [
    "###### Result interpretation\n",
    "The ROC curve shows very low result, close to a random classifier."
   ]
  },
  {
   "cell_type": "markdown",
   "metadata": {},
   "source": [
    "### Resources:\n",
    "1. https://journals.plos.org/plosone/article?id=10.1371/journal.pone.0240370\n",
    "2. https://www.cdc.gov/bloodpressure/about.htm\n",
    "3. https://www.sciencedirect.com/science/article/abs/pii/S0957417405000758\n",
    "4. https://www.kaggle.com/kmukhammadjon/hypertension-incidence-in-two-and-half-years\n",
    "5. https://www.kaggle.com/sulianova/cardiovascular-disease-dataset\n",
    "6. https://www.kaggle.com/raminhashimzade/cardio-disease\n",
    "7. https://towardsdatascience.com/introduction-to-data-preprocessing-in-machine-learning-a9fa83a5dc9d\n",
    "8. https://machinelearningmastery.com/one-vs-rest-and-one-vs-one-for-multi-class-classification/\n",
    "9. https://xavierbourretsicotte.github.io/AdaBoost.html\n",
    "10. https://www.vebuso.com/2020/03/svm-hyperparameter-tuning-using-gridsearchcv/\n",
    "11. https://medium.com/@mohtedibf/in-depth-parameter-tuning-for-knn-4c0de485baf6\n",
    "12. https://dev.to/overrideveloper/understanding-the-confusion-matrix-264i\n",
    "13. https://stackoverflow.com/questions/51378105/plot-multi-class-roc-curve-for-decisiontreeclassifier \n",
    "14. https://www.dataquest.io/blog/learning-curves-machine-learning/"
   ]
  }
 ],
 "metadata": {
  "kernelspec": {
   "display_name": "Python 3",
   "language": "python",
   "name": "python3"
  },
  "language_info": {
   "codemirror_mode": {
    "name": "ipython",
    "version": 3
   },
   "file_extension": ".py",
   "mimetype": "text/x-python",
   "name": "python",
   "nbconvert_exporter": "python",
   "pygments_lexer": "ipython3",
   "version": "3.7.4"
  }
 },
 "nbformat": 4,
 "nbformat_minor": 2
}
