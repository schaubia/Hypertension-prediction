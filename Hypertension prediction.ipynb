{
 "cells": [
  {
   "cell_type": "markdown",
   "metadata": {},
   "source": [
    "# Classification methods for hypertension prediction"
   ]
  },
  {
   "cell_type": "code",
   "execution_count": 1,
   "metadata": {},
   "outputs": [],
   "source": [
    "%matplotlib inline"
   ]
  },
  {
   "cell_type": "code",
   "execution_count": 2,
   "metadata": {},
   "outputs": [],
   "source": [
    "import numpy as np\n",
    "import pandas as pd\n",
    "import matplotlib.pyplot as plt\n",
    "import seaborn as sns\n",
    "import copy\n",
    "from itertools import cycle"
   ]
  },
  {
   "cell_type": "code",
   "execution_count": 3,
   "metadata": {},
   "outputs": [],
   "source": [
    "from sklearn.model_selection import train_test_split, learning_curve\n",
    "from sklearn.preprocessing import StandardScaler, PolynomialFeatures,label_binarize\n",
    "from sklearn.model_selection import StratifiedKFold, cross_val_score, GridSearchCV\n",
    "\n",
    "from sklearn.linear_model import LogisticRegression\n",
    "from sklearn.tree import DecisionTreeClassifier\n",
    "from sklearn.ensemble import RandomForestClassifier, AdaBoostClassifier\n",
    "from sklearn.svm import SVC, LinearSVC\n",
    "from sklearn.neighbors import KNeighborsClassifier\n",
    "\n",
    "from sklearn.metrics import f1_score, confusion_matrix, roc_curve, auc\n",
    "\n",
    "from sklearn.multiclass import OneVsRestClassifier"
   ]
  },
  {
   "cell_type": "markdown",
   "metadata": {},
   "source": [
    "### Abstract\n",
    "\n",
    "This project aims to compare the performance of different methods for supervised machine learning while predicting elevated blood pressure from medical data available in the online community Kaggle. The project consists of two parts which use data from two different datasets containing patient information such as laboratory data and presence or absence of certain medical conditions. The main characteristics of these are summarized and visualised via exploratory data analysis. The data is tidied and prepared for machine learning and feature engineering is also applied. In both notebooks I am using Grid Search with cross-validation to train several different models with different hyperparameters of each of 6 types of machine learning algorithms for classification: Logistic regression, Decision tree, Random forest, Support vector machine and k-nearest neighbors. After that I am plotting learning curves for all models, and choosing one for further analysis, and eventually for further optimisation. I am also plotting a receiver operating characteristic curve (ROC) and confusion matrix for detailed scoring analysis on the chosen model. The final part of the first notebook is hypertension prediction on a small set of unlabelled data. <br>\n",
    "\n",
    "In the second notebook I am performing similar data examination; however this time I am comparing how the tuned machine learning algorithms are performing on raw data and on data which has been subject of dimensionality reduction in order to evaluate the presence of noise in the data."
   ]
  },
  {
   "cell_type": "markdown",
   "metadata": {},
   "source": [
    "### Introduction\n",
    "\n",
    "Hypertension is a leading, yet controllable risk factor for heart disease, stroke, heart failure, renal disease and recurrent cardiovascular events. Among the risk factors associated with developement of hypertension are: age, sex, family history, smoking habits, alcohol consumption and body-mass index (BMI). Additionally blood pressure is affected by metabolic factors including blood cholesterol, triglycerides, low-density lipoproteins, liver function presented with laboratory reading of hepatic enzymes and others.\n",
    "\n",
    "\n",
    "Diagnosis of high blood pressure is based on two different guidelines:<br>\n",
    "\n",
    "1. Classification according to the Seventh Report of the Joint National Committee on Prevention, Detection, Evaluation, and Treatment of High Blood Pressure (2003 Guideline):<br>\n",
    "\n",
    "| **Normal Blood Pressure**     |  **At Risk** (prehypertension) | **High Blood Pressure (hypertension)** |\n",
    "|-------------------------------|--------------------------------|----------------------------------------|\n",
    "| systolic: less than 120 mmHg  | systolic: 120–139 mmHg         | systolic: 140 mmHg or higher           |\n",
    "| diastolic: less than 80 mmHg  | diastolic: 80–89 mmHg          | diastolic: 90 mmHg or higher           |\n",
    "\n",
    "\n",
    "2. Classification according to the American College of Cardiology/American Heart Association Guideline for the Prevention, Detection, Evaluation, and Management of High Blood Pressure in Adults (2017 Guideline):<br>\n",
    "\n",
    "| **Normal Blood Pressure**     |  **Elevated** (prehypertension)  | **High Blood Pressure (hypertension)** |\n",
    "|-------------------------------|----------------------------------|----------------------------------------|\n",
    "| systolic: less than 120 mmHg  | systolic: 120–129 mmHg           | systolic: 130 mmHg or higher           |\n",
    "| diastolic: less than 80 mmHg  | diastolic: less than 80 mmHg     | diastolic: 80 mmHg or higher           |\n",
    "\n",
    "There are many scientific articles that investigate the opportunity to use machine learning in order to predict hypertension or hypertension outcome based on clinical and personal data. Most of them use artificial neural networks (ANN) for this goal. Some of the investigations such as the one from the Qatar Biobank Study [1] lead to high performance results of the machine learning algorithms used. As clinical data is considered sensitive information it is particluarly difficult to obtain consent or statistics excerpt for non-scientific or educational purposes. "
   ]
  },
  {
   "cell_type": "markdown",
   "metadata": {},
   "source": [
    "### Data preprocessing"
   ]
  },
  {
   "cell_type": "markdown",
   "metadata": {},
   "source": [
    "##### Data desciption \n",
    "\n",
    "There are 3 types of input features in the dataset:\n",
    "   1. Objective: factual information\n",
    "   2. Examination: results of medical examination\n",
    "   3. Subjective: information given by the patient.\n",
    "\n",
    "Features:\n",
    "   1. Age - Objective Feature - age - int (days)\n",
    "   2. Height - Objective Feature - height - int (cm) \n",
    "   3. Weight - Objective Feature - weight - float (kg) \n",
    "   4. Gender - Objective Feature - gender - categorical code\n",
    "   5. Systolic blood pressure - Examination Feature - ap_hi - int (mmHg)\n",
    "   6. Diastolic blood pressure - Examination Feature - ap_lo - int (mmHg)\n",
    "   7. Cholesterol - Examination Feature - cholesterol - 1: normal, 2: above normal, 3: well above normal\n",
    "   8. Glucose - Examination Feature - gluc - 1: normal, 2: above normal, 3: well above normal\n",
    "   9. Smoking - Subjective Feature - smoke - binary\n",
    "   10. Alcohol intake - Subjective Feature - alco - binary\n",
    "   11. Physical activity - Subjective Feature - active - binary\n",
    "   12. Presence or absence of cardiovascular disease - cardio - binary\n",
    "\n",
    "All of the dataset values were collected at the moment of medical examination. "
   ]
  },
  {
   "cell_type": "markdown",
   "metadata": {},
   "source": [
    "The cardiovascular data was derived from __[kaggle](https://www.kaggle.com/sulianova/cardiovascular-disease-dataset)__."
   ]
  },
  {
   "cell_type": "code",
   "execution_count": 4,
   "metadata": {},
   "outputs": [],
   "source": [
    "#Reading cardiovascular data file\n",
    "cardio_data = pd.read_csv(\"data/cardio_train.csv\", sep = \";\")"
   ]
  },
  {
   "cell_type": "markdown",
   "metadata": {},
   "source": [
    "###### Becomng acquainted with the data and data tiding\n",
    "\n",
    "The first thing to do is to get overall information about the data: number of observations, data description, finding and handling missing values, finding duplicate values, identifying closely related features with correlation matrix. Additionally, in order to prepare the data for machine learning algorithms to be used, there are several other steps including removing irrelevant columns, converting age column from days to years, converting values in the gender column from 1 and 2 to 0 and 1, getting indicator (dummy) variables and finally selecting the target column which will be the values for blood pressure converted to three classes according to the classification described above. Normalization of the features should also be performed."
   ]
  },
  {
   "cell_type": "markdown",
   "metadata": {},
   "source": [
    "I can take a brief look into the dataset with the .head and .shape attributes and also call the .describe function in order to obtain summary of the data."
   ]
  },
  {
   "cell_type": "code",
   "execution_count": 5,
   "metadata": {},
   "outputs": [
    {
     "data": {
      "text/html": [
       "<div>\n",
       "<style scoped>\n",
       "    .dataframe tbody tr th:only-of-type {\n",
       "        vertical-align: middle;\n",
       "    }\n",
       "\n",
       "    .dataframe tbody tr th {\n",
       "        vertical-align: top;\n",
       "    }\n",
       "\n",
       "    .dataframe thead th {\n",
       "        text-align: right;\n",
       "    }\n",
       "</style>\n",
       "<table border=\"1\" class=\"dataframe\">\n",
       "  <thead>\n",
       "    <tr style=\"text-align: right;\">\n",
       "      <th></th>\n",
       "      <th>id</th>\n",
       "      <th>age</th>\n",
       "      <th>gender</th>\n",
       "      <th>height</th>\n",
       "      <th>weight</th>\n",
       "      <th>ap_hi</th>\n",
       "      <th>ap_lo</th>\n",
       "      <th>cholesterol</th>\n",
       "      <th>gluc</th>\n",
       "      <th>smoke</th>\n",
       "      <th>alco</th>\n",
       "      <th>active</th>\n",
       "      <th>cardio</th>\n",
       "    </tr>\n",
       "  </thead>\n",
       "  <tbody>\n",
       "    <tr>\n",
       "      <td>0</td>\n",
       "      <td>0</td>\n",
       "      <td>18393</td>\n",
       "      <td>2</td>\n",
       "      <td>168</td>\n",
       "      <td>62.0</td>\n",
       "      <td>110</td>\n",
       "      <td>80</td>\n",
       "      <td>1</td>\n",
       "      <td>1</td>\n",
       "      <td>0</td>\n",
       "      <td>0</td>\n",
       "      <td>1</td>\n",
       "      <td>0</td>\n",
       "    </tr>\n",
       "    <tr>\n",
       "      <td>1</td>\n",
       "      <td>1</td>\n",
       "      <td>20228</td>\n",
       "      <td>1</td>\n",
       "      <td>156</td>\n",
       "      <td>85.0</td>\n",
       "      <td>140</td>\n",
       "      <td>90</td>\n",
       "      <td>3</td>\n",
       "      <td>1</td>\n",
       "      <td>0</td>\n",
       "      <td>0</td>\n",
       "      <td>1</td>\n",
       "      <td>1</td>\n",
       "    </tr>\n",
       "    <tr>\n",
       "      <td>2</td>\n",
       "      <td>2</td>\n",
       "      <td>18857</td>\n",
       "      <td>1</td>\n",
       "      <td>165</td>\n",
       "      <td>64.0</td>\n",
       "      <td>130</td>\n",
       "      <td>70</td>\n",
       "      <td>3</td>\n",
       "      <td>1</td>\n",
       "      <td>0</td>\n",
       "      <td>0</td>\n",
       "      <td>0</td>\n",
       "      <td>1</td>\n",
       "    </tr>\n",
       "    <tr>\n",
       "      <td>3</td>\n",
       "      <td>3</td>\n",
       "      <td>17623</td>\n",
       "      <td>2</td>\n",
       "      <td>169</td>\n",
       "      <td>82.0</td>\n",
       "      <td>150</td>\n",
       "      <td>100</td>\n",
       "      <td>1</td>\n",
       "      <td>1</td>\n",
       "      <td>0</td>\n",
       "      <td>0</td>\n",
       "      <td>1</td>\n",
       "      <td>1</td>\n",
       "    </tr>\n",
       "    <tr>\n",
       "      <td>4</td>\n",
       "      <td>4</td>\n",
       "      <td>17474</td>\n",
       "      <td>1</td>\n",
       "      <td>156</td>\n",
       "      <td>56.0</td>\n",
       "      <td>100</td>\n",
       "      <td>60</td>\n",
       "      <td>1</td>\n",
       "      <td>1</td>\n",
       "      <td>0</td>\n",
       "      <td>0</td>\n",
       "      <td>0</td>\n",
       "      <td>0</td>\n",
       "    </tr>\n",
       "  </tbody>\n",
       "</table>\n",
       "</div>"
      ],
      "text/plain": [
       "   id    age  gender  height  weight  ap_hi  ap_lo  cholesterol  gluc  smoke  \\\n",
       "0   0  18393       2     168    62.0    110     80            1     1      0   \n",
       "1   1  20228       1     156    85.0    140     90            3     1      0   \n",
       "2   2  18857       1     165    64.0    130     70            3     1      0   \n",
       "3   3  17623       2     169    82.0    150    100            1     1      0   \n",
       "4   4  17474       1     156    56.0    100     60            1     1      0   \n",
       "\n",
       "   alco  active  cardio  \n",
       "0     0       1       0  \n",
       "1     0       1       1  \n",
       "2     0       0       1  \n",
       "3     0       1       1  \n",
       "4     0       0       0  "
      ]
     },
     "execution_count": 5,
     "metadata": {},
     "output_type": "execute_result"
    }
   ],
   "source": [
    "cardio_data.head()"
   ]
  },
  {
   "cell_type": "code",
   "execution_count": 6,
   "metadata": {},
   "outputs": [
    {
     "data": {
      "text/html": [
       "<div>\n",
       "<style scoped>\n",
       "    .dataframe tbody tr th:only-of-type {\n",
       "        vertical-align: middle;\n",
       "    }\n",
       "\n",
       "    .dataframe tbody tr th {\n",
       "        vertical-align: top;\n",
       "    }\n",
       "\n",
       "    .dataframe thead th {\n",
       "        text-align: right;\n",
       "    }\n",
       "</style>\n",
       "<table border=\"1\" class=\"dataframe\">\n",
       "  <thead>\n",
       "    <tr style=\"text-align: right;\">\n",
       "      <th></th>\n",
       "      <th>count</th>\n",
       "      <th>mean</th>\n",
       "      <th>std</th>\n",
       "      <th>min</th>\n",
       "      <th>25%</th>\n",
       "      <th>50%</th>\n",
       "      <th>75%</th>\n",
       "      <th>max</th>\n",
       "    </tr>\n",
       "  </thead>\n",
       "  <tbody>\n",
       "    <tr>\n",
       "      <td>id</td>\n",
       "      <td>70000.0</td>\n",
       "      <td>49972.419900</td>\n",
       "      <td>28851.302323</td>\n",
       "      <td>0.0</td>\n",
       "      <td>25006.75</td>\n",
       "      <td>50001.5</td>\n",
       "      <td>74889.25</td>\n",
       "      <td>99999.0</td>\n",
       "    </tr>\n",
       "    <tr>\n",
       "      <td>age</td>\n",
       "      <td>70000.0</td>\n",
       "      <td>19468.865814</td>\n",
       "      <td>2467.251667</td>\n",
       "      <td>10798.0</td>\n",
       "      <td>17664.00</td>\n",
       "      <td>19703.0</td>\n",
       "      <td>21327.00</td>\n",
       "      <td>23713.0</td>\n",
       "    </tr>\n",
       "    <tr>\n",
       "      <td>gender</td>\n",
       "      <td>70000.0</td>\n",
       "      <td>1.349571</td>\n",
       "      <td>0.476838</td>\n",
       "      <td>1.0</td>\n",
       "      <td>1.00</td>\n",
       "      <td>1.0</td>\n",
       "      <td>2.00</td>\n",
       "      <td>2.0</td>\n",
       "    </tr>\n",
       "    <tr>\n",
       "      <td>height</td>\n",
       "      <td>70000.0</td>\n",
       "      <td>164.359229</td>\n",
       "      <td>8.210126</td>\n",
       "      <td>55.0</td>\n",
       "      <td>159.00</td>\n",
       "      <td>165.0</td>\n",
       "      <td>170.00</td>\n",
       "      <td>250.0</td>\n",
       "    </tr>\n",
       "    <tr>\n",
       "      <td>weight</td>\n",
       "      <td>70000.0</td>\n",
       "      <td>74.205690</td>\n",
       "      <td>14.395757</td>\n",
       "      <td>10.0</td>\n",
       "      <td>65.00</td>\n",
       "      <td>72.0</td>\n",
       "      <td>82.00</td>\n",
       "      <td>200.0</td>\n",
       "    </tr>\n",
       "    <tr>\n",
       "      <td>ap_hi</td>\n",
       "      <td>70000.0</td>\n",
       "      <td>128.817286</td>\n",
       "      <td>154.011419</td>\n",
       "      <td>-150.0</td>\n",
       "      <td>120.00</td>\n",
       "      <td>120.0</td>\n",
       "      <td>140.00</td>\n",
       "      <td>16020.0</td>\n",
       "    </tr>\n",
       "    <tr>\n",
       "      <td>ap_lo</td>\n",
       "      <td>70000.0</td>\n",
       "      <td>96.630414</td>\n",
       "      <td>188.472530</td>\n",
       "      <td>-70.0</td>\n",
       "      <td>80.00</td>\n",
       "      <td>80.0</td>\n",
       "      <td>90.00</td>\n",
       "      <td>11000.0</td>\n",
       "    </tr>\n",
       "    <tr>\n",
       "      <td>cholesterol</td>\n",
       "      <td>70000.0</td>\n",
       "      <td>1.366871</td>\n",
       "      <td>0.680250</td>\n",
       "      <td>1.0</td>\n",
       "      <td>1.00</td>\n",
       "      <td>1.0</td>\n",
       "      <td>2.00</td>\n",
       "      <td>3.0</td>\n",
       "    </tr>\n",
       "    <tr>\n",
       "      <td>gluc</td>\n",
       "      <td>70000.0</td>\n",
       "      <td>1.226457</td>\n",
       "      <td>0.572270</td>\n",
       "      <td>1.0</td>\n",
       "      <td>1.00</td>\n",
       "      <td>1.0</td>\n",
       "      <td>1.00</td>\n",
       "      <td>3.0</td>\n",
       "    </tr>\n",
       "    <tr>\n",
       "      <td>smoke</td>\n",
       "      <td>70000.0</td>\n",
       "      <td>0.088129</td>\n",
       "      <td>0.283484</td>\n",
       "      <td>0.0</td>\n",
       "      <td>0.00</td>\n",
       "      <td>0.0</td>\n",
       "      <td>0.00</td>\n",
       "      <td>1.0</td>\n",
       "    </tr>\n",
       "    <tr>\n",
       "      <td>alco</td>\n",
       "      <td>70000.0</td>\n",
       "      <td>0.053771</td>\n",
       "      <td>0.225568</td>\n",
       "      <td>0.0</td>\n",
       "      <td>0.00</td>\n",
       "      <td>0.0</td>\n",
       "      <td>0.00</td>\n",
       "      <td>1.0</td>\n",
       "    </tr>\n",
       "    <tr>\n",
       "      <td>active</td>\n",
       "      <td>70000.0</td>\n",
       "      <td>0.803729</td>\n",
       "      <td>0.397179</td>\n",
       "      <td>0.0</td>\n",
       "      <td>1.00</td>\n",
       "      <td>1.0</td>\n",
       "      <td>1.00</td>\n",
       "      <td>1.0</td>\n",
       "    </tr>\n",
       "    <tr>\n",
       "      <td>cardio</td>\n",
       "      <td>70000.0</td>\n",
       "      <td>0.499700</td>\n",
       "      <td>0.500003</td>\n",
       "      <td>0.0</td>\n",
       "      <td>0.00</td>\n",
       "      <td>0.0</td>\n",
       "      <td>1.00</td>\n",
       "      <td>1.0</td>\n",
       "    </tr>\n",
       "  </tbody>\n",
       "</table>\n",
       "</div>"
      ],
      "text/plain": [
       "               count          mean           std      min       25%      50%  \\\n",
       "id           70000.0  49972.419900  28851.302323      0.0  25006.75  50001.5   \n",
       "age          70000.0  19468.865814   2467.251667  10798.0  17664.00  19703.0   \n",
       "gender       70000.0      1.349571      0.476838      1.0      1.00      1.0   \n",
       "height       70000.0    164.359229      8.210126     55.0    159.00    165.0   \n",
       "weight       70000.0     74.205690     14.395757     10.0     65.00     72.0   \n",
       "ap_hi        70000.0    128.817286    154.011419   -150.0    120.00    120.0   \n",
       "ap_lo        70000.0     96.630414    188.472530    -70.0     80.00     80.0   \n",
       "cholesterol  70000.0      1.366871      0.680250      1.0      1.00      1.0   \n",
       "gluc         70000.0      1.226457      0.572270      1.0      1.00      1.0   \n",
       "smoke        70000.0      0.088129      0.283484      0.0      0.00      0.0   \n",
       "alco         70000.0      0.053771      0.225568      0.0      0.00      0.0   \n",
       "active       70000.0      0.803729      0.397179      0.0      1.00      1.0   \n",
       "cardio       70000.0      0.499700      0.500003      0.0      0.00      0.0   \n",
       "\n",
       "                  75%      max  \n",
       "id           74889.25  99999.0  \n",
       "age          21327.00  23713.0  \n",
       "gender           2.00      2.0  \n",
       "height         170.00    250.0  \n",
       "weight          82.00    200.0  \n",
       "ap_hi          140.00  16020.0  \n",
       "ap_lo           90.00  11000.0  \n",
       "cholesterol      2.00      3.0  \n",
       "gluc             1.00      3.0  \n",
       "smoke            0.00      1.0  \n",
       "alco             0.00      1.0  \n",
       "active           1.00      1.0  \n",
       "cardio           1.00      1.0  "
      ]
     },
     "execution_count": 6,
     "metadata": {},
     "output_type": "execute_result"
    }
   ],
   "source": [
    "cardio_data.describe().T"
   ]
  },
  {
   "cell_type": "code",
   "execution_count": 7,
   "metadata": {},
   "outputs": [
    {
     "data": {
      "text/plain": [
       "(70000, 13)"
      ]
     },
     "execution_count": 7,
     "metadata": {},
     "output_type": "execute_result"
    }
   ],
   "source": [
    "cardio_data.shape"
   ]
  },
  {
   "cell_type": "markdown",
   "metadata": {},
   "source": [
    "The next task is to find and replace the missing values in the dataset so that the machine learning models can work."
   ]
  },
  {
   "cell_type": "code",
   "execution_count": 8,
   "metadata": {},
   "outputs": [
    {
     "data": {
      "text/plain": [
       "id             0\n",
       "age            0\n",
       "gender         0\n",
       "height         0\n",
       "weight         0\n",
       "ap_hi          0\n",
       "ap_lo          0\n",
       "cholesterol    0\n",
       "gluc           0\n",
       "smoke          0\n",
       "alco           0\n",
       "active         0\n",
       "cardio         0\n",
       "dtype: int64"
      ]
     },
     "execution_count": 8,
     "metadata": {},
     "output_type": "execute_result"
    }
   ],
   "source": [
    "cardio_data.isnull().sum()"
   ]
  },
  {
   "cell_type": "markdown",
   "metadata": {},
   "source": [
    "There are no missing values. Additionally. I will search for duplicated entries, although as there are no patient identifiers provided, it is not certain that these are real duplicates. Before that the 'id' column has to be dropped because it does not hold any useful information."
   ]
  },
  {
   "cell_type": "code",
   "execution_count": 9,
   "metadata": {},
   "outputs": [],
   "source": [
    "cardio_data.drop(columns = \"id\", inplace = True)"
   ]
  },
  {
   "cell_type": "code",
   "execution_count": 10,
   "metadata": {},
   "outputs": [
    {
     "data": {
      "text/plain": [
       "24"
      ]
     },
     "execution_count": 10,
     "metadata": {},
     "output_type": "execute_result"
    }
   ],
   "source": [
    "cardio_data.duplicated().sum()"
   ]
  },
  {
   "cell_type": "markdown",
   "metadata": {},
   "source": [
    "There are 24 duplicated entries that are better to be removed."
   ]
  },
  {
   "cell_type": "code",
   "execution_count": 11,
   "metadata": {},
   "outputs": [],
   "source": [
    "cardio_data.drop_duplicates(inplace = True)"
   ]
  },
  {
   "cell_type": "markdown",
   "metadata": {},
   "source": [
    "Another thing which needs to be checked is the span of the columns containing continuous values and the values in the categorical columns. The description of the dataset shows there are some impossible values including negative readings for blood pressure, as well as weights of as low as 10 kilograms. Upper and lower limits need to be set in order to exclude such outliers that are most probably erroneous entries. In addition, height values are also going to be constrained, because in case of dwarfs or giants, there are additional and irrelevant to this project factors influencing health conditions among these people. It is also necessary to check whether the categories in the categorical columns are correct."
   ]
  },
  {
   "cell_type": "code",
   "execution_count": 12,
   "metadata": {},
   "outputs": [],
   "source": [
    "def drop_outliers (df, column, min_val, max_val):\n",
    "    \"\"\" Constrains the entries in the df according to preset min_val and max_val\"\"\"\n",
    "    df = df.drop(df[(df[column] < min_val) | (df[column] > max_val)].index)\n",
    "    return df"
   ]
  },
  {
   "cell_type": "markdown",
   "metadata": {},
   "source": [
    "The following information will help with setting the acceptable for the dataset values of the non-categorical values.\n",
    "Dwarfism is defined as adult height of less than 147 centimetres and giantism - as above 210 centimetres.\n",
    "Highest blood pressure recorded in an individual was 370/360. Blood pressure can be unmeasurably low, so lower limits can be set something like 60/30 in order to remove at least negative values.\n",
    "The highest weight in the dataset is 200kg which is ok to remain; however there are weights of less than 20 kg which is impossible for an adult, so a minimum weight of 35 kg will be set."
   ]
  },
  {
   "cell_type": "code",
   "execution_count": 13,
   "metadata": {},
   "outputs": [],
   "source": [
    "#setting minimum and maximum acceptable values\n",
    "cardio_data = drop_outliers(cardio_data, \"height\", 140, 210)\n",
    "cardio_data = drop_outliers(cardio_data, \"weight\", 35, 200)\n",
    "cardio_data = drop_outliers(cardio_data, \"ap_hi\", 60, 370)\n",
    "cardio_data = drop_outliers(cardio_data, \"ap_lo\", 30, 360)"
   ]
  },
  {
   "cell_type": "code",
   "execution_count": 14,
   "metadata": {},
   "outputs": [
    {
     "data": {
      "text/html": [
       "<div>\n",
       "<style scoped>\n",
       "    .dataframe tbody tr th:only-of-type {\n",
       "        vertical-align: middle;\n",
       "    }\n",
       "\n",
       "    .dataframe tbody tr th {\n",
       "        vertical-align: top;\n",
       "    }\n",
       "\n",
       "    .dataframe thead th {\n",
       "        text-align: right;\n",
       "    }\n",
       "</style>\n",
       "<table border=\"1\" class=\"dataframe\">\n",
       "  <thead>\n",
       "    <tr style=\"text-align: right;\">\n",
       "      <th></th>\n",
       "      <th>count</th>\n",
       "      <th>mean</th>\n",
       "      <th>std</th>\n",
       "      <th>min</th>\n",
       "      <th>25%</th>\n",
       "      <th>50%</th>\n",
       "      <th>75%</th>\n",
       "      <th>max</th>\n",
       "    </tr>\n",
       "  </thead>\n",
       "  <tbody>\n",
       "    <tr>\n",
       "      <td>age</td>\n",
       "      <td>68593.0</td>\n",
       "      <td>19464.643535</td>\n",
       "      <td>2467.706218</td>\n",
       "      <td>10798.0</td>\n",
       "      <td>17658.0</td>\n",
       "      <td>19701.0</td>\n",
       "      <td>21323.0</td>\n",
       "      <td>23713.0</td>\n",
       "    </tr>\n",
       "    <tr>\n",
       "      <td>gender</td>\n",
       "      <td>68593.0</td>\n",
       "      <td>1.348942</td>\n",
       "      <td>0.476639</td>\n",
       "      <td>1.0</td>\n",
       "      <td>1.0</td>\n",
       "      <td>1.0</td>\n",
       "      <td>2.0</td>\n",
       "      <td>2.0</td>\n",
       "    </tr>\n",
       "    <tr>\n",
       "      <td>height</td>\n",
       "      <td>68593.0</td>\n",
       "      <td>164.465951</td>\n",
       "      <td>7.802328</td>\n",
       "      <td>140.0</td>\n",
       "      <td>159.0</td>\n",
       "      <td>165.0</td>\n",
       "      <td>170.0</td>\n",
       "      <td>207.0</td>\n",
       "    </tr>\n",
       "    <tr>\n",
       "      <td>weight</td>\n",
       "      <td>68593.0</td>\n",
       "      <td>74.132651</td>\n",
       "      <td>14.272555</td>\n",
       "      <td>35.0</td>\n",
       "      <td>65.0</td>\n",
       "      <td>72.0</td>\n",
       "      <td>82.0</td>\n",
       "      <td>200.0</td>\n",
       "    </tr>\n",
       "    <tr>\n",
       "      <td>ap_hi</td>\n",
       "      <td>68593.0</td>\n",
       "      <td>126.622833</td>\n",
       "      <td>16.762678</td>\n",
       "      <td>60.0</td>\n",
       "      <td>120.0</td>\n",
       "      <td>120.0</td>\n",
       "      <td>140.0</td>\n",
       "      <td>240.0</td>\n",
       "    </tr>\n",
       "    <tr>\n",
       "      <td>ap_lo</td>\n",
       "      <td>68593.0</td>\n",
       "      <td>81.383027</td>\n",
       "      <td>9.686980</td>\n",
       "      <td>30.0</td>\n",
       "      <td>80.0</td>\n",
       "      <td>80.0</td>\n",
       "      <td>90.0</td>\n",
       "      <td>190.0</td>\n",
       "    </tr>\n",
       "    <tr>\n",
       "      <td>cholesterol</td>\n",
       "      <td>68593.0</td>\n",
       "      <td>1.365066</td>\n",
       "      <td>0.679254</td>\n",
       "      <td>1.0</td>\n",
       "      <td>1.0</td>\n",
       "      <td>1.0</td>\n",
       "      <td>2.0</td>\n",
       "      <td>3.0</td>\n",
       "    </tr>\n",
       "    <tr>\n",
       "      <td>gluc</td>\n",
       "      <td>68593.0</td>\n",
       "      <td>1.226131</td>\n",
       "      <td>0.572118</td>\n",
       "      <td>1.0</td>\n",
       "      <td>1.0</td>\n",
       "      <td>1.0</td>\n",
       "      <td>1.0</td>\n",
       "      <td>3.0</td>\n",
       "    </tr>\n",
       "    <tr>\n",
       "      <td>smoke</td>\n",
       "      <td>68593.0</td>\n",
       "      <td>0.088099</td>\n",
       "      <td>0.283441</td>\n",
       "      <td>0.0</td>\n",
       "      <td>0.0</td>\n",
       "      <td>0.0</td>\n",
       "      <td>0.0</td>\n",
       "      <td>1.0</td>\n",
       "    </tr>\n",
       "    <tr>\n",
       "      <td>alco</td>\n",
       "      <td>68593.0</td>\n",
       "      <td>0.053694</td>\n",
       "      <td>0.225414</td>\n",
       "      <td>0.0</td>\n",
       "      <td>0.0</td>\n",
       "      <td>0.0</td>\n",
       "      <td>0.0</td>\n",
       "      <td>1.0</td>\n",
       "    </tr>\n",
       "    <tr>\n",
       "      <td>active</td>\n",
       "      <td>68593.0</td>\n",
       "      <td>0.803464</td>\n",
       "      <td>0.397381</td>\n",
       "      <td>0.0</td>\n",
       "      <td>1.0</td>\n",
       "      <td>1.0</td>\n",
       "      <td>1.0</td>\n",
       "      <td>1.0</td>\n",
       "    </tr>\n",
       "    <tr>\n",
       "      <td>cardio</td>\n",
       "      <td>68593.0</td>\n",
       "      <td>0.495051</td>\n",
       "      <td>0.499979</td>\n",
       "      <td>0.0</td>\n",
       "      <td>0.0</td>\n",
       "      <td>0.0</td>\n",
       "      <td>1.0</td>\n",
       "      <td>1.0</td>\n",
       "    </tr>\n",
       "  </tbody>\n",
       "</table>\n",
       "</div>"
      ],
      "text/plain": [
       "               count          mean          std      min      25%      50%  \\\n",
       "age          68593.0  19464.643535  2467.706218  10798.0  17658.0  19701.0   \n",
       "gender       68593.0      1.348942     0.476639      1.0      1.0      1.0   \n",
       "height       68593.0    164.465951     7.802328    140.0    159.0    165.0   \n",
       "weight       68593.0     74.132651    14.272555     35.0     65.0     72.0   \n",
       "ap_hi        68593.0    126.622833    16.762678     60.0    120.0    120.0   \n",
       "ap_lo        68593.0     81.383027     9.686980     30.0     80.0     80.0   \n",
       "cholesterol  68593.0      1.365066     0.679254      1.0      1.0      1.0   \n",
       "gluc         68593.0      1.226131     0.572118      1.0      1.0      1.0   \n",
       "smoke        68593.0      0.088099     0.283441      0.0      0.0      0.0   \n",
       "alco         68593.0      0.053694     0.225414      0.0      0.0      0.0   \n",
       "active       68593.0      0.803464     0.397381      0.0      1.0      1.0   \n",
       "cardio       68593.0      0.495051     0.499979      0.0      0.0      0.0   \n",
       "\n",
       "                 75%      max  \n",
       "age          21323.0  23713.0  \n",
       "gender           2.0      2.0  \n",
       "height         170.0    207.0  \n",
       "weight          82.0    200.0  \n",
       "ap_hi          140.0    240.0  \n",
       "ap_lo           90.0    190.0  \n",
       "cholesterol      2.0      3.0  \n",
       "gluc             1.0      3.0  \n",
       "smoke            0.0      1.0  \n",
       "alco             0.0      1.0  \n",
       "active           1.0      1.0  \n",
       "cardio           1.0      1.0  "
      ]
     },
     "execution_count": 14,
     "metadata": {},
     "output_type": "execute_result"
    }
   ],
   "source": [
    "cardio_data.describe().T"
   ]
  },
  {
   "cell_type": "code",
   "execution_count": 15,
   "metadata": {},
   "outputs": [
    {
     "data": {
      "text/plain": [
       "(68593, 12)"
      ]
     },
     "execution_count": 15,
     "metadata": {},
     "output_type": "execute_result"
    }
   ],
   "source": [
    "cardio_data.shape"
   ]
  },
  {
   "cell_type": "code",
   "execution_count": 16,
   "metadata": {},
   "outputs": [
    {
     "name": "stdout",
     "output_type": "stream",
     "text": [
      "[2 1]\n",
      "[1 3 2]\n",
      "[1 2 3]\n",
      "[0 1]\n",
      "[0 1]\n",
      "[1 0]\n",
      "[0 1]\n"
     ]
    }
   ],
   "source": [
    "#check if the categories in the categorical columns are correct\n",
    "for column in [\"gender\", \"cholesterol\", \"gluc\", \"smoke\", \"alco\", \"active\", \"cardio\"]:\n",
    "    print(cardio_data[column].unique())"
   ]
  },
  {
   "cell_type": "code",
   "execution_count": 17,
   "metadata": {},
   "outputs": [],
   "source": [
    "#modify gender column\n",
    "cardio_data.gender = cardio_data.gender.replace([2, 1], [1, 0])\n",
    "\n",
    "#convert age  in days to age in years\n",
    "cardio_data.age = cardio_data.age.apply(lambda x: x//365)"
   ]
  },
  {
   "cell_type": "code",
   "execution_count": 18,
   "metadata": {},
   "outputs": [
    {
     "data": {
      "text/html": [
       "<div>\n",
       "<style scoped>\n",
       "    .dataframe tbody tr th:only-of-type {\n",
       "        vertical-align: middle;\n",
       "    }\n",
       "\n",
       "    .dataframe tbody tr th {\n",
       "        vertical-align: top;\n",
       "    }\n",
       "\n",
       "    .dataframe thead th {\n",
       "        text-align: right;\n",
       "    }\n",
       "</style>\n",
       "<table border=\"1\" class=\"dataframe\">\n",
       "  <thead>\n",
       "    <tr style=\"text-align: right;\">\n",
       "      <th></th>\n",
       "      <th>age</th>\n",
       "      <th>gender</th>\n",
       "      <th>height</th>\n",
       "      <th>weight</th>\n",
       "      <th>ap_hi</th>\n",
       "      <th>ap_lo</th>\n",
       "      <th>cholesterol</th>\n",
       "      <th>gluc</th>\n",
       "      <th>smoke</th>\n",
       "      <th>alco</th>\n",
       "      <th>active</th>\n",
       "      <th>cardio</th>\n",
       "    </tr>\n",
       "  </thead>\n",
       "  <tbody>\n",
       "    <tr>\n",
       "      <td>0</td>\n",
       "      <td>50</td>\n",
       "      <td>1</td>\n",
       "      <td>168</td>\n",
       "      <td>62.0</td>\n",
       "      <td>110</td>\n",
       "      <td>80</td>\n",
       "      <td>1</td>\n",
       "      <td>1</td>\n",
       "      <td>0</td>\n",
       "      <td>0</td>\n",
       "      <td>1</td>\n",
       "      <td>0</td>\n",
       "    </tr>\n",
       "    <tr>\n",
       "      <td>1</td>\n",
       "      <td>55</td>\n",
       "      <td>0</td>\n",
       "      <td>156</td>\n",
       "      <td>85.0</td>\n",
       "      <td>140</td>\n",
       "      <td>90</td>\n",
       "      <td>3</td>\n",
       "      <td>1</td>\n",
       "      <td>0</td>\n",
       "      <td>0</td>\n",
       "      <td>1</td>\n",
       "      <td>1</td>\n",
       "    </tr>\n",
       "    <tr>\n",
       "      <td>2</td>\n",
       "      <td>51</td>\n",
       "      <td>0</td>\n",
       "      <td>165</td>\n",
       "      <td>64.0</td>\n",
       "      <td>130</td>\n",
       "      <td>70</td>\n",
       "      <td>3</td>\n",
       "      <td>1</td>\n",
       "      <td>0</td>\n",
       "      <td>0</td>\n",
       "      <td>0</td>\n",
       "      <td>1</td>\n",
       "    </tr>\n",
       "    <tr>\n",
       "      <td>3</td>\n",
       "      <td>48</td>\n",
       "      <td>1</td>\n",
       "      <td>169</td>\n",
       "      <td>82.0</td>\n",
       "      <td>150</td>\n",
       "      <td>100</td>\n",
       "      <td>1</td>\n",
       "      <td>1</td>\n",
       "      <td>0</td>\n",
       "      <td>0</td>\n",
       "      <td>1</td>\n",
       "      <td>1</td>\n",
       "    </tr>\n",
       "    <tr>\n",
       "      <td>4</td>\n",
       "      <td>47</td>\n",
       "      <td>0</td>\n",
       "      <td>156</td>\n",
       "      <td>56.0</td>\n",
       "      <td>100</td>\n",
       "      <td>60</td>\n",
       "      <td>1</td>\n",
       "      <td>1</td>\n",
       "      <td>0</td>\n",
       "      <td>0</td>\n",
       "      <td>0</td>\n",
       "      <td>0</td>\n",
       "    </tr>\n",
       "    <tr>\n",
       "      <td>...</td>\n",
       "      <td>...</td>\n",
       "      <td>...</td>\n",
       "      <td>...</td>\n",
       "      <td>...</td>\n",
       "      <td>...</td>\n",
       "      <td>...</td>\n",
       "      <td>...</td>\n",
       "      <td>...</td>\n",
       "      <td>...</td>\n",
       "      <td>...</td>\n",
       "      <td>...</td>\n",
       "      <td>...</td>\n",
       "    </tr>\n",
       "    <tr>\n",
       "      <td>69995</td>\n",
       "      <td>52</td>\n",
       "      <td>1</td>\n",
       "      <td>168</td>\n",
       "      <td>76.0</td>\n",
       "      <td>120</td>\n",
       "      <td>80</td>\n",
       "      <td>1</td>\n",
       "      <td>1</td>\n",
       "      <td>1</td>\n",
       "      <td>0</td>\n",
       "      <td>1</td>\n",
       "      <td>0</td>\n",
       "    </tr>\n",
       "    <tr>\n",
       "      <td>69996</td>\n",
       "      <td>61</td>\n",
       "      <td>0</td>\n",
       "      <td>158</td>\n",
       "      <td>126.0</td>\n",
       "      <td>140</td>\n",
       "      <td>90</td>\n",
       "      <td>2</td>\n",
       "      <td>2</td>\n",
       "      <td>0</td>\n",
       "      <td>0</td>\n",
       "      <td>1</td>\n",
       "      <td>1</td>\n",
       "    </tr>\n",
       "    <tr>\n",
       "      <td>69997</td>\n",
       "      <td>52</td>\n",
       "      <td>1</td>\n",
       "      <td>183</td>\n",
       "      <td>105.0</td>\n",
       "      <td>180</td>\n",
       "      <td>90</td>\n",
       "      <td>3</td>\n",
       "      <td>1</td>\n",
       "      <td>0</td>\n",
       "      <td>1</td>\n",
       "      <td>0</td>\n",
       "      <td>1</td>\n",
       "    </tr>\n",
       "    <tr>\n",
       "      <td>69998</td>\n",
       "      <td>61</td>\n",
       "      <td>0</td>\n",
       "      <td>163</td>\n",
       "      <td>72.0</td>\n",
       "      <td>135</td>\n",
       "      <td>80</td>\n",
       "      <td>1</td>\n",
       "      <td>2</td>\n",
       "      <td>0</td>\n",
       "      <td>0</td>\n",
       "      <td>0</td>\n",
       "      <td>1</td>\n",
       "    </tr>\n",
       "    <tr>\n",
       "      <td>69999</td>\n",
       "      <td>56</td>\n",
       "      <td>0</td>\n",
       "      <td>170</td>\n",
       "      <td>72.0</td>\n",
       "      <td>120</td>\n",
       "      <td>80</td>\n",
       "      <td>2</td>\n",
       "      <td>1</td>\n",
       "      <td>0</td>\n",
       "      <td>0</td>\n",
       "      <td>1</td>\n",
       "      <td>0</td>\n",
       "    </tr>\n",
       "  </tbody>\n",
       "</table>\n",
       "<p>68593 rows × 12 columns</p>\n",
       "</div>"
      ],
      "text/plain": [
       "       age  gender  height  weight  ap_hi  ap_lo  cholesterol  gluc  smoke  \\\n",
       "0       50       1     168    62.0    110     80            1     1      0   \n",
       "1       55       0     156    85.0    140     90            3     1      0   \n",
       "2       51       0     165    64.0    130     70            3     1      0   \n",
       "3       48       1     169    82.0    150    100            1     1      0   \n",
       "4       47       0     156    56.0    100     60            1     1      0   \n",
       "...    ...     ...     ...     ...    ...    ...          ...   ...    ...   \n",
       "69995   52       1     168    76.0    120     80            1     1      1   \n",
       "69996   61       0     158   126.0    140     90            2     2      0   \n",
       "69997   52       1     183   105.0    180     90            3     1      0   \n",
       "69998   61       0     163    72.0    135     80            1     2      0   \n",
       "69999   56       0     170    72.0    120     80            2     1      0   \n",
       "\n",
       "       alco  active  cardio  \n",
       "0         0       1       0  \n",
       "1         0       1       1  \n",
       "2         0       0       1  \n",
       "3         0       1       1  \n",
       "4         0       0       0  \n",
       "...     ...     ...     ...  \n",
       "69995     0       1       0  \n",
       "69996     0       1       1  \n",
       "69997     1       0       1  \n",
       "69998     0       0       1  \n",
       "69999     0       1       0  \n",
       "\n",
       "[68593 rows x 12 columns]"
      ]
     },
     "execution_count": 18,
     "metadata": {},
     "output_type": "execute_result"
    }
   ],
   "source": [
    "cardio_data"
   ]
  },
  {
   "cell_type": "markdown",
   "metadata": {},
   "source": [
    "###### Data and correlations visualisation"
   ]
  },
  {
   "cell_type": "markdown",
   "metadata": {},
   "source": [
    "It is a good idea to use boxplots to visualise the span of the continuous values, to see how outliers are distributed and to confirm that the impossible values are removed."
   ]
  },
  {
   "cell_type": "code",
   "execution_count": 19,
   "metadata": {},
   "outputs": [
    {
     "data": {
      "image/png": "[encoded data removed]",
      "text/plain": [
       "<Figure size 1008x864 with 1 Axes>"
      ]
     },
     "metadata": {
      "needs_background": "light"
     },
     "output_type": "display_data"
    }
   ],
   "source": [
    "plt.figure(figsize = (14,12))\n",
    "sns.boxplot(x = \"variable\", y = \"value\", data = pd.melt(cardio_data[[\"age\", \"height\", \"weight\", \"ap_lo\", \"ap_hi\"]]))\n",
    "plt.show()"
   ]
  },
  {
   "cell_type": "markdown",
   "metadata": {},
   "source": [
    "The upper outliers for the blood pressure readings are most probably the values of interest. We can see many outliers in the weight data. It is evident from the plot that most people participating in the measurements are adults in their 40s and 50ts, there are also several younger adults. <br>\n",
    "\n",
    "For the categorical and binary values I am going to use seaborn countplots."
   ]
  },
  {
   "cell_type": "code",
   "execution_count": 20,
   "metadata": {},
   "outputs": [
    {
     "data": {
      "image/png": "[encoded data removed]",
      "text/plain": [
       "<Figure size 864x432 with 2 Axes>"
      ]
     },
     "metadata": {
      "needs_background": "light"
     },
     "output_type": "display_data"
    }
   ],
   "source": [
    "f, ax = plt.subplots(1,2, figsize=(12,6))\n",
    "\n",
    "sns.countplot(x = \"variable\", hue = \"value\", data = pd.melt(cardio_data[[\"cholesterol\", \"gluc\",]]), ax = ax[0])\n",
    "\n",
    "sns.countplot(x = \"variable\", hue = \"value\", data = pd.melt(cardio_data[[\"gender\",\n",
    "                                                                         \"smoke\", \"alco\", \"active\", \"cardio\"]]), ax = ax[1])\n",
    "plt.show()\n"
   ]
  },
  {
   "cell_type": "markdown",
   "metadata": {},
   "source": [
    "The right plot shows that most people in the dataset are male and do not smoke or consume alcohol. The majority of the participants are not active. The presence and absence of cardiological issues are almost equally distributed. According to the left plot most people do have normal cholesterol and glucose blood levels."
   ]
  },
  {
   "cell_type": "markdown",
   "metadata": {},
   "source": [
    "Let's now see how the different features are correlated."
   ]
  },
  {
   "cell_type": "code",
   "execution_count": 21,
   "metadata": {},
   "outputs": [
    {
     "data": {
      "image/png": "[encoded data removed]",
      "text/plain": [
       "<Figure size 1008x864 with 2 Axes>"
      ]
     },
     "metadata": {
      "needs_background": "light"
     },
     "output_type": "display_data"
    }
   ],
   "source": [
    "f, ax = plt.subplots(figsize = (14,12))\n",
    "sns.heatmap(cardio_data.corr(), annot = True, fmt = \".1g\", linewidths = 0.5, ax = ax)\n",
    "\n",
    "#fixing first and last row of the matrix as they are cut in half\n",
    "bottom, top = ax.get_ylim()\n",
    "ax.set_ylim(bottom + 0.5, top - 0.5)\n",
    "plt.show()"
   ]
  },
  {
   "cell_type": "markdown",
   "metadata": {},
   "source": [
    "Obviously there is correlation between the low and high blood pressure values which is expected. Additionally there is apparently correlation between values of blood glucose and cholesterol, as well as between height and gender. Some connection between systolic blood pressure readings and cardiological disease is also discernible."
   ]
  },
  {
   "cell_type": "markdown",
   "metadata": {},
   "source": [
    "###### Preparing feature and target data for machine learning"
   ]
  },
  {
   "cell_type": "markdown",
   "metadata": {},
   "source": [
    "If just one of the blood pressure readings (systolic or diastolic) is higher than normal, this is considered prehypertension or hypertension. Because of this, classification of blood pressure can be done based on the sum of both readings. What is more, taking the sum is a way to keep blood pressure values with mistakenly reversed systolic and diastolic readings (diastolic blood pressure cannot be higher than systolic)."
   ]
  },
  {
   "cell_type": "code",
   "execution_count": 22,
   "metadata": {},
   "outputs": [],
   "source": [
    "#preparing the target column\n",
    "cardio_data[\"hypertension\"] = cardio_data.ap_hi + cardio_data.ap_lo\n",
    "\n",
    "conditions = [\n",
    "    (cardio_data[\"hypertension\"] <= 200),\n",
    "    (cardio_data[\"hypertension\"] <= 230) & (cardio_data[\"hypertension\"] > 200),\n",
    "    (cardio_data[\"hypertension\"] > 230)\n",
    "    ]\n",
    "\n",
    "# create a list of the values we want to assign for each condition\n",
    "values = [\"normal\", \"prehypertension\", \"hypertension\"]\n",
    "\n",
    "# create a new column and use np.select to assign values to it using our lists as arguments\n",
    "cardio_data[\"hypertension\"] = np.select(conditions, values)"
   ]
  },
  {
   "cell_type": "code",
   "execution_count": 23,
   "metadata": {},
   "outputs": [],
   "source": [
    "cardio_data = cardio_data.reset_index(drop=True)"
   ]
  },
  {
   "cell_type": "code",
   "execution_count": 24,
   "metadata": {},
   "outputs": [
    {
     "data": {
      "text/html": [
       "<div>\n",
       "<style scoped>\n",
       "    .dataframe tbody tr th:only-of-type {\n",
       "        vertical-align: middle;\n",
       "    }\n",
       "\n",
       "    .dataframe tbody tr th {\n",
       "        vertical-align: top;\n",
       "    }\n",
       "\n",
       "    .dataframe thead th {\n",
       "        text-align: right;\n",
       "    }\n",
       "</style>\n",
       "<table border=\"1\" class=\"dataframe\">\n",
       "  <thead>\n",
       "    <tr style=\"text-align: right;\">\n",
       "      <th></th>\n",
       "      <th>age</th>\n",
       "      <th>gender</th>\n",
       "      <th>height</th>\n",
       "      <th>weight</th>\n",
       "      <th>ap_hi</th>\n",
       "      <th>ap_lo</th>\n",
       "      <th>cholesterol</th>\n",
       "      <th>gluc</th>\n",
       "      <th>smoke</th>\n",
       "      <th>alco</th>\n",
       "      <th>active</th>\n",
       "      <th>cardio</th>\n",
       "      <th>hypertension</th>\n",
       "    </tr>\n",
       "  </thead>\n",
       "  <tbody>\n",
       "    <tr>\n",
       "      <td>0</td>\n",
       "      <td>50</td>\n",
       "      <td>1</td>\n",
       "      <td>168</td>\n",
       "      <td>62.0</td>\n",
       "      <td>110</td>\n",
       "      <td>80</td>\n",
       "      <td>1</td>\n",
       "      <td>1</td>\n",
       "      <td>0</td>\n",
       "      <td>0</td>\n",
       "      <td>1</td>\n",
       "      <td>0</td>\n",
       "      <td>normal</td>\n",
       "    </tr>\n",
       "    <tr>\n",
       "      <td>1</td>\n",
       "      <td>55</td>\n",
       "      <td>0</td>\n",
       "      <td>156</td>\n",
       "      <td>85.0</td>\n",
       "      <td>140</td>\n",
       "      <td>90</td>\n",
       "      <td>3</td>\n",
       "      <td>1</td>\n",
       "      <td>0</td>\n",
       "      <td>0</td>\n",
       "      <td>1</td>\n",
       "      <td>1</td>\n",
       "      <td>prehypertension</td>\n",
       "    </tr>\n",
       "    <tr>\n",
       "      <td>2</td>\n",
       "      <td>51</td>\n",
       "      <td>0</td>\n",
       "      <td>165</td>\n",
       "      <td>64.0</td>\n",
       "      <td>130</td>\n",
       "      <td>70</td>\n",
       "      <td>3</td>\n",
       "      <td>1</td>\n",
       "      <td>0</td>\n",
       "      <td>0</td>\n",
       "      <td>0</td>\n",
       "      <td>1</td>\n",
       "      <td>normal</td>\n",
       "    </tr>\n",
       "    <tr>\n",
       "      <td>3</td>\n",
       "      <td>48</td>\n",
       "      <td>1</td>\n",
       "      <td>169</td>\n",
       "      <td>82.0</td>\n",
       "      <td>150</td>\n",
       "      <td>100</td>\n",
       "      <td>1</td>\n",
       "      <td>1</td>\n",
       "      <td>0</td>\n",
       "      <td>0</td>\n",
       "      <td>1</td>\n",
       "      <td>1</td>\n",
       "      <td>hypertension</td>\n",
       "    </tr>\n",
       "    <tr>\n",
       "      <td>4</td>\n",
       "      <td>47</td>\n",
       "      <td>0</td>\n",
       "      <td>156</td>\n",
       "      <td>56.0</td>\n",
       "      <td>100</td>\n",
       "      <td>60</td>\n",
       "      <td>1</td>\n",
       "      <td>1</td>\n",
       "      <td>0</td>\n",
       "      <td>0</td>\n",
       "      <td>0</td>\n",
       "      <td>0</td>\n",
       "      <td>normal</td>\n",
       "    </tr>\n",
       "    <tr>\n",
       "      <td>...</td>\n",
       "      <td>...</td>\n",
       "      <td>...</td>\n",
       "      <td>...</td>\n",
       "      <td>...</td>\n",
       "      <td>...</td>\n",
       "      <td>...</td>\n",
       "      <td>...</td>\n",
       "      <td>...</td>\n",
       "      <td>...</td>\n",
       "      <td>...</td>\n",
       "      <td>...</td>\n",
       "      <td>...</td>\n",
       "      <td>...</td>\n",
       "    </tr>\n",
       "    <tr>\n",
       "      <td>68588</td>\n",
       "      <td>52</td>\n",
       "      <td>1</td>\n",
       "      <td>168</td>\n",
       "      <td>76.0</td>\n",
       "      <td>120</td>\n",
       "      <td>80</td>\n",
       "      <td>1</td>\n",
       "      <td>1</td>\n",
       "      <td>1</td>\n",
       "      <td>0</td>\n",
       "      <td>1</td>\n",
       "      <td>0</td>\n",
       "      <td>normal</td>\n",
       "    </tr>\n",
       "    <tr>\n",
       "      <td>68589</td>\n",
       "      <td>61</td>\n",
       "      <td>0</td>\n",
       "      <td>158</td>\n",
       "      <td>126.0</td>\n",
       "      <td>140</td>\n",
       "      <td>90</td>\n",
       "      <td>2</td>\n",
       "      <td>2</td>\n",
       "      <td>0</td>\n",
       "      <td>0</td>\n",
       "      <td>1</td>\n",
       "      <td>1</td>\n",
       "      <td>prehypertension</td>\n",
       "    </tr>\n",
       "    <tr>\n",
       "      <td>68590</td>\n",
       "      <td>52</td>\n",
       "      <td>1</td>\n",
       "      <td>183</td>\n",
       "      <td>105.0</td>\n",
       "      <td>180</td>\n",
       "      <td>90</td>\n",
       "      <td>3</td>\n",
       "      <td>1</td>\n",
       "      <td>0</td>\n",
       "      <td>1</td>\n",
       "      <td>0</td>\n",
       "      <td>1</td>\n",
       "      <td>hypertension</td>\n",
       "    </tr>\n",
       "    <tr>\n",
       "      <td>68591</td>\n",
       "      <td>61</td>\n",
       "      <td>0</td>\n",
       "      <td>163</td>\n",
       "      <td>72.0</td>\n",
       "      <td>135</td>\n",
       "      <td>80</td>\n",
       "      <td>1</td>\n",
       "      <td>2</td>\n",
       "      <td>0</td>\n",
       "      <td>0</td>\n",
       "      <td>0</td>\n",
       "      <td>1</td>\n",
       "      <td>prehypertension</td>\n",
       "    </tr>\n",
       "    <tr>\n",
       "      <td>68592</td>\n",
       "      <td>56</td>\n",
       "      <td>0</td>\n",
       "      <td>170</td>\n",
       "      <td>72.0</td>\n",
       "      <td>120</td>\n",
       "      <td>80</td>\n",
       "      <td>2</td>\n",
       "      <td>1</td>\n",
       "      <td>0</td>\n",
       "      <td>0</td>\n",
       "      <td>1</td>\n",
       "      <td>0</td>\n",
       "      <td>normal</td>\n",
       "    </tr>\n",
       "  </tbody>\n",
       "</table>\n",
       "<p>68593 rows × 13 columns</p>\n",
       "</div>"
      ],
      "text/plain": [
       "       age  gender  height  weight  ap_hi  ap_lo  cholesterol  gluc  smoke  \\\n",
       "0       50       1     168    62.0    110     80            1     1      0   \n",
       "1       55       0     156    85.0    140     90            3     1      0   \n",
       "2       51       0     165    64.0    130     70            3     1      0   \n",
       "3       48       1     169    82.0    150    100            1     1      0   \n",
       "4       47       0     156    56.0    100     60            1     1      0   \n",
       "...    ...     ...     ...     ...    ...    ...          ...   ...    ...   \n",
       "68588   52       1     168    76.0    120     80            1     1      1   \n",
       "68589   61       0     158   126.0    140     90            2     2      0   \n",
       "68590   52       1     183   105.0    180     90            3     1      0   \n",
       "68591   61       0     163    72.0    135     80            1     2      0   \n",
       "68592   56       0     170    72.0    120     80            2     1      0   \n",
       "\n",
       "       alco  active  cardio     hypertension  \n",
       "0         0       1       0           normal  \n",
       "1         0       1       1  prehypertension  \n",
       "2         0       0       1           normal  \n",
       "3         0       1       1     hypertension  \n",
       "4         0       0       0           normal  \n",
       "...     ...     ...     ...              ...  \n",
       "68588     0       1       0           normal  \n",
       "68589     0       1       1  prehypertension  \n",
       "68590     1       0       1     hypertension  \n",
       "68591     0       0       1  prehypertension  \n",
       "68592     0       1       0           normal  \n",
       "\n",
       "[68593 rows x 13 columns]"
      ]
     },
     "execution_count": 24,
     "metadata": {},
     "output_type": "execute_result"
    }
   ],
   "source": [
    "cardio_data"
   ]
  },
  {
   "cell_type": "code",
   "execution_count": 25,
   "metadata": {},
   "outputs": [],
   "source": [
    "# Separating features and target data\n",
    "cardio_data_features = cardio_data.drop(columns=[\"ap_hi\", \"ap_lo\", \"hypertension\"])\n",
    "cardio_data_target = cardio_data[\"hypertension\"]"
   ]
  },
  {
   "cell_type": "code",
   "execution_count": 26,
   "metadata": {},
   "outputs": [
    {
     "data": {
      "text/html": [
       "<div>\n",
       "<style scoped>\n",
       "    .dataframe tbody tr th:only-of-type {\n",
       "        vertical-align: middle;\n",
       "    }\n",
       "\n",
       "    .dataframe tbody tr th {\n",
       "        vertical-align: top;\n",
       "    }\n",
       "\n",
       "    .dataframe thead th {\n",
       "        text-align: right;\n",
       "    }\n",
       "</style>\n",
       "<table border=\"1\" class=\"dataframe\">\n",
       "  <thead>\n",
       "    <tr style=\"text-align: right;\">\n",
       "      <th></th>\n",
       "      <th>age</th>\n",
       "      <th>gender</th>\n",
       "      <th>height</th>\n",
       "      <th>weight</th>\n",
       "      <th>cholesterol</th>\n",
       "      <th>gluc</th>\n",
       "      <th>smoke</th>\n",
       "      <th>alco</th>\n",
       "      <th>active</th>\n",
       "      <th>cardio</th>\n",
       "    </tr>\n",
       "  </thead>\n",
       "  <tbody>\n",
       "    <tr>\n",
       "      <td>0</td>\n",
       "      <td>50</td>\n",
       "      <td>1</td>\n",
       "      <td>168</td>\n",
       "      <td>62.0</td>\n",
       "      <td>1</td>\n",
       "      <td>1</td>\n",
       "      <td>0</td>\n",
       "      <td>0</td>\n",
       "      <td>1</td>\n",
       "      <td>0</td>\n",
       "    </tr>\n",
       "    <tr>\n",
       "      <td>1</td>\n",
       "      <td>55</td>\n",
       "      <td>0</td>\n",
       "      <td>156</td>\n",
       "      <td>85.0</td>\n",
       "      <td>3</td>\n",
       "      <td>1</td>\n",
       "      <td>0</td>\n",
       "      <td>0</td>\n",
       "      <td>1</td>\n",
       "      <td>1</td>\n",
       "    </tr>\n",
       "    <tr>\n",
       "      <td>2</td>\n",
       "      <td>51</td>\n",
       "      <td>0</td>\n",
       "      <td>165</td>\n",
       "      <td>64.0</td>\n",
       "      <td>3</td>\n",
       "      <td>1</td>\n",
       "      <td>0</td>\n",
       "      <td>0</td>\n",
       "      <td>0</td>\n",
       "      <td>1</td>\n",
       "    </tr>\n",
       "    <tr>\n",
       "      <td>3</td>\n",
       "      <td>48</td>\n",
       "      <td>1</td>\n",
       "      <td>169</td>\n",
       "      <td>82.0</td>\n",
       "      <td>1</td>\n",
       "      <td>1</td>\n",
       "      <td>0</td>\n",
       "      <td>0</td>\n",
       "      <td>1</td>\n",
       "      <td>1</td>\n",
       "    </tr>\n",
       "    <tr>\n",
       "      <td>4</td>\n",
       "      <td>47</td>\n",
       "      <td>0</td>\n",
       "      <td>156</td>\n",
       "      <td>56.0</td>\n",
       "      <td>1</td>\n",
       "      <td>1</td>\n",
       "      <td>0</td>\n",
       "      <td>0</td>\n",
       "      <td>0</td>\n",
       "      <td>0</td>\n",
       "    </tr>\n",
       "    <tr>\n",
       "      <td>...</td>\n",
       "      <td>...</td>\n",
       "      <td>...</td>\n",
       "      <td>...</td>\n",
       "      <td>...</td>\n",
       "      <td>...</td>\n",
       "      <td>...</td>\n",
       "      <td>...</td>\n",
       "      <td>...</td>\n",
       "      <td>...</td>\n",
       "      <td>...</td>\n",
       "    </tr>\n",
       "    <tr>\n",
       "      <td>68588</td>\n",
       "      <td>52</td>\n",
       "      <td>1</td>\n",
       "      <td>168</td>\n",
       "      <td>76.0</td>\n",
       "      <td>1</td>\n",
       "      <td>1</td>\n",
       "      <td>1</td>\n",
       "      <td>0</td>\n",
       "      <td>1</td>\n",
       "      <td>0</td>\n",
       "    </tr>\n",
       "    <tr>\n",
       "      <td>68589</td>\n",
       "      <td>61</td>\n",
       "      <td>0</td>\n",
       "      <td>158</td>\n",
       "      <td>126.0</td>\n",
       "      <td>2</td>\n",
       "      <td>2</td>\n",
       "      <td>0</td>\n",
       "      <td>0</td>\n",
       "      <td>1</td>\n",
       "      <td>1</td>\n",
       "    </tr>\n",
       "    <tr>\n",
       "      <td>68590</td>\n",
       "      <td>52</td>\n",
       "      <td>1</td>\n",
       "      <td>183</td>\n",
       "      <td>105.0</td>\n",
       "      <td>3</td>\n",
       "      <td>1</td>\n",
       "      <td>0</td>\n",
       "      <td>1</td>\n",
       "      <td>0</td>\n",
       "      <td>1</td>\n",
       "    </tr>\n",
       "    <tr>\n",
       "      <td>68591</td>\n",
       "      <td>61</td>\n",
       "      <td>0</td>\n",
       "      <td>163</td>\n",
       "      <td>72.0</td>\n",
       "      <td>1</td>\n",
       "      <td>2</td>\n",
       "      <td>0</td>\n",
       "      <td>0</td>\n",
       "      <td>0</td>\n",
       "      <td>1</td>\n",
       "    </tr>\n",
       "    <tr>\n",
       "      <td>68592</td>\n",
       "      <td>56</td>\n",
       "      <td>0</td>\n",
       "      <td>170</td>\n",
       "      <td>72.0</td>\n",
       "      <td>2</td>\n",
       "      <td>1</td>\n",
       "      <td>0</td>\n",
       "      <td>0</td>\n",
       "      <td>1</td>\n",
       "      <td>0</td>\n",
       "    </tr>\n",
       "  </tbody>\n",
       "</table>\n",
       "<p>68593 rows × 10 columns</p>\n",
       "</div>"
      ],
      "text/plain": [
       "       age  gender  height  weight  cholesterol  gluc  smoke  alco  active  \\\n",
       "0       50       1     168    62.0            1     1      0     0       1   \n",
       "1       55       0     156    85.0            3     1      0     0       1   \n",
       "2       51       0     165    64.0            3     1      0     0       0   \n",
       "3       48       1     169    82.0            1     1      0     0       1   \n",
       "4       47       0     156    56.0            1     1      0     0       0   \n",
       "...    ...     ...     ...     ...          ...   ...    ...   ...     ...   \n",
       "68588   52       1     168    76.0            1     1      1     0       1   \n",
       "68589   61       0     158   126.0            2     2      0     0       1   \n",
       "68590   52       1     183   105.0            3     1      0     1       0   \n",
       "68591   61       0     163    72.0            1     2      0     0       0   \n",
       "68592   56       0     170    72.0            2     1      0     0       1   \n",
       "\n",
       "       cardio  \n",
       "0           0  \n",
       "1           1  \n",
       "2           1  \n",
       "3           1  \n",
       "4           0  \n",
       "...       ...  \n",
       "68588       0  \n",
       "68589       1  \n",
       "68590       1  \n",
       "68591       1  \n",
       "68592       0  \n",
       "\n",
       "[68593 rows x 10 columns]"
      ]
     },
     "execution_count": 26,
     "metadata": {},
     "output_type": "execute_result"
    }
   ],
   "source": [
    "cardio_data_features"
   ]
  },
  {
   "cell_type": "markdown",
   "metadata": {},
   "source": [
    "Deriving information and visualising target data is also necessary."
   ]
  },
  {
   "cell_type": "code",
   "execution_count": 28,
   "metadata": {},
   "outputs": [
    {
     "data": {
      "text/plain": [
       "array(['normal', 'prehypertension', 'hypertension'], dtype=object)"
      ]
     },
     "execution_count": 28,
     "metadata": {},
     "output_type": "execute_result"
    }
   ],
   "source": [
    "cardio_data_target.unique()"
   ]
  },
  {
   "cell_type": "code",
   "execution_count": 29,
   "metadata": {},
   "outputs": [
    {
     "data": {
      "text/plain": [
       "(68593,)"
      ]
     },
     "execution_count": 29,
     "metadata": {},
     "output_type": "execute_result"
    }
   ],
   "source": [
    "cardio_data_target.shape"
   ]
  },
  {
   "cell_type": "code",
   "execution_count": 30,
   "metadata": {},
   "outputs": [
    {
     "data": {
      "image/png": "[encoded data removed]",
      "text/plain": [
       "<Figure size 432x288 with 1 Axes>"
      ]
     },
     "metadata": {
      "needs_background": "light"
     },
     "output_type": "display_data"
    }
   ],
   "source": [
    "sns.countplot(x = cardio_data_target)\n",
    "plt.show()"
   ]
  },
  {
   "cell_type": "markdown",
   "metadata": {},
   "source": [
    "Obviously the three different classes do not have equal counts, so the dataset is imbalanced"
   ]
  },
  {
   "cell_type": "markdown",
   "metadata": {},
   "source": [
    "Тhe cholesterol and glucose columns are the only categorical columns with more than two categories. Before getting the indicator (dummy) values for these, I am going to give meaningful names for the resulting columns."
   ]
  },
  {
   "cell_type": "code",
   "execution_count": 31,
   "metadata": {},
   "outputs": [],
   "source": [
    "cardio_data_features[\"cholesterol\"] = cardio_data_features[\"cholesterol\"].map({ 1: \"normal\", 2: \"above normal\", 3: \"well above normal\"})\n",
    "cardio_data_features[\"gluc\"] = cardio_data_features[\"gluc\"].map({ 1: \"normal\", 2: \"above normal\", 3: \"well above normal\"})"
   ]
  },
  {
   "cell_type": "code",
   "execution_count": 32,
   "metadata": {},
   "outputs": [],
   "source": [
    "cardio_data_features = pd.get_dummies(cardio_data_features, columns=[\"cholesterol\", \"gluc\"])"
   ]
  },
  {
   "cell_type": "code",
   "execution_count": 33,
   "metadata": {},
   "outputs": [
    {
     "data": {
      "text/html": [
       "<div>\n",
       "<style scoped>\n",
       "    .dataframe tbody tr th:only-of-type {\n",
       "        vertical-align: middle;\n",
       "    }\n",
       "\n",
       "    .dataframe tbody tr th {\n",
       "        vertical-align: top;\n",
       "    }\n",
       "\n",
       "    .dataframe thead th {\n",
       "        text-align: right;\n",
       "    }\n",
       "</style>\n",
       "<table border=\"1\" class=\"dataframe\">\n",
       "  <thead>\n",
       "    <tr style=\"text-align: right;\">\n",
       "      <th></th>\n",
       "      <th>age</th>\n",
       "      <th>gender</th>\n",
       "      <th>height</th>\n",
       "      <th>weight</th>\n",
       "      <th>smoke</th>\n",
       "      <th>alco</th>\n",
       "      <th>active</th>\n",
       "      <th>cardio</th>\n",
       "      <th>cholesterol_above normal</th>\n",
       "      <th>cholesterol_normal</th>\n",
       "      <th>cholesterol_well above normal</th>\n",
       "      <th>gluc_above normal</th>\n",
       "      <th>gluc_normal</th>\n",
       "      <th>gluc_well above normal</th>\n",
       "    </tr>\n",
       "  </thead>\n",
       "  <tbody>\n",
       "    <tr>\n",
       "      <td>0</td>\n",
       "      <td>50</td>\n",
       "      <td>1</td>\n",
       "      <td>168</td>\n",
       "      <td>62.0</td>\n",
       "      <td>0</td>\n",
       "      <td>0</td>\n",
       "      <td>1</td>\n",
       "      <td>0</td>\n",
       "      <td>0</td>\n",
       "      <td>1</td>\n",
       "      <td>0</td>\n",
       "      <td>0</td>\n",
       "      <td>1</td>\n",
       "      <td>0</td>\n",
       "    </tr>\n",
       "    <tr>\n",
       "      <td>1</td>\n",
       "      <td>55</td>\n",
       "      <td>0</td>\n",
       "      <td>156</td>\n",
       "      <td>85.0</td>\n",
       "      <td>0</td>\n",
       "      <td>0</td>\n",
       "      <td>1</td>\n",
       "      <td>1</td>\n",
       "      <td>0</td>\n",
       "      <td>0</td>\n",
       "      <td>1</td>\n",
       "      <td>0</td>\n",
       "      <td>1</td>\n",
       "      <td>0</td>\n",
       "    </tr>\n",
       "    <tr>\n",
       "      <td>2</td>\n",
       "      <td>51</td>\n",
       "      <td>0</td>\n",
       "      <td>165</td>\n",
       "      <td>64.0</td>\n",
       "      <td>0</td>\n",
       "      <td>0</td>\n",
       "      <td>0</td>\n",
       "      <td>1</td>\n",
       "      <td>0</td>\n",
       "      <td>0</td>\n",
       "      <td>1</td>\n",
       "      <td>0</td>\n",
       "      <td>1</td>\n",
       "      <td>0</td>\n",
       "    </tr>\n",
       "    <tr>\n",
       "      <td>3</td>\n",
       "      <td>48</td>\n",
       "      <td>1</td>\n",
       "      <td>169</td>\n",
       "      <td>82.0</td>\n",
       "      <td>0</td>\n",
       "      <td>0</td>\n",
       "      <td>1</td>\n",
       "      <td>1</td>\n",
       "      <td>0</td>\n",
       "      <td>1</td>\n",
       "      <td>0</td>\n",
       "      <td>0</td>\n",
       "      <td>1</td>\n",
       "      <td>0</td>\n",
       "    </tr>\n",
       "    <tr>\n",
       "      <td>4</td>\n",
       "      <td>47</td>\n",
       "      <td>0</td>\n",
       "      <td>156</td>\n",
       "      <td>56.0</td>\n",
       "      <td>0</td>\n",
       "      <td>0</td>\n",
       "      <td>0</td>\n",
       "      <td>0</td>\n",
       "      <td>0</td>\n",
       "      <td>1</td>\n",
       "      <td>0</td>\n",
       "      <td>0</td>\n",
       "      <td>1</td>\n",
       "      <td>0</td>\n",
       "    </tr>\n",
       "    <tr>\n",
       "      <td>...</td>\n",
       "      <td>...</td>\n",
       "      <td>...</td>\n",
       "      <td>...</td>\n",
       "      <td>...</td>\n",
       "      <td>...</td>\n",
       "      <td>...</td>\n",
       "      <td>...</td>\n",
       "      <td>...</td>\n",
       "      <td>...</td>\n",
       "      <td>...</td>\n",
       "      <td>...</td>\n",
       "      <td>...</td>\n",
       "      <td>...</td>\n",
       "      <td>...</td>\n",
       "    </tr>\n",
       "    <tr>\n",
       "      <td>68588</td>\n",
       "      <td>52</td>\n",
       "      <td>1</td>\n",
       "      <td>168</td>\n",
       "      <td>76.0</td>\n",
       "      <td>1</td>\n",
       "      <td>0</td>\n",
       "      <td>1</td>\n",
       "      <td>0</td>\n",
       "      <td>0</td>\n",
       "      <td>1</td>\n",
       "      <td>0</td>\n",
       "      <td>0</td>\n",
       "      <td>1</td>\n",
       "      <td>0</td>\n",
       "    </tr>\n",
       "    <tr>\n",
       "      <td>68589</td>\n",
       "      <td>61</td>\n",
       "      <td>0</td>\n",
       "      <td>158</td>\n",
       "      <td>126.0</td>\n",
       "      <td>0</td>\n",
       "      <td>0</td>\n",
       "      <td>1</td>\n",
       "      <td>1</td>\n",
       "      <td>1</td>\n",
       "      <td>0</td>\n",
       "      <td>0</td>\n",
       "      <td>1</td>\n",
       "      <td>0</td>\n",
       "      <td>0</td>\n",
       "    </tr>\n",
       "    <tr>\n",
       "      <td>68590</td>\n",
       "      <td>52</td>\n",
       "      <td>1</td>\n",
       "      <td>183</td>\n",
       "      <td>105.0</td>\n",
       "      <td>0</td>\n",
       "      <td>1</td>\n",
       "      <td>0</td>\n",
       "      <td>1</td>\n",
       "      <td>0</td>\n",
       "      <td>0</td>\n",
       "      <td>1</td>\n",
       "      <td>0</td>\n",
       "      <td>1</td>\n",
       "      <td>0</td>\n",
       "    </tr>\n",
       "    <tr>\n",
       "      <td>68591</td>\n",
       "      <td>61</td>\n",
       "      <td>0</td>\n",
       "      <td>163</td>\n",
       "      <td>72.0</td>\n",
       "      <td>0</td>\n",
       "      <td>0</td>\n",
       "      <td>0</td>\n",
       "      <td>1</td>\n",
       "      <td>0</td>\n",
       "      <td>1</td>\n",
       "      <td>0</td>\n",
       "      <td>1</td>\n",
       "      <td>0</td>\n",
       "      <td>0</td>\n",
       "    </tr>\n",
       "    <tr>\n",
       "      <td>68592</td>\n",
       "      <td>56</td>\n",
       "      <td>0</td>\n",
       "      <td>170</td>\n",
       "      <td>72.0</td>\n",
       "      <td>0</td>\n",
       "      <td>0</td>\n",
       "      <td>1</td>\n",
       "      <td>0</td>\n",
       "      <td>1</td>\n",
       "      <td>0</td>\n",
       "      <td>0</td>\n",
       "      <td>0</td>\n",
       "      <td>1</td>\n",
       "      <td>0</td>\n",
       "    </tr>\n",
       "  </tbody>\n",
       "</table>\n",
       "<p>68593 rows × 14 columns</p>\n",
       "</div>"
      ],
      "text/plain": [
       "       age  gender  height  weight  smoke  alco  active  cardio  \\\n",
       "0       50       1     168    62.0      0     0       1       0   \n",
       "1       55       0     156    85.0      0     0       1       1   \n",
       "2       51       0     165    64.0      0     0       0       1   \n",
       "3       48       1     169    82.0      0     0       1       1   \n",
       "4       47       0     156    56.0      0     0       0       0   \n",
       "...    ...     ...     ...     ...    ...   ...     ...     ...   \n",
       "68588   52       1     168    76.0      1     0       1       0   \n",
       "68589   61       0     158   126.0      0     0       1       1   \n",
       "68590   52       1     183   105.0      0     1       0       1   \n",
       "68591   61       0     163    72.0      0     0       0       1   \n",
       "68592   56       0     170    72.0      0     0       1       0   \n",
       "\n",
       "       cholesterol_above normal  cholesterol_normal  \\\n",
       "0                             0                   1   \n",
       "1                             0                   0   \n",
       "2                             0                   0   \n",
       "3                             0                   1   \n",
       "4                             0                   1   \n",
       "...                         ...                 ...   \n",
       "68588                         0                   1   \n",
       "68589                         1                   0   \n",
       "68590                         0                   0   \n",
       "68591                         0                   1   \n",
       "68592                         1                   0   \n",
       "\n",
       "       cholesterol_well above normal  gluc_above normal  gluc_normal  \\\n",
       "0                                  0                  0            1   \n",
       "1                                  1                  0            1   \n",
       "2                                  1                  0            1   \n",
       "3                                  0                  0            1   \n",
       "4                                  0                  0            1   \n",
       "...                              ...                ...          ...   \n",
       "68588                              0                  0            1   \n",
       "68589                              0                  1            0   \n",
       "68590                              1                  0            1   \n",
       "68591                              0                  1            0   \n",
       "68592                              0                  0            1   \n",
       "\n",
       "       gluc_well above normal  \n",
       "0                           0  \n",
       "1                           0  \n",
       "2                           0  \n",
       "3                           0  \n",
       "4                           0  \n",
       "...                       ...  \n",
       "68588                       0  \n",
       "68589                       0  \n",
       "68590                       0  \n",
       "68591                       0  \n",
       "68592                       0  \n",
       "\n",
       "[68593 rows x 14 columns]"
      ]
     },
     "execution_count": 33,
     "metadata": {},
     "output_type": "execute_result"
    }
   ],
   "source": [
    "cardio_data_features"
   ]
  },
  {
   "cell_type": "markdown",
   "metadata": {},
   "source": [
    "I can aslo remove the dummy columns that can be deduced from the others - cholesterol_normal and gluc_normal"
   ]
  },
  {
   "cell_type": "code",
   "execution_count": 34,
   "metadata": {},
   "outputs": [],
   "source": [
    "cardio_data_features.drop(columns = [\"cholesterol_normal\", \"gluc_normal\"], inplace = True)"
   ]
  },
  {
   "cell_type": "markdown",
   "metadata": {},
   "source": [
    "Finally, it is always a good idea to normalize the features data, although the ranges of the numeric columns in this dataset are not so different. "
   ]
  },
  {
   "cell_type": "code",
   "execution_count": 35,
   "metadata": {},
   "outputs": [],
   "source": [
    "scaler = StandardScaler()\n",
    "cardio_data_features[[\"age\", \"height\", \"weight\"]] = scaler.fit_transform(cardio_data_features[[\"age\", \"height\", \"weight\"]])"
   ]
  },
  {
   "cell_type": "code",
   "execution_count": 36,
   "metadata": {},
   "outputs": [
    {
     "data": {
      "text/html": [
       "<div>\n",
       "<style scoped>\n",
       "    .dataframe tbody tr th:only-of-type {\n",
       "        vertical-align: middle;\n",
       "    }\n",
       "\n",
       "    .dataframe tbody tr th {\n",
       "        vertical-align: top;\n",
       "    }\n",
       "\n",
       "    .dataframe thead th {\n",
       "        text-align: right;\n",
       "    }\n",
       "</style>\n",
       "<table border=\"1\" class=\"dataframe\">\n",
       "  <thead>\n",
       "    <tr style=\"text-align: right;\">\n",
       "      <th></th>\n",
       "      <th>age</th>\n",
       "      <th>gender</th>\n",
       "      <th>height</th>\n",
       "      <th>weight</th>\n",
       "      <th>smoke</th>\n",
       "      <th>alco</th>\n",
       "      <th>active</th>\n",
       "      <th>cardio</th>\n",
       "      <th>cholesterol_above normal</th>\n",
       "      <th>cholesterol_well above normal</th>\n",
       "      <th>gluc_above normal</th>\n",
       "      <th>gluc_well above normal</th>\n",
       "    </tr>\n",
       "  </thead>\n",
       "  <tbody>\n",
       "    <tr>\n",
       "      <td>0</td>\n",
       "      <td>-0.417987</td>\n",
       "      <td>1</td>\n",
       "      <td>0.452951</td>\n",
       "      <td>-0.850075</td>\n",
       "      <td>0</td>\n",
       "      <td>0</td>\n",
       "      <td>1</td>\n",
       "      <td>0</td>\n",
       "      <td>0</td>\n",
       "      <td>0</td>\n",
       "      <td>0</td>\n",
       "      <td>0</td>\n",
       "    </tr>\n",
       "    <tr>\n",
       "      <td>1</td>\n",
       "      <td>0.320785</td>\n",
       "      <td>0</td>\n",
       "      <td>-1.085062</td>\n",
       "      <td>0.761421</td>\n",
       "      <td>0</td>\n",
       "      <td>0</td>\n",
       "      <td>1</td>\n",
       "      <td>1</td>\n",
       "      <td>0</td>\n",
       "      <td>1</td>\n",
       "      <td>0</td>\n",
       "      <td>0</td>\n",
       "    </tr>\n",
       "    <tr>\n",
       "      <td>2</td>\n",
       "      <td>-0.270233</td>\n",
       "      <td>0</td>\n",
       "      <td>0.068448</td>\n",
       "      <td>-0.709945</td>\n",
       "      <td>0</td>\n",
       "      <td>0</td>\n",
       "      <td>0</td>\n",
       "      <td>1</td>\n",
       "      <td>0</td>\n",
       "      <td>1</td>\n",
       "      <td>0</td>\n",
       "      <td>0</td>\n",
       "    </tr>\n",
       "    <tr>\n",
       "      <td>3</td>\n",
       "      <td>-0.713496</td>\n",
       "      <td>1</td>\n",
       "      <td>0.581119</td>\n",
       "      <td>0.551226</td>\n",
       "      <td>0</td>\n",
       "      <td>0</td>\n",
       "      <td>1</td>\n",
       "      <td>1</td>\n",
       "      <td>0</td>\n",
       "      <td>0</td>\n",
       "      <td>0</td>\n",
       "      <td>0</td>\n",
       "    </tr>\n",
       "    <tr>\n",
       "      <td>4</td>\n",
       "      <td>-0.861250</td>\n",
       "      <td>0</td>\n",
       "      <td>-1.085062</td>\n",
       "      <td>-1.270465</td>\n",
       "      <td>0</td>\n",
       "      <td>0</td>\n",
       "      <td>0</td>\n",
       "      <td>0</td>\n",
       "      <td>0</td>\n",
       "      <td>0</td>\n",
       "      <td>0</td>\n",
       "      <td>0</td>\n",
       "    </tr>\n",
       "    <tr>\n",
       "      <td>...</td>\n",
       "      <td>...</td>\n",
       "      <td>...</td>\n",
       "      <td>...</td>\n",
       "      <td>...</td>\n",
       "      <td>...</td>\n",
       "      <td>...</td>\n",
       "      <td>...</td>\n",
       "      <td>...</td>\n",
       "      <td>...</td>\n",
       "      <td>...</td>\n",
       "      <td>...</td>\n",
       "      <td>...</td>\n",
       "    </tr>\n",
       "    <tr>\n",
       "      <td>68588</td>\n",
       "      <td>-0.122478</td>\n",
       "      <td>1</td>\n",
       "      <td>0.452951</td>\n",
       "      <td>0.130836</td>\n",
       "      <td>1</td>\n",
       "      <td>0</td>\n",
       "      <td>1</td>\n",
       "      <td>0</td>\n",
       "      <td>0</td>\n",
       "      <td>0</td>\n",
       "      <td>0</td>\n",
       "      <td>0</td>\n",
       "    </tr>\n",
       "    <tr>\n",
       "      <td>68589</td>\n",
       "      <td>1.207311</td>\n",
       "      <td>0</td>\n",
       "      <td>-0.828727</td>\n",
       "      <td>3.634088</td>\n",
       "      <td>0</td>\n",
       "      <td>0</td>\n",
       "      <td>1</td>\n",
       "      <td>1</td>\n",
       "      <td>1</td>\n",
       "      <td>0</td>\n",
       "      <td>1</td>\n",
       "      <td>0</td>\n",
       "    </tr>\n",
       "    <tr>\n",
       "      <td>68590</td>\n",
       "      <td>-0.122478</td>\n",
       "      <td>1</td>\n",
       "      <td>2.375468</td>\n",
       "      <td>2.162722</td>\n",
       "      <td>0</td>\n",
       "      <td>1</td>\n",
       "      <td>0</td>\n",
       "      <td>1</td>\n",
       "      <td>0</td>\n",
       "      <td>1</td>\n",
       "      <td>0</td>\n",
       "      <td>0</td>\n",
       "    </tr>\n",
       "    <tr>\n",
       "      <td>68591</td>\n",
       "      <td>1.207311</td>\n",
       "      <td>0</td>\n",
       "      <td>-0.187888</td>\n",
       "      <td>-0.149424</td>\n",
       "      <td>0</td>\n",
       "      <td>0</td>\n",
       "      <td>0</td>\n",
       "      <td>1</td>\n",
       "      <td>0</td>\n",
       "      <td>0</td>\n",
       "      <td>1</td>\n",
       "      <td>0</td>\n",
       "    </tr>\n",
       "    <tr>\n",
       "      <td>68592</td>\n",
       "      <td>0.468539</td>\n",
       "      <td>0</td>\n",
       "      <td>0.709287</td>\n",
       "      <td>-0.149424</td>\n",
       "      <td>0</td>\n",
       "      <td>0</td>\n",
       "      <td>1</td>\n",
       "      <td>0</td>\n",
       "      <td>1</td>\n",
       "      <td>0</td>\n",
       "      <td>0</td>\n",
       "      <td>0</td>\n",
       "    </tr>\n",
       "  </tbody>\n",
       "</table>\n",
       "<p>68593 rows × 12 columns</p>\n",
       "</div>"
      ],
      "text/plain": [
       "            age  gender    height    weight  smoke  alco  active  cardio  \\\n",
       "0     -0.417987       1  0.452951 -0.850075      0     0       1       0   \n",
       "1      0.320785       0 -1.085062  0.761421      0     0       1       1   \n",
       "2     -0.270233       0  0.068448 -0.709945      0     0       0       1   \n",
       "3     -0.713496       1  0.581119  0.551226      0     0       1       1   \n",
       "4     -0.861250       0 -1.085062 -1.270465      0     0       0       0   \n",
       "...         ...     ...       ...       ...    ...   ...     ...     ...   \n",
       "68588 -0.122478       1  0.452951  0.130836      1     0       1       0   \n",
       "68589  1.207311       0 -0.828727  3.634088      0     0       1       1   \n",
       "68590 -0.122478       1  2.375468  2.162722      0     1       0       1   \n",
       "68591  1.207311       0 -0.187888 -0.149424      0     0       0       1   \n",
       "68592  0.468539       0  0.709287 -0.149424      0     0       1       0   \n",
       "\n",
       "       cholesterol_above normal  cholesterol_well above normal  \\\n",
       "0                             0                              0   \n",
       "1                             0                              1   \n",
       "2                             0                              1   \n",
       "3                             0                              0   \n",
       "4                             0                              0   \n",
       "...                         ...                            ...   \n",
       "68588                         0                              0   \n",
       "68589                         1                              0   \n",
       "68590                         0                              1   \n",
       "68591                         0                              0   \n",
       "68592                         1                              0   \n",
       "\n",
       "       gluc_above normal  gluc_well above normal  \n",
       "0                      0                       0  \n",
       "1                      0                       0  \n",
       "2                      0                       0  \n",
       "3                      0                       0  \n",
       "4                      0                       0  \n",
       "...                  ...                     ...  \n",
       "68588                  0                       0  \n",
       "68589                  1                       0  \n",
       "68590                  0                       0  \n",
       "68591                  1                       0  \n",
       "68592                  0                       0  \n",
       "\n",
       "[68593 rows x 12 columns]"
      ]
     },
     "execution_count": 36,
     "metadata": {},
     "output_type": "execute_result"
    }
   ],
   "source": [
    "cardio_data_features"
   ]
  },
  {
   "cell_type": "markdown",
   "metadata": {},
   "source": [
    "###### Polynomial features"
   ]
  },
  {
   "cell_type": "markdown",
   "metadata": {},
   "source": [
    "Additionally, as the features are not too many, I will check if interaction between the data features is going to change the performance of the machine learning methods. In order to do that, I will use the polynomial features transformer of second degree which will generate a new feature matrix consisting of all polynomial combinations of the features. "
   ]
  },
  {
   "cell_type": "code",
   "execution_count": 37,
   "metadata": {},
   "outputs": [],
   "source": [
    "poly_transformer = PolynomialFeatures(degree = 2, interaction_only = True)"
   ]
  },
  {
   "cell_type": "code",
   "execution_count": 38,
   "metadata": {},
   "outputs": [],
   "source": [
    "cardio_features_polynomial = poly_transformer.fit_transform(cardio_data_features)"
   ]
  },
  {
   "cell_type": "code",
   "execution_count": 39,
   "metadata": {},
   "outputs": [
    {
     "data": {
      "text/plain": [
       "(68593, 79)"
      ]
     },
     "execution_count": 39,
     "metadata": {},
     "output_type": "execute_result"
    }
   ],
   "source": [
    "cardio_features_polynomial.shape"
   ]
  },
  {
   "cell_type": "markdown",
   "metadata": {},
   "source": [
    "### Machine learning methods exploration\n",
    "\n",
    "###### Data splitting and interaction\n",
    "\n",
    "The idea is first to split the data to test and train sets, and after that - to create a stratified k-fold split object so it can be used later for cross-validation. I am going to make a standard split with 80% train data as there are enough observations for the remaining test data. The data target is imbalanced and I am going to use it for stratified split."
   ]
  },
  {
   "cell_type": "code",
   "execution_count": 40,
   "metadata": {},
   "outputs": [],
   "source": [
    "cardio_features_train, cardio_features_test, cardio_target_train, cardio_target_test = train_test_split(\n",
    "    cardio_data_features, cardio_data_target, train_size = 0.8, stratify = cardio_data_target)"
   ]
  },
  {
   "cell_type": "code",
   "execution_count": 41,
   "metadata": {},
   "outputs": [
    {
     "data": {
      "text/plain": [
       "(54874, 12)"
      ]
     },
     "execution_count": 41,
     "metadata": {},
     "output_type": "execute_result"
    }
   ],
   "source": [
    "cardio_features_train.shape"
   ]
  },
  {
   "cell_type": "code",
   "execution_count": 42,
   "metadata": {},
   "outputs": [
    {
     "data": {
      "text/plain": [
       "(13719, 12)"
      ]
     },
     "execution_count": 42,
     "metadata": {},
     "output_type": "execute_result"
    }
   ],
   "source": [
    "cardio_features_test.shape"
   ]
  },
  {
   "cell_type": "markdown",
   "metadata": {},
   "source": [
    "Next I will split the data with polynomial features."
   ]
  },
  {
   "cell_type": "code",
   "execution_count": 43,
   "metadata": {},
   "outputs": [],
   "source": [
    "cardio_features_polynomial_train, cardio_features_polynomial_test, cardio_target_polynomial_train, cardio_target_polynomial_test = train_test_split(\n",
    "    cardio_features_polynomial, cardio_data_target, train_size = 0.8, stratify = cardio_data_target)"
   ]
  },
  {
   "cell_type": "code",
   "execution_count": 44,
   "metadata": {},
   "outputs": [
    {
     "data": {
      "text/plain": [
       "(54874, 79)"
      ]
     },
     "execution_count": 44,
     "metadata": {},
     "output_type": "execute_result"
    }
   ],
   "source": [
    "cardio_features_polynomial_train.shape"
   ]
  },
  {
   "cell_type": "code",
   "execution_count": 45,
   "metadata": {},
   "outputs": [],
   "source": [
    "k_fold =  StratifiedKFold(n_splits = 5)"
   ]
  },
  {
   "cell_type": "markdown",
   "metadata": {},
   "source": [
    "###### Fit and score function\n",
    "\n",
    "I am going to define a function which will first perform grid search with predefined hyperparameters, using f1-scoring, which is weighted so it can fit for multiclass classification. Then the function will fit with the training data using the grid and select the best classifier depending on the validation results. After that the best classifier will be used to predict the testing data and compare the results to the testing target. The function will also print the cross-validation results. Finally, it will print all scoring results with the given method name."
   ]
  },
  {
   "cell_type": "code",
   "execution_count": 46,
   "metadata": {},
   "outputs": [],
   "source": [
    "def train_score_model (model, parameters, model_name, features_train, features_test, target_train, target_test):\n",
    "    \"\"\"Fit model with selected parameters on train data, \n",
    "    score the performance and print cv and scoring results. Returns best classifier\"\"\"\n",
    "\n",
    "    grid = GridSearchCV(model, param_grid = parameters, cv = k_fold, scoring = \"f1_weighted\")\n",
    "    \n",
    "    grid_search = grid.fit(features_train, target_train)\n",
    "    print(grid_search.cv_results_)\n",
    "    \n",
    "    best_classifier = grid_search.best_estimator_\n",
    "        \n",
    "    print(\"{0} best score is {1}\".format(model_name, grid_search.best_score_))\n",
    "    \n",
    "    test_classifier_score = f1_score(target_test, best_classifier.predict(features_test), average = \"weighted\")\n",
    "    print(\"For {0} the f1 score for the test data is {1}\".format(model_name, test_classifier_score))\n",
    "        \n",
    "    return  best_classifier"
   ]
  },
  {
   "cell_type": "markdown",
   "metadata": {},
   "source": [
    "###### Logistic Regression\n",
    "\n",
    "First machine learning method to train and test will be Logistic Regression."
   ]
  },
  {
   "cell_type": "code",
   "execution_count": 47,
   "metadata": {},
   "outputs": [],
   "source": [
    "logistic_regression_model = LogisticRegression(multi_class = \"ovr\", solver = \"liblinear\")"
   ]
  },
  {
   "cell_type": "markdown",
   "metadata": {},
   "source": [
    "I am going to use a grid with different values for three hyperparameters: penalty, regularisation parameter C, and maximum number of iterations before convergence. As a penalty parameter I am going to let the method choose between l1 and l2 regularisation that both shrink the regression coefficients in order to reduce overfitting. The key difference between the two is that l1 shrinks the coefficients of the less important feature, setting some of them to zero which means it removes them. Additionally regularisation will be tuned with several different C (inverse of regularization strength) values. I am also going to allow for more than the default iterations until convergence with setting the parameter of max_iter. After that I will select the best estimator, i.e. the classifier with those parameters that gives the best f1 score. F score is the preferred metric as the three classes are not with evenly distributed values and the default accuracy score is not going to work."
   ]
  },
  {
   "cell_type": "code",
   "execution_count": 48,
   "metadata": {},
   "outputs": [],
   "source": [
    "regression_parameters = {\n",
    "    \"penalty\": [\"l1\", \"l2\"],\n",
    "    \"C\": [1e-3, 1e-1, 1, 100, 1e6],\n",
    "    \"max_iter\": [100, 200, 500],\n",
    "}"
   ]
  },
  {
   "cell_type": "code",
   "execution_count": 49,
   "metadata": {},
   "outputs": [
    {
     "name": "stderr",
     "output_type": "stream",
     "text": [
      "C:\\Users\\schaubia\\Anaconda3\\lib\\site-packages\\sklearn\\metrics\\classification.py:1437: UndefinedMetricWarning: F-score is ill-defined and being set to 0.0 in labels with no predicted samples.\n",
      "  'precision', 'predicted', average, warn_for)\n",
      "C:\\Users\\schaubia\\Anaconda3\\lib\\site-packages\\sklearn\\metrics\\classification.py:1437: UndefinedMetricWarning: F-score is ill-defined and being set to 0.0 in labels with no predicted samples.\n",
      "  'precision', 'predicted', average, warn_for)\n",
      "C:\\Users\\schaubia\\Anaconda3\\lib\\site-packages\\sklearn\\metrics\\classification.py:1437: UndefinedMetricWarning: F-score is ill-defined and being set to 0.0 in labels with no predicted samples.\n",
      "  'precision', 'predicted', average, warn_for)\n",
      "C:\\Users\\schaubia\\Anaconda3\\lib\\site-packages\\sklearn\\metrics\\classification.py:1437: UndefinedMetricWarning: F-score is ill-defined and being set to 0.0 in labels with no predicted samples.\n",
      "  'precision', 'predicted', average, warn_for)\n",
      "C:\\Users\\schaubia\\Anaconda3\\lib\\site-packages\\sklearn\\metrics\\classification.py:1437: UndefinedMetricWarning: F-score is ill-defined and being set to 0.0 in labels with no predicted samples.\n",
      "  'precision', 'predicted', average, warn_for)\n",
      "C:\\Users\\schaubia\\Anaconda3\\lib\\site-packages\\sklearn\\metrics\\classification.py:1437: UndefinedMetricWarning: F-score is ill-defined and being set to 0.0 in labels with no predicted samples.\n",
      "  'precision', 'predicted', average, warn_for)\n",
      "C:\\Users\\schaubia\\Anaconda3\\lib\\site-packages\\sklearn\\metrics\\classification.py:1437: UndefinedMetricWarning: F-score is ill-defined and being set to 0.0 in labels with no predicted samples.\n",
      "  'precision', 'predicted', average, warn_for)\n",
      "C:\\Users\\schaubia\\Anaconda3\\lib\\site-packages\\sklearn\\metrics\\classification.py:1437: UndefinedMetricWarning: F-score is ill-defined and being set to 0.0 in labels with no predicted samples.\n",
      "  'precision', 'predicted', average, warn_for)\n",
      "C:\\Users\\schaubia\\Anaconda3\\lib\\site-packages\\sklearn\\metrics\\classification.py:1437: UndefinedMetricWarning: F-score is ill-defined and being set to 0.0 in labels with no predicted samples.\n",
      "  'precision', 'predicted', average, warn_for)\n",
      "C:\\Users\\schaubia\\Anaconda3\\lib\\site-packages\\sklearn\\metrics\\classification.py:1437: UndefinedMetricWarning: F-score is ill-defined and being set to 0.0 in labels with no predicted samples.\n",
      "  'precision', 'predicted', average, warn_for)\n",
      "C:\\Users\\schaubia\\Anaconda3\\lib\\site-packages\\sklearn\\metrics\\classification.py:1437: UndefinedMetricWarning: F-score is ill-defined and being set to 0.0 in labels with no predicted samples.\n",
      "  'precision', 'predicted', average, warn_for)\n",
      "C:\\Users\\schaubia\\Anaconda3\\lib\\site-packages\\sklearn\\metrics\\classification.py:1437: UndefinedMetricWarning: F-score is ill-defined and being set to 0.0 in labels with no predicted samples.\n",
      "  'precision', 'predicted', average, warn_for)\n",
      "C:\\Users\\schaubia\\Anaconda3\\lib\\site-packages\\sklearn\\metrics\\classification.py:1437: UndefinedMetricWarning: F-score is ill-defined and being set to 0.0 in labels with no predicted samples.\n",
      "  'precision', 'predicted', average, warn_for)\n",
      "C:\\Users\\schaubia\\Anaconda3\\lib\\site-packages\\sklearn\\metrics\\classification.py:1437: UndefinedMetricWarning: F-score is ill-defined and being set to 0.0 in labels with no predicted samples.\n",
      "  'precision', 'predicted', average, warn_for)\n",
      "C:\\Users\\schaubia\\Anaconda3\\lib\\site-packages\\sklearn\\metrics\\classification.py:1437: UndefinedMetricWarning: F-score is ill-defined and being set to 0.0 in labels with no predicted samples.\n",
      "  'precision', 'predicted', average, warn_for)\n",
      "C:\\Users\\schaubia\\Anaconda3\\lib\\site-packages\\sklearn\\metrics\\classification.py:1437: UndefinedMetricWarning: F-score is ill-defined and being set to 0.0 in labels with no predicted samples.\n",
      "  'precision', 'predicted', average, warn_for)\n",
      "C:\\Users\\schaubia\\Anaconda3\\lib\\site-packages\\sklearn\\metrics\\classification.py:1437: UndefinedMetricWarning: F-score is ill-defined and being set to 0.0 in labels with no predicted samples.\n",
      "  'precision', 'predicted', average, warn_for)\n",
      "C:\\Users\\schaubia\\Anaconda3\\lib\\site-packages\\sklearn\\metrics\\classification.py:1437: UndefinedMetricWarning: F-score is ill-defined and being set to 0.0 in labels with no predicted samples.\n",
      "  'precision', 'predicted', average, warn_for)\n"
     ]
    },
    {
     "name": "stdout",
     "output_type": "stream",
     "text": [
      "{'mean_fit_time': array([0.26887212, 0.36246147, 0.26840396, 0.34496489, 0.26524305,\n",
      "       0.35364938, 0.42721009, 0.44102273, 0.45637569, 0.44152508,\n",
      "       0.44446392, 0.43798518, 0.45526824, 0.4420435 , 0.46544013,\n",
      "       0.46626763, 0.45272374, 0.37245464, 0.42581544, 0.37407846,\n",
      "       0.43805156, 0.44224505, 0.45419536, 0.41912646, 0.44714656,\n",
      "       0.41956892, 0.42530918, 0.35855837, 0.41107378, 0.35831289]), 'std_fit_time': array([0.01054218, 0.01592035, 0.00918106, 0.00581157, 0.00989853,\n",
      "       0.0160566 , 0.00902973, 0.00637322, 0.02611309, 0.0107683 ,\n",
      "       0.01538384, 0.00592044, 0.0118476 , 0.01899463, 0.01962883,\n",
      "       0.04143031, 0.00969542, 0.0242888 , 0.01631414, 0.026939  ,\n",
      "       0.01693164, 0.02833135, 0.01130579, 0.0142872 , 0.0072214 ,\n",
      "       0.00597947, 0.02298101, 0.00851592, 0.01647123, 0.01135016]), 'mean_score_time': array([0.10733738, 0.10514445, 0.0958581 , 0.094032  , 0.10212932,\n",
      "       0.10061078, 0.09525266, 0.10059948, 0.09408822, 0.09865537,\n",
      "       0.09741044, 0.09702263, 0.09870925, 0.09687777, 0.0981061 ,\n",
      "       0.1023849 , 0.10460057, 0.08541665, 0.08902502, 0.08994956,\n",
      "       0.09659386, 0.10332103, 0.10192065, 0.09599423, 0.09100804,\n",
      "       0.1011065 , 0.09235988, 0.08861079, 0.08455372, 0.08540015]), 'std_score_time': array([0.00374148, 0.01712222, 0.00426021, 0.00688141, 0.00594572,\n",
      "       0.01112893, 0.01834501, 0.01099868, 0.00779653, 0.0056944 ,\n",
      "       0.00325543, 0.00870071, 0.00465118, 0.00943656, 0.00399164,\n",
      "       0.00588521, 0.00559291, 0.00742903, 0.00421062, 0.00724939,\n",
      "       0.00938379, 0.00920363, 0.00542766, 0.01141663, 0.00508449,\n",
      "       0.00350762, 0.00719144, 0.0095904 , 0.00377036, 0.00509684]), 'param_C': masked_array(data=[0.001, 0.001, 0.001, 0.001, 0.001, 0.001, 0.1, 0.1,\n",
      "                   0.1, 0.1, 0.1, 0.1, 1, 1, 1, 1, 1, 1, 100, 100, 100,\n",
      "                   100, 100, 100, 1000000.0, 1000000.0, 1000000.0,\n",
      "                   1000000.0, 1000000.0, 1000000.0],\n",
      "             mask=[False, False, False, False, False, False, False, False,\n",
      "                   False, False, False, False, False, False, False, False,\n",
      "                   False, False, False, False, False, False, False, False,\n",
      "                   False, False, False, False, False, False],\n",
      "       fill_value='?',\n",
      "            dtype=object), 'param_max_iter': masked_array(data=[100, 100, 200, 200, 500, 500, 100, 100, 200, 200, 500,\n",
      "                   500, 100, 100, 200, 200, 500, 500, 100, 100, 200, 200,\n",
      "                   500, 500, 100, 100, 200, 200, 500, 500],\n",
      "             mask=[False, False, False, False, False, False, False, False,\n",
      "                   False, False, False, False, False, False, False, False,\n",
      "                   False, False, False, False, False, False, False, False,\n",
      "                   False, False, False, False, False, False],\n",
      "       fill_value='?',\n",
      "            dtype=object), 'param_penalty': masked_array(data=['l1', 'l2', 'l1', 'l2', 'l1', 'l2', 'l1', 'l2', 'l1',\n",
      "                   'l2', 'l1', 'l2', 'l1', 'l2', 'l1', 'l2', 'l1', 'l2',\n",
      "                   'l1', 'l2', 'l1', 'l2', 'l1', 'l2', 'l1', 'l2', 'l1',\n",
      "                   'l2', 'l1', 'l2'],\n",
      "             mask=[False, False, False, False, False, False, False, False,\n",
      "                   False, False, False, False, False, False, False, False,\n",
      "                   False, False, False, False, False, False, False, False,\n",
      "                   False, False, False, False, False, False],\n",
      "       fill_value='?',\n",
      "            dtype=object), 'params': [{'C': 0.001, 'max_iter': 100, 'penalty': 'l1'}, {'C': 0.001, 'max_iter': 100, 'penalty': 'l2'}, {'C': 0.001, 'max_iter': 200, 'penalty': 'l1'}, {'C': 0.001, 'max_iter': 200, 'penalty': 'l2'}, {'C': 0.001, 'max_iter': 500, 'penalty': 'l1'}, {'C': 0.001, 'max_iter': 500, 'penalty': 'l2'}, {'C': 0.1, 'max_iter': 100, 'penalty': 'l1'}, {'C': 0.1, 'max_iter': 100, 'penalty': 'l2'}, {'C': 0.1, 'max_iter': 200, 'penalty': 'l1'}, {'C': 0.1, 'max_iter': 200, 'penalty': 'l2'}, {'C': 0.1, 'max_iter': 500, 'penalty': 'l1'}, {'C': 0.1, 'max_iter': 500, 'penalty': 'l2'}, {'C': 1, 'max_iter': 100, 'penalty': 'l1'}, {'C': 1, 'max_iter': 100, 'penalty': 'l2'}, {'C': 1, 'max_iter': 200, 'penalty': 'l1'}, {'C': 1, 'max_iter': 200, 'penalty': 'l2'}, {'C': 1, 'max_iter': 500, 'penalty': 'l1'}, {'C': 1, 'max_iter': 500, 'penalty': 'l2'}, {'C': 100, 'max_iter': 100, 'penalty': 'l1'}, {'C': 100, 'max_iter': 100, 'penalty': 'l2'}, {'C': 100, 'max_iter': 200, 'penalty': 'l1'}, {'C': 100, 'max_iter': 200, 'penalty': 'l2'}, {'C': 100, 'max_iter': 500, 'penalty': 'l1'}, {'C': 100, 'max_iter': 500, 'penalty': 'l2'}, {'C': 1000000.0, 'max_iter': 100, 'penalty': 'l1'}, {'C': 1000000.0, 'max_iter': 100, 'penalty': 'l2'}, {'C': 1000000.0, 'max_iter': 200, 'penalty': 'l1'}, {'C': 1000000.0, 'max_iter': 200, 'penalty': 'l2'}, {'C': 1000000.0, 'max_iter': 500, 'penalty': 'l1'}, {'C': 1000000.0, 'max_iter': 500, 'penalty': 'l2'}], 'split0_test_score': array([0.52465379, 0.54621444, 0.52465379, 0.54621444, 0.52465379,\n",
      "       0.54621444, 0.56968056, 0.56978369, 0.56968056, 0.56978369,\n",
      "       0.56968056, 0.56978369, 0.5703822 , 0.57026342, 0.5703822 ,\n",
      "       0.57026342, 0.5703822 , 0.57026342, 0.57054809, 0.57054809,\n",
      "       0.57054809, 0.57054809, 0.57054809, 0.57054809, 0.57054809,\n",
      "       0.57054809, 0.57054809, 0.57054809, 0.57054809, 0.57054809]), 'split1_test_score': array([0.5265319 , 0.54853154, 0.52666205, 0.54853154, 0.52666205,\n",
      "       0.54853154, 0.57065036, 0.57091043, 0.57065036, 0.57091043,\n",
      "       0.57065036, 0.57091043, 0.57172345, 0.57171792, 0.57172345,\n",
      "       0.57171792, 0.57172345, 0.57171792, 0.57171792, 0.57171792,\n",
      "       0.57171792, 0.57171792, 0.57171792, 0.57171792, 0.57171792,\n",
      "       0.57171792, 0.57171792, 0.57171792, 0.57171792, 0.57171792]), 'split2_test_score': array([0.52203113, 0.54359977, 0.52203113, 0.54359977, 0.52203113,\n",
      "       0.54359977, 0.56620731, 0.56616758, 0.56620731, 0.56616758,\n",
      "       0.56620731, 0.56616758, 0.56706252, 0.56688532, 0.56706252,\n",
      "       0.56688532, 0.56706252, 0.56688532, 0.56689624, 0.56689624,\n",
      "       0.56689624, 0.56689624, 0.56689624, 0.56689624, 0.56689624,\n",
      "       0.56689624, 0.56689624, 0.56689624, 0.56689624, 0.56689624]), 'split3_test_score': array([0.52190136, 0.54688231, 0.52190136, 0.54688231, 0.52190136,\n",
      "       0.54688231, 0.56854017, 0.56865835, 0.56864753, 0.56865835,\n",
      "       0.56864753, 0.56865835, 0.56944822, 0.56971284, 0.56944822,\n",
      "       0.56971284, 0.56944822, 0.56971284, 0.56969332, 0.56969332,\n",
      "       0.56969332, 0.56969332, 0.56969332, 0.56969332, 0.56969332,\n",
      "       0.56969332, 0.56969332, 0.56969332, 0.56969332, 0.56969332]), 'split4_test_score': array([0.51910878, 0.54340728, 0.51910878, 0.54340728, 0.51910878,\n",
      "       0.54340728, 0.5690552 , 0.569281  , 0.56904442, 0.569281  ,\n",
      "       0.5690552 , 0.569281  , 0.57005746, 0.57005746, 0.57005746,\n",
      "       0.57005746, 0.57005746, 0.57005746, 0.57036274, 0.57043138,\n",
      "       0.57025366, 0.57043138, 0.57025366, 0.57043138, 0.57025366,\n",
      "       0.57043138, 0.57025366, 0.57043138, 0.57025366, 0.57043138]), 'mean_test_score': array([0.52284546, 0.54572711, 0.52287149, 0.54572711, 0.52287149,\n",
      "       0.54572711, 0.56882672, 0.5689602 , 0.56884603, 0.5689602 ,\n",
      "       0.56884819, 0.5689602 , 0.56973476, 0.56972739, 0.56973476,\n",
      "       0.56972739, 0.56973476, 0.56972739, 0.56984365, 0.56985738,\n",
      "       0.56982184, 0.56985738, 0.56982184, 0.56985738, 0.56982184,\n",
      "       0.56985738, 0.56982184, 0.56985738, 0.56982184, 0.56985738]), 'std_test_score': array([0.00254466, 0.00196692, 0.00258262, 0.00196692, 0.00258262,\n",
      "       0.00196692, 0.00148664, 0.00157953, 0.00148282, 0.00157953,\n",
      "       0.00148312, 0.00157953, 0.0015298 , 0.00157711, 0.0015298 ,\n",
      "       0.00157711, 0.0015298 , 0.00157711, 0.00161174, 0.00161639,\n",
      "       0.0016053 , 0.00161639, 0.0016053 , 0.00161639, 0.0016053 ,\n",
      "       0.00161639, 0.0016053 , 0.00161639, 0.0016053 , 0.00161639]), 'rank_test_score': array([30, 25, 28, 25, 28, 25, 24, 19, 23, 19, 22, 19, 13, 16, 13, 16, 13,\n",
      "       16,  7,  1,  8,  1,  8,  1,  8,  1,  8,  1,  8,  1])}\n",
      "logistic regression best score is 0.5698573831114389\n",
      "For logistic regression the f1 score for the test data is 0.571379722943748\n"
     ]
    }
   ],
   "source": [
    "# train and score the LR model with the raw data\n",
    "logistic_best = train_score_model (logistic_regression_model, regression_parameters, \"logistic regression\", cardio_features_train, cardio_features_test, cardio_target_train, cardio_target_test)"
   ]
  },
  {
   "cell_type": "markdown",
   "metadata": {},
   "source": [
    "The best validation score of 57% that the LR achieves with the raw data is low and the test score is marginally higher. At least the model seems to not overfit the data. I am now going to train the models on the polynomial features data. Another thing that the cross-validation data shows is that there is no much difference in the validation scores of the different training subsets which means that the model is stable."
   ]
  },
  {
   "cell_type": "code",
   "execution_count": 50,
   "metadata": {},
   "outputs": [
    {
     "name": "stderr",
     "output_type": "stream",
     "text": [
      "C:\\Users\\schaubia\\Anaconda3\\lib\\site-packages\\sklearn\\metrics\\classification.py:1437: UndefinedMetricWarning: F-score is ill-defined and being set to 0.0 in labels with no predicted samples.\n",
      "  'precision', 'predicted', average, warn_for)\n",
      "C:\\Users\\schaubia\\Anaconda3\\lib\\site-packages\\sklearn\\metrics\\classification.py:1437: UndefinedMetricWarning: F-score is ill-defined and being set to 0.0 in labels with no predicted samples.\n",
      "  'precision', 'predicted', average, warn_for)\n",
      "C:\\Users\\schaubia\\Anaconda3\\lib\\site-packages\\sklearn\\metrics\\classification.py:1437: UndefinedMetricWarning: F-score is ill-defined and being set to 0.0 in labels with no predicted samples.\n",
      "  'precision', 'predicted', average, warn_for)\n",
      "C:\\Users\\schaubia\\Anaconda3\\lib\\site-packages\\sklearn\\metrics\\classification.py:1437: UndefinedMetricWarning: F-score is ill-defined and being set to 0.0 in labels with no predicted samples.\n",
      "  'precision', 'predicted', average, warn_for)\n",
      "C:\\Users\\schaubia\\Anaconda3\\lib\\site-packages\\sklearn\\metrics\\classification.py:1437: UndefinedMetricWarning: F-score is ill-defined and being set to 0.0 in labels with no predicted samples.\n",
      "  'precision', 'predicted', average, warn_for)\n",
      "C:\\Users\\schaubia\\Anaconda3\\lib\\site-packages\\sklearn\\metrics\\classification.py:1437: UndefinedMetricWarning: F-score is ill-defined and being set to 0.0 in labels with no predicted samples.\n",
      "  'precision', 'predicted', average, warn_for)\n",
      "C:\\Users\\schaubia\\Anaconda3\\lib\\site-packages\\sklearn\\metrics\\classification.py:1437: UndefinedMetricWarning: F-score is ill-defined and being set to 0.0 in labels with no predicted samples.\n",
      "  'precision', 'predicted', average, warn_for)\n",
      "C:\\Users\\schaubia\\Anaconda3\\lib\\site-packages\\sklearn\\metrics\\classification.py:1437: UndefinedMetricWarning: F-score is ill-defined and being set to 0.0 in labels with no predicted samples.\n",
      "  'precision', 'predicted', average, warn_for)\n",
      "C:\\Users\\schaubia\\Anaconda3\\lib\\site-packages\\sklearn\\metrics\\classification.py:1437: UndefinedMetricWarning: F-score is ill-defined and being set to 0.0 in labels with no predicted samples.\n",
      "  'precision', 'predicted', average, warn_for)\n",
      "C:\\Users\\schaubia\\Anaconda3\\lib\\site-packages\\sklearn\\metrics\\classification.py:1437: UndefinedMetricWarning: F-score is ill-defined and being set to 0.0 in labels with no predicted samples.\n",
      "  'precision', 'predicted', average, warn_for)\n",
      "C:\\Users\\schaubia\\Anaconda3\\lib\\site-packages\\sklearn\\metrics\\classification.py:1437: UndefinedMetricWarning: F-score is ill-defined and being set to 0.0 in labels with no predicted samples.\n",
      "  'precision', 'predicted', average, warn_for)\n",
      "C:\\Users\\schaubia\\Anaconda3\\lib\\site-packages\\sklearn\\metrics\\classification.py:1437: UndefinedMetricWarning: F-score is ill-defined and being set to 0.0 in labels with no predicted samples.\n",
      "  'precision', 'predicted', average, warn_for)\n",
      "C:\\Users\\schaubia\\Anaconda3\\lib\\site-packages\\sklearn\\metrics\\classification.py:1437: UndefinedMetricWarning: F-score is ill-defined and being set to 0.0 in labels with no predicted samples.\n",
      "  'precision', 'predicted', average, warn_for)\n",
      "C:\\Users\\schaubia\\Anaconda3\\lib\\site-packages\\sklearn\\metrics\\classification.py:1437: UndefinedMetricWarning: F-score is ill-defined and being set to 0.0 in labels with no predicted samples.\n",
      "  'precision', 'predicted', average, warn_for)\n",
      "C:\\Users\\schaubia\\Anaconda3\\lib\\site-packages\\sklearn\\metrics\\classification.py:1437: UndefinedMetricWarning: F-score is ill-defined and being set to 0.0 in labels with no predicted samples.\n",
      "  'precision', 'predicted', average, warn_for)\n"
     ]
    },
    {
     "name": "stdout",
     "output_type": "stream",
     "text": [
      "{'mean_fit_time': array([0.3377459 , 0.81180167, 0.32648349, 0.8006155 , 0.34005871,\n",
      "       0.80224261, 2.31332588, 1.84991598, 2.28016262, 1.80986176,\n",
      "       2.18996449, 1.78215709, 2.7635366 , 2.13878942, 2.77450104,\n",
      "       2.13467531, 2.81382532, 2.14460254, 2.90164042, 2.27325783,\n",
      "       3.26551957, 2.27015071, 3.40985155, 2.32418041, 3.15278387,\n",
      "       2.25958786, 3.23544755, 2.24512863, 3.07205591, 2.25288348]), 'std_fit_time': array([0.01382966, 0.00925245, 0.01148873, 0.00704248, 0.01238484,\n",
      "       0.00510546, 0.11969049, 0.04718398, 0.05678964, 0.0160819 ,\n",
      "       0.14193939, 0.03783596, 0.12140145, 0.09177154, 0.06522928,\n",
      "       0.08576198, 0.1215641 , 0.06935786, 0.08827904, 0.06366138,\n",
      "       0.22851828, 0.08442075, 0.33976712, 0.05991877, 0.17658374,\n",
      "       0.09837212, 0.19997414, 0.08344061, 0.21048567, 0.09883746]), 'mean_score_time': array([0.0839241 , 0.08440132, 0.08629537, 0.08460217, 0.08217607,\n",
      "       0.08590207, 0.09239769, 0.08859458, 0.0828599 , 0.08464022,\n",
      "       0.08526282, 0.08996711, 0.08160186, 0.08520088, 0.08345261,\n",
      "       0.08254313, 0.08541508, 0.09398127, 0.09201703, 0.0821238 ,\n",
      "       0.09100895, 0.08499522, 0.09115806, 0.08937182, 0.09104533,\n",
      "       0.08939137, 0.08485961, 0.0966341 , 0.0851408 , 0.09676886]), 'std_score_time': array([0.004519  , 0.00619851, 0.00285278, 0.00510014, 0.0048866 ,\n",
      "       0.00718271, 0.00917786, 0.00670969, 0.0047376 , 0.00123336,\n",
      "       0.00269659, 0.00966903, 0.00241597, 0.00393122, 0.00395246,\n",
      "       0.00709158, 0.00405253, 0.00804343, 0.00509541, 0.00412687,\n",
      "       0.0083433 , 0.01348062, 0.00682884, 0.0099504 , 0.01493075,\n",
      "       0.0047768 , 0.00469586, 0.01248796, 0.00449053, 0.01090153]), 'param_C': masked_array(data=[0.001, 0.001, 0.001, 0.001, 0.001, 0.001, 0.1, 0.1,\n",
      "                   0.1, 0.1, 0.1, 0.1, 1, 1, 1, 1, 1, 1, 100, 100, 100,\n",
      "                   100, 100, 100, 1000000.0, 1000000.0, 1000000.0,\n",
      "                   1000000.0, 1000000.0, 1000000.0],\n",
      "             mask=[False, False, False, False, False, False, False, False,\n",
      "                   False, False, False, False, False, False, False, False,\n",
      "                   False, False, False, False, False, False, False, False,\n",
      "                   False, False, False, False, False, False],\n",
      "       fill_value='?',\n",
      "            dtype=object), 'param_max_iter': masked_array(data=[100, 100, 200, 200, 500, 500, 100, 100, 200, 200, 500,\n",
      "                   500, 100, 100, 200, 200, 500, 500, 100, 100, 200, 200,\n",
      "                   500, 500, 100, 100, 200, 200, 500, 500],\n",
      "             mask=[False, False, False, False, False, False, False, False,\n",
      "                   False, False, False, False, False, False, False, False,\n",
      "                   False, False, False, False, False, False, False, False,\n",
      "                   False, False, False, False, False, False],\n",
      "       fill_value='?',\n",
      "            dtype=object), 'param_penalty': masked_array(data=['l1', 'l2', 'l1', 'l2', 'l1', 'l2', 'l1', 'l2', 'l1',\n",
      "                   'l2', 'l1', 'l2', 'l1', 'l2', 'l1', 'l2', 'l1', 'l2',\n",
      "                   'l1', 'l2', 'l1', 'l2', 'l1', 'l2', 'l1', 'l2', 'l1',\n",
      "                   'l2', 'l1', 'l2'],\n",
      "             mask=[False, False, False, False, False, False, False, False,\n",
      "                   False, False, False, False, False, False, False, False,\n",
      "                   False, False, False, False, False, False, False, False,\n",
      "                   False, False, False, False, False, False],\n",
      "       fill_value='?',\n",
      "            dtype=object), 'params': [{'C': 0.001, 'max_iter': 100, 'penalty': 'l1'}, {'C': 0.001, 'max_iter': 100, 'penalty': 'l2'}, {'C': 0.001, 'max_iter': 200, 'penalty': 'l1'}, {'C': 0.001, 'max_iter': 200, 'penalty': 'l2'}, {'C': 0.001, 'max_iter': 500, 'penalty': 'l1'}, {'C': 0.001, 'max_iter': 500, 'penalty': 'l2'}, {'C': 0.1, 'max_iter': 100, 'penalty': 'l1'}, {'C': 0.1, 'max_iter': 100, 'penalty': 'l2'}, {'C': 0.1, 'max_iter': 200, 'penalty': 'l1'}, {'C': 0.1, 'max_iter': 200, 'penalty': 'l2'}, {'C': 0.1, 'max_iter': 500, 'penalty': 'l1'}, {'C': 0.1, 'max_iter': 500, 'penalty': 'l2'}, {'C': 1, 'max_iter': 100, 'penalty': 'l1'}, {'C': 1, 'max_iter': 100, 'penalty': 'l2'}, {'C': 1, 'max_iter': 200, 'penalty': 'l1'}, {'C': 1, 'max_iter': 200, 'penalty': 'l2'}, {'C': 1, 'max_iter': 500, 'penalty': 'l1'}, {'C': 1, 'max_iter': 500, 'penalty': 'l2'}, {'C': 100, 'max_iter': 100, 'penalty': 'l1'}, {'C': 100, 'max_iter': 100, 'penalty': 'l2'}, {'C': 100, 'max_iter': 200, 'penalty': 'l1'}, {'C': 100, 'max_iter': 200, 'penalty': 'l2'}, {'C': 100, 'max_iter': 500, 'penalty': 'l1'}, {'C': 100, 'max_iter': 500, 'penalty': 'l2'}, {'C': 1000000.0, 'max_iter': 100, 'penalty': 'l1'}, {'C': 1000000.0, 'max_iter': 100, 'penalty': 'l2'}, {'C': 1000000.0, 'max_iter': 200, 'penalty': 'l1'}, {'C': 1000000.0, 'max_iter': 200, 'penalty': 'l2'}, {'C': 1000000.0, 'max_iter': 500, 'penalty': 'l1'}, {'C': 1000000.0, 'max_iter': 500, 'penalty': 'l2'}], 'split0_test_score': array([0.52638924, 0.55886729, 0.52625808, 0.55886729, 0.52638924,\n",
      "       0.55886729, 0.58530043, 0.58537171, 0.58530043, 0.58537171,\n",
      "       0.58530043, 0.58537171, 0.58598336, 0.58655833, 0.58598336,\n",
      "       0.58655833, 0.58598336, 0.58655833, 0.58662224, 0.58669208,\n",
      "       0.58662224, 0.58669208, 0.58670565, 0.58669208, 0.58671749,\n",
      "       0.58658528, 0.58671749, 0.58658528, 0.58671749, 0.58658528]), 'split1_test_score': array([0.52454212, 0.5587964 , 0.52459473, 0.5587964 , 0.52454212,\n",
      "       0.5587964 , 0.58012032, 0.58241995, 0.58012032, 0.58241995,\n",
      "       0.58012032, 0.58241995, 0.5833817 , 0.58394684, 0.5833817 ,\n",
      "       0.58394684, 0.5833817 , 0.58394684, 0.58367544, 0.5836056 ,\n",
      "       0.58367544, 0.5836056 , 0.58367544, 0.5836056 , 0.58374528,\n",
      "       0.5836056 , 0.58367544, 0.5836056 , 0.58373405, 0.5836056 ]), 'split2_test_score': array([0.52405199, 0.56520867, 0.52405199, 0.56520867, 0.52405199,\n",
      "       0.56520867, 0.58765722, 0.58829321, 0.58765722, 0.58829321,\n",
      "       0.58765722, 0.58829321, 0.58991296, 0.58950323, 0.58991296,\n",
      "       0.58950323, 0.58991296, 0.58950323, 0.58953672, 0.5896437 ,\n",
      "       0.58953672, 0.5896437 , 0.58953672, 0.5896437 , 0.58953672,\n",
      "       0.5896437 , 0.58953672, 0.5896437 , 0.58953672, 0.5896437 ]), 'split3_test_score': array([0.5238286 , 0.56389279, 0.5238286 , 0.56389279, 0.5238286 ,\n",
      "       0.56389279, 0.58726545, 0.58865302, 0.58726545, 0.58865302,\n",
      "       0.58726545, 0.58865302, 0.58981494, 0.58991584, 0.58981494,\n",
      "       0.58991584, 0.58981494, 0.58991584, 0.59043021, 0.5905351 ,\n",
      "       0.59035838, 0.5905351 , 0.59043021, 0.5905351 , 0.59043021,\n",
      "       0.5905351 , 0.59034968, 0.5905351 , 0.5905351 , 0.5905351 ]), 'split4_test_score': array([0.52284751, 0.56069784, 0.52284751, 0.56069784, 0.52284751,\n",
      "       0.56069784, 0.58190337, 0.58477162, 0.58190337, 0.58477162,\n",
      "       0.58190337, 0.58477162, 0.58548291, 0.58526353, 0.58548291,\n",
      "       0.58526353, 0.58548291, 0.58526353, 0.58560135, 0.58557825,\n",
      "       0.58560135, 0.58557825, 0.58560135, 0.58557825, 0.58560135,\n",
      "       0.58558979, 0.58560135, 0.58558979, 0.58560135, 0.58558979]), 'mean_test_score': array([0.52433192, 0.56149261, 0.52431621, 0.56149261, 0.52433192,\n",
      "       0.56149261, 0.58444941, 0.58590192, 0.58444941, 0.58590192,\n",
      "       0.58444941, 0.58590192, 0.5869152 , 0.58703759, 0.5869152 ,\n",
      "       0.58703759, 0.5869152 , 0.58703759, 0.58717322, 0.58721098,\n",
      "       0.58715885, 0.58721098, 0.5871899 , 0.58721098, 0.58720624,\n",
      "       0.58719193, 0.58717616, 0.58719193, 0.58722497, 0.58719193]), 'std_test_score': array([0.0011672 , 0.0026216 , 0.00112365, 0.0026216 , 0.0011672 ,\n",
      "       0.0026216 , 0.00297213, 0.0023225 , 0.00297213, 0.0023225 ,\n",
      "       0.00297213, 0.0023225 , 0.00256128, 0.00233639, 0.00256128,\n",
      "       0.00233639, 0.00256128, 0.00233639, 0.00249813, 0.00256523,\n",
      "       0.0024795 , 0.00256523, 0.00249467, 0.00256523, 0.0024746 ,\n",
      "       0.00256846, 0.00247343, 0.00256846, 0.00250526, 0.00256846]), 'rank_test_score': array([28, 25, 30, 25, 28, 25, 22, 19, 22, 19, 22, 19, 16, 13, 16, 13, 16,\n",
      "       13, 11,  2, 12,  2,  9,  2,  5,  6, 10,  6,  1,  6])}\n",
      "logistic regression best score is 0.5872249712989498\n",
      "For logistic regression the f1 score for the test data is 0.5826101100107824\n"
     ]
    }
   ],
   "source": [
    "#train and score the polynomial data\n",
    "poly_logistic_best = train_score_model (logistic_regression_model, regression_parameters, \"logistic regression\", cardio_features_polynomial_train, cardio_features_polynomial_test, cardio_target_polynomial_train, cardio_target_polynomial_test)"
   ]
  },
  {
   "cell_type": "markdown",
   "metadata": {},
   "source": [
    "The best validation score and the test score show slight improvement to 58%"
   ]
  },
  {
   "cell_type": "markdown",
   "metadata": {},
   "source": [
    "###### Decision Tree\n",
    "\n",
    "The second method to train and test is Decision Tree classifier. I am going to use a grid for cross-validation setting maximum depth of the tree (which will constrain the tree to not expand too much, i.e. until there is one sample per leaf), criterion for information gain and maximum samples per the final nodes."
   ]
  },
  {
   "cell_type": "code",
   "execution_count": 51,
   "metadata": {},
   "outputs": [],
   "source": [
    "tree_model = DecisionTreeClassifier()"
   ]
  },
  {
   "cell_type": "code",
   "execution_count": 52,
   "metadata": {},
   "outputs": [],
   "source": [
    "parameters_tree = {\n",
    "    \"criterion\": [\"gini\", \"entropy\"],\n",
    "    \"max_depth\": [3, 6, 12, 14, 20],\n",
    "    \"min_samples_leaf\": [2, 5, 8, 12],\n",
    "}"
   ]
  },
  {
   "cell_type": "code",
   "execution_count": 53,
   "metadata": {},
   "outputs": [
    {
     "name": "stderr",
     "output_type": "stream",
     "text": [
      "C:\\Users\\schaubia\\Anaconda3\\lib\\site-packages\\sklearn\\metrics\\classification.py:1437: UndefinedMetricWarning: F-score is ill-defined and being set to 0.0 in labels with no predicted samples.\n",
      "  'precision', 'predicted', average, warn_for)\n",
      "C:\\Users\\schaubia\\Anaconda3\\lib\\site-packages\\sklearn\\metrics\\classification.py:1437: UndefinedMetricWarning: F-score is ill-defined and being set to 0.0 in labels with no predicted samples.\n",
      "  'precision', 'predicted', average, warn_for)\n",
      "C:\\Users\\schaubia\\Anaconda3\\lib\\site-packages\\sklearn\\metrics\\classification.py:1437: UndefinedMetricWarning: F-score is ill-defined and being set to 0.0 in labels with no predicted samples.\n",
      "  'precision', 'predicted', average, warn_for)\n",
      "C:\\Users\\schaubia\\Anaconda3\\lib\\site-packages\\sklearn\\metrics\\classification.py:1437: UndefinedMetricWarning: F-score is ill-defined and being set to 0.0 in labels with no predicted samples.\n",
      "  'precision', 'predicted', average, warn_for)\n",
      "C:\\Users\\schaubia\\Anaconda3\\lib\\site-packages\\sklearn\\metrics\\classification.py:1437: UndefinedMetricWarning: F-score is ill-defined and being set to 0.0 in labels with no predicted samples.\n",
      "  'precision', 'predicted', average, warn_for)\n",
      "C:\\Users\\schaubia\\Anaconda3\\lib\\site-packages\\sklearn\\metrics\\classification.py:1437: UndefinedMetricWarning: F-score is ill-defined and being set to 0.0 in labels with no predicted samples.\n",
      "  'precision', 'predicted', average, warn_for)\n",
      "C:\\Users\\schaubia\\Anaconda3\\lib\\site-packages\\sklearn\\metrics\\classification.py:1437: UndefinedMetricWarning: F-score is ill-defined and being set to 0.0 in labels with no predicted samples.\n",
      "  'precision', 'predicted', average, warn_for)\n",
      "C:\\Users\\schaubia\\Anaconda3\\lib\\site-packages\\sklearn\\metrics\\classification.py:1437: UndefinedMetricWarning: F-score is ill-defined and being set to 0.0 in labels with no predicted samples.\n",
      "  'precision', 'predicted', average, warn_for)\n",
      "C:\\Users\\schaubia\\Anaconda3\\lib\\site-packages\\sklearn\\metrics\\classification.py:1437: UndefinedMetricWarning: F-score is ill-defined and being set to 0.0 in labels with no predicted samples.\n",
      "  'precision', 'predicted', average, warn_for)\n",
      "C:\\Users\\schaubia\\Anaconda3\\lib\\site-packages\\sklearn\\metrics\\classification.py:1437: UndefinedMetricWarning: F-score is ill-defined and being set to 0.0 in labels with no predicted samples.\n",
      "  'precision', 'predicted', average, warn_for)\n",
      "C:\\Users\\schaubia\\Anaconda3\\lib\\site-packages\\sklearn\\metrics\\classification.py:1437: UndefinedMetricWarning: F-score is ill-defined and being set to 0.0 in labels with no predicted samples.\n",
      "  'precision', 'predicted', average, warn_for)\n",
      "C:\\Users\\schaubia\\Anaconda3\\lib\\site-packages\\sklearn\\metrics\\classification.py:1437: UndefinedMetricWarning: F-score is ill-defined and being set to 0.0 in labels with no predicted samples.\n",
      "  'precision', 'predicted', average, warn_for)\n",
      "C:\\Users\\schaubia\\Anaconda3\\lib\\site-packages\\sklearn\\metrics\\classification.py:1437: UndefinedMetricWarning: F-score is ill-defined and being set to 0.0 in labels with no predicted samples.\n",
      "  'precision', 'predicted', average, warn_for)\n",
      "C:\\Users\\schaubia\\Anaconda3\\lib\\site-packages\\sklearn\\metrics\\classification.py:1437: UndefinedMetricWarning: F-score is ill-defined and being set to 0.0 in labels with no predicted samples.\n",
      "  'precision', 'predicted', average, warn_for)\n",
      "C:\\Users\\schaubia\\Anaconda3\\lib\\site-packages\\sklearn\\metrics\\classification.py:1437: UndefinedMetricWarning: F-score is ill-defined and being set to 0.0 in labels with no predicted samples.\n",
      "  'precision', 'predicted', average, warn_for)\n",
      "C:\\Users\\schaubia\\Anaconda3\\lib\\site-packages\\sklearn\\metrics\\classification.py:1437: UndefinedMetricWarning: F-score is ill-defined and being set to 0.0 in labels with no predicted samples.\n",
      "  'precision', 'predicted', average, warn_for)\n",
      "C:\\Users\\schaubia\\Anaconda3\\lib\\site-packages\\sklearn\\metrics\\classification.py:1437: UndefinedMetricWarning: F-score is ill-defined and being set to 0.0 in labels with no predicted samples.\n",
      "  'precision', 'predicted', average, warn_for)\n",
      "C:\\Users\\schaubia\\Anaconda3\\lib\\site-packages\\sklearn\\metrics\\classification.py:1437: UndefinedMetricWarning: F-score is ill-defined and being set to 0.0 in labels with no predicted samples.\n",
      "  'precision', 'predicted', average, warn_for)\n",
      "C:\\Users\\schaubia\\Anaconda3\\lib\\site-packages\\sklearn\\metrics\\classification.py:1437: UndefinedMetricWarning: F-score is ill-defined and being set to 0.0 in labels with no predicted samples.\n",
      "  'precision', 'predicted', average, warn_for)\n",
      "C:\\Users\\schaubia\\Anaconda3\\lib\\site-packages\\sklearn\\metrics\\classification.py:1437: UndefinedMetricWarning: F-score is ill-defined and being set to 0.0 in labels with no predicted samples.\n",
      "  'precision', 'predicted', average, warn_for)\n",
      "C:\\Users\\schaubia\\Anaconda3\\lib\\site-packages\\sklearn\\metrics\\classification.py:1437: UndefinedMetricWarning: F-score is ill-defined and being set to 0.0 in labels with no predicted samples.\n",
      "  'precision', 'predicted', average, warn_for)\n",
      "C:\\Users\\schaubia\\Anaconda3\\lib\\site-packages\\sklearn\\metrics\\classification.py:1437: UndefinedMetricWarning: F-score is ill-defined and being set to 0.0 in labels with no predicted samples.\n",
      "  'precision', 'predicted', average, warn_for)\n",
      "C:\\Users\\schaubia\\Anaconda3\\lib\\site-packages\\sklearn\\metrics\\classification.py:1437: UndefinedMetricWarning: F-score is ill-defined and being set to 0.0 in labels with no predicted samples.\n",
      "  'precision', 'predicted', average, warn_for)\n",
      "C:\\Users\\schaubia\\Anaconda3\\lib\\site-packages\\sklearn\\metrics\\classification.py:1437: UndefinedMetricWarning: F-score is ill-defined and being set to 0.0 in labels with no predicted samples.\n",
      "  'precision', 'predicted', average, warn_for)\n",
      "C:\\Users\\schaubia\\Anaconda3\\lib\\site-packages\\sklearn\\metrics\\classification.py:1437: UndefinedMetricWarning: F-score is ill-defined and being set to 0.0 in labels with no predicted samples.\n",
      "  'precision', 'predicted', average, warn_for)\n",
      "C:\\Users\\schaubia\\Anaconda3\\lib\\site-packages\\sklearn\\metrics\\classification.py:1437: UndefinedMetricWarning: F-score is ill-defined and being set to 0.0 in labels with no predicted samples.\n",
      "  'precision', 'predicted', average, warn_for)\n",
      "C:\\Users\\schaubia\\Anaconda3\\lib\\site-packages\\sklearn\\metrics\\classification.py:1437: UndefinedMetricWarning: F-score is ill-defined and being set to 0.0 in labels with no predicted samples.\n",
      "  'precision', 'predicted', average, warn_for)\n",
      "C:\\Users\\schaubia\\Anaconda3\\lib\\site-packages\\sklearn\\metrics\\classification.py:1437: UndefinedMetricWarning: F-score is ill-defined and being set to 0.0 in labels with no predicted samples.\n",
      "  'precision', 'predicted', average, warn_for)\n",
      "C:\\Users\\schaubia\\Anaconda3\\lib\\site-packages\\sklearn\\metrics\\classification.py:1437: UndefinedMetricWarning: F-score is ill-defined and being set to 0.0 in labels with no predicted samples.\n",
      "  'precision', 'predicted', average, warn_for)\n",
      "C:\\Users\\schaubia\\Anaconda3\\lib\\site-packages\\sklearn\\metrics\\classification.py:1437: UndefinedMetricWarning: F-score is ill-defined and being set to 0.0 in labels with no predicted samples.\n",
      "  'precision', 'predicted', average, warn_for)\n",
      "C:\\Users\\schaubia\\Anaconda3\\lib\\site-packages\\sklearn\\metrics\\classification.py:1437: UndefinedMetricWarning: F-score is ill-defined and being set to 0.0 in labels with no predicted samples.\n",
      "  'precision', 'predicted', average, warn_for)\n",
      "C:\\Users\\schaubia\\Anaconda3\\lib\\site-packages\\sklearn\\metrics\\classification.py:1437: UndefinedMetricWarning: F-score is ill-defined and being set to 0.0 in labels with no predicted samples.\n",
      "  'precision', 'predicted', average, warn_for)\n",
      "C:\\Users\\schaubia\\Anaconda3\\lib\\site-packages\\sklearn\\metrics\\classification.py:1437: UndefinedMetricWarning: F-score is ill-defined and being set to 0.0 in labels with no predicted samples.\n",
      "  'precision', 'predicted', average, warn_for)\n",
      "C:\\Users\\schaubia\\Anaconda3\\lib\\site-packages\\sklearn\\metrics\\classification.py:1437: UndefinedMetricWarning: F-score is ill-defined and being set to 0.0 in labels with no predicted samples.\n",
      "  'precision', 'predicted', average, warn_for)\n",
      "C:\\Users\\schaubia\\Anaconda3\\lib\\site-packages\\sklearn\\metrics\\classification.py:1437: UndefinedMetricWarning: F-score is ill-defined and being set to 0.0 in labels with no predicted samples.\n",
      "  'precision', 'predicted', average, warn_for)\n",
      "C:\\Users\\schaubia\\Anaconda3\\lib\\site-packages\\sklearn\\metrics\\classification.py:1437: UndefinedMetricWarning: F-score is ill-defined and being set to 0.0 in labels with no predicted samples.\n",
      "  'precision', 'predicted', average, warn_for)\n"
     ]
    },
    {
     "name": "stderr",
     "output_type": "stream",
     "text": [
      "C:\\Users\\schaubia\\Anaconda3\\lib\\site-packages\\sklearn\\metrics\\classification.py:1437: UndefinedMetricWarning: F-score is ill-defined and being set to 0.0 in labels with no predicted samples.\n",
      "  'precision', 'predicted', average, warn_for)\n",
      "C:\\Users\\schaubia\\Anaconda3\\lib\\site-packages\\sklearn\\metrics\\classification.py:1437: UndefinedMetricWarning: F-score is ill-defined and being set to 0.0 in labels with no predicted samples.\n",
      "  'precision', 'predicted', average, warn_for)\n",
      "C:\\Users\\schaubia\\Anaconda3\\lib\\site-packages\\sklearn\\metrics\\classification.py:1437: UndefinedMetricWarning: F-score is ill-defined and being set to 0.0 in labels with no predicted samples.\n",
      "  'precision', 'predicted', average, warn_for)\n",
      "C:\\Users\\schaubia\\Anaconda3\\lib\\site-packages\\sklearn\\metrics\\classification.py:1437: UndefinedMetricWarning: F-score is ill-defined and being set to 0.0 in labels with no predicted samples.\n",
      "  'precision', 'predicted', average, warn_for)\n"
     ]
    },
    {
     "name": "stdout",
     "output_type": "stream",
     "text": [
      "{'mean_fit_time': array([0.11710949, 0.10931611, 0.11528273, 0.1137691 , 0.13366003,\n",
      "       0.13236985, 0.13112254, 0.13212833, 0.17002225, 0.17215405,\n",
      "       0.17614174, 0.1782876 , 0.1908318 , 0.18657866, 0.19337893,\n",
      "       0.17365394, 0.20971937, 0.20041361, 0.18511162, 0.19706402,\n",
      "       0.11233268, 0.11611137, 0.11550784, 0.10848022, 0.13225894,\n",
      "       0.13158331, 0.16028662, 0.1335669 , 0.19119697, 0.16869707,\n",
      "       0.1770432 , 0.19598937, 0.19752169, 0.18013659, 0.17695556,\n",
      "       0.17549667, 0.216362  , 0.20157065, 0.19085383, 0.18580418]), 'std_fit_time': array([0.00876211, 0.00231822, 0.00729742, 0.00703999, 0.00668169,\n",
      "       0.01066126, 0.00410137, 0.01128433, 0.00611788, 0.00526597,\n",
      "       0.00735917, 0.01077322, 0.02167696, 0.01306425, 0.01946708,\n",
      "       0.00704076, 0.01608922, 0.01627151, 0.00172788, 0.01234629,\n",
      "       0.00470553, 0.01767395, 0.00599571, 0.0045289 , 0.00313288,\n",
      "       0.00426317, 0.04723788, 0.00723637, 0.01588288, 0.00123852,\n",
      "       0.00598942, 0.04339978, 0.01038116, 0.00196051, 0.00335739,\n",
      "       0.00825352, 0.00222474, 0.00369756, 0.00160767, 0.00252051]), 'mean_score_time': array([0.08297863, 0.07998514, 0.08030138, 0.08178792, 0.0761807 ,\n",
      "       0.07622828, 0.07974343, 0.08198819, 0.07845001, 0.08752356,\n",
      "       0.08006916, 0.08664713, 0.07863808, 0.08912978, 0.08318567,\n",
      "       0.07989044, 0.08179269, 0.0810122 , 0.07698965, 0.08479757,\n",
      "       0.0795927 , 0.0797801 , 0.07898836, 0.0864717 , 0.07951341,\n",
      "       0.08397536, 0.08804569, 0.07766862, 0.08531017, 0.08024936,\n",
      "       0.08318496, 0.08777599, 0.08407531, 0.07799902, 0.07779975,\n",
      "       0.07786069, 0.07840028, 0.07669468, 0.07607427, 0.07739682]), 'std_score_time': array([0.00238974, 0.00418543, 0.00483255, 0.00501576, 0.00265905,\n",
      "       0.00121759, 0.00305198, 0.00693748, 0.00348035, 0.00772918,\n",
      "       0.00388665, 0.0065391 , 0.00450813, 0.00848735, 0.00731371,\n",
      "       0.00406394, 0.00608612, 0.00520942, 0.00074611, 0.00694822,\n",
      "       0.00230609, 0.00344444, 0.00147322, 0.00721359, 0.00663242,\n",
      "       0.01101901, 0.01861727, 0.00417393, 0.01119298, 0.00531774,\n",
      "       0.00673904, 0.01407799, 0.01085115, 0.00277942, 0.00189123,\n",
      "       0.00136454, 0.00107423, 0.00101534, 0.0008168 , 0.00101261]), 'param_criterion': masked_array(data=['gini', 'gini', 'gini', 'gini', 'gini', 'gini', 'gini',\n",
      "                   'gini', 'gini', 'gini', 'gini', 'gini', 'gini', 'gini',\n",
      "                   'gini', 'gini', 'gini', 'gini', 'gini', 'gini',\n",
      "                   'entropy', 'entropy', 'entropy', 'entropy', 'entropy',\n",
      "                   'entropy', 'entropy', 'entropy', 'entropy', 'entropy',\n",
      "                   'entropy', 'entropy', 'entropy', 'entropy', 'entropy',\n",
      "                   'entropy', 'entropy', 'entropy', 'entropy', 'entropy'],\n",
      "             mask=[False, False, False, False, False, False, False, False,\n",
      "                   False, False, False, False, False, False, False, False,\n",
      "                   False, False, False, False, False, False, False, False,\n",
      "                   False, False, False, False, False, False, False, False,\n",
      "                   False, False, False, False, False, False, False, False],\n",
      "       fill_value='?',\n",
      "            dtype=object), 'param_max_depth': masked_array(data=[3, 3, 3, 3, 6, 6, 6, 6, 12, 12, 12, 12, 14, 14, 14, 14,\n",
      "                   20, 20, 20, 20, 3, 3, 3, 3, 6, 6, 6, 6, 12, 12, 12, 12,\n",
      "                   14, 14, 14, 14, 20, 20, 20, 20],\n",
      "             mask=[False, False, False, False, False, False, False, False,\n",
      "                   False, False, False, False, False, False, False, False,\n",
      "                   False, False, False, False, False, False, False, False,\n",
      "                   False, False, False, False, False, False, False, False,\n",
      "                   False, False, False, False, False, False, False, False],\n",
      "       fill_value='?',\n",
      "            dtype=object), 'param_min_samples_leaf': masked_array(data=[2, 5, 8, 12, 2, 5, 8, 12, 2, 5, 8, 12, 2, 5, 8, 12, 2,\n",
      "                   5, 8, 12, 2, 5, 8, 12, 2, 5, 8, 12, 2, 5, 8, 12, 2, 5,\n",
      "                   8, 12, 2, 5, 8, 12],\n",
      "             mask=[False, False, False, False, False, False, False, False,\n",
      "                   False, False, False, False, False, False, False, False,\n",
      "                   False, False, False, False, False, False, False, False,\n",
      "                   False, False, False, False, False, False, False, False,\n",
      "                   False, False, False, False, False, False, False, False],\n",
      "       fill_value='?',\n",
      "            dtype=object), 'params': [{'criterion': 'gini', 'max_depth': 3, 'min_samples_leaf': 2}, {'criterion': 'gini', 'max_depth': 3, 'min_samples_leaf': 5}, {'criterion': 'gini', 'max_depth': 3, 'min_samples_leaf': 8}, {'criterion': 'gini', 'max_depth': 3, 'min_samples_leaf': 12}, {'criterion': 'gini', 'max_depth': 6, 'min_samples_leaf': 2}, {'criterion': 'gini', 'max_depth': 6, 'min_samples_leaf': 5}, {'criterion': 'gini', 'max_depth': 6, 'min_samples_leaf': 8}, {'criterion': 'gini', 'max_depth': 6, 'min_samples_leaf': 12}, {'criterion': 'gini', 'max_depth': 12, 'min_samples_leaf': 2}, {'criterion': 'gini', 'max_depth': 12, 'min_samples_leaf': 5}, {'criterion': 'gini', 'max_depth': 12, 'min_samples_leaf': 8}, {'criterion': 'gini', 'max_depth': 12, 'min_samples_leaf': 12}, {'criterion': 'gini', 'max_depth': 14, 'min_samples_leaf': 2}, {'criterion': 'gini', 'max_depth': 14, 'min_samples_leaf': 5}, {'criterion': 'gini', 'max_depth': 14, 'min_samples_leaf': 8}, {'criterion': 'gini', 'max_depth': 14, 'min_samples_leaf': 12}, {'criterion': 'gini', 'max_depth': 20, 'min_samples_leaf': 2}, {'criterion': 'gini', 'max_depth': 20, 'min_samples_leaf': 5}, {'criterion': 'gini', 'max_depth': 20, 'min_samples_leaf': 8}, {'criterion': 'gini', 'max_depth': 20, 'min_samples_leaf': 12}, {'criterion': 'entropy', 'max_depth': 3, 'min_samples_leaf': 2}, {'criterion': 'entropy', 'max_depth': 3, 'min_samples_leaf': 5}, {'criterion': 'entropy', 'max_depth': 3, 'min_samples_leaf': 8}, {'criterion': 'entropy', 'max_depth': 3, 'min_samples_leaf': 12}, {'criterion': 'entropy', 'max_depth': 6, 'min_samples_leaf': 2}, {'criterion': 'entropy', 'max_depth': 6, 'min_samples_leaf': 5}, {'criterion': 'entropy', 'max_depth': 6, 'min_samples_leaf': 8}, {'criterion': 'entropy', 'max_depth': 6, 'min_samples_leaf': 12}, {'criterion': 'entropy', 'max_depth': 12, 'min_samples_leaf': 2}, {'criterion': 'entropy', 'max_depth': 12, 'min_samples_leaf': 5}, {'criterion': 'entropy', 'max_depth': 12, 'min_samples_leaf': 8}, {'criterion': 'entropy', 'max_depth': 12, 'min_samples_leaf': 12}, {'criterion': 'entropy', 'max_depth': 14, 'min_samples_leaf': 2}, {'criterion': 'entropy', 'max_depth': 14, 'min_samples_leaf': 5}, {'criterion': 'entropy', 'max_depth': 14, 'min_samples_leaf': 8}, {'criterion': 'entropy', 'max_depth': 14, 'min_samples_leaf': 12}, {'criterion': 'entropy', 'max_depth': 20, 'min_samples_leaf': 2}, {'criterion': 'entropy', 'max_depth': 20, 'min_samples_leaf': 5}, {'criterion': 'entropy', 'max_depth': 20, 'min_samples_leaf': 8}, {'criterion': 'entropy', 'max_depth': 20, 'min_samples_leaf': 12}], 'split0_test_score': array([0.56505209, 0.56505209, 0.56505209, 0.56505209, 0.5828921 ,\n",
      "       0.58097443, 0.58113837, 0.58473624, 0.57797474, 0.57896429,\n",
      "       0.57886304, 0.57936538, 0.57095213, 0.56947345, 0.57004923,\n",
      "       0.57286736, 0.54924264, 0.55596557, 0.56315756, 0.56857953,\n",
      "       0.56505209, 0.56505209, 0.56505209, 0.56505209, 0.58113396,\n",
      "       0.57932089, 0.57901187, 0.57911514, 0.57958992, 0.57693499,\n",
      "       0.58117455, 0.58241346, 0.57007065, 0.57409521, 0.57605022,\n",
      "       0.57608625, 0.54874119, 0.56083423, 0.5703392 , 0.57067841]), 'split1_test_score': array([0.57080226, 0.57080226, 0.57080226, 0.57080226, 0.58107377,\n",
      "       0.58079655, 0.5808993 , 0.58079055, 0.57911527, 0.57990091,\n",
      "       0.57852022, 0.58448298, 0.57695911, 0.57550854, 0.57672011,\n",
      "       0.58185296, 0.54458997, 0.56376729, 0.56299452, 0.57642918,\n",
      "       0.5713047 , 0.5713047 , 0.5713047 , 0.5713047 , 0.58240292,\n",
      "       0.58240292, 0.5822617 , 0.58220576, 0.58056133, 0.57967324,\n",
      "       0.58148903, 0.58256784, 0.57466083, 0.57336048, 0.57571529,\n",
      "       0.57742843, 0.54727154, 0.55582551, 0.56691904, 0.57117591]), 'split2_test_score': array([0.56825068, 0.56825068, 0.56825068, 0.56825068, 0.58314511,\n",
      "       0.58311071, 0.58357324, 0.58380675, 0.57231697, 0.57022231,\n",
      "       0.57361564, 0.57705784, 0.56440601, 0.56730981, 0.5761071 ,\n",
      "       0.57792322, 0.54819217, 0.5634693 , 0.56989376, 0.57173944,\n",
      "       0.56523106, 0.56523106, 0.56523106, 0.56523106, 0.58558866,\n",
      "       0.58558866, 0.58554579, 0.58572746, 0.58418311, 0.58698756,\n",
      "       0.58540179, 0.58648266, 0.57169522, 0.58132151, 0.57739412,\n",
      "       0.57999724, 0.54953622, 0.56695539, 0.57238878, 0.57620702]), 'split3_test_score': array([0.56908159, 0.56908159, 0.56908159, 0.56908159, 0.57758434,\n",
      "       0.57758434, 0.57690397, 0.57701923, 0.58401857, 0.58905964,\n",
      "       0.58727712, 0.58633175, 0.57125416, 0.57605336, 0.57490515,\n",
      "       0.57427851, 0.55463527, 0.56410084, 0.56978696, 0.57592944,\n",
      "       0.56962306, 0.56962306, 0.56962306, 0.56962306, 0.57499007,\n",
      "       0.57525275, 0.57439441, 0.57440543, 0.58226949, 0.58681418,\n",
      "       0.58888855, 0.58311678, 0.57571212, 0.58105285, 0.58701758,\n",
      "       0.58066332, 0.55524435, 0.57087131, 0.57743618, 0.57490938]), 'split4_test_score': array([0.55902923, 0.55902923, 0.55902923, 0.55902923, 0.58469036,\n",
      "       0.58461853, 0.58578434, 0.58616354, 0.58851703, 0.58737961,\n",
      "       0.58503367, 0.58634284, 0.58155934, 0.58148494, 0.58187065,\n",
      "       0.58837218, 0.55718342, 0.56972368, 0.57143849, 0.58365891,\n",
      "       0.55902923, 0.55902923, 0.55902923, 0.55902923, 0.58297574,\n",
      "       0.58307694, 0.58285917, 0.58285917, 0.58954659, 0.58918419,\n",
      "       0.58450601, 0.587077  , 0.57630422, 0.57823405, 0.57733546,\n",
      "       0.58133433, 0.55712355, 0.56785697, 0.5700199 , 0.58080182]), 'mean_test_score': array([0.5664433 , 0.5664433 , 0.5664433 , 0.5664433 , 0.58187708,\n",
      "       0.58141685, 0.58165977, 0.58250319, 0.58038837, 0.58110524,\n",
      "       0.58066186, 0.58271609, 0.57302599, 0.57396588, 0.57593034,\n",
      "       0.57905867, 0.55076858, 0.56340522, 0.56745419, 0.57526715,\n",
      "       0.56604816, 0.56604816, 0.56604816, 0.56604816, 0.58141824,\n",
      "       0.58112839, 0.58081455, 0.58086256, 0.58322997, 0.58391874,\n",
      "       0.58429198, 0.5843315 , 0.57368856, 0.57761281, 0.57870256,\n",
      "       0.57910187, 0.55158327, 0.56446862, 0.57142065, 0.5747544 ]), 'std_test_score': array([0.00415038, 0.00415038, 0.00415038, 0.00415038, 0.00243415,\n",
      "       0.00238277, 0.00297121, 0.00325855, 0.00551079, 0.00673963,\n",
      "       0.00490605, 0.00381028, 0.00583144, 0.00505482, 0.00378362,\n",
      "       0.00560385, 0.00454403, 0.00437923, 0.00362264, 0.00508676,\n",
      "       0.00427396, 0.00427396, 0.00427396, 0.00427396, 0.00352678,\n",
      "       0.00355264, 0.00382435, 0.00385245, 0.0035242 , 0.00473968,\n",
      "       0.00282778, 0.00202138, 0.00240601, 0.0033595 , 0.00421143,\n",
      "       0.00200589, 0.00387184, 0.0054143 , 0.0034791 , 0.00369114]), 'rank_test_score': array([29, 29, 29, 29,  7, 10,  8,  6, 16, 12, 15,  5, 26, 24, 21, 18, 40,\n",
      "       38, 28, 22, 33, 33, 33, 33,  9, 11, 14, 13,  4,  3,  2,  1, 25, 20,\n",
      "       19, 17, 39, 37, 27, 23])}\n",
      "Decision Tree best score is 0.58433149833656\n",
      "For Decision Tree the f1 score for the test data is 0.5857823986012267\n"
     ]
    }
   ],
   "source": [
    "#train and score on the raw data\n",
    "tree_best = train_score_model (tree_model, parameters_tree, \"Decision Tree\", cardio_features_train, cardio_features_test, cardio_target_train, cardio_target_test)"
   ]
  },
  {
   "cell_type": "code",
   "execution_count": 54,
   "metadata": {},
   "outputs": [
    {
     "name": "stderr",
     "output_type": "stream",
     "text": [
      "C:\\Users\\schaubia\\Anaconda3\\lib\\site-packages\\sklearn\\metrics\\classification.py:1437: UndefinedMetricWarning: F-score is ill-defined and being set to 0.0 in labels with no predicted samples.\n",
      "  'precision', 'predicted', average, warn_for)\n",
      "C:\\Users\\schaubia\\Anaconda3\\lib\\site-packages\\sklearn\\metrics\\classification.py:1437: UndefinedMetricWarning: F-score is ill-defined and being set to 0.0 in labels with no predicted samples.\n",
      "  'precision', 'predicted', average, warn_for)\n",
      "C:\\Users\\schaubia\\Anaconda3\\lib\\site-packages\\sklearn\\metrics\\classification.py:1437: UndefinedMetricWarning: F-score is ill-defined and being set to 0.0 in labels with no predicted samples.\n",
      "  'precision', 'predicted', average, warn_for)\n",
      "C:\\Users\\schaubia\\Anaconda3\\lib\\site-packages\\sklearn\\metrics\\classification.py:1437: UndefinedMetricWarning: F-score is ill-defined and being set to 0.0 in labels with no predicted samples.\n",
      "  'precision', 'predicted', average, warn_for)\n",
      "C:\\Users\\schaubia\\Anaconda3\\lib\\site-packages\\sklearn\\metrics\\classification.py:1437: UndefinedMetricWarning: F-score is ill-defined and being set to 0.0 in labels with no predicted samples.\n",
      "  'precision', 'predicted', average, warn_for)\n",
      "C:\\Users\\schaubia\\Anaconda3\\lib\\site-packages\\sklearn\\metrics\\classification.py:1437: UndefinedMetricWarning: F-score is ill-defined and being set to 0.0 in labels with no predicted samples.\n",
      "  'precision', 'predicted', average, warn_for)\n",
      "C:\\Users\\schaubia\\Anaconda3\\lib\\site-packages\\sklearn\\metrics\\classification.py:1437: UndefinedMetricWarning: F-score is ill-defined and being set to 0.0 in labels with no predicted samples.\n",
      "  'precision', 'predicted', average, warn_for)\n",
      "C:\\Users\\schaubia\\Anaconda3\\lib\\site-packages\\sklearn\\metrics\\classification.py:1437: UndefinedMetricWarning: F-score is ill-defined and being set to 0.0 in labels with no predicted samples.\n",
      "  'precision', 'predicted', average, warn_for)\n",
      "C:\\Users\\schaubia\\Anaconda3\\lib\\site-packages\\sklearn\\metrics\\classification.py:1437: UndefinedMetricWarning: F-score is ill-defined and being set to 0.0 in labels with no predicted samples.\n",
      "  'precision', 'predicted', average, warn_for)\n",
      "C:\\Users\\schaubia\\Anaconda3\\lib\\site-packages\\sklearn\\metrics\\classification.py:1437: UndefinedMetricWarning: F-score is ill-defined and being set to 0.0 in labels with no predicted samples.\n",
      "  'precision', 'predicted', average, warn_for)\n",
      "C:\\Users\\schaubia\\Anaconda3\\lib\\site-packages\\sklearn\\metrics\\classification.py:1437: UndefinedMetricWarning: F-score is ill-defined and being set to 0.0 in labels with no predicted samples.\n",
      "  'precision', 'predicted', average, warn_for)\n",
      "C:\\Users\\schaubia\\Anaconda3\\lib\\site-packages\\sklearn\\metrics\\classification.py:1437: UndefinedMetricWarning: F-score is ill-defined and being set to 0.0 in labels with no predicted samples.\n",
      "  'precision', 'predicted', average, warn_for)\n",
      "C:\\Users\\schaubia\\Anaconda3\\lib\\site-packages\\sklearn\\metrics\\classification.py:1437: UndefinedMetricWarning: F-score is ill-defined and being set to 0.0 in labels with no predicted samples.\n",
      "  'precision', 'predicted', average, warn_for)\n",
      "C:\\Users\\schaubia\\Anaconda3\\lib\\site-packages\\sklearn\\metrics\\classification.py:1437: UndefinedMetricWarning: F-score is ill-defined and being set to 0.0 in labels with no predicted samples.\n",
      "  'precision', 'predicted', average, warn_for)\n",
      "C:\\Users\\schaubia\\Anaconda3\\lib\\site-packages\\sklearn\\metrics\\classification.py:1437: UndefinedMetricWarning: F-score is ill-defined and being set to 0.0 in labels with no predicted samples.\n",
      "  'precision', 'predicted', average, warn_for)\n",
      "C:\\Users\\schaubia\\Anaconda3\\lib\\site-packages\\sklearn\\metrics\\classification.py:1437: UndefinedMetricWarning: F-score is ill-defined and being set to 0.0 in labels with no predicted samples.\n",
      "  'precision', 'predicted', average, warn_for)\n",
      "C:\\Users\\schaubia\\Anaconda3\\lib\\site-packages\\sklearn\\metrics\\classification.py:1437: UndefinedMetricWarning: F-score is ill-defined and being set to 0.0 in labels with no predicted samples.\n",
      "  'precision', 'predicted', average, warn_for)\n",
      "C:\\Users\\schaubia\\Anaconda3\\lib\\site-packages\\sklearn\\metrics\\classification.py:1437: UndefinedMetricWarning: F-score is ill-defined and being set to 0.0 in labels with no predicted samples.\n",
      "  'precision', 'predicted', average, warn_for)\n",
      "C:\\Users\\schaubia\\Anaconda3\\lib\\site-packages\\sklearn\\metrics\\classification.py:1437: UndefinedMetricWarning: F-score is ill-defined and being set to 0.0 in labels with no predicted samples.\n",
      "  'precision', 'predicted', average, warn_for)\n",
      "C:\\Users\\schaubia\\Anaconda3\\lib\\site-packages\\sklearn\\metrics\\classification.py:1437: UndefinedMetricWarning: F-score is ill-defined and being set to 0.0 in labels with no predicted samples.\n",
      "  'precision', 'predicted', average, warn_for)\n",
      "C:\\Users\\schaubia\\Anaconda3\\lib\\site-packages\\sklearn\\metrics\\classification.py:1437: UndefinedMetricWarning: F-score is ill-defined and being set to 0.0 in labels with no predicted samples.\n",
      "  'precision', 'predicted', average, warn_for)\n",
      "C:\\Users\\schaubia\\Anaconda3\\lib\\site-packages\\sklearn\\metrics\\classification.py:1437: UndefinedMetricWarning: F-score is ill-defined and being set to 0.0 in labels with no predicted samples.\n",
      "  'precision', 'predicted', average, warn_for)\n",
      "C:\\Users\\schaubia\\Anaconda3\\lib\\site-packages\\sklearn\\metrics\\classification.py:1437: UndefinedMetricWarning: F-score is ill-defined and being set to 0.0 in labels with no predicted samples.\n",
      "  'precision', 'predicted', average, warn_for)\n",
      "C:\\Users\\schaubia\\Anaconda3\\lib\\site-packages\\sklearn\\metrics\\classification.py:1437: UndefinedMetricWarning: F-score is ill-defined and being set to 0.0 in labels with no predicted samples.\n",
      "  'precision', 'predicted', average, warn_for)\n",
      "C:\\Users\\schaubia\\Anaconda3\\lib\\site-packages\\sklearn\\metrics\\classification.py:1437: UndefinedMetricWarning: F-score is ill-defined and being set to 0.0 in labels with no predicted samples.\n",
      "  'precision', 'predicted', average, warn_for)\n",
      "C:\\Users\\schaubia\\Anaconda3\\lib\\site-packages\\sklearn\\metrics\\classification.py:1437: UndefinedMetricWarning: F-score is ill-defined and being set to 0.0 in labels with no predicted samples.\n",
      "  'precision', 'predicted', average, warn_for)\n",
      "C:\\Users\\schaubia\\Anaconda3\\lib\\site-packages\\sklearn\\metrics\\classification.py:1437: UndefinedMetricWarning: F-score is ill-defined and being set to 0.0 in labels with no predicted samples.\n",
      "  'precision', 'predicted', average, warn_for)\n",
      "C:\\Users\\schaubia\\Anaconda3\\lib\\site-packages\\sklearn\\metrics\\classification.py:1437: UndefinedMetricWarning: F-score is ill-defined and being set to 0.0 in labels with no predicted samples.\n",
      "  'precision', 'predicted', average, warn_for)\n",
      "C:\\Users\\schaubia\\Anaconda3\\lib\\site-packages\\sklearn\\metrics\\classification.py:1437: UndefinedMetricWarning: F-score is ill-defined and being set to 0.0 in labels with no predicted samples.\n",
      "  'precision', 'predicted', average, warn_for)\n",
      "C:\\Users\\schaubia\\Anaconda3\\lib\\site-packages\\sklearn\\metrics\\classification.py:1437: UndefinedMetricWarning: F-score is ill-defined and being set to 0.0 in labels with no predicted samples.\n",
      "  'precision', 'predicted', average, warn_for)\n",
      "C:\\Users\\schaubia\\Anaconda3\\lib\\site-packages\\sklearn\\metrics\\classification.py:1437: UndefinedMetricWarning: F-score is ill-defined and being set to 0.0 in labels with no predicted samples.\n",
      "  'precision', 'predicted', average, warn_for)\n",
      "C:\\Users\\schaubia\\Anaconda3\\lib\\site-packages\\sklearn\\metrics\\classification.py:1437: UndefinedMetricWarning: F-score is ill-defined and being set to 0.0 in labels with no predicted samples.\n",
      "  'precision', 'predicted', average, warn_for)\n",
      "C:\\Users\\schaubia\\Anaconda3\\lib\\site-packages\\sklearn\\metrics\\classification.py:1437: UndefinedMetricWarning: F-score is ill-defined and being set to 0.0 in labels with no predicted samples.\n",
      "  'precision', 'predicted', average, warn_for)\n",
      "C:\\Users\\schaubia\\Anaconda3\\lib\\site-packages\\sklearn\\metrics\\classification.py:1437: UndefinedMetricWarning: F-score is ill-defined and being set to 0.0 in labels with no predicted samples.\n",
      "  'precision', 'predicted', average, warn_for)\n",
      "C:\\Users\\schaubia\\Anaconda3\\lib\\site-packages\\sklearn\\metrics\\classification.py:1437: UndefinedMetricWarning: F-score is ill-defined and being set to 0.0 in labels with no predicted samples.\n",
      "  'precision', 'predicted', average, warn_for)\n"
     ]
    },
    {
     "name": "stderr",
     "output_type": "stream",
     "text": [
      "C:\\Users\\schaubia\\Anaconda3\\lib\\site-packages\\sklearn\\metrics\\classification.py:1437: UndefinedMetricWarning: F-score is ill-defined and being set to 0.0 in labels with no predicted samples.\n",
      "  'precision', 'predicted', average, warn_for)\n",
      "C:\\Users\\schaubia\\Anaconda3\\lib\\site-packages\\sklearn\\metrics\\classification.py:1437: UndefinedMetricWarning: F-score is ill-defined and being set to 0.0 in labels with no predicted samples.\n",
      "  'precision', 'predicted', average, warn_for)\n",
      "C:\\Users\\schaubia\\Anaconda3\\lib\\site-packages\\sklearn\\metrics\\classification.py:1437: UndefinedMetricWarning: F-score is ill-defined and being set to 0.0 in labels with no predicted samples.\n",
      "  'precision', 'predicted', average, warn_for)\n",
      "C:\\Users\\schaubia\\Anaconda3\\lib\\site-packages\\sklearn\\metrics\\classification.py:1437: UndefinedMetricWarning: F-score is ill-defined and being set to 0.0 in labels with no predicted samples.\n",
      "  'precision', 'predicted', average, warn_for)\n",
      "C:\\Users\\schaubia\\Anaconda3\\lib\\site-packages\\sklearn\\metrics\\classification.py:1437: UndefinedMetricWarning: F-score is ill-defined and being set to 0.0 in labels with no predicted samples.\n",
      "  'precision', 'predicted', average, warn_for)\n"
     ]
    },
    {
     "name": "stdout",
     "output_type": "stream",
     "text": [
      "{'mean_fit_time': array([0.27971139, 0.280509  , 0.28410306, 0.27972493, 0.41225615,\n",
      "       0.40744476, 0.41972876, 0.40984573, 0.61987033, 0.65052786,\n",
      "       0.62674875, 0.6123786 , 0.74866233, 0.67827401, 0.62541823,\n",
      "       0.65814147, 0.90744357, 0.82243109, 0.79914689, 0.82378516,\n",
      "       0.32421975, 0.30375957, 0.29082961, 0.28986812, 0.43311715,\n",
      "       0.42198448, 0.42673531, 0.42870178, 0.68509116, 0.66016984,\n",
      "       0.65993919, 0.64995346, 0.75672131, 0.73595014, 0.7269918 ,\n",
      "       0.71287804, 0.93345504, 0.88912334, 0.84215603, 0.80331373]), 'std_fit_time': array([0.00243505, 0.00260398, 0.00845349, 0.00252622, 0.00254563,\n",
      "       0.00601142, 0.01263937, 0.00468988, 0.00617263, 0.03533395,\n",
      "       0.04028696, 0.00745212, 0.03440299, 0.03883664, 0.01024089,\n",
      "       0.04584801, 0.04440861, 0.01789214, 0.01900477, 0.0391893 ,\n",
      "       0.01981768, 0.02168746, 0.00304103, 0.00668613, 0.00635475,\n",
      "       0.00408682, 0.00496878, 0.00783886, 0.00456882, 0.0051998 ,\n",
      "       0.01089506, 0.00676898, 0.00589289, 0.00764427, 0.00485756,\n",
      "       0.0112683 , 0.01103708, 0.01230639, 0.01431187, 0.01298358]), 'mean_score_time': array([0.07768393, 0.07968259, 0.07770491, 0.07685452, 0.07668014,\n",
      "       0.07882218, 0.0780241 , 0.07778845, 0.07855101, 0.08088508,\n",
      "       0.07804918, 0.07931533, 0.08840528, 0.07923698, 0.07297931,\n",
      "       0.0796555 , 0.08993526, 0.07943096, 0.08157978, 0.08867764,\n",
      "       0.09034543, 0.08132076, 0.07659717, 0.07849426, 0.07873845,\n",
      "       0.07845521, 0.07908349, 0.0771925 , 0.07876706, 0.07629104,\n",
      "       0.07688589, 0.08000927, 0.07787309, 0.07783518, 0.07792907,\n",
      "       0.0779614 , 0.07766037, 0.07814312, 0.07814574, 0.07886109]), 'std_score_time': array([0.00125403, 0.00336675, 0.00197347, 0.00254992, 0.00121256,\n",
      "       0.00147998, 0.00099887, 0.00227678, 0.00170834, 0.00451522,\n",
      "       0.00251942, 0.00328855, 0.00515932, 0.00863776, 0.00065617,\n",
      "       0.00441017, 0.00769551, 0.00095469, 0.00384782, 0.01017416,\n",
      "       0.00887185, 0.0033647 , 0.00116193, 0.00034803, 0.00268514,\n",
      "       0.00329993, 0.00107998, 0.00085893, 0.00321958, 0.00071345,\n",
      "       0.00205137, 0.00404161, 0.00063372, 0.00226721, 0.00093858,\n",
      "       0.00171595, 0.00185048, 0.00269062, 0.00083525, 0.00190923]), 'param_criterion': masked_array(data=['gini', 'gini', 'gini', 'gini', 'gini', 'gini', 'gini',\n",
      "                   'gini', 'gini', 'gini', 'gini', 'gini', 'gini', 'gini',\n",
      "                   'gini', 'gini', 'gini', 'gini', 'gini', 'gini',\n",
      "                   'entropy', 'entropy', 'entropy', 'entropy', 'entropy',\n",
      "                   'entropy', 'entropy', 'entropy', 'entropy', 'entropy',\n",
      "                   'entropy', 'entropy', 'entropy', 'entropy', 'entropy',\n",
      "                   'entropy', 'entropy', 'entropy', 'entropy', 'entropy'],\n",
      "             mask=[False, False, False, False, False, False, False, False,\n",
      "                   False, False, False, False, False, False, False, False,\n",
      "                   False, False, False, False, False, False, False, False,\n",
      "                   False, False, False, False, False, False, False, False,\n",
      "                   False, False, False, False, False, False, False, False],\n",
      "       fill_value='?',\n",
      "            dtype=object), 'param_max_depth': masked_array(data=[3, 3, 3, 3, 6, 6, 6, 6, 12, 12, 12, 12, 14, 14, 14, 14,\n",
      "                   20, 20, 20, 20, 3, 3, 3, 3, 6, 6, 6, 6, 12, 12, 12, 12,\n",
      "                   14, 14, 14, 14, 20, 20, 20, 20],\n",
      "             mask=[False, False, False, False, False, False, False, False,\n",
      "                   False, False, False, False, False, False, False, False,\n",
      "                   False, False, False, False, False, False, False, False,\n",
      "                   False, False, False, False, False, False, False, False,\n",
      "                   False, False, False, False, False, False, False, False],\n",
      "       fill_value='?',\n",
      "            dtype=object), 'param_min_samples_leaf': masked_array(data=[2, 5, 8, 12, 2, 5, 8, 12, 2, 5, 8, 12, 2, 5, 8, 12, 2,\n",
      "                   5, 8, 12, 2, 5, 8, 12, 2, 5, 8, 12, 2, 5, 8, 12, 2, 5,\n",
      "                   8, 12, 2, 5, 8, 12],\n",
      "             mask=[False, False, False, False, False, False, False, False,\n",
      "                   False, False, False, False, False, False, False, False,\n",
      "                   False, False, False, False, False, False, False, False,\n",
      "                   False, False, False, False, False, False, False, False,\n",
      "                   False, False, False, False, False, False, False, False],\n",
      "       fill_value='?',\n",
      "            dtype=object), 'params': [{'criterion': 'gini', 'max_depth': 3, 'min_samples_leaf': 2}, {'criterion': 'gini', 'max_depth': 3, 'min_samples_leaf': 5}, {'criterion': 'gini', 'max_depth': 3, 'min_samples_leaf': 8}, {'criterion': 'gini', 'max_depth': 3, 'min_samples_leaf': 12}, {'criterion': 'gini', 'max_depth': 6, 'min_samples_leaf': 2}, {'criterion': 'gini', 'max_depth': 6, 'min_samples_leaf': 5}, {'criterion': 'gini', 'max_depth': 6, 'min_samples_leaf': 8}, {'criterion': 'gini', 'max_depth': 6, 'min_samples_leaf': 12}, {'criterion': 'gini', 'max_depth': 12, 'min_samples_leaf': 2}, {'criterion': 'gini', 'max_depth': 12, 'min_samples_leaf': 5}, {'criterion': 'gini', 'max_depth': 12, 'min_samples_leaf': 8}, {'criterion': 'gini', 'max_depth': 12, 'min_samples_leaf': 12}, {'criterion': 'gini', 'max_depth': 14, 'min_samples_leaf': 2}, {'criterion': 'gini', 'max_depth': 14, 'min_samples_leaf': 5}, {'criterion': 'gini', 'max_depth': 14, 'min_samples_leaf': 8}, {'criterion': 'gini', 'max_depth': 14, 'min_samples_leaf': 12}, {'criterion': 'gini', 'max_depth': 20, 'min_samples_leaf': 2}, {'criterion': 'gini', 'max_depth': 20, 'min_samples_leaf': 5}, {'criterion': 'gini', 'max_depth': 20, 'min_samples_leaf': 8}, {'criterion': 'gini', 'max_depth': 20, 'min_samples_leaf': 12}, {'criterion': 'entropy', 'max_depth': 3, 'min_samples_leaf': 2}, {'criterion': 'entropy', 'max_depth': 3, 'min_samples_leaf': 5}, {'criterion': 'entropy', 'max_depth': 3, 'min_samples_leaf': 8}, {'criterion': 'entropy', 'max_depth': 3, 'min_samples_leaf': 12}, {'criterion': 'entropy', 'max_depth': 6, 'min_samples_leaf': 2}, {'criterion': 'entropy', 'max_depth': 6, 'min_samples_leaf': 5}, {'criterion': 'entropy', 'max_depth': 6, 'min_samples_leaf': 8}, {'criterion': 'entropy', 'max_depth': 6, 'min_samples_leaf': 12}, {'criterion': 'entropy', 'max_depth': 12, 'min_samples_leaf': 2}, {'criterion': 'entropy', 'max_depth': 12, 'min_samples_leaf': 5}, {'criterion': 'entropy', 'max_depth': 12, 'min_samples_leaf': 8}, {'criterion': 'entropy', 'max_depth': 12, 'min_samples_leaf': 12}, {'criterion': 'entropy', 'max_depth': 14, 'min_samples_leaf': 2}, {'criterion': 'entropy', 'max_depth': 14, 'min_samples_leaf': 5}, {'criterion': 'entropy', 'max_depth': 14, 'min_samples_leaf': 8}, {'criterion': 'entropy', 'max_depth': 14, 'min_samples_leaf': 12}, {'criterion': 'entropy', 'max_depth': 20, 'min_samples_leaf': 2}, {'criterion': 'entropy', 'max_depth': 20, 'min_samples_leaf': 5}, {'criterion': 'entropy', 'max_depth': 20, 'min_samples_leaf': 8}, {'criterion': 'entropy', 'max_depth': 20, 'min_samples_leaf': 12}], 'split0_test_score': array([0.57225013, 0.57225013, 0.57225013, 0.57225013, 0.58317726,\n",
      "       0.58305824, 0.58341977, 0.58336333, 0.57864856, 0.58053486,\n",
      "       0.57867658, 0.57682822, 0.5741794 , 0.57251408, 0.56997076,\n",
      "       0.57528407, 0.5642834 , 0.56935481, 0.56345783, 0.57134158,\n",
      "       0.5598231 , 0.5598231 , 0.5598231 , 0.5598231 , 0.58456398,\n",
      "       0.58445466, 0.58456822, 0.58478362, 0.58266326, 0.58604217,\n",
      "       0.58283338, 0.58559524, 0.57663219, 0.57987084, 0.57566457,\n",
      "       0.57925317, 0.55567051, 0.57006617, 0.5702655 , 0.57020627]), 'split1_test_score': array([0.57898831, 0.57898831, 0.57898831, 0.57898831, 0.57426696,\n",
      "       0.57430725, 0.57438678, 0.57436168, 0.57967506, 0.5832604 ,\n",
      "       0.58331333, 0.58255251, 0.57556391, 0.57682412, 0.57918779,\n",
      "       0.58338253, 0.5648129 , 0.56580866, 0.57188712, 0.57268123,\n",
      "       0.5617548 , 0.5617548 , 0.5617548 , 0.5617548 , 0.58119165,\n",
      "       0.58124416, 0.58126122, 0.58197545, 0.57873033, 0.58089234,\n",
      "       0.58420976, 0.5815668 , 0.57833464, 0.58202143, 0.58209609,\n",
      "       0.58197493, 0.56217708, 0.57225337, 0.57070277, 0.57611899]), 'split2_test_score': array([0.57389326, 0.57389326, 0.57389326, 0.57389326, 0.5921405 ,\n",
      "       0.59225844, 0.5934574 , 0.594699  , 0.58487984, 0.58373099,\n",
      "       0.58463088, 0.58607329, 0.57412548, 0.57504541, 0.57558233,\n",
      "       0.57924073, 0.56174966, 0.56862895, 0.56770252, 0.57846719,\n",
      "       0.56022255, 0.56022255, 0.56022255, 0.56022255, 0.58321668,\n",
      "       0.58354099, 0.58908299, 0.58369007, 0.58533084, 0.58798043,\n",
      "       0.58563604, 0.5860447 , 0.58828562, 0.58563372, 0.58702648,\n",
      "       0.58889863, 0.56516061, 0.57016986, 0.57318022, 0.57958835]), 'split3_test_score': array([0.57449597, 0.57449597, 0.57449597, 0.57449597, 0.57303844,\n",
      "       0.57304508, 0.57374417, 0.57372475, 0.58219128, 0.58110334,\n",
      "       0.58243195, 0.58358283, 0.58458813, 0.58502855, 0.57924296,\n",
      "       0.57848083, 0.56465174, 0.56692853, 0.57950173, 0.58246978,\n",
      "       0.56006522, 0.56006522, 0.56006522, 0.56006522, 0.58065411,\n",
      "       0.58048822, 0.58075598, 0.58159056, 0.58751739, 0.59149265,\n",
      "       0.59604343, 0.58747623, 0.58837769, 0.58777007, 0.58905064,\n",
      "       0.58509993, 0.56759162, 0.5762932 , 0.58474012, 0.58019333]), 'split4_test_score': array([0.56093001, 0.56093001, 0.56093001, 0.56093001, 0.57667038,\n",
      "       0.57772469, 0.5781382 , 0.57794999, 0.5755116 , 0.57771725,\n",
      "       0.57900289, 0.57987084, 0.57180856, 0.57615886, 0.57535137,\n",
      "       0.57205622, 0.5697146 , 0.56923037, 0.57079554, 0.56786337,\n",
      "       0.55161171, 0.55161171, 0.55161171, 0.55161171, 0.58001329,\n",
      "       0.57969759, 0.58018278, 0.58103831, 0.58144536, 0.58085082,\n",
      "       0.58721517, 0.58605413, 0.57964168, 0.57666081, 0.5817134 ,\n",
      "       0.57957487, 0.56731889, 0.57195566, 0.57304344, 0.57496609]), 'mean_test_score': array([0.57211174, 0.57211174, 0.57211174, 0.57211174, 0.57985876,\n",
      "       0.58007878, 0.58062931, 0.5808198 , 0.58018135, 0.58126943,\n",
      "       0.58161117, 0.58178157, 0.57605317, 0.57711422, 0.57586705,\n",
      "       0.57768898, 0.56504237, 0.56799024, 0.57066894, 0.57456475,\n",
      "       0.5586956 , 0.5586956 , 0.5586956 , 0.5586956 , 0.58192798,\n",
      "       0.58188516, 0.58317029, 0.58261563, 0.58313747, 0.58545177,\n",
      "       0.58718755, 0.58534741, 0.58225441, 0.58239148, 0.58311026,\n",
      "       0.58296037, 0.56358367, 0.57214765, 0.57438644, 0.57621463]), 'std_test_score': array([0.00601976, 0.00601976, 0.00601976, 0.00601976, 0.00706835,\n",
      "       0.00700786, 0.00727916, 0.00773808, 0.0031789 , 0.00215442,\n",
      "       0.00237084, 0.00317632, 0.00443461, 0.00422081, 0.0033923 ,\n",
      "       0.00381999, 0.00258656, 0.00139244, 0.00529756, 0.00522612,\n",
      "       0.00360598, 0.00360598, 0.00360598, 0.00360598, 0.00169942,\n",
      "       0.00181614, 0.00332605, 0.00140022, 0.00304979, 0.00412775,\n",
      "       0.00466182, 0.0019936 , 0.00505316, 0.00396915, 0.00467001,\n",
      "       0.00363365, 0.0044068 , 0.00225736, 0.00531058, 0.00360226]), 'rank_test_score': array([29, 29, 29, 29, 20, 19, 17, 16, 18, 15, 14, 13, 24, 22, 25, 21, 35,\n",
      "       34, 33, 26, 37, 37, 37, 37, 11, 12,  4,  8,  5,  2,  1,  3, 10,  9,\n",
      "        6,  7, 36, 28, 27, 23])}\n",
      "Decision Tree best score is 0.5871875542315963\n",
      "For Decision Tree the f1 score for the test data is 0.5846839054468507\n"
     ]
    }
   ],
   "source": [
    "#train and score on the polynomial features data\n",
    "tree_best_poly = train_score_model (tree_model, parameters_tree, \"Decision Tree\", cardio_features_polynomial_train, cardio_features_polynomial_test, cardio_target_polynomial_train, cardio_target_polynomial_test)"
   ]
  },
  {
   "cell_type": "markdown",
   "metadata": {},
   "source": [
    "Decision Tree algorithm gives almost equal results for the raw and for the polynomial features data. The scores are marginally better from those, provided by the Logistic Regression method. However, Decision Tree algorithm requires less computation time."
   ]
  },
  {
   "cell_type": "markdown",
   "metadata": {},
   "source": [
    "###### Random forest\n",
    "\n",
    "I am also going to score some ensemble methods to see if they perform better than the single tree. First comes the Random Forest classifier. As the models require more computation time, I am going to use only number of estimators for the grid search. I am also going to set the minimum samples per leaf to two instead of the default 1, in order to prevent overfitting as much as possible."
   ]
  },
  {
   "cell_type": "code",
   "execution_count": 55,
   "metadata": {},
   "outputs": [],
   "source": [
    "forest_model = RandomForestClassifier(min_samples_leaf = 2)"
   ]
  },
  {
   "cell_type": "code",
   "execution_count": 56,
   "metadata": {},
   "outputs": [],
   "source": [
    "parameters_forest = {\n",
    "    \"n_estimators\": [100, 200, 500],\n",
    "}"
   ]
  },
  {
   "cell_type": "code",
   "execution_count": 57,
   "metadata": {},
   "outputs": [
    {
     "name": "stdout",
     "output_type": "stream",
     "text": [
      "{'mean_fit_time': array([ 3.41251397,  6.88165927, 16.76416678]), 'std_fit_time': array([0.02838603, 0.12079321, 0.04909416]), 'mean_score_time': array([0.36076069, 0.65318742, 1.5164885 ]), 'std_score_time': array([0.00509608, 0.02981716, 0.01742524]), 'param_n_estimators': masked_array(data=[100, 200, 500],\n",
      "             mask=[False, False, False],\n",
      "       fill_value='?',\n",
      "            dtype=object), 'params': [{'n_estimators': 100}, {'n_estimators': 200}, {'n_estimators': 500}], 'split0_test_score': array([0.58467218, 0.58156792, 0.58504145]), 'split1_test_score': array([0.58586608, 0.58707218, 0.58675872]), 'split2_test_score': array([0.58202544, 0.58118336, 0.5807809 ]), 'split3_test_score': array([0.58538309, 0.58515533, 0.58550722]), 'split4_test_score': array([0.58875301, 0.58623294, 0.58406456]), 'mean_test_score': array([0.5853399 , 0.58424231, 0.58443058]), 'std_test_score': array([0.00216143, 0.00242133, 0.00202025]), 'rank_test_score': array([1, 3, 2])}\n",
      "Random Forest best score is 0.5853398963123885\n",
      "For Random Forest the f1 score for the test data is 0.5805943551941964\n"
     ]
    }
   ],
   "source": [
    "#train and score on the raw data\n",
    "forest_best = train_score_model(forest_model, parameters_forest, \"Random Forest\", cardio_features_train, cardio_features_test, cardio_target_train, cardio_target_test)"
   ]
  },
  {
   "cell_type": "code",
   "execution_count": 58,
   "metadata": {},
   "outputs": [
    {
     "name": "stdout",
     "output_type": "stream",
     "text": [
      "{'mean_fit_time': array([ 8.00836854, 15.77339859, 40.17231388]), 'std_fit_time': array([0.18613481, 0.06148505, 1.65422204]), 'mean_score_time': array([0.3960464 , 0.72605543, 1.71786356]), 'std_score_time': array([0.00404811, 0.01275807, 0.05076764]), 'param_n_estimators': masked_array(data=[100, 200, 500],\n",
      "             mask=[False, False, False],\n",
      "       fill_value='?',\n",
      "            dtype=object), 'params': [{'n_estimators': 100}, {'n_estimators': 200}, {'n_estimators': 500}], 'split0_test_score': array([0.57939069, 0.58151193, 0.58141827]), 'split1_test_score': array([0.5781696 , 0.5787186 , 0.57909359]), 'split2_test_score': array([0.58994982, 0.58983756, 0.59076096]), 'split3_test_score': array([0.58653565, 0.58248525, 0.58350929]), 'split4_test_score': array([0.58560839, 0.58737713, 0.5858116 ]), 'mean_test_score': array([0.5839308 , 0.58398603, 0.58411871]), 'std_test_score': array([0.00446394, 0.00404623, 0.00399755]), 'rank_test_score': array([3, 2, 1])}\n",
      "Random Forest best score is 0.5841187133747302\n",
      "For Random Forest the f1 score for the test data is 0.5888969762168361\n"
     ]
    }
   ],
   "source": [
    "#train and score on the polynomial features data\n",
    "forest_best_poly = train_score_model(forest_model, parameters_forest, \"Random Forest\", cardio_features_polynomial_train, cardio_features_polynomial_test, cardio_target_polynomial_train, cardio_target_polynomial_test)"
   ]
  },
  {
   "cell_type": "markdown",
   "metadata": {},
   "source": [
    "Again we can see results similar to those of the prior two methods."
   ]
  },
  {
   "cell_type": "markdown",
   "metadata": {},
   "source": [
    "###### AdaBoost\n",
    "I am also going to try another ensemble method which implies boosting. As a base estimator for this algorithm, I'll be using the default tree classifier. For grid search I am going to choose between different number of estimators, which is the most important hyperparameter here, and also a difference in the learning rate. What the learning rate does is when lowered - to minimise the influence of each of the weak estimators on the weights of the model, so it is partially compensated by the number of estimators."
   ]
  },
  {
   "cell_type": "code",
   "execution_count": 59,
   "metadata": {},
   "outputs": [],
   "source": [
    "boost_model = AdaBoostClassifier()"
   ]
  },
  {
   "cell_type": "code",
   "execution_count": 60,
   "metadata": {},
   "outputs": [],
   "source": [
    "parameters_boost = {\n",
    "    \"n_estimators\": [25, 50, 100],\n",
    "    \"learning_rate\": [0.05, 0.1, 1],\n",
    "}"
   ]
  },
  {
   "cell_type": "code",
   "execution_count": 61,
   "metadata": {},
   "outputs": [
    {
     "name": "stderr",
     "output_type": "stream",
     "text": [
      "C:\\Users\\schaubia\\Anaconda3\\lib\\site-packages\\sklearn\\metrics\\classification.py:1437: UndefinedMetricWarning: F-score is ill-defined and being set to 0.0 in labels with no predicted samples.\n",
      "  'precision', 'predicted', average, warn_for)\n",
      "C:\\Users\\schaubia\\Anaconda3\\lib\\site-packages\\sklearn\\metrics\\classification.py:1437: UndefinedMetricWarning: F-score is ill-defined and being set to 0.0 in labels with no predicted samples.\n",
      "  'precision', 'predicted', average, warn_for)\n",
      "C:\\Users\\schaubia\\Anaconda3\\lib\\site-packages\\sklearn\\metrics\\classification.py:1437: UndefinedMetricWarning: F-score is ill-defined and being set to 0.0 in labels with no predicted samples.\n",
      "  'precision', 'predicted', average, warn_for)\n",
      "C:\\Users\\schaubia\\Anaconda3\\lib\\site-packages\\sklearn\\metrics\\classification.py:1437: UndefinedMetricWarning: F-score is ill-defined and being set to 0.0 in labels with no predicted samples.\n",
      "  'precision', 'predicted', average, warn_for)\n",
      "C:\\Users\\schaubia\\Anaconda3\\lib\\site-packages\\sklearn\\metrics\\classification.py:1437: UndefinedMetricWarning: F-score is ill-defined and being set to 0.0 in labels with no predicted samples.\n",
      "  'precision', 'predicted', average, warn_for)\n",
      "C:\\Users\\schaubia\\Anaconda3\\lib\\site-packages\\sklearn\\metrics\\classification.py:1437: UndefinedMetricWarning: F-score is ill-defined and being set to 0.0 in labels with no predicted samples.\n",
      "  'precision', 'predicted', average, warn_for)\n",
      "C:\\Users\\schaubia\\Anaconda3\\lib\\site-packages\\sklearn\\metrics\\classification.py:1437: UndefinedMetricWarning: F-score is ill-defined and being set to 0.0 in labels with no predicted samples.\n",
      "  'precision', 'predicted', average, warn_for)\n",
      "C:\\Users\\schaubia\\Anaconda3\\lib\\site-packages\\sklearn\\metrics\\classification.py:1437: UndefinedMetricWarning: F-score is ill-defined and being set to 0.0 in labels with no predicted samples.\n",
      "  'precision', 'predicted', average, warn_for)\n",
      "C:\\Users\\schaubia\\Anaconda3\\lib\\site-packages\\sklearn\\metrics\\classification.py:1437: UndefinedMetricWarning: F-score is ill-defined and being set to 0.0 in labels with no predicted samples.\n",
      "  'precision', 'predicted', average, warn_for)\n",
      "C:\\Users\\schaubia\\Anaconda3\\lib\\site-packages\\sklearn\\metrics\\classification.py:1437: UndefinedMetricWarning: F-score is ill-defined and being set to 0.0 in labels with no predicted samples.\n",
      "  'precision', 'predicted', average, warn_for)\n",
      "C:\\Users\\schaubia\\Anaconda3\\lib\\site-packages\\sklearn\\metrics\\classification.py:1437: UndefinedMetricWarning: F-score is ill-defined and being set to 0.0 in labels with no predicted samples.\n",
      "  'precision', 'predicted', average, warn_for)\n",
      "C:\\Users\\schaubia\\Anaconda3\\lib\\site-packages\\sklearn\\metrics\\classification.py:1437: UndefinedMetricWarning: F-score is ill-defined and being set to 0.0 in labels with no predicted samples.\n",
      "  'precision', 'predicted', average, warn_for)\n",
      "C:\\Users\\schaubia\\Anaconda3\\lib\\site-packages\\sklearn\\metrics\\classification.py:1437: UndefinedMetricWarning: F-score is ill-defined and being set to 0.0 in labels with no predicted samples.\n",
      "  'precision', 'predicted', average, warn_for)\n",
      "C:\\Users\\schaubia\\Anaconda3\\lib\\site-packages\\sklearn\\metrics\\classification.py:1437: UndefinedMetricWarning: F-score is ill-defined and being set to 0.0 in labels with no predicted samples.\n",
      "  'precision', 'predicted', average, warn_for)\n",
      "C:\\Users\\schaubia\\Anaconda3\\lib\\site-packages\\sklearn\\metrics\\classification.py:1437: UndefinedMetricWarning: F-score is ill-defined and being set to 0.0 in labels with no predicted samples.\n",
      "  'precision', 'predicted', average, warn_for)\n",
      "C:\\Users\\schaubia\\Anaconda3\\lib\\site-packages\\sklearn\\metrics\\classification.py:1437: UndefinedMetricWarning: F-score is ill-defined and being set to 0.0 in labels with no predicted samples.\n",
      "  'precision', 'predicted', average, warn_for)\n",
      "C:\\Users\\schaubia\\Anaconda3\\lib\\site-packages\\sklearn\\metrics\\classification.py:1437: UndefinedMetricWarning: F-score is ill-defined and being set to 0.0 in labels with no predicted samples.\n",
      "  'precision', 'predicted', average, warn_for)\n",
      "C:\\Users\\schaubia\\Anaconda3\\lib\\site-packages\\sklearn\\metrics\\classification.py:1437: UndefinedMetricWarning: F-score is ill-defined and being set to 0.0 in labels with no predicted samples.\n",
      "  'precision', 'predicted', average, warn_for)\n",
      "C:\\Users\\schaubia\\Anaconda3\\lib\\site-packages\\sklearn\\metrics\\classification.py:1437: UndefinedMetricWarning: F-score is ill-defined and being set to 0.0 in labels with no predicted samples.\n",
      "  'precision', 'predicted', average, warn_for)\n",
      "C:\\Users\\schaubia\\Anaconda3\\lib\\site-packages\\sklearn\\metrics\\classification.py:1437: UndefinedMetricWarning: F-score is ill-defined and being set to 0.0 in labels with no predicted samples.\n",
      "  'precision', 'predicted', average, warn_for)\n",
      "C:\\Users\\schaubia\\Anaconda3\\lib\\site-packages\\sklearn\\metrics\\classification.py:1437: UndefinedMetricWarning: F-score is ill-defined and being set to 0.0 in labels with no predicted samples.\n",
      "  'precision', 'predicted', average, warn_for)\n",
      "C:\\Users\\schaubia\\Anaconda3\\lib\\site-packages\\sklearn\\metrics\\classification.py:1437: UndefinedMetricWarning: F-score is ill-defined and being set to 0.0 in labels with no predicted samples.\n",
      "  'precision', 'predicted', average, warn_for)\n",
      "C:\\Users\\schaubia\\Anaconda3\\lib\\site-packages\\sklearn\\metrics\\classification.py:1437: UndefinedMetricWarning: F-score is ill-defined and being set to 0.0 in labels with no predicted samples.\n",
      "  'precision', 'predicted', average, warn_for)\n",
      "C:\\Users\\schaubia\\Anaconda3\\lib\\site-packages\\sklearn\\metrics\\classification.py:1437: UndefinedMetricWarning: F-score is ill-defined and being set to 0.0 in labels with no predicted samples.\n",
      "  'precision', 'predicted', average, warn_for)\n",
      "C:\\Users\\schaubia\\Anaconda3\\lib\\site-packages\\sklearn\\metrics\\classification.py:1437: UndefinedMetricWarning: F-score is ill-defined and being set to 0.0 in labels with no predicted samples.\n",
      "  'precision', 'predicted', average, warn_for)\n"
     ]
    },
    {
     "name": "stdout",
     "output_type": "stream",
     "text": [
      "{'mean_fit_time': array([ 2.53082666,  5.03455992, 10.09825883,  2.55396681,  5.68033643,\n",
      "       10.08248072,  2.49493809,  4.9671031 , 10.00983605]), 'std_fit_time': array([0.02927532, 0.04292738, 0.13870965, 0.03291919, 0.52921609,\n",
      "       0.1361705 , 0.01005711, 0.0338094 , 0.07318368]), 'mean_score_time': array([0.10911369, 0.14341946, 0.20683517, 0.11409535, 0.15000162,\n",
      "       0.20504236, 0.10731244, 0.13842902, 0.20387449]), 'std_score_time': array([0.00185082, 0.00311921, 0.00288798, 0.00906843, 0.01029466,\n",
      "       0.00146634, 0.00149558, 0.00230806, 0.00232857]), 'param_learning_rate': masked_array(data=[0.05, 0.05, 0.05, 0.1, 0.1, 0.1, 1, 1, 1],\n",
      "             mask=[False, False, False, False, False, False, False, False,\n",
      "                   False],\n",
      "       fill_value='?',\n",
      "            dtype=object), 'param_n_estimators': masked_array(data=[25, 50, 100, 25, 50, 100, 25, 50, 100],\n",
      "             mask=[False, False, False, False, False, False, False, False,\n",
      "                   False],\n",
      "       fill_value='?',\n",
      "            dtype=object), 'params': [{'learning_rate': 0.05, 'n_estimators': 25}, {'learning_rate': 0.05, 'n_estimators': 50}, {'learning_rate': 0.05, 'n_estimators': 100}, {'learning_rate': 0.1, 'n_estimators': 25}, {'learning_rate': 0.1, 'n_estimators': 50}, {'learning_rate': 0.1, 'n_estimators': 100}, {'learning_rate': 1, 'n_estimators': 25}, {'learning_rate': 1, 'n_estimators': 50}, {'learning_rate': 1, 'n_estimators': 100}], 'split0_test_score': array([0.55104888, 0.5465282 , 0.56002158, 0.55104888, 0.56051001,\n",
      "       0.56982231, 0.57754544, 0.5806079 , 0.58416045]), 'split1_test_score': array([0.54931677, 0.55120606, 0.56521578, 0.5582726 , 0.56544458,\n",
      "       0.57375319, 0.58207193, 0.58676494, 0.58327997]), 'split2_test_score': array([0.55084411, 0.55084411, 0.55903243, 0.55148357, 0.55997905,\n",
      "       0.56782318, 0.57919315, 0.57837223, 0.57612735]), 'split3_test_score': array([0.54459575, 0.54621475, 0.56005607, 0.54621475, 0.56014266,\n",
      "       0.56914504, 0.58102495, 0.58105588, 0.58163043]), 'split4_test_score': array([0.54629155, 0.54629155, 0.55893534, 0.54753157, 0.5595125 ,\n",
      "       0.56551885, 0.58065191, 0.57935043, 0.57925117]), 'mean_test_score': array([0.54841945, 0.54821697, 0.56065227, 0.55091033, 0.56111779,\n",
      "       0.56921258, 0.58009746, 0.58123031, 0.5808899 ]), 'std_test_score': array([0.00255917, 0.00229803, 0.00233027, 0.00419561, 0.00218702,\n",
      "       0.00270433, 0.00157461, 0.00292414, 0.00290947]), 'rank_test_score': array([8, 9, 6, 7, 5, 4, 3, 1, 2])}\n",
      "AdaBoost best score is 0.5812303101670492\n",
      "For AdaBoost the f1 score for the test data is 0.5850263813984258\n"
     ]
    }
   ],
   "source": [
    "#train and score on the raw data\n",
    "boost_best = train_score_model(boost_model, parameters_boost, \"AdaBoost\", cardio_features_train, cardio_features_test, cardio_target_train, cardio_target_test)"
   ]
  },
  {
   "cell_type": "code",
   "execution_count": 62,
   "metadata": {},
   "outputs": [
    {
     "name": "stderr",
     "output_type": "stream",
     "text": [
      "C:\\Users\\schaubia\\Anaconda3\\lib\\site-packages\\sklearn\\metrics\\classification.py:1437: UndefinedMetricWarning: F-score is ill-defined and being set to 0.0 in labels with no predicted samples.\n",
      "  'precision', 'predicted', average, warn_for)\n",
      "C:\\Users\\schaubia\\Anaconda3\\lib\\site-packages\\sklearn\\metrics\\classification.py:1437: UndefinedMetricWarning: F-score is ill-defined and being set to 0.0 in labels with no predicted samples.\n",
      "  'precision', 'predicted', average, warn_for)\n",
      "C:\\Users\\schaubia\\Anaconda3\\lib\\site-packages\\sklearn\\metrics\\classification.py:1437: UndefinedMetricWarning: F-score is ill-defined and being set to 0.0 in labels with no predicted samples.\n",
      "  'precision', 'predicted', average, warn_for)\n",
      "C:\\Users\\schaubia\\Anaconda3\\lib\\site-packages\\sklearn\\metrics\\classification.py:1437: UndefinedMetricWarning: F-score is ill-defined and being set to 0.0 in labels with no predicted samples.\n",
      "  'precision', 'predicted', average, warn_for)\n",
      "C:\\Users\\schaubia\\Anaconda3\\lib\\site-packages\\sklearn\\metrics\\classification.py:1437: UndefinedMetricWarning: F-score is ill-defined and being set to 0.0 in labels with no predicted samples.\n",
      "  'precision', 'predicted', average, warn_for)\n",
      "C:\\Users\\schaubia\\Anaconda3\\lib\\site-packages\\sklearn\\metrics\\classification.py:1437: UndefinedMetricWarning: F-score is ill-defined and being set to 0.0 in labels with no predicted samples.\n",
      "  'precision', 'predicted', average, warn_for)\n",
      "C:\\Users\\schaubia\\Anaconda3\\lib\\site-packages\\sklearn\\metrics\\classification.py:1437: UndefinedMetricWarning: F-score is ill-defined and being set to 0.0 in labels with no predicted samples.\n",
      "  'precision', 'predicted', average, warn_for)\n",
      "C:\\Users\\schaubia\\Anaconda3\\lib\\site-packages\\sklearn\\metrics\\classification.py:1437: UndefinedMetricWarning: F-score is ill-defined and being set to 0.0 in labels with no predicted samples.\n",
      "  'precision', 'predicted', average, warn_for)\n",
      "C:\\Users\\schaubia\\Anaconda3\\lib\\site-packages\\sklearn\\metrics\\classification.py:1437: UndefinedMetricWarning: F-score is ill-defined and being set to 0.0 in labels with no predicted samples.\n",
      "  'precision', 'predicted', average, warn_for)\n",
      "C:\\Users\\schaubia\\Anaconda3\\lib\\site-packages\\sklearn\\metrics\\classification.py:1437: UndefinedMetricWarning: F-score is ill-defined and being set to 0.0 in labels with no predicted samples.\n",
      "  'precision', 'predicted', average, warn_for)\n",
      "C:\\Users\\schaubia\\Anaconda3\\lib\\site-packages\\sklearn\\metrics\\classification.py:1437: UndefinedMetricWarning: F-score is ill-defined and being set to 0.0 in labels with no predicted samples.\n",
      "  'precision', 'predicted', average, warn_for)\n",
      "C:\\Users\\schaubia\\Anaconda3\\lib\\site-packages\\sklearn\\metrics\\classification.py:1437: UndefinedMetricWarning: F-score is ill-defined and being set to 0.0 in labels with no predicted samples.\n",
      "  'precision', 'predicted', average, warn_for)\n",
      "C:\\Users\\schaubia\\Anaconda3\\lib\\site-packages\\sklearn\\metrics\\classification.py:1437: UndefinedMetricWarning: F-score is ill-defined and being set to 0.0 in labels with no predicted samples.\n",
      "  'precision', 'predicted', average, warn_for)\n",
      "C:\\Users\\schaubia\\Anaconda3\\lib\\site-packages\\sklearn\\metrics\\classification.py:1437: UndefinedMetricWarning: F-score is ill-defined and being set to 0.0 in labels with no predicted samples.\n",
      "  'precision', 'predicted', average, warn_for)\n",
      "C:\\Users\\schaubia\\Anaconda3\\lib\\site-packages\\sklearn\\metrics\\classification.py:1437: UndefinedMetricWarning: F-score is ill-defined and being set to 0.0 in labels with no predicted samples.\n",
      "  'precision', 'predicted', average, warn_for)\n",
      "C:\\Users\\schaubia\\Anaconda3\\lib\\site-packages\\sklearn\\metrics\\classification.py:1437: UndefinedMetricWarning: F-score is ill-defined and being set to 0.0 in labels with no predicted samples.\n",
      "  'precision', 'predicted', average, warn_for)\n",
      "C:\\Users\\schaubia\\Anaconda3\\lib\\site-packages\\sklearn\\metrics\\classification.py:1437: UndefinedMetricWarning: F-score is ill-defined and being set to 0.0 in labels with no predicted samples.\n",
      "  'precision', 'predicted', average, warn_for)\n",
      "C:\\Users\\schaubia\\Anaconda3\\lib\\site-packages\\sklearn\\metrics\\classification.py:1437: UndefinedMetricWarning: F-score is ill-defined and being set to 0.0 in labels with no predicted samples.\n",
      "  'precision', 'predicted', average, warn_for)\n",
      "C:\\Users\\schaubia\\Anaconda3\\lib\\site-packages\\sklearn\\metrics\\classification.py:1437: UndefinedMetricWarning: F-score is ill-defined and being set to 0.0 in labels with no predicted samples.\n",
      "  'precision', 'predicted', average, warn_for)\n",
      "C:\\Users\\schaubia\\Anaconda3\\lib\\site-packages\\sklearn\\metrics\\classification.py:1437: UndefinedMetricWarning: F-score is ill-defined and being set to 0.0 in labels with no predicted samples.\n",
      "  'precision', 'predicted', average, warn_for)\n",
      "C:\\Users\\schaubia\\Anaconda3\\lib\\site-packages\\sklearn\\metrics\\classification.py:1437: UndefinedMetricWarning: F-score is ill-defined and being set to 0.0 in labels with no predicted samples.\n",
      "  'precision', 'predicted', average, warn_for)\n",
      "C:\\Users\\schaubia\\Anaconda3\\lib\\site-packages\\sklearn\\metrics\\classification.py:1437: UndefinedMetricWarning: F-score is ill-defined and being set to 0.0 in labels with no predicted samples.\n",
      "  'precision', 'predicted', average, warn_for)\n",
      "C:\\Users\\schaubia\\Anaconda3\\lib\\site-packages\\sklearn\\metrics\\classification.py:1437: UndefinedMetricWarning: F-score is ill-defined and being set to 0.0 in labels with no predicted samples.\n",
      "  'precision', 'predicted', average, warn_for)\n",
      "C:\\Users\\schaubia\\Anaconda3\\lib\\site-packages\\sklearn\\metrics\\classification.py:1437: UndefinedMetricWarning: F-score is ill-defined and being set to 0.0 in labels with no predicted samples.\n",
      "  'precision', 'predicted', average, warn_for)\n",
      "C:\\Users\\schaubia\\Anaconda3\\lib\\site-packages\\sklearn\\metrics\\classification.py:1437: UndefinedMetricWarning: F-score is ill-defined and being set to 0.0 in labels with no predicted samples.\n",
      "  'precision', 'predicted', average, warn_for)\n"
     ]
    },
    {
     "name": "stdout",
     "output_type": "stream",
     "text": [
      "{'mean_fit_time': array([ 4.53018489,  8.96368089, 17.84657741,  4.48902159,  8.94159765,\n",
      "       17.79295545,  4.45688238,  8.96079602, 18.13556137]), 'std_fit_time': array([0.04809815, 0.05330648, 0.09148306, 0.01569991, 0.02299225,\n",
      "       0.06571639, 0.03531599, 0.12641803, 0.55492329]), 'mean_score_time': array([0.17052555, 0.26229734, 0.44823327, 0.16835394, 0.25693612,\n",
      "       0.4475832 , 0.16774282, 0.26009493, 0.46397066]), 'std_score_time': array([0.00491616, 0.00295415, 0.00763237, 0.00145503, 0.0029938 ,\n",
      "       0.00640982, 0.00115143, 0.00194887, 0.0279093 ]), 'param_learning_rate': masked_array(data=[0.05, 0.05, 0.05, 0.1, 0.1, 0.1, 1, 1, 1],\n",
      "             mask=[False, False, False, False, False, False, False, False,\n",
      "                   False],\n",
      "       fill_value='?',\n",
      "            dtype=object), 'param_n_estimators': masked_array(data=[25, 50, 100, 25, 50, 100, 25, 50, 100],\n",
      "             mask=[False, False, False, False, False, False, False, False,\n",
      "                   False],\n",
      "       fill_value='?',\n",
      "            dtype=object), 'params': [{'learning_rate': 0.05, 'n_estimators': 25}, {'learning_rate': 0.05, 'n_estimators': 50}, {'learning_rate': 0.05, 'n_estimators': 100}, {'learning_rate': 0.1, 'n_estimators': 25}, {'learning_rate': 0.1, 'n_estimators': 50}, {'learning_rate': 0.1, 'n_estimators': 100}, {'learning_rate': 1, 'n_estimators': 25}, {'learning_rate': 1, 'n_estimators': 50}, {'learning_rate': 1, 'n_estimators': 100}], 'split0_test_score': array([0.56341846, 0.5514985 , 0.56335887, 0.5514985 , 0.56575458,\n",
      "       0.57127414, 0.58687355, 0.58518947, 0.58974023]), 'split1_test_score': array([0.56132378, 0.54899892, 0.56165007, 0.54899892, 0.56032127,\n",
      "       0.5677575 , 0.58417343, 0.58539253, 0.58635081]), 'split2_test_score': array([0.56020712, 0.55118901, 0.5614622 , 0.55502434, 0.56304233,\n",
      "       0.57152993, 0.58800403, 0.58953106, 0.59449948]), 'split3_test_score': array([0.55540136, 0.55263442, 0.56277486, 0.55432187, 0.56372522,\n",
      "       0.57318003, 0.59183828, 0.5902785 , 0.59216715]), 'split4_test_score': array([0.55205972, 0.54660321, 0.55540471, 0.53998199, 0.55557491,\n",
      "       0.56629058, 0.58549843, 0.58338655, 0.58738971]), 'mean_test_score': array([0.5584822 , 0.55018488, 0.56093024, 0.54996531, 0.56168377,\n",
      "       0.5700065 , 0.58727758, 0.58675568, 0.59002953]), 'std_test_score': array([0.004151  , 0.00214328, 0.00285066, 0.00543173, 0.00351446,\n",
      "       0.00256376, 0.00261887, 0.00267488, 0.00300451]), 'rank_test_score': array([7, 8, 6, 9, 5, 4, 2, 3, 1])}\n",
      "AdaBoost best score is 0.5900295256837218\n",
      "For AdaBoost the f1 score for the test data is 0.5836151180823019\n"
     ]
    }
   ],
   "source": [
    "#train and score on the polynomial features data\n",
    "boost_best_poly = train_score_model (boost_model, parameters_boost, \"AdaBoost\", cardio_features_polynomial_train, cardio_features_polynomial_test, cardio_target_polynomial_train, cardio_target_polynomial_test)"
   ]
  },
  {
   "cell_type": "markdown",
   "metadata": {},
   "source": [
    "Again the same scores can be seen, it seems that this is the maximum score that can be achieved with this data. The best model is the one with the default learning rate, and number of estimators 100 (default is 50). More estimators give better result."
   ]
  },
  {
   "cell_type": "markdown",
   "metadata": {},
   "source": [
    "###### Support vector machines\n",
    "\n",
    "Now I am going to train different SVM models. I am going to use linear Kernel because, although I have a non-linear separation problem, the model with the default Gaussian Kernel and the polynomial Kernel is running extremely slow. Increasing the number of iterations does not help with convergence, so I will leave the default value. During cross-validation I am going to try different regularisations with different values of the penalty parameter 'C'."
   ]
  },
  {
   "cell_type": "code",
   "execution_count": 63,
   "metadata": {},
   "outputs": [],
   "source": [
    "svm_model = LinearSVC()"
   ]
  },
  {
   "cell_type": "code",
   "execution_count": 64,
   "metadata": {},
   "outputs": [],
   "source": [
    "parameters_svm = {\n",
    "    \"C\": [0.1, 1, 10],\n",
    "}"
   ]
  },
  {
   "cell_type": "code",
   "execution_count": 65,
   "metadata": {
    "scrolled": false
   },
   "outputs": [
    {
     "name": "stderr",
     "output_type": "stream",
     "text": [
      "C:\\Users\\schaubia\\Anaconda3\\lib\\site-packages\\sklearn\\metrics\\classification.py:1437: UndefinedMetricWarning: F-score is ill-defined and being set to 0.0 in labels with no predicted samples.\n",
      "  'precision', 'predicted', average, warn_for)\n",
      "C:\\Users\\schaubia\\Anaconda3\\lib\\site-packages\\sklearn\\metrics\\classification.py:1437: UndefinedMetricWarning: F-score is ill-defined and being set to 0.0 in labels with no predicted samples.\n",
      "  'precision', 'predicted', average, warn_for)\n",
      "C:\\Users\\schaubia\\Anaconda3\\lib\\site-packages\\sklearn\\metrics\\classification.py:1437: UndefinedMetricWarning: F-score is ill-defined and being set to 0.0 in labels with no predicted samples.\n",
      "  'precision', 'predicted', average, warn_for)\n",
      "C:\\Users\\schaubia\\Anaconda3\\lib\\site-packages\\sklearn\\metrics\\classification.py:1437: UndefinedMetricWarning: F-score is ill-defined and being set to 0.0 in labels with no predicted samples.\n",
      "  'precision', 'predicted', average, warn_for)\n",
      "C:\\Users\\schaubia\\Anaconda3\\lib\\site-packages\\sklearn\\metrics\\classification.py:1437: UndefinedMetricWarning: F-score is ill-defined and being set to 0.0 in labels with no predicted samples.\n",
      "  'precision', 'predicted', average, warn_for)\n",
      "C:\\Users\\schaubia\\Anaconda3\\lib\\site-packages\\sklearn\\svm\\base.py:929: ConvergenceWarning: Liblinear failed to converge, increase the number of iterations.\n",
      "  \"the number of iterations.\", ConvergenceWarning)\n",
      "C:\\Users\\schaubia\\Anaconda3\\lib\\site-packages\\sklearn\\metrics\\classification.py:1437: UndefinedMetricWarning: F-score is ill-defined and being set to 0.0 in labels with no predicted samples.\n",
      "  'precision', 'predicted', average, warn_for)\n",
      "C:\\Users\\schaubia\\Anaconda3\\lib\\site-packages\\sklearn\\svm\\base.py:929: ConvergenceWarning: Liblinear failed to converge, increase the number of iterations.\n",
      "  \"the number of iterations.\", ConvergenceWarning)\n",
      "C:\\Users\\schaubia\\Anaconda3\\lib\\site-packages\\sklearn\\metrics\\classification.py:1437: UndefinedMetricWarning: F-score is ill-defined and being set to 0.0 in labels with no predicted samples.\n",
      "  'precision', 'predicted', average, warn_for)\n",
      "C:\\Users\\schaubia\\Anaconda3\\lib\\site-packages\\sklearn\\svm\\base.py:929: ConvergenceWarning: Liblinear failed to converge, increase the number of iterations.\n",
      "  \"the number of iterations.\", ConvergenceWarning)\n",
      "C:\\Users\\schaubia\\Anaconda3\\lib\\site-packages\\sklearn\\metrics\\classification.py:1437: UndefinedMetricWarning: F-score is ill-defined and being set to 0.0 in labels with no predicted samples.\n",
      "  'precision', 'predicted', average, warn_for)\n",
      "C:\\Users\\schaubia\\Anaconda3\\lib\\site-packages\\sklearn\\svm\\base.py:929: ConvergenceWarning: Liblinear failed to converge, increase the number of iterations.\n",
      "  \"the number of iterations.\", ConvergenceWarning)\n",
      "C:\\Users\\schaubia\\Anaconda3\\lib\\site-packages\\sklearn\\metrics\\classification.py:1437: UndefinedMetricWarning: F-score is ill-defined and being set to 0.0 in labels with no predicted samples.\n",
      "  'precision', 'predicted', average, warn_for)\n",
      "C:\\Users\\schaubia\\Anaconda3\\lib\\site-packages\\sklearn\\svm\\base.py:929: ConvergenceWarning: Liblinear failed to converge, increase the number of iterations.\n",
      "  \"the number of iterations.\", ConvergenceWarning)\n",
      "C:\\Users\\schaubia\\Anaconda3\\lib\\site-packages\\sklearn\\metrics\\classification.py:1437: UndefinedMetricWarning: F-score is ill-defined and being set to 0.0 in labels with no predicted samples.\n",
      "  'precision', 'predicted', average, warn_for)\n",
      "C:\\Users\\schaubia\\Anaconda3\\lib\\site-packages\\sklearn\\svm\\base.py:929: ConvergenceWarning: Liblinear failed to converge, increase the number of iterations.\n",
      "  \"the number of iterations.\", ConvergenceWarning)\n",
      "C:\\Users\\schaubia\\Anaconda3\\lib\\site-packages\\sklearn\\metrics\\classification.py:1437: UndefinedMetricWarning: F-score is ill-defined and being set to 0.0 in labels with no predicted samples.\n",
      "  'precision', 'predicted', average, warn_for)\n",
      "C:\\Users\\schaubia\\Anaconda3\\lib\\site-packages\\sklearn\\svm\\base.py:929: ConvergenceWarning: Liblinear failed to converge, increase the number of iterations.\n",
      "  \"the number of iterations.\", ConvergenceWarning)\n",
      "C:\\Users\\schaubia\\Anaconda3\\lib\\site-packages\\sklearn\\metrics\\classification.py:1437: UndefinedMetricWarning: F-score is ill-defined and being set to 0.0 in labels with no predicted samples.\n",
      "  'precision', 'predicted', average, warn_for)\n",
      "C:\\Users\\schaubia\\Anaconda3\\lib\\site-packages\\sklearn\\svm\\base.py:929: ConvergenceWarning: Liblinear failed to converge, increase the number of iterations.\n",
      "  \"the number of iterations.\", ConvergenceWarning)\n",
      "C:\\Users\\schaubia\\Anaconda3\\lib\\site-packages\\sklearn\\metrics\\classification.py:1437: UndefinedMetricWarning: F-score is ill-defined and being set to 0.0 in labels with no predicted samples.\n",
      "  'precision', 'predicted', average, warn_for)\n",
      "C:\\Users\\schaubia\\Anaconda3\\lib\\site-packages\\sklearn\\svm\\base.py:929: ConvergenceWarning: Liblinear failed to converge, increase the number of iterations.\n",
      "  \"the number of iterations.\", ConvergenceWarning)\n",
      "C:\\Users\\schaubia\\Anaconda3\\lib\\site-packages\\sklearn\\metrics\\classification.py:1437: UndefinedMetricWarning: F-score is ill-defined and being set to 0.0 in labels with no predicted samples.\n",
      "  'precision', 'predicted', average, warn_for)\n",
      "C:\\Users\\schaubia\\Anaconda3\\lib\\site-packages\\sklearn\\svm\\base.py:929: ConvergenceWarning: Liblinear failed to converge, increase the number of iterations.\n",
      "  \"the number of iterations.\", ConvergenceWarning)\n",
      "C:\\Users\\schaubia\\Anaconda3\\lib\\site-packages\\sklearn\\metrics\\classification.py:1437: UndefinedMetricWarning: F-score is ill-defined and being set to 0.0 in labels with no predicted samples.\n",
      "  'precision', 'predicted', average, warn_for)\n"
     ]
    },
    {
     "name": "stdout",
     "output_type": "stream",
     "text": [
      "{'mean_fit_time': array([ 2.6447433 , 14.98678727, 15.64686227]), 'std_fit_time': array([0.05726531, 0.08834296, 0.09281711]), 'mean_score_time': array([0.08256135, 0.08656669, 0.08375096]), 'std_score_time': array([0.0061176 , 0.00674125, 0.00341494]), 'param_C': masked_array(data=[0.1, 1, 10],\n",
      "             mask=[False, False, False],\n",
      "       fill_value='?',\n",
      "            dtype=object), 'params': [{'C': 0.1}, {'C': 1}, {'C': 10}], 'split0_test_score': array([0.56503347, 0.56496489, 0.5647435 ]), 'split1_test_score': array([0.56756693, 0.5676056 , 0.56757579]), 'split2_test_score': array([0.56164286, 0.56173278, 0.56199429]), 'split3_test_score': array([0.56679859, 0.56670144, 0.56680566]), 'split4_test_score': array([0.56531385, 0.56538228, 0.56608194]), 'mean_test_score': array([0.56527114, 0.5652774 , 0.56544022]), 'std_test_score': array([0.00204092, 0.00200608, 0.00195944]), 'rank_test_score': array([3, 2, 1])}\n",
      "SVM best score is 0.5654402248200302\n",
      "For SVM the f1 score for the test data is 0.5675030056083741\n"
     ]
    },
    {
     "name": "stderr",
     "output_type": "stream",
     "text": [
      "C:\\Users\\schaubia\\Anaconda3\\lib\\site-packages\\sklearn\\svm\\base.py:929: ConvergenceWarning: Liblinear failed to converge, increase the number of iterations.\n",
      "  \"the number of iterations.\", ConvergenceWarning)\n",
      "C:\\Users\\schaubia\\Anaconda3\\lib\\site-packages\\sklearn\\metrics\\classification.py:1437: UndefinedMetricWarning: F-score is ill-defined and being set to 0.0 in labels with no predicted samples.\n",
      "  'precision', 'predicted', average, warn_for)\n"
     ]
    }
   ],
   "source": [
    "#train and score on the raw data\n",
    "svm_best = train_score_model (svm_model, parameters_svm, \"SVM\", cardio_features_train, cardio_features_test, cardio_target_train, cardio_target_test)"
   ]
  },
  {
   "cell_type": "code",
   "execution_count": 66,
   "metadata": {},
   "outputs": [
    {
     "name": "stderr",
     "output_type": "stream",
     "text": [
      "C:\\Users\\schaubia\\Anaconda3\\lib\\site-packages\\sklearn\\svm\\base.py:929: ConvergenceWarning: Liblinear failed to converge, increase the number of iterations.\n",
      "  \"the number of iterations.\", ConvergenceWarning)\n",
      "C:\\Users\\schaubia\\Anaconda3\\lib\\site-packages\\sklearn\\svm\\base.py:929: ConvergenceWarning: Liblinear failed to converge, increase the number of iterations.\n",
      "  \"the number of iterations.\", ConvergenceWarning)\n",
      "C:\\Users\\schaubia\\Anaconda3\\lib\\site-packages\\sklearn\\svm\\base.py:929: ConvergenceWarning: Liblinear failed to converge, increase the number of iterations.\n",
      "  \"the number of iterations.\", ConvergenceWarning)\n",
      "C:\\Users\\schaubia\\Anaconda3\\lib\\site-packages\\sklearn\\svm\\base.py:929: ConvergenceWarning: Liblinear failed to converge, increase the number of iterations.\n",
      "  \"the number of iterations.\", ConvergenceWarning)\n",
      "C:\\Users\\schaubia\\Anaconda3\\lib\\site-packages\\sklearn\\svm\\base.py:929: ConvergenceWarning: Liblinear failed to converge, increase the number of iterations.\n",
      "  \"the number of iterations.\", ConvergenceWarning)\n",
      "C:\\Users\\schaubia\\Anaconda3\\lib\\site-packages\\sklearn\\svm\\base.py:929: ConvergenceWarning: Liblinear failed to converge, increase the number of iterations.\n",
      "  \"the number of iterations.\", ConvergenceWarning)\n",
      "C:\\Users\\schaubia\\Anaconda3\\lib\\site-packages\\sklearn\\svm\\base.py:929: ConvergenceWarning: Liblinear failed to converge, increase the number of iterations.\n",
      "  \"the number of iterations.\", ConvergenceWarning)\n",
      "C:\\Users\\schaubia\\Anaconda3\\lib\\site-packages\\sklearn\\svm\\base.py:929: ConvergenceWarning: Liblinear failed to converge, increase the number of iterations.\n",
      "  \"the number of iterations.\", ConvergenceWarning)\n",
      "C:\\Users\\schaubia\\Anaconda3\\lib\\site-packages\\sklearn\\svm\\base.py:929: ConvergenceWarning: Liblinear failed to converge, increase the number of iterations.\n",
      "  \"the number of iterations.\", ConvergenceWarning)\n",
      "C:\\Users\\schaubia\\Anaconda3\\lib\\site-packages\\sklearn\\svm\\base.py:929: ConvergenceWarning: Liblinear failed to converge, increase the number of iterations.\n",
      "  \"the number of iterations.\", ConvergenceWarning)\n",
      "C:\\Users\\schaubia\\Anaconda3\\lib\\site-packages\\sklearn\\svm\\base.py:929: ConvergenceWarning: Liblinear failed to converge, increase the number of iterations.\n",
      "  \"the number of iterations.\", ConvergenceWarning)\n",
      "C:\\Users\\schaubia\\Anaconda3\\lib\\site-packages\\sklearn\\svm\\base.py:929: ConvergenceWarning: Liblinear failed to converge, increase the number of iterations.\n",
      "  \"the number of iterations.\", ConvergenceWarning)\n",
      "C:\\Users\\schaubia\\Anaconda3\\lib\\site-packages\\sklearn\\svm\\base.py:929: ConvergenceWarning: Liblinear failed to converge, increase the number of iterations.\n",
      "  \"the number of iterations.\", ConvergenceWarning)\n",
      "C:\\Users\\schaubia\\Anaconda3\\lib\\site-packages\\sklearn\\svm\\base.py:929: ConvergenceWarning: Liblinear failed to converge, increase the number of iterations.\n",
      "  \"the number of iterations.\", ConvergenceWarning)\n",
      "C:\\Users\\schaubia\\Anaconda3\\lib\\site-packages\\sklearn\\svm\\base.py:929: ConvergenceWarning: Liblinear failed to converge, increase the number of iterations.\n",
      "  \"the number of iterations.\", ConvergenceWarning)\n"
     ]
    },
    {
     "name": "stdout",
     "output_type": "stream",
     "text": [
      "{'mean_fit_time': array([27.71021085, 25.05647345, 25.12299151]), 'std_fit_time': array([0.76059769, 0.06315651, 0.06248127]), 'mean_score_time': array([0.07636375, 0.07037067, 0.07156858]), 'std_score_time': array([0.00703699, 0.00048678, 0.00132272]), 'param_C': masked_array(data=[0.1, 1, 10],\n",
      "             mask=[False, False, False],\n",
      "       fill_value='?',\n",
      "            dtype=object), 'params': [{'C': 0.1}, {'C': 1}, {'C': 10}], 'split0_test_score': array([0.58089861, 0.58038284, 0.57467325]), 'split1_test_score': array([0.57829023, 0.57885333, 0.57919428]), 'split2_test_score': array([0.58513189, 0.58443277, 0.57432656]), 'split3_test_score': array([0.58499867, 0.58517554, 0.5862883 ]), 'split4_test_score': array([0.57784625, 0.57755094, 0.57314953]), 'mean_test_score': array([0.58143319, 0.58127915, 0.57752647]), 'std_test_score': array([0.00314397, 0.00302372, 0.0048392 ]), 'rank_test_score': array([1, 2, 3])}\n",
      "SVM best score is 0.5814331935008765\n",
      "For SVM the f1 score for the test data is 0.5779144453638503\n"
     ]
    },
    {
     "name": "stderr",
     "output_type": "stream",
     "text": [
      "C:\\Users\\schaubia\\Anaconda3\\lib\\site-packages\\sklearn\\svm\\base.py:929: ConvergenceWarning: Liblinear failed to converge, increase the number of iterations.\n",
      "  \"the number of iterations.\", ConvergenceWarning)\n"
     ]
    }
   ],
   "source": [
    "#train and score on the polynomial features data\n",
    "svm_best_poly = train_score_model (svm_model, parameters_svm, \"SVM\", cardio_features_polynomial_train, cardio_features_polynomial_test, cardio_target_polynomial_train, cardio_target_polynomial_test)"
   ]
  },
  {
   "cell_type": "markdown",
   "metadata": {},
   "source": [
    "SVM gives lower score for the row data and scores similarly to LR on the polynomial features data."
   ]
  },
  {
   "cell_type": "markdown",
   "metadata": {},
   "source": [
    "###### K-nearest neighbors classifier\n",
    "\n",
    "As a last method to evaluate I will use the simple k-nearest neighbors (kNN) algorithm. I will only change the number of neighbors during cross-validation. A large number of neighbors will probably lead to higher bias. The dataset has three classes which means that I can use even numbers for number of neighbors."
   ]
  },
  {
   "cell_type": "code",
   "execution_count": 67,
   "metadata": {},
   "outputs": [],
   "source": [
    "knn_model = KNeighborsClassifier()"
   ]
  },
  {
   "cell_type": "code",
   "execution_count": 68,
   "metadata": {},
   "outputs": [],
   "source": [
    "parameters_knn = {\n",
    "    \"n_neighbors\": [3, 5, 8]\n",
    "}"
   ]
  },
  {
   "cell_type": "code",
   "execution_count": 69,
   "metadata": {},
   "outputs": [
    {
     "name": "stdout",
     "output_type": "stream",
     "text": [
      "{'mean_fit_time': array([0.11868162, 0.11220798, 0.11509352]), 'std_fit_time': array([0.00327832, 0.00466415, 0.00101781]), 'mean_score_time': array([0.82279038, 0.91458364, 1.06754031]), 'std_score_time': array([0.04633568, 0.01016585, 0.01067766]), 'param_n_neighbors': masked_array(data=[3, 5, 8],\n",
      "             mask=[False, False, False],\n",
      "       fill_value='?',\n",
      "            dtype=object), 'params': [{'n_neighbors': 3}, {'n_neighbors': 5}, {'n_neighbors': 8}], 'split0_test_score': array([0.54707671, 0.55753993, 0.57288792]), 'split1_test_score': array([0.55567239, 0.56331539, 0.57656653]), 'split2_test_score': array([0.55185784, 0.56077514, 0.57065621]), 'split3_test_score': array([0.55644775, 0.5569761 , 0.57230455]), 'split4_test_score': array([0.55657099, 0.55553358, 0.56674329]), 'mean_test_score': array([0.55352508, 0.55882809, 0.57183179]), 'std_test_score': array([0.00365491, 0.00282381, 0.00319468]), 'rank_test_score': array([3, 2, 1])}\n",
      "kNN best score is 0.5718317925745481\n",
      "For kNN the f1 score for the test data is 0.5719086820675198\n"
     ]
    }
   ],
   "source": [
    "#train and score on the raw data\n",
    "knn_best = train_score_model (knn_model, parameters_knn, \"kNN\", cardio_features_train, cardio_features_test, cardio_target_train, cardio_target_test)"
   ]
  },
  {
   "cell_type": "code",
   "execution_count": 70,
   "metadata": {},
   "outputs": [
    {
     "name": "stdout",
     "output_type": "stream",
     "text": [
      "{'mean_fit_time': array([0.31596189, 0.30777516, 0.3123343 ]), 'std_fit_time': array([0.00892079, 0.0061666 , 0.00657678]), 'mean_score_time': array([4.81274443, 6.18328032, 7.78872108]), 'std_score_time': array([0.11896273, 0.08867876, 0.16643202]), 'param_n_neighbors': masked_array(data=[3, 5, 8],\n",
      "             mask=[False, False, False],\n",
      "       fill_value='?',\n",
      "            dtype=object), 'params': [{'n_neighbors': 3}, {'n_neighbors': 5}, {'n_neighbors': 8}], 'split0_test_score': array([0.55185774, 0.55647524, 0.5659884 ]), 'split1_test_score': array([0.55465649, 0.55342935, 0.56362221]), 'split2_test_score': array([0.55920803, 0.56688608, 0.57179679]), 'split3_test_score': array([0.556308  , 0.55943993, 0.57466292]), 'split4_test_score': array([0.55867872, 0.56153248, 0.56956476]), 'mean_test_score': array([0.55614175, 0.55955258, 0.56912701]), 'std_test_score': array([0.00269906, 0.00457556, 0.00395274]), 'rank_test_score': array([3, 2, 1])}\n",
      "kNN best score is 0.5691270095534656\n",
      "For kNN the f1 score for the test data is 0.5686479463706183\n"
     ]
    }
   ],
   "source": [
    "#train and score on the polynomial features data\n",
    "knn_best_poly = train_score_model (knn_model, parameters_knn, \"kNN\", cardio_features_polynomial_train, cardio_features_polynomial_test, cardio_target_polynomial_train, cardio_target_polynomial_test)"
   ]
  },
  {
   "cell_type": "markdown",
   "metadata": {},
   "source": [
    "KNN is fast with regard to computation time; however, the scores are somehow lower.\n",
    "It looks like all algorithms give similar results when they are scored on the different folds, so the algorithms are stable. The performance is comparable among all of the methods and the scores are low, however this is probably the best for the data and I am going to do some further analysis using the best estimator from the Random Forest classifiers. "
   ]
  },
  {
   "cell_type": "markdown",
   "metadata": {},
   "source": [
    "### Further work with the chosen algorithm"
   ]
  },
  {
   "cell_type": "markdown",
   "metadata": {},
   "source": [
    "All methods give fairly low, but comparable scores. I am going to further investigate the Random Forest method behaviour with the available data. First I will map the feature importances for the original number of features. Next I will use the best Random Forest estimator to create a confusion matrix providing additional scores. As there are no huge differences between the scores for normal and polynomial data, I will use the normal data which will require less computationl time."
   ]
  },
  {
   "cell_type": "code",
   "execution_count": 71,
   "metadata": {},
   "outputs": [
    {
     "data": {
      "text/plain": [
       "RandomForestClassifier(bootstrap=True, class_weight=None, criterion='gini',\n",
       "                       max_depth=None, max_features='auto', max_leaf_nodes=None,\n",
       "                       min_impurity_decrease=0.0, min_impurity_split=None,\n",
       "                       min_samples_leaf=2, min_samples_split=2,\n",
       "                       min_weight_fraction_leaf=0.0, n_estimators=100,\n",
       "                       n_jobs=None, oob_score=False, random_state=None,\n",
       "                       verbose=0, warm_start=False)"
      ]
     },
     "execution_count": 71,
     "metadata": {},
     "output_type": "execute_result"
    }
   ],
   "source": [
    "forest_best.fit(cardio_data_features, cardio_data_target)"
   ]
  },
  {
   "cell_type": "code",
   "execution_count": 72,
   "metadata": {},
   "outputs": [
    {
     "data": {
      "text/html": [
       "<div>\n",
       "<style scoped>\n",
       "    .dataframe tbody tr th:only-of-type {\n",
       "        vertical-align: middle;\n",
       "    }\n",
       "\n",
       "    .dataframe tbody tr th {\n",
       "        vertical-align: top;\n",
       "    }\n",
       "\n",
       "    .dataframe thead th {\n",
       "        text-align: right;\n",
       "    }\n",
       "</style>\n",
       "<table border=\"1\" class=\"dataframe\">\n",
       "  <thead>\n",
       "    <tr style=\"text-align: right;\">\n",
       "      <th></th>\n",
       "      <th>features</th>\n",
       "      <th>importances</th>\n",
       "    </tr>\n",
       "  </thead>\n",
       "  <tbody>\n",
       "    <tr>\n",
       "      <td>0</td>\n",
       "      <td>age</td>\n",
       "      <td>0.212045</td>\n",
       "    </tr>\n",
       "    <tr>\n",
       "      <td>1</td>\n",
       "      <td>gender</td>\n",
       "      <td>0.014416</td>\n",
       "    </tr>\n",
       "    <tr>\n",
       "      <td>2</td>\n",
       "      <td>height</td>\n",
       "      <td>0.230038</td>\n",
       "    </tr>\n",
       "    <tr>\n",
       "      <td>3</td>\n",
       "      <td>weight</td>\n",
       "      <td>0.272841</td>\n",
       "    </tr>\n",
       "    <tr>\n",
       "      <td>4</td>\n",
       "      <td>smoke</td>\n",
       "      <td>0.009601</td>\n",
       "    </tr>\n",
       "    <tr>\n",
       "      <td>5</td>\n",
       "      <td>alco</td>\n",
       "      <td>0.007734</td>\n",
       "    </tr>\n",
       "    <tr>\n",
       "      <td>6</td>\n",
       "      <td>active</td>\n",
       "      <td>0.016544</td>\n",
       "    </tr>\n",
       "    <tr>\n",
       "      <td>7</td>\n",
       "      <td>cardio</td>\n",
       "      <td>0.178683</td>\n",
       "    </tr>\n",
       "    <tr>\n",
       "      <td>8</td>\n",
       "      <td>cholesterol_above normal</td>\n",
       "      <td>0.013893</td>\n",
       "    </tr>\n",
       "    <tr>\n",
       "      <td>9</td>\n",
       "      <td>cholesterol_well above normal</td>\n",
       "      <td>0.025496</td>\n",
       "    </tr>\n",
       "    <tr>\n",
       "      <td>10</td>\n",
       "      <td>gluc_above normal</td>\n",
       "      <td>0.009448</td>\n",
       "    </tr>\n",
       "    <tr>\n",
       "      <td>11</td>\n",
       "      <td>gluc_well above normal</td>\n",
       "      <td>0.009260</td>\n",
       "    </tr>\n",
       "  </tbody>\n",
       "</table>\n",
       "</div>"
      ],
      "text/plain": [
       "                         features  importances\n",
       "0                             age     0.212045\n",
       "1                          gender     0.014416\n",
       "2                          height     0.230038\n",
       "3                          weight     0.272841\n",
       "4                           smoke     0.009601\n",
       "5                            alco     0.007734\n",
       "6                          active     0.016544\n",
       "7                          cardio     0.178683\n",
       "8        cholesterol_above normal     0.013893\n",
       "9   cholesterol_well above normal     0.025496\n",
       "10              gluc_above normal     0.009448\n",
       "11         gluc_well above normal     0.009260"
      ]
     },
     "execution_count": 72,
     "metadata": {},
     "output_type": "execute_result"
    }
   ],
   "source": [
    "importances = forest_best.feature_importances_\n",
    "features = list(cardio_data_features.columns)\n",
    "zipped = list(zip(features, importances))\n",
    "\n",
    "pd.DataFrame(zipped, columns = [\"features\", \"importances\"])"
   ]
  },
  {
   "cell_type": "markdown",
   "metadata": {},
   "source": [
    "According to the Random Forest classifier, the most important features are age, height and weight. After that is the presence of cardiological disease. High cholesterol and smoking are also somehow important."
   ]
  },
  {
   "cell_type": "markdown",
   "metadata": {},
   "source": [
    "###### Confusion Matrix"
   ]
  },
  {
   "cell_type": "code",
   "execution_count": 73,
   "metadata": {},
   "outputs": [
    {
     "data": {
      "text/plain": [
       "RandomForestClassifier(bootstrap=True, class_weight=None, criterion='gini',\n",
       "                       max_depth=None, max_features='auto', max_leaf_nodes=None,\n",
       "                       min_impurity_decrease=0.0, min_impurity_split=None,\n",
       "                       min_samples_leaf=2, min_samples_split=2,\n",
       "                       min_weight_fraction_leaf=0.0, n_estimators=100,\n",
       "                       n_jobs=None, oob_score=False, random_state=None,\n",
       "                       verbose=0, warm_start=False)"
      ]
     },
     "execution_count": 73,
     "metadata": {},
     "output_type": "execute_result"
    }
   ],
   "source": [
    "forest_best.fit(cardio_features_train, cardio_target_train)"
   ]
  },
  {
   "cell_type": "code",
   "execution_count": 74,
   "metadata": {},
   "outputs": [],
   "source": [
    "predicted = forest_best.predict(cardio_features_test)"
   ]
  },
  {
   "cell_type": "code",
   "execution_count": 75,
   "metadata": {},
   "outputs": [],
   "source": [
    "#creating confusion matrix with labels set so that the classes correspond\n",
    "confusion_matrix = confusion_matrix(cardio_target_test, predicted, labels = [\"normal\", \"prehypertension\", \"hypertension\"])"
   ]
  },
  {
   "cell_type": "code",
   "execution_count": 76,
   "metadata": {},
   "outputs": [
    {
     "data": {
      "image/png": "[encoded data removed]",
      "text/plain": [
       "<Figure size 432x432 with 2 Axes>"
      ]
     },
     "metadata": {
      "needs_background": "light"
     },
     "output_type": "display_data"
    }
   ],
   "source": [
    "f, ax = plt.subplots(figsize=(6,6))\n",
    "sns.heatmap(confusion_matrix, fmt = \".0f\", annot = True, linewidths = 0.5, ax = ax)\n",
    "\n",
    "plt.xlabel(\"Predicted classes\")\n",
    "plt.ylabel(\"Actual classes\")\n",
    "\n",
    "bottom, top = ax.get_ylim()\n",
    "ax.set_ylim(bottom + 0.5, top - 0.5)\n",
    "plt.show()"
   ]
  },
  {
   "cell_type": "markdown",
   "metadata": {},
   "source": [
    "In order to calculate and compare the classification scores, I have to first calculate the true positive results (tp), true negative results (tn), false positive results (fp) and false negative results (fn) for each of the three classes.\n",
    "After that, I am going to define a function that calculates the f1-score from the other scores and returns a dataframe with all calculated scores. This can also be achieved by printing the classification report, which I will leave for the second part."
   ]
  },
  {
   "cell_type": "code",
   "execution_count": 77,
   "metadata": {},
   "outputs": [],
   "source": [
    "#values for normal blood pressure (class 0)\n",
    "tn_normal = confusion_matrix[1,1] + confusion_matrix[1,2] + confusion_matrix[2,1] + confusion_matrix[2,2]\n",
    "tp_normal = confusion_matrix[0,0]\n",
    "fp_normal = confusion_matrix[1,0] + confusion_matrix[2,0]\n",
    "fn_normal = confusion_matrix[0,1] + confusion_matrix[0,2]\n",
    "\n",
    "#values for prehypertension (class 1)\n",
    "tn_preh = confusion_matrix[0,0] + confusion_matrix[0,2] + confusion_matrix[2,0] + confusion_matrix[2,2]\n",
    "tp_preh = confusion_matrix[1,1]\n",
    "fp_preh = confusion_matrix[0,1] + confusion_matrix[2,1]\n",
    "fn_preh = confusion_matrix[1,0] + confusion_matrix[1,2]\n",
    "\n",
    "#values for hypertension (class 2)\n",
    "tn_hyp = confusion_matrix[0,0] + confusion_matrix[0,1] + confusion_matrix[1,0] + confusion_matrix[1,1]\n",
    "tp_hyp = confusion_matrix[2,2]\n",
    "fp_hyp = confusion_matrix[0,2] + confusion_matrix[1,2]\n",
    "fn_hyp = confusion_matrix[2,0] + confusion_matrix[2,1]"
   ]
  },
  {
   "cell_type": "code",
   "execution_count": 78,
   "metadata": {},
   "outputs": [],
   "source": [
    "def f1_scores_dataframe (accuracy, precision, recall):\n",
    "    \"\"\"Calculates the f1 score and creates a dataframe with all scores\"\"\"\n",
    "    f1_score = 2*(recall * precision) / (recall + precision)\n",
    "    df = pd.DataFrame([[accuracy, precision, recall, f1_score]], columns = [\"Accuracy\", \"Precision\", \"Recall\", \"F1 Score\"], index = [\"Results\"])\n",
    "    return df"
   ]
  },
  {
   "cell_type": "code",
   "execution_count": 79,
   "metadata": {},
   "outputs": [
    {
     "data": {
      "text/html": [
       "<div>\n",
       "<style scoped>\n",
       "    .dataframe tbody tr th:only-of-type {\n",
       "        vertical-align: middle;\n",
       "    }\n",
       "\n",
       "    .dataframe tbody tr th {\n",
       "        vertical-align: top;\n",
       "    }\n",
       "\n",
       "    .dataframe thead th {\n",
       "        text-align: right;\n",
       "    }\n",
       "</style>\n",
       "<table border=\"1\" class=\"dataframe\">\n",
       "  <thead>\n",
       "    <tr style=\"text-align: right;\">\n",
       "      <th></th>\n",
       "      <th>Accuracy</th>\n",
       "      <th>Precision</th>\n",
       "      <th>Recall</th>\n",
       "      <th>F1 Score</th>\n",
       "    </tr>\n",
       "  </thead>\n",
       "  <tbody>\n",
       "    <tr>\n",
       "      <td>Results</td>\n",
       "      <td>0.695313</td>\n",
       "      <td>0.704869</td>\n",
       "      <td>0.82245</td>\n",
       "      <td>0.759133</td>\n",
       "    </tr>\n",
       "  </tbody>\n",
       "</table>\n",
       "</div>"
      ],
      "text/plain": [
       "         Accuracy  Precision   Recall  F1 Score\n",
       "Results  0.695313   0.704869  0.82245  0.759133"
      ]
     },
     "execution_count": 79,
     "metadata": {},
     "output_type": "execute_result"
    }
   ],
   "source": [
    "#scores for normal blood pressure (class 0)\n",
    "accuracy = (tp_normal + tn_normal)/(tp_normal + tn_normal + fp_normal + fn_normal)\n",
    "precision = tp_normal/(tp_normal + fp_normal)\n",
    "recall = tp_normal/(tp_normal + fn_normal)\n",
    "f1_scores_dataframe (accuracy, precision, recall)"
   ]
  },
  {
   "cell_type": "code",
   "execution_count": 80,
   "metadata": {},
   "outputs": [
    {
     "data": {
      "text/html": [
       "<div>\n",
       "<style scoped>\n",
       "    .dataframe tbody tr th:only-of-type {\n",
       "        vertical-align: middle;\n",
       "    }\n",
       "\n",
       "    .dataframe tbody tr th {\n",
       "        vertical-align: top;\n",
       "    }\n",
       "\n",
       "    .dataframe thead th {\n",
       "        text-align: right;\n",
       "    }\n",
       "</style>\n",
       "<table border=\"1\" class=\"dataframe\">\n",
       "  <thead>\n",
       "    <tr style=\"text-align: right;\">\n",
       "      <th></th>\n",
       "      <th>Accuracy</th>\n",
       "      <th>Precision</th>\n",
       "      <th>Recall</th>\n",
       "      <th>F1 Score</th>\n",
       "    </tr>\n",
       "  </thead>\n",
       "  <tbody>\n",
       "    <tr>\n",
       "      <td>Results</td>\n",
       "      <td>0.676215</td>\n",
       "      <td>0.418884</td>\n",
       "      <td>0.377806</td>\n",
       "      <td>0.397286</td>\n",
       "    </tr>\n",
       "  </tbody>\n",
       "</table>\n",
       "</div>"
      ],
      "text/plain": [
       "         Accuracy  Precision    Recall  F1 Score\n",
       "Results  0.676215   0.418884  0.377806  0.397286"
      ]
     },
     "execution_count": 80,
     "metadata": {},
     "output_type": "execute_result"
    }
   ],
   "source": [
    "#scores for prehypertension (class 1)\n",
    "accuracy = (tp_preh + tn_preh)/(tp_preh + tn_preh + fp_preh + fn_preh)\n",
    "precision = tp_preh/(tp_preh + fp_preh)\n",
    "recall = tp_preh/(tp_preh + fn_preh)\n",
    "f1_scores_dataframe (accuracy, precision, recall)"
   ]
  },
  {
   "cell_type": "code",
   "execution_count": 81,
   "metadata": {},
   "outputs": [
    {
     "data": {
      "text/html": [
       "<div>\n",
       "<style scoped>\n",
       "    .dataframe tbody tr th:only-of-type {\n",
       "        vertical-align: middle;\n",
       "    }\n",
       "\n",
       "    .dataframe tbody tr th {\n",
       "        vertical-align: top;\n",
       "    }\n",
       "\n",
       "    .dataframe thead th {\n",
       "        text-align: right;\n",
       "    }\n",
       "</style>\n",
       "<table border=\"1\" class=\"dataframe\">\n",
       "  <thead>\n",
       "    <tr style=\"text-align: right;\">\n",
       "      <th></th>\n",
       "      <th>Accuracy</th>\n",
       "      <th>Precision</th>\n",
       "      <th>Recall</th>\n",
       "      <th>F1 Score</th>\n",
       "    </tr>\n",
       "  </thead>\n",
       "  <tbody>\n",
       "    <tr>\n",
       "      <td>Results</td>\n",
       "      <td>0.841096</td>\n",
       "      <td>0.303754</td>\n",
       "      <td>0.145504</td>\n",
       "      <td>0.196758</td>\n",
       "    </tr>\n",
       "  </tbody>\n",
       "</table>\n",
       "</div>"
      ],
      "text/plain": [
       "         Accuracy  Precision    Recall  F1 Score\n",
       "Results  0.841096   0.303754  0.145504  0.196758"
      ]
     },
     "execution_count": 81,
     "metadata": {},
     "output_type": "execute_result"
    }
   ],
   "source": [
    "#scores for hypertension (class 2)\n",
    "accuracy = (tp_hyp + tn_hyp)/(tp_hyp + tn_hyp + fp_hyp + fn_hyp)\n",
    "precision = tp_hyp/(tp_hyp + fp_hyp)\n",
    "recall = tp_hyp/(tp_hyp + fn_hyp)\n",
    "f1_scores_dataframe (accuracy, precision, recall)"
   ]
  },
  {
   "cell_type": "markdown",
   "metadata": {},
   "source": [
    "##### Result interpretation\n",
    "\n",
    "The Random Forest classifier achieves best of the relevant scores (recall, precision and f1-score) for the first class which is the class of normal blood pressure. The results for prehypertension and especially for the hypertension classes are significantly lower. It seems that it is difficult for the method to distinguish between the medical data for pre- and hypertensive patients. It may also be deduced from the numbers in the confusion matrix that the model was misled from features implying borderline values of high blood pressure. The recall score which is important because it shows how many of the results of interest the method guesses, is the lowest score for the third class (hypertension), which is not very good."
   ]
  },
  {
   "cell_type": "markdown",
   "metadata": {},
   "source": [
    "### ROC Curve\n",
    "\n",
    "Receiver Operating Characteristics (ROC) curve is a probability evaluation metric that reflects the performance of binary  classification problems. It can also work for multiclass classification problems; however, a methodology of one versus the rest (OVR) or one versus one (OVO) should be used in this case. As I am working with three classes I am going to first binarize the target column so it transforms to an array of three values of 0 and 1 for each observation."
   ]
  },
  {
   "cell_type": "code",
   "execution_count": 82,
   "metadata": {},
   "outputs": [],
   "source": [
    "#Binarize the output\n",
    "cardio_target_train_binary = label_binarize(cardio_target_train, classes = [\"normal\", \"prehypertension\", \"hypertension\"])\n",
    "cardio_target_test_binary = label_binarize(cardio_target_test, classes = [\"normal\", \"prehypertension\", \"hypertension\"])"
   ]
  },
  {
   "cell_type": "code",
   "execution_count": 83,
   "metadata": {},
   "outputs": [
    {
     "data": {
      "image/png": "[encoded data removed]",
      "text/plain": [
       "<Figure size 432x288 with 1 Axes>"
      ]
     },
     "metadata": {
      "needs_background": "light"
     },
     "output_type": "display_data"
    }
   ],
   "source": [
    "classifier = OneVsRestClassifier(forest_best)\n",
    "y_score = classifier.fit(cardio_features_train, cardio_target_train_binary).predict_proba(cardio_features_test)\n",
    "\n",
    "\n",
    "#Code for the ROC curve was taken from stack overflow [12]\n",
    "fpr = dict()\n",
    "tpr = dict()\n",
    "roc_auc = dict()\n",
    "for i in range(3):\n",
    "    fpr[i], tpr[i], _ = roc_curve(cardio_target_test_binary[:, i], y_score[:, i])\n",
    "    roc_auc[i] = auc(fpr[i], tpr[i])\n",
    "colors = cycle([\"blue\", \"red\", \"green\"])\n",
    "for i, color in zip(range(3), colors):\n",
    "    plt.plot(fpr[i], tpr[i], color = color,\n",
    "             label = \"ROC curve of class {0} (area = {1:0.2f})\"\n",
    "             \"\".format(i, roc_auc[i]))\n",
    "\n",
    "plt.plot([0, 1], [0, 1], \"k--\")\n",
    "plt.xlim([-0.02, 1.0])\n",
    "plt.ylim([0.0, 1.02])\n",
    "plt.xlabel(\"False Positive Rate\")\n",
    "plt.ylabel(\"True Positive Rate\")\n",
    "plt.title(\"Receiver operating characteristic\")\n",
    "plt.legend(loc = \"lower right\")\n",
    "plt.show()"
   ]
  },
  {
   "cell_type": "markdown",
   "metadata": {},
   "source": [
    "###### Result interpretation\n",
    "The ROC curve again shows best performance of the model in distinguishing between class 0 (normal blood pressure) and the other two classes. This is apparent from the fact that the curve for class 0 climbs faster and the area under the curve (AUC) is largest. The AUC for the second class (prehypertension) is smallest, and this is the class with values varying within narrower limits. "
   ]
  },
  {
   "cell_type": "markdown",
   "metadata": {},
   "source": [
    "###### Learning curve\n",
    "\n",
    "Learning curve, when plotting some of the metrics against the number of observations, is a graphical representation of how a machine learning algorithm is becoming better with time, in other words - how or will adding more observations to the data help the model to improve. It is also a good tool to investigate the model’s bias and variance."
   ]
  },
  {
   "cell_type": "code",
   "execution_count": 84,
   "metadata": {},
   "outputs": [],
   "source": [
    "def plot_train_curve(model, name, train_sizes):\n",
    "    \"\"\"Plots a learning curve for the model.\"\"\"\n",
    "\n",
    "        \n",
    "    train_sizes, train_scores, validation_scores = learning_curve(\n",
    "    estimator = model,\n",
    "    X = cardio_data_features,\n",
    "    y = cardio_data_target, train_sizes = train_sizes, cv = 5, shuffle = True, scoring = 'f1_weighted')\n",
    "    \n",
    "    train_mean = np.mean(train_scores, axis=1)\n",
    "    train_std = np.std(train_scores, axis=1)\n",
    "    val_mean = np.mean(validation_scores, axis=1)\n",
    "    val_std = np.std(validation_scores, axis=1)\n",
    "    \n",
    "    plt.figure(figsize = (5,5))\n",
    "    plt.plot(train_sizes, train_mean, '--', color = \"#9fe339\",  label = \"Training score\")\n",
    "    plt.plot(train_sizes, val_mean, color = \"#9fe339\", label= \"Cross-validation score\")\n",
    "    \n",
    "    plt.title(\"Learning Curve for {}\".format(name))\n",
    "    plt.xlabel(\"Training examples\")\n",
    "    plt.ylabel(\"F1 Score\")\n",
    "    plt.legend(loc = \"best\")\n",
    "\n",
    "    plt.show()"
   ]
  },
  {
   "cell_type": "code",
   "execution_count": 85,
   "metadata": {},
   "outputs": [
    {
     "data": {
      "image/png": "[encoded data removed]",
      "text/plain": [
       "<Figure size 360x360 with 1 Axes>"
      ]
     },
     "metadata": {
      "needs_background": "light"
     },
     "output_type": "display_data"
    }
   ],
   "source": [
    "#plot LC for LR\n",
    "plot_train_curve(logistic_best, \"Logistic Regression\", train_sizes = [50, 100, 500, 5000, 50000])"
   ]
  },
  {
   "cell_type": "markdown",
   "metadata": {},
   "source": [
    "The LR best estimator seems to work well with regards to model variance and bias which is evident from the small gap between the two curves. The learning curve also shows that more observations are not necessary as the two lines converge."
   ]
  },
  {
   "cell_type": "code",
   "execution_count": 86,
   "metadata": {},
   "outputs": [
    {
     "name": "stderr",
     "output_type": "stream",
     "text": [
      "C:\\Users\\schaubia\\Anaconda3\\lib\\site-packages\\sklearn\\metrics\\classification.py:1437: UndefinedMetricWarning: F-score is ill-defined and being set to 0.0 in labels with no predicted samples.\n",
      "  'precision', 'predicted', average, warn_for)\n",
      "C:\\Users\\schaubia\\Anaconda3\\lib\\site-packages\\sklearn\\metrics\\classification.py:1437: UndefinedMetricWarning: F-score is ill-defined and being set to 0.0 in labels with no predicted samples.\n",
      "  'precision', 'predicted', average, warn_for)\n",
      "C:\\Users\\schaubia\\Anaconda3\\lib\\site-packages\\sklearn\\metrics\\classification.py:1437: UndefinedMetricWarning: F-score is ill-defined and being set to 0.0 in labels with no predicted samples.\n",
      "  'precision', 'predicted', average, warn_for)\n",
      "C:\\Users\\schaubia\\Anaconda3\\lib\\site-packages\\sklearn\\metrics\\classification.py:1437: UndefinedMetricWarning: F-score is ill-defined and being set to 0.0 in labels with no predicted samples.\n",
      "  'precision', 'predicted', average, warn_for)\n",
      "C:\\Users\\schaubia\\Anaconda3\\lib\\site-packages\\sklearn\\metrics\\classification.py:1437: UndefinedMetricWarning: F-score is ill-defined and being set to 0.0 in labels with no predicted samples.\n",
      "  'precision', 'predicted', average, warn_for)\n",
      "C:\\Users\\schaubia\\Anaconda3\\lib\\site-packages\\sklearn\\metrics\\classification.py:1437: UndefinedMetricWarning: F-score is ill-defined and being set to 0.0 in labels with no predicted samples.\n",
      "  'precision', 'predicted', average, warn_for)\n",
      "C:\\Users\\schaubia\\Anaconda3\\lib\\site-packages\\sklearn\\metrics\\classification.py:1437: UndefinedMetricWarning: F-score is ill-defined and being set to 0.0 in labels with no predicted samples.\n",
      "  'precision', 'predicted', average, warn_for)\n",
      "C:\\Users\\schaubia\\Anaconda3\\lib\\site-packages\\sklearn\\metrics\\classification.py:1437: UndefinedMetricWarning: F-score is ill-defined and being set to 0.0 in labels with no predicted samples.\n",
      "  'precision', 'predicted', average, warn_for)\n",
      "C:\\Users\\schaubia\\Anaconda3\\lib\\site-packages\\sklearn\\metrics\\classification.py:1437: UndefinedMetricWarning: F-score is ill-defined and being set to 0.0 in labels with no predicted samples.\n",
      "  'precision', 'predicted', average, warn_for)\n",
      "C:\\Users\\schaubia\\Anaconda3\\lib\\site-packages\\sklearn\\metrics\\classification.py:1437: UndefinedMetricWarning: F-score is ill-defined and being set to 0.0 in labels with no predicted samples.\n",
      "  'precision', 'predicted', average, warn_for)\n",
      "C:\\Users\\schaubia\\Anaconda3\\lib\\site-packages\\sklearn\\metrics\\classification.py:1437: UndefinedMetricWarning: F-score is ill-defined and being set to 0.0 in labels with no predicted samples.\n",
      "  'precision', 'predicted', average, warn_for)\n",
      "C:\\Users\\schaubia\\Anaconda3\\lib\\site-packages\\sklearn\\metrics\\classification.py:1437: UndefinedMetricWarning: F-score is ill-defined and being set to 0.0 in labels with no predicted samples.\n",
      "  'precision', 'predicted', average, warn_for)\n",
      "C:\\Users\\schaubia\\Anaconda3\\lib\\site-packages\\sklearn\\metrics\\classification.py:1437: UndefinedMetricWarning: F-score is ill-defined and being set to 0.0 in labels with no predicted samples.\n",
      "  'precision', 'predicted', average, warn_for)\n",
      "C:\\Users\\schaubia\\Anaconda3\\lib\\site-packages\\sklearn\\metrics\\classification.py:1437: UndefinedMetricWarning: F-score is ill-defined and being set to 0.0 in labels with no predicted samples.\n",
      "  'precision', 'predicted', average, warn_for)\n",
      "C:\\Users\\schaubia\\Anaconda3\\lib\\site-packages\\sklearn\\metrics\\classification.py:1437: UndefinedMetricWarning: F-score is ill-defined and being set to 0.0 in labels with no predicted samples.\n",
      "  'precision', 'predicted', average, warn_for)\n",
      "C:\\Users\\schaubia\\Anaconda3\\lib\\site-packages\\sklearn\\metrics\\classification.py:1437: UndefinedMetricWarning: F-score is ill-defined and being set to 0.0 in labels with no predicted samples.\n",
      "  'precision', 'predicted', average, warn_for)\n",
      "C:\\Users\\schaubia\\Anaconda3\\lib\\site-packages\\sklearn\\metrics\\classification.py:1437: UndefinedMetricWarning: F-score is ill-defined and being set to 0.0 in labels with no predicted samples.\n",
      "  'precision', 'predicted', average, warn_for)\n"
     ]
    },
    {
     "data": {
      "image/png": "[encoded data removed]",
      "text/plain": [
       "<Figure size 360x360 with 1 Axes>"
      ]
     },
     "metadata": {
      "needs_background": "light"
     },
     "output_type": "display_data"
    }
   ],
   "source": [
    "#plt LC for Decision tree\n",
    "plot_train_curve(tree_best, \"Decision Tree\", [1, 50, 500, 5000, 50000])"
   ]
  },
  {
   "cell_type": "markdown",
   "metadata": {},
   "source": [
    "The single tree best estimator does not work so well with regards to model variance and bias. The gap between the two lines is bigger and probably they will converge with more examples at some point. The highest f1 score is again low and possibly reach the best achievable result for this data."
   ]
  },
  {
   "cell_type": "code",
   "execution_count": 87,
   "metadata": {},
   "outputs": [
    {
     "name": "stderr",
     "output_type": "stream",
     "text": [
      "C:\\Users\\schaubia\\Anaconda3\\lib\\site-packages\\sklearn\\metrics\\classification.py:1437: UndefinedMetricWarning: F-score is ill-defined and being set to 0.0 in labels with no predicted samples.\n",
      "  'precision', 'predicted', average, warn_for)\n",
      "C:\\Users\\schaubia\\Anaconda3\\lib\\site-packages\\sklearn\\metrics\\classification.py:1437: UndefinedMetricWarning: F-score is ill-defined and being set to 0.0 in labels with no predicted samples.\n",
      "  'precision', 'predicted', average, warn_for)\n",
      "C:\\Users\\schaubia\\Anaconda3\\lib\\site-packages\\sklearn\\metrics\\classification.py:1437: UndefinedMetricWarning: F-score is ill-defined and being set to 0.0 in labels with no predicted samples.\n",
      "  'precision', 'predicted', average, warn_for)\n",
      "C:\\Users\\schaubia\\Anaconda3\\lib\\site-packages\\sklearn\\metrics\\classification.py:1437: UndefinedMetricWarning: F-score is ill-defined and being set to 0.0 in labels with no predicted samples.\n",
      "  'precision', 'predicted', average, warn_for)\n",
      "C:\\Users\\schaubia\\Anaconda3\\lib\\site-packages\\sklearn\\metrics\\classification.py:1437: UndefinedMetricWarning: F-score is ill-defined and being set to 0.0 in labels with no predicted samples.\n",
      "  'precision', 'predicted', average, warn_for)\n",
      "C:\\Users\\schaubia\\Anaconda3\\lib\\site-packages\\sklearn\\metrics\\classification.py:1437: UndefinedMetricWarning: F-score is ill-defined and being set to 0.0 in labels with no predicted samples.\n",
      "  'precision', 'predicted', average, warn_for)\n",
      "C:\\Users\\schaubia\\Anaconda3\\lib\\site-packages\\sklearn\\metrics\\classification.py:1437: UndefinedMetricWarning: F-score is ill-defined and being set to 0.0 in labels with no predicted samples.\n",
      "  'precision', 'predicted', average, warn_for)\n"
     ]
    },
    {
     "data": {
      "image/png": "[encoded data removed]",
      "text/plain": [
       "<Figure size 360x360 with 1 Axes>"
      ]
     },
     "metadata": {
      "needs_background": "light"
     },
     "output_type": "display_data"
    }
   ],
   "source": [
    "#plot LC for Random Forest\n",
    "plot_train_curve(forest_best, \"Random Forest\", [1, 50, 500, 5000, 50000])"
   ]
  },
  {
   "cell_type": "markdown",
   "metadata": {},
   "source": [
    "It appears that the Random Forest classifier overfits the training data. More observations most probably will not help. Later I am going to try to tune the Random Forest model and to decrease the model variance."
   ]
  },
  {
   "cell_type": "code",
   "execution_count": 88,
   "metadata": {},
   "outputs": [
    {
     "name": "stderr",
     "output_type": "stream",
     "text": [
      "C:\\Users\\schaubia\\Anaconda3\\lib\\site-packages\\sklearn\\metrics\\classification.py:1437: UndefinedMetricWarning: F-score is ill-defined and being set to 0.0 in labels with no predicted samples.\n",
      "  'precision', 'predicted', average, warn_for)\n",
      "C:\\Users\\schaubia\\Anaconda3\\lib\\site-packages\\sklearn\\metrics\\classification.py:1437: UndefinedMetricWarning: F-score is ill-defined and being set to 0.0 in labels with no predicted samples.\n",
      "  'precision', 'predicted', average, warn_for)\n",
      "C:\\Users\\schaubia\\Anaconda3\\lib\\site-packages\\sklearn\\metrics\\classification.py:1437: UndefinedMetricWarning: F-score is ill-defined and being set to 0.0 in labels with no predicted samples.\n",
      "  'precision', 'predicted', average, warn_for)\n",
      "C:\\Users\\schaubia\\Anaconda3\\lib\\site-packages\\sklearn\\metrics\\classification.py:1437: UndefinedMetricWarning: F-score is ill-defined and being set to 0.0 in labels with no predicted samples.\n",
      "  'precision', 'predicted', average, warn_for)\n",
      "C:\\Users\\schaubia\\Anaconda3\\lib\\site-packages\\sklearn\\metrics\\classification.py:1437: UndefinedMetricWarning: F-score is ill-defined and being set to 0.0 in labels with no predicted samples.\n",
      "  'precision', 'predicted', average, warn_for)\n",
      "C:\\Users\\schaubia\\Anaconda3\\lib\\site-packages\\sklearn\\metrics\\classification.py:1437: UndefinedMetricWarning: F-score is ill-defined and being set to 0.0 in labels with no predicted samples.\n",
      "  'precision', 'predicted', average, warn_for)\n",
      "C:\\Users\\schaubia\\Anaconda3\\lib\\site-packages\\sklearn\\metrics\\classification.py:1437: UndefinedMetricWarning: F-score is ill-defined and being set to 0.0 in labels with no predicted samples.\n",
      "  'precision', 'predicted', average, warn_for)\n"
     ]
    },
    {
     "data": {
      "image/png": "[encoded data removed]",
      "text/plain": [
       "<Figure size 360x360 with 1 Axes>"
      ]
     },
     "metadata": {
      "needs_background": "light"
     },
     "output_type": "display_data"
    }
   ],
   "source": [
    "#plot LC for AdaBoost\n",
    "plot_train_curve(boost_best, \"AdaBoost\", [1, 50, 500, 5000, 50000])"
   ]
  },
  {
   "cell_type": "markdown",
   "metadata": {},
   "source": [
    "Here both lines converge early"
   ]
  },
  {
   "cell_type": "code",
   "execution_count": 89,
   "metadata": {},
   "outputs": [
    {
     "name": "stderr",
     "output_type": "stream",
     "text": [
      "C:\\Users\\schaubia\\Anaconda3\\lib\\site-packages\\sklearn\\svm\\base.py:929: ConvergenceWarning: Liblinear failed to converge, increase the number of iterations.\n",
      "  \"the number of iterations.\", ConvergenceWarning)\n",
      "C:\\Users\\schaubia\\Anaconda3\\lib\\site-packages\\sklearn\\svm\\base.py:929: ConvergenceWarning: Liblinear failed to converge, increase the number of iterations.\n",
      "  \"the number of iterations.\", ConvergenceWarning)\n",
      "C:\\Users\\schaubia\\Anaconda3\\lib\\site-packages\\sklearn\\svm\\base.py:929: ConvergenceWarning: Liblinear failed to converge, increase the number of iterations.\n",
      "  \"the number of iterations.\", ConvergenceWarning)\n",
      "C:\\Users\\schaubia\\Anaconda3\\lib\\site-packages\\sklearn\\svm\\base.py:929: ConvergenceWarning: Liblinear failed to converge, increase the number of iterations.\n",
      "  \"the number of iterations.\", ConvergenceWarning)\n",
      "C:\\Users\\schaubia\\Anaconda3\\lib\\site-packages\\sklearn\\metrics\\classification.py:1437: UndefinedMetricWarning: F-score is ill-defined and being set to 0.0 in labels with no predicted samples.\n",
      "  'precision', 'predicted', average, warn_for)\n",
      "C:\\Users\\schaubia\\Anaconda3\\lib\\site-packages\\sklearn\\metrics\\classification.py:1437: UndefinedMetricWarning: F-score is ill-defined and being set to 0.0 in labels with no predicted samples.\n",
      "  'precision', 'predicted', average, warn_for)\n",
      "C:\\Users\\schaubia\\Anaconda3\\lib\\site-packages\\sklearn\\svm\\base.py:929: ConvergenceWarning: Liblinear failed to converge, increase the number of iterations.\n",
      "  \"the number of iterations.\", ConvergenceWarning)\n",
      "C:\\Users\\schaubia\\Anaconda3\\lib\\site-packages\\sklearn\\svm\\base.py:929: ConvergenceWarning: Liblinear failed to converge, increase the number of iterations.\n",
      "  \"the number of iterations.\", ConvergenceWarning)\n",
      "C:\\Users\\schaubia\\Anaconda3\\lib\\site-packages\\sklearn\\metrics\\classification.py:1437: UndefinedMetricWarning: F-score is ill-defined and being set to 0.0 in labels with no predicted samples.\n",
      "  'precision', 'predicted', average, warn_for)\n",
      "C:\\Users\\schaubia\\Anaconda3\\lib\\site-packages\\sklearn\\svm\\base.py:929: ConvergenceWarning: Liblinear failed to converge, increase the number of iterations.\n",
      "  \"the number of iterations.\", ConvergenceWarning)\n",
      "C:\\Users\\schaubia\\Anaconda3\\lib\\site-packages\\sklearn\\svm\\base.py:929: ConvergenceWarning: Liblinear failed to converge, increase the number of iterations.\n",
      "  \"the number of iterations.\", ConvergenceWarning)\n",
      "C:\\Users\\schaubia\\Anaconda3\\lib\\site-packages\\sklearn\\metrics\\classification.py:1437: UndefinedMetricWarning: F-score is ill-defined and being set to 0.0 in labels with no predicted samples.\n",
      "  'precision', 'predicted', average, warn_for)\n",
      "C:\\Users\\schaubia\\Anaconda3\\lib\\site-packages\\sklearn\\metrics\\classification.py:1437: UndefinedMetricWarning: F-score is ill-defined and being set to 0.0 in labels with no predicted samples.\n",
      "  'precision', 'predicted', average, warn_for)\n",
      "C:\\Users\\schaubia\\Anaconda3\\lib\\site-packages\\sklearn\\svm\\base.py:929: ConvergenceWarning: Liblinear failed to converge, increase the number of iterations.\n",
      "  \"the number of iterations.\", ConvergenceWarning)\n",
      "C:\\Users\\schaubia\\Anaconda3\\lib\\site-packages\\sklearn\\svm\\base.py:929: ConvergenceWarning: Liblinear failed to converge, increase the number of iterations.\n",
      "  \"the number of iterations.\", ConvergenceWarning)\n",
      "C:\\Users\\schaubia\\Anaconda3\\lib\\site-packages\\sklearn\\svm\\base.py:929: ConvergenceWarning: Liblinear failed to converge, increase the number of iterations.\n",
      "  \"the number of iterations.\", ConvergenceWarning)\n",
      "C:\\Users\\schaubia\\Anaconda3\\lib\\site-packages\\sklearn\\svm\\base.py:929: ConvergenceWarning: Liblinear failed to converge, increase the number of iterations.\n",
      "  \"the number of iterations.\", ConvergenceWarning)\n",
      "C:\\Users\\schaubia\\Anaconda3\\lib\\site-packages\\sklearn\\metrics\\classification.py:1437: UndefinedMetricWarning: F-score is ill-defined and being set to 0.0 in labels with no predicted samples.\n",
      "  'precision', 'predicted', average, warn_for)\n",
      "C:\\Users\\schaubia\\Anaconda3\\lib\\site-packages\\sklearn\\metrics\\classification.py:1437: UndefinedMetricWarning: F-score is ill-defined and being set to 0.0 in labels with no predicted samples.\n",
      "  'precision', 'predicted', average, warn_for)\n",
      "C:\\Users\\schaubia\\Anaconda3\\lib\\site-packages\\sklearn\\svm\\base.py:929: ConvergenceWarning: Liblinear failed to converge, increase the number of iterations.\n",
      "  \"the number of iterations.\", ConvergenceWarning)\n",
      "C:\\Users\\schaubia\\Anaconda3\\lib\\site-packages\\sklearn\\metrics\\classification.py:1437: UndefinedMetricWarning: F-score is ill-defined and being set to 0.0 in labels with no predicted samples.\n",
      "  'precision', 'predicted', average, warn_for)\n",
      "C:\\Users\\schaubia\\Anaconda3\\lib\\site-packages\\sklearn\\metrics\\classification.py:1437: UndefinedMetricWarning: F-score is ill-defined and being set to 0.0 in labels with no predicted samples.\n",
      "  'precision', 'predicted', average, warn_for)\n",
      "C:\\Users\\schaubia\\Anaconda3\\lib\\site-packages\\sklearn\\svm\\base.py:929: ConvergenceWarning: Liblinear failed to converge, increase the number of iterations.\n",
      "  \"the number of iterations.\", ConvergenceWarning)\n",
      "C:\\Users\\schaubia\\Anaconda3\\lib\\site-packages\\sklearn\\svm\\base.py:929: ConvergenceWarning: Liblinear failed to converge, increase the number of iterations.\n",
      "  \"the number of iterations.\", ConvergenceWarning)\n",
      "C:\\Users\\schaubia\\Anaconda3\\lib\\site-packages\\sklearn\\svm\\base.py:929: ConvergenceWarning: Liblinear failed to converge, increase the number of iterations.\n",
      "  \"the number of iterations.\", ConvergenceWarning)\n",
      "C:\\Users\\schaubia\\Anaconda3\\lib\\site-packages\\sklearn\\svm\\base.py:929: ConvergenceWarning: Liblinear failed to converge, increase the number of iterations.\n",
      "  \"the number of iterations.\", ConvergenceWarning)\n",
      "C:\\Users\\schaubia\\Anaconda3\\lib\\site-packages\\sklearn\\metrics\\classification.py:1437: UndefinedMetricWarning: F-score is ill-defined and being set to 0.0 in labels with no predicted samples.\n",
      "  'precision', 'predicted', average, warn_for)\n",
      "C:\\Users\\schaubia\\Anaconda3\\lib\\site-packages\\sklearn\\metrics\\classification.py:1437: UndefinedMetricWarning: F-score is ill-defined and being set to 0.0 in labels with no predicted samples.\n",
      "  'precision', 'predicted', average, warn_for)\n",
      "C:\\Users\\schaubia\\Anaconda3\\lib\\site-packages\\sklearn\\svm\\base.py:929: ConvergenceWarning: Liblinear failed to converge, increase the number of iterations.\n",
      "  \"the number of iterations.\", ConvergenceWarning)\n",
      "C:\\Users\\schaubia\\Anaconda3\\lib\\site-packages\\sklearn\\svm\\base.py:929: ConvergenceWarning: Liblinear failed to converge, increase the number of iterations.\n",
      "  \"the number of iterations.\", ConvergenceWarning)\n",
      "C:\\Users\\schaubia\\Anaconda3\\lib\\site-packages\\sklearn\\svm\\base.py:929: ConvergenceWarning: Liblinear failed to converge, increase the number of iterations.\n",
      "  \"the number of iterations.\", ConvergenceWarning)\n",
      "C:\\Users\\schaubia\\Anaconda3\\lib\\site-packages\\sklearn\\svm\\base.py:929: ConvergenceWarning: Liblinear failed to converge, increase the number of iterations.\n",
      "  \"the number of iterations.\", ConvergenceWarning)\n",
      "C:\\Users\\schaubia\\Anaconda3\\lib\\site-packages\\sklearn\\metrics\\classification.py:1437: UndefinedMetricWarning: F-score is ill-defined and being set to 0.0 in labels with no predicted samples.\n",
      "  'precision', 'predicted', average, warn_for)\n",
      "C:\\Users\\schaubia\\Anaconda3\\lib\\site-packages\\sklearn\\svm\\base.py:929: ConvergenceWarning: Liblinear failed to converge, increase the number of iterations.\n",
      "  \"the number of iterations.\", ConvergenceWarning)\n",
      "C:\\Users\\schaubia\\Anaconda3\\lib\\site-packages\\sklearn\\metrics\\classification.py:1437: UndefinedMetricWarning: F-score is ill-defined and being set to 0.0 in labels with no predicted samples.\n",
      "  'precision', 'predicted', average, warn_for)\n",
      "C:\\Users\\schaubia\\Anaconda3\\lib\\site-packages\\sklearn\\metrics\\classification.py:1437: UndefinedMetricWarning: F-score is ill-defined and being set to 0.0 in labels with no predicted samples.\n",
      "  'precision', 'predicted', average, warn_for)\n"
     ]
    },
    {
     "data": {
      "image/png": "[encoded data removed]",
      "text/plain": [
       "<Figure size 360x360 with 1 Axes>"
      ]
     },
     "metadata": {
      "needs_background": "light"
     },
     "output_type": "display_data"
    }
   ],
   "source": [
    "#plot LC for SVM\n",
    "plot_train_curve(svm_best, \"SVM\", [20, 50, 500, 5000, 50000])"
   ]
  },
  {
   "cell_type": "markdown",
   "metadata": {},
   "source": [
    "It looks like the validation score here is decreasing between several and 5000 examples."
   ]
  },
  {
   "cell_type": "code",
   "execution_count": 90,
   "metadata": {},
   "outputs": [
    {
     "name": "stderr",
     "output_type": "stream",
     "text": [
      "C:\\Users\\schaubia\\Anaconda3\\lib\\site-packages\\sklearn\\metrics\\classification.py:1437: UndefinedMetricWarning: F-score is ill-defined and being set to 0.0 in labels with no predicted samples.\n",
      "  'precision', 'predicted', average, warn_for)\n",
      "C:\\Users\\schaubia\\Anaconda3\\lib\\site-packages\\sklearn\\metrics\\classification.py:1437: UndefinedMetricWarning: F-score is ill-defined and being set to 0.0 in labels with no predicted samples.\n",
      "  'precision', 'predicted', average, warn_for)\n",
      "C:\\Users\\schaubia\\Anaconda3\\lib\\site-packages\\sklearn\\metrics\\classification.py:1437: UndefinedMetricWarning: F-score is ill-defined and being set to 0.0 in labels with no predicted samples.\n",
      "  'precision', 'predicted', average, warn_for)\n",
      "C:\\Users\\schaubia\\Anaconda3\\lib\\site-packages\\sklearn\\metrics\\classification.py:1437: UndefinedMetricWarning: F-score is ill-defined and being set to 0.0 in labels with no predicted samples.\n",
      "  'precision', 'predicted', average, warn_for)\n",
      "C:\\Users\\schaubia\\Anaconda3\\lib\\site-packages\\sklearn\\metrics\\classification.py:1437: UndefinedMetricWarning: F-score is ill-defined and being set to 0.0 in labels with no predicted samples.\n",
      "  'precision', 'predicted', average, warn_for)\n",
      "C:\\Users\\schaubia\\Anaconda3\\lib\\site-packages\\sklearn\\metrics\\classification.py:1437: UndefinedMetricWarning: F-score is ill-defined and being set to 0.0 in labels with no predicted samples.\n",
      "  'precision', 'predicted', average, warn_for)\n",
      "C:\\Users\\schaubia\\Anaconda3\\lib\\site-packages\\sklearn\\metrics\\classification.py:1437: UndefinedMetricWarning: F-score is ill-defined and being set to 0.0 in labels with no predicted samples.\n",
      "  'precision', 'predicted', average, warn_for)\n",
      "C:\\Users\\schaubia\\Anaconda3\\lib\\site-packages\\sklearn\\metrics\\classification.py:1437: UndefinedMetricWarning: F-score is ill-defined and being set to 0.0 in labels with no predicted samples.\n",
      "  'precision', 'predicted', average, warn_for)\n",
      "C:\\Users\\schaubia\\Anaconda3\\lib\\site-packages\\sklearn\\metrics\\classification.py:1437: UndefinedMetricWarning: F-score is ill-defined and being set to 0.0 in labels with no predicted samples.\n",
      "  'precision', 'predicted', average, warn_for)\n",
      "C:\\Users\\schaubia\\Anaconda3\\lib\\site-packages\\sklearn\\metrics\\classification.py:1437: UndefinedMetricWarning: F-score is ill-defined and being set to 0.0 in labels with no predicted samples.\n",
      "  'precision', 'predicted', average, warn_for)\n",
      "C:\\Users\\schaubia\\Anaconda3\\lib\\site-packages\\sklearn\\metrics\\classification.py:1437: UndefinedMetricWarning: F-score is ill-defined and being set to 0.0 in labels with no predicted samples.\n",
      "  'precision', 'predicted', average, warn_for)\n"
     ]
    },
    {
     "data": {
      "image/png": "[encoded data removed]",
      "text/plain": [
       "<Figure size 360x360 with 1 Axes>"
      ]
     },
     "metadata": {
      "needs_background": "light"
     },
     "output_type": "display_data"
    }
   ],
   "source": [
    "#plot LC for kNN\n",
    "plot_train_curve(knn_best, \"kNN\", train_sizes = [12, 50, 500, 5000, 50000])"
   ]
  },
  {
   "cell_type": "markdown",
   "metadata": {},
   "source": [
    "Here the curve for the training data is flipped which is expected as this algorithm learns better the more data available. According to the learning curve all methods achieve somehow similar results with regards to the F1 score, around 58 %, which result is highly reproducible. This probably means that for the data available there is a high value of the irreducible error. "
   ]
  },
  {
   "cell_type": "markdown",
   "metadata": {},
   "source": [
    "###### Apply regularization to the Random Forest model\n",
    "As the Random Forest model is overfitting the data, I will try to regularize it by setting maximum depth to 6 and minimum samples per leaf also to 6.\n"
   ]
  },
  {
   "cell_type": "code",
   "execution_count": 91,
   "metadata": {},
   "outputs": [],
   "source": [
    "forest_reg = RandomForestClassifier(bootstrap=True, class_weight=None, criterion='gini',\n",
    "                       max_depth=6, max_features='auto', max_leaf_nodes=None,\n",
    "                       min_impurity_decrease=0.0, min_impurity_split=None,\n",
    "                       min_samples_leaf=6, min_samples_split=2,\n",
    "                       min_weight_fraction_leaf=0.0, n_estimators=200,\n",
    "                       n_jobs=None, oob_score=False, random_state=None,\n",
    "                       verbose=0, warm_start=False)"
   ]
  },
  {
   "cell_type": "code",
   "execution_count": 92,
   "metadata": {},
   "outputs": [
    {
     "data": {
      "text/plain": [
       "RandomForestClassifier(bootstrap=True, class_weight=None, criterion='gini',\n",
       "                       max_depth=6, max_features='auto', max_leaf_nodes=None,\n",
       "                       min_impurity_decrease=0.0, min_impurity_split=None,\n",
       "                       min_samples_leaf=6, min_samples_split=2,\n",
       "                       min_weight_fraction_leaf=0.0, n_estimators=200,\n",
       "                       n_jobs=None, oob_score=False, random_state=None,\n",
       "                       verbose=0, warm_start=False)"
      ]
     },
     "execution_count": 92,
     "metadata": {},
     "output_type": "execute_result"
    }
   ],
   "source": [
    "forest_reg.fit(cardio_features_train, cardio_target_train)"
   ]
  },
  {
   "cell_type": "code",
   "execution_count": 93,
   "metadata": {},
   "outputs": [
    {
     "data": {
      "text/plain": [
       "0.6298611364216204"
      ]
     },
     "execution_count": 93,
     "metadata": {},
     "output_type": "execute_result"
    }
   ],
   "source": [
    "#get the training score to assess variance\n",
    "forest_reg.score(cardio_features_train, cardio_target_train)"
   ]
  },
  {
   "cell_type": "code",
   "execution_count": 94,
   "metadata": {},
   "outputs": [
    {
     "name": "stderr",
     "output_type": "stream",
     "text": [
      "C:\\Users\\schaubia\\Anaconda3\\lib\\site-packages\\sklearn\\metrics\\classification.py:1437: UndefinedMetricWarning: F-score is ill-defined and being set to 0.0 in labels with no predicted samples.\n",
      "  'precision', 'predicted', average, warn_for)\n",
      "C:\\Users\\schaubia\\Anaconda3\\lib\\site-packages\\sklearn\\metrics\\classification.py:1437: UndefinedMetricWarning: F-score is ill-defined and being set to 0.0 in labels with no predicted samples.\n",
      "  'precision', 'predicted', average, warn_for)\n",
      "C:\\Users\\schaubia\\Anaconda3\\lib\\site-packages\\sklearn\\metrics\\classification.py:1437: UndefinedMetricWarning: F-score is ill-defined and being set to 0.0 in labels with no predicted samples.\n",
      "  'precision', 'predicted', average, warn_for)\n",
      "C:\\Users\\schaubia\\Anaconda3\\lib\\site-packages\\sklearn\\metrics\\classification.py:1437: UndefinedMetricWarning: F-score is ill-defined and being set to 0.0 in labels with no predicted samples.\n",
      "  'precision', 'predicted', average, warn_for)\n",
      "C:\\Users\\schaubia\\Anaconda3\\lib\\site-packages\\sklearn\\metrics\\classification.py:1437: UndefinedMetricWarning: F-score is ill-defined and being set to 0.0 in labels with no predicted samples.\n",
      "  'precision', 'predicted', average, warn_for)\n",
      "C:\\Users\\schaubia\\Anaconda3\\lib\\site-packages\\sklearn\\metrics\\classification.py:1437: UndefinedMetricWarning: F-score is ill-defined and being set to 0.0 in labels with no predicted samples.\n",
      "  'precision', 'predicted', average, warn_for)\n",
      "C:\\Users\\schaubia\\Anaconda3\\lib\\site-packages\\sklearn\\metrics\\classification.py:1437: UndefinedMetricWarning: F-score is ill-defined and being set to 0.0 in labels with no predicted samples.\n",
      "  'precision', 'predicted', average, warn_for)\n",
      "C:\\Users\\schaubia\\Anaconda3\\lib\\site-packages\\sklearn\\metrics\\classification.py:1437: UndefinedMetricWarning: F-score is ill-defined and being set to 0.0 in labels with no predicted samples.\n",
      "  'precision', 'predicted', average, warn_for)\n",
      "C:\\Users\\schaubia\\Anaconda3\\lib\\site-packages\\sklearn\\metrics\\classification.py:1437: UndefinedMetricWarning: F-score is ill-defined and being set to 0.0 in labels with no predicted samples.\n",
      "  'precision', 'predicted', average, warn_for)\n",
      "C:\\Users\\schaubia\\Anaconda3\\lib\\site-packages\\sklearn\\metrics\\classification.py:1437: UndefinedMetricWarning: F-score is ill-defined and being set to 0.0 in labels with no predicted samples.\n",
      "  'precision', 'predicted', average, warn_for)\n",
      "C:\\Users\\schaubia\\Anaconda3\\lib\\site-packages\\sklearn\\metrics\\classification.py:1437: UndefinedMetricWarning: F-score is ill-defined and being set to 0.0 in labels with no predicted samples.\n",
      "  'precision', 'predicted', average, warn_for)\n",
      "C:\\Users\\schaubia\\Anaconda3\\lib\\site-packages\\sklearn\\metrics\\classification.py:1437: UndefinedMetricWarning: F-score is ill-defined and being set to 0.0 in labels with no predicted samples.\n",
      "  'precision', 'predicted', average, warn_for)\n",
      "C:\\Users\\schaubia\\Anaconda3\\lib\\site-packages\\sklearn\\metrics\\classification.py:1437: UndefinedMetricWarning: F-score is ill-defined and being set to 0.0 in labels with no predicted samples.\n",
      "  'precision', 'predicted', average, warn_for)\n",
      "C:\\Users\\schaubia\\Anaconda3\\lib\\site-packages\\sklearn\\metrics\\classification.py:1437: UndefinedMetricWarning: F-score is ill-defined and being set to 0.0 in labels with no predicted samples.\n",
      "  'precision', 'predicted', average, warn_for)\n",
      "C:\\Users\\schaubia\\Anaconda3\\lib\\site-packages\\sklearn\\metrics\\classification.py:1437: UndefinedMetricWarning: F-score is ill-defined and being set to 0.0 in labels with no predicted samples.\n",
      "  'precision', 'predicted', average, warn_for)\n",
      "C:\\Users\\schaubia\\Anaconda3\\lib\\site-packages\\sklearn\\metrics\\classification.py:1437: UndefinedMetricWarning: F-score is ill-defined and being set to 0.0 in labels with no predicted samples.\n",
      "  'precision', 'predicted', average, warn_for)\n",
      "C:\\Users\\schaubia\\Anaconda3\\lib\\site-packages\\sklearn\\metrics\\classification.py:1437: UndefinedMetricWarning: F-score is ill-defined and being set to 0.0 in labels with no predicted samples.\n",
      "  'precision', 'predicted', average, warn_for)\n"
     ]
    },
    {
     "data": {
      "image/png": "[encoded data removed]",
      "text/plain": [
       "<Figure size 360x360 with 1 Axes>"
      ]
     },
     "metadata": {
      "needs_background": "light"
     },
     "output_type": "display_data"
    }
   ],
   "source": [
    "plot_train_curve(forest_reg, \"Random Forest\", [1, 50, 500, 5000, 50000])"
   ]
  },
  {
   "cell_type": "code",
   "execution_count": 95,
   "metadata": {},
   "outputs": [
    {
     "data": {
      "text/plain": [
       "0.570507493712888"
      ]
     },
     "execution_count": 95,
     "metadata": {},
     "output_type": "execute_result"
    }
   ],
   "source": [
    "f1_score(cardio_target_test, forest_reg.predict(cardio_features_test), average = \"weighted\")"
   ]
  },
  {
   "cell_type": "markdown",
   "metadata": {},
   "source": [
    "According to the learning curve, with the tuned hyperparameters, the forest does not overfit the data, however, the scores show some overfitting and also lower performance on the test data in comparison to the prior forest model."
   ]
  },
  {
   "cell_type": "markdown",
   "metadata": {},
   "source": [
    "###### Predict my own data"
   ]
  },
  {
   "cell_type": "markdown",
   "metadata": {},
   "source": [
    "Finally I am going to use the best estimators to predict to which classes are several new observations going to be assigned."
   ]
  },
  {
   "cell_type": "code",
   "execution_count": 103,
   "metadata": {},
   "outputs": [],
   "source": [
    "my_data = pd.read_csv(\"data/my_data.csv\")"
   ]
  },
  {
   "cell_type": "code",
   "execution_count": 104,
   "metadata": {},
   "outputs": [
    {
     "data": {
      "text/html": [
       "<div>\n",
       "<style scoped>\n",
       "    .dataframe tbody tr th:only-of-type {\n",
       "        vertical-align: middle;\n",
       "    }\n",
       "\n",
       "    .dataframe tbody tr th {\n",
       "        vertical-align: top;\n",
       "    }\n",
       "\n",
       "    .dataframe thead th {\n",
       "        text-align: right;\n",
       "    }\n",
       "</style>\n",
       "<table border=\"1\" class=\"dataframe\">\n",
       "  <thead>\n",
       "    <tr style=\"text-align: right;\">\n",
       "      <th></th>\n",
       "      <th>age</th>\n",
       "      <th>gender</th>\n",
       "      <th>height</th>\n",
       "      <th>weight</th>\n",
       "      <th>smoke</th>\n",
       "      <th>alco</th>\n",
       "      <th>active</th>\n",
       "      <th>cardio</th>\n",
       "      <th>cholesterol_above normal</th>\n",
       "      <th>cholesterol_well above normal</th>\n",
       "      <th>gluc_above normal</th>\n",
       "      <th>gluc_well above normal</th>\n",
       "    </tr>\n",
       "  </thead>\n",
       "  <tbody>\n",
       "    <tr>\n",
       "      <td>0</td>\n",
       "      <td>2</td>\n",
       "      <td>1</td>\n",
       "      <td>100</td>\n",
       "      <td>14</td>\n",
       "      <td>0</td>\n",
       "      <td>0</td>\n",
       "      <td>1</td>\n",
       "      <td>0</td>\n",
       "      <td>0</td>\n",
       "      <td>0</td>\n",
       "      <td>0</td>\n",
       "      <td>0</td>\n",
       "    </tr>\n",
       "    <tr>\n",
       "      <td>1</td>\n",
       "      <td>9</td>\n",
       "      <td>1</td>\n",
       "      <td>135</td>\n",
       "      <td>42</td>\n",
       "      <td>0</td>\n",
       "      <td>0</td>\n",
       "      <td>1</td>\n",
       "      <td>0</td>\n",
       "      <td>0</td>\n",
       "      <td>0</td>\n",
       "      <td>0</td>\n",
       "      <td>0</td>\n",
       "    </tr>\n",
       "    <tr>\n",
       "      <td>2</td>\n",
       "      <td>35</td>\n",
       "      <td>1</td>\n",
       "      <td>169</td>\n",
       "      <td>51</td>\n",
       "      <td>0</td>\n",
       "      <td>0</td>\n",
       "      <td>1</td>\n",
       "      <td>0</td>\n",
       "      <td>0</td>\n",
       "      <td>0</td>\n",
       "      <td>0</td>\n",
       "      <td>0</td>\n",
       "    </tr>\n",
       "    <tr>\n",
       "      <td>3</td>\n",
       "      <td>37</td>\n",
       "      <td>0</td>\n",
       "      <td>174</td>\n",
       "      <td>59</td>\n",
       "      <td>1</td>\n",
       "      <td>1</td>\n",
       "      <td>1</td>\n",
       "      <td>0</td>\n",
       "      <td>0</td>\n",
       "      <td>0</td>\n",
       "      <td>0</td>\n",
       "      <td>0</td>\n",
       "    </tr>\n",
       "    <tr>\n",
       "      <td>4</td>\n",
       "      <td>63</td>\n",
       "      <td>1</td>\n",
       "      <td>147</td>\n",
       "      <td>48</td>\n",
       "      <td>1</td>\n",
       "      <td>1</td>\n",
       "      <td>0</td>\n",
       "      <td>1</td>\n",
       "      <td>0</td>\n",
       "      <td>0</td>\n",
       "      <td>0</td>\n",
       "      <td>0</td>\n",
       "    </tr>\n",
       "    <tr>\n",
       "      <td>5</td>\n",
       "      <td>63</td>\n",
       "      <td>1</td>\n",
       "      <td>165</td>\n",
       "      <td>69</td>\n",
       "      <td>0</td>\n",
       "      <td>1</td>\n",
       "      <td>0</td>\n",
       "      <td>1</td>\n",
       "      <td>1</td>\n",
       "      <td>0</td>\n",
       "      <td>1</td>\n",
       "      <td>0</td>\n",
       "    </tr>\n",
       "  </tbody>\n",
       "</table>\n",
       "</div>"
      ],
      "text/plain": [
       "   age  gender  height  weight  smoke  alco  active  cardio  \\\n",
       "0    2       1     100      14      0     0       1       0   \n",
       "1    9       1     135      42      0     0       1       0   \n",
       "2   35       1     169      51      0     0       1       0   \n",
       "3   37       0     174      59      1     1       1       0   \n",
       "4   63       1     147      48      1     1       0       1   \n",
       "5   63       1     165      69      0     1       0       1   \n",
       "\n",
       "   cholesterol_above normal  cholesterol_well above normal  gluc_above normal  \\\n",
       "0                         0                              0                  0   \n",
       "1                         0                              0                  0   \n",
       "2                         0                              0                  0   \n",
       "3                         0                              0                  0   \n",
       "4                         0                              0                  0   \n",
       "5                         1                              0                  1   \n",
       "\n",
       "   gluc_well above normal  \n",
       "0                       0  \n",
       "1                       0  \n",
       "2                       0  \n",
       "3                       0  \n",
       "4                       0  \n",
       "5                       0  "
      ]
     },
     "execution_count": 104,
     "metadata": {},
     "output_type": "execute_result"
    }
   ],
   "source": [
    "my_data"
   ]
  },
  {
   "cell_type": "code",
   "execution_count": 105,
   "metadata": {},
   "outputs": [
    {
     "data": {
      "text/plain": [
       "array(['normal', 'normal', 'normal', 'prehypertension', 'prehypertension',\n",
       "       'prehypertension'], dtype=object)"
      ]
     },
     "execution_count": 105,
     "metadata": {},
     "output_type": "execute_result"
    }
   ],
   "source": [
    "logistic_best.predict(my_data)"
   ]
  },
  {
   "cell_type": "code",
   "execution_count": 106,
   "metadata": {},
   "outputs": [
    {
     "data": {
      "text/plain": [
       "array(['prehypertension', 'prehypertension', 'prehypertension',\n",
       "       'prehypertension', 'hypertension', 'prehypertension'], dtype=object)"
      ]
     },
     "execution_count": 106,
     "metadata": {},
     "output_type": "execute_result"
    }
   ],
   "source": [
    "tree_best.predict(my_data)"
   ]
  },
  {
   "cell_type": "code",
   "execution_count": 107,
   "metadata": {},
   "outputs": [
    {
     "data": {
      "text/plain": [
       "array(['normal', 'normal', 'normal', 'normal', 'prehypertension',\n",
       "       'prehypertension'], dtype=object)"
      ]
     },
     "execution_count": 107,
     "metadata": {},
     "output_type": "execute_result"
    }
   ],
   "source": [
    "forest_best.predict(my_data)"
   ]
  },
  {
   "cell_type": "code",
   "execution_count": 108,
   "metadata": {},
   "outputs": [
    {
     "data": {
      "text/plain": [
       "array(['normal', 'normal', 'normal', 'prehypertension', 'prehypertension',\n",
       "       'prehypertension'], dtype=object)"
      ]
     },
     "execution_count": 108,
     "metadata": {},
     "output_type": "execute_result"
    }
   ],
   "source": [
    "svm_best.predict(my_data)"
   ]
  },
  {
   "cell_type": "code",
   "execution_count": 109,
   "metadata": {},
   "outputs": [
    {
     "data": {
      "text/plain": [
       "array(['normal', 'prehypertension', 'normal', 'normal', 'prehypertension',\n",
       "       'normal'], dtype=object)"
      ]
     },
     "execution_count": 109,
     "metadata": {},
     "output_type": "execute_result"
    }
   ],
   "source": [
    "knn_best.predict(my_data)"
   ]
  },
  {
   "cell_type": "markdown",
   "metadata": {},
   "source": [
    "From all algorithms, the only the forest predicts the true labels. It seems that convertion to dummy variables makes the corresponding feture less important, may be it will be better for glucose and cholesterol data to be binary - high or normal."
   ]
  },
  {
   "cell_type": "markdown",
   "metadata": {},
   "source": [
    "### Discussion and further investigations\n",
    "\n",
    "Overall the results from all machine learning models that have been trained on both datasets are low, especially for the second dataset; however, this is probably expected and the models have reached the highest scores possible for the available data. There are several particularities in the clinical data that are probably misleading the algorithms including the fact that most blood pressure readings are centered around the normal systolic (120) and diastolic (80) values. Additionally there are several other features that are going to play role on the cardiovascular system condition such as other vital signs (pulse, temperature and respiration rate), the condition of other biological systems (excretory and digestive) measured by liver and kidney enzymes (angiotensin can be especially important), the function of the endocrine system and hormonal blood levels, presence of neurological and psychiatric diseases, anxiety levels and many more. In addition, the blood pressure readings in the current datasets are not the mean values for a certain period of time, but rather are measurements at the moment of medical examination.<br> \n",
    "\n",
    "As a part of a further investigation,  a dataset with all these factors included as features will be more adequate and most probably will lead to better performing machine learning models. Unsupervised learning algorithms including K means could also give valuable results as a part of any further work.<br>\n",
    "\n",
    "With regards to the dataset here, additional investigations may include plotting a validation curve or a learning curve with loss function measurement instead of metrics per number of observations. For the first part of the project principal component analysis may contribute to lowering the computation time of the worse performing (with regards to computational time) methods such as SVMs."
   ]
  },
  {
   "cell_type": "markdown",
   "metadata": {},
   "source": [
    "### Conclusion\n",
    "\n",
    "All models that have been trained and tested on the data available do not reach high enough results which most probably is inherent to these particular datasets. In both parts the chosen on score basis best classificator predicts better for the first class (normal blood pressure) and it can be deduced that it is difficult for the models to distinguish between the clinical data for pre- and hypertensive patients. It may also be concluded from the numbers in the confusion matrices that the model was misled due to accumulation of blood pressure values close to the borderline between normal and abnormal readings. The best classificators recall score which in the case of medical data predictions is very important is low for the classes of interest. ROC curve conveys visual interpretation of the model performance; however, the learning curve with metric measurement which was plotted for all methods in the first part gives more thorough information regarding model variance and the fact that the models reach the best possible for this data results. he overfitting of the Random Forest classifier was successfully addressed by hyperparameter tuning. The second part of the project was unable to show noise in data which can be reduced by PCA. "
   ]
  },
  {
   "cell_type": "markdown",
   "metadata": {},
   "source": [
    "### Resources:\n",
    "1. https://journals.plos.org/plosone/article?id=10.1371/journal.pone.0240370\n",
    "2. https://www.cdc.gov/bloodpressure/about.htm\n",
    "3. https://www.sciencedirect.com/science/article/abs/pii/S0957417405000758\n",
    "4. https://www.kaggle.com/kmukhammadjon/hypertension-incidence-in-two-and-half-years\n",
    "5. https://www.kaggle.com/sulianova/cardiovascular-disease-dataset\n",
    "6. https://www.kaggle.com/raminhashimzade/cardio-disease\n",
    "7. https://towardsdatascience.com/introduction-to-data-preprocessing-in-machine-learning-a9fa83a5dc9d\n",
    "8. https://machinelearningmastery.com/one-vs-rest-and-one-vs-one-for-multi-class-classification/\n",
    "9. https://xavierbourretsicotte.github.io/AdaBoost.html\n",
    "10. https://www.vebuso.com/2020/03/svm-hyperparameter-tuning-using-gridsearchcv/\n",
    "11. https://medium.com/@mohtedibf/in-depth-parameter-tuning-for-knn-4c0de485baf6\n",
    "12. https://dev.to/overrideveloper/understanding-the-confusion-matrix-264i\n",
    "13. https://stackoverflow.com/questions/51378105/plot-multi-class-roc-curve-for-decisiontreeclassifier \n",
    "14. https://www.dataquest.io/blog/learning-curves-machine-learning/"
   ]
  }
 ],
 "metadata": {
  "kernelspec": {
   "display_name": "Python 3",
   "language": "python",
   "name": "python3"
  },
  "language_info": {
   "codemirror_mode": {
    "name": "ipython",
    "version": 3
   },
   "file_extension": ".py",
   "mimetype": "text/x-python",
   "name": "python",
   "nbconvert_exporter": "python",
   "pygments_lexer": "ipython3",
   "version": "3.7.4"
  }
 },
 "nbformat": 4,
 "nbformat_minor": 2
}
